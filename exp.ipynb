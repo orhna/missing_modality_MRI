{
 "cells": [
  {
   "cell_type": "code",
   "execution_count": 2,
   "metadata": {},
   "outputs": [
    {
     "name": "stdout",
     "output_type": "stream",
     "text": [
      "Mean tensor shape: torch.Size([4, 240, 240, 155])\n"
     ]
    }
   ],
   "source": [
    "import numpy as np\n",
    "import torch\n",
    "import os\n",
    "import nibabel as nib\n",
    "\n",
    "# Define parameters\n",
    "data_dir = \"/data/hjlee/orhun/data/BRATS18/BRATS18_Preprocessed/Training/Images\"  # Update with your actual path\n",
    "file_list_path = \"/data/hjlee/orhun/data/BRATS18/BRATS18_Preprocessed/train.txt\"  # Text file containing filenames without extension\n",
    "\n",
    "#\n",
    "# Read file names\n",
    "with open(file_list_path, \"r\") as f:\n",
    "    file_names = [line.strip() for line in f.readlines()]\n",
    "\n",
    "# Initialize running mean tensor\n",
    "running_mean = np.zeros((4, 240, 240, 155), dtype=np.float32)\n",
    "\n",
    "# Iterate through each file and update mean incrementally\n",
    "for i, file_name in enumerate(file_names):\n",
    "    file_path = os.path.join(data_dir, file_name + \".nii.gz\")  # Assuming .nii.gz format\n",
    "    nii_img = nib.load(file_path)  # Load the NIfTI file\n",
    "    sample = np.array(nii_img.get_fdata(), dtype=np.float32)  # Convert to NumPy array\n",
    "\n",
    "    # Ensure the shape is correct and transpose to (4, 240, 240, 155)\n",
    "    if sample.shape != (240, 240, 155, 4):\n",
    "        raise ValueError(f\"Unexpected shape {sample.shape} for file {file_name}\")\n",
    "    \n",
    "    sample = np.transpose(sample, (3, 0, 1, 2))  # Move channels to first dimension\n",
    "\n",
    "    # Incremental mean update\n",
    "    running_mean += (sample - running_mean) / (i + 1)\n",
    "\n",
    "# Convert final mean to PyTorch tensor\n",
    "mean_tensor = torch.tensor(running_mean)\n",
    "\n",
    "# Save the mean tensor\n",
    "torch.save(mean_tensor, \"mean_tensor.pt\")\n",
    "\n",
    "\n",
    "print(\"Mean tensor shape:\", mean_tensor.shape)  # Should be (4, 240, 240, 155)"
   ]
  },
  {
   "cell_type": "code",
   "execution_count": 5,
   "metadata": {},
   "outputs": [
    {
     "name": "stdout",
     "output_type": "stream",
     "text": [
      "0.00018192\n"
     ]
    }
   ],
   "source": [
    "import numpy as np\n",
    "now_lr = round(0.0002 * np.power(1 - np.float32(999)/np.float32(10000), 0.9), 8) \n",
    "print(now_lr)"
   ]
  },
  {
   "cell_type": "code",
   "execution_count": 3,
   "metadata": {},
   "outputs": [
    {
     "name": "stdout",
     "output_type": "stream",
     "text": [
      "flair_pos\n",
      "t1ce_pos\n",
      "t1_pos\n",
      "t2_pos\n",
      "flair_encoder.e1_c1.weight\n",
      "flair_encoder.e1_c1.bias\n",
      "flair_encoder.e1_c2.conv.weight\n",
      "flair_encoder.e1_c2.conv.bias\n",
      "flair_encoder.e1_c3.conv.weight\n",
      "flair_encoder.e1_c3.conv.bias\n",
      "flair_encoder.e2_c1.conv.weight\n",
      "flair_encoder.e2_c1.conv.bias\n",
      "flair_encoder.e2_c2.conv.weight\n",
      "flair_encoder.e2_c2.conv.bias\n",
      "flair_encoder.e2_c3.conv.weight\n",
      "flair_encoder.e2_c3.conv.bias\n",
      "flair_encoder.e3_c1.conv.weight\n",
      "flair_encoder.e3_c1.conv.bias\n",
      "flair_encoder.e3_c2.conv.weight\n",
      "flair_encoder.e3_c2.conv.bias\n",
      "flair_encoder.e3_c3.conv.weight\n",
      "flair_encoder.e3_c3.conv.bias\n",
      "flair_encoder.e4_c1.conv.weight\n",
      "flair_encoder.e4_c1.conv.bias\n",
      "flair_encoder.e4_c2.conv.weight\n",
      "flair_encoder.e4_c2.conv.bias\n",
      "flair_encoder.e4_c3.conv.weight\n",
      "flair_encoder.e4_c3.conv.bias\n",
      "flair_encoder.e5_c1.conv.weight\n",
      "flair_encoder.e5_c1.conv.bias\n",
      "flair_encoder.e5_c2.conv.weight\n",
      "flair_encoder.e5_c2.conv.bias\n",
      "flair_encoder.e5_c3.conv.weight\n",
      "flair_encoder.e5_c3.conv.bias\n",
      "t1ce_encoder.e1_c1.weight\n",
      "t1ce_encoder.e1_c1.bias\n",
      "t1ce_encoder.e1_c2.conv.weight\n",
      "t1ce_encoder.e1_c2.conv.bias\n",
      "t1ce_encoder.e1_c3.conv.weight\n",
      "t1ce_encoder.e1_c3.conv.bias\n",
      "t1ce_encoder.e2_c1.conv.weight\n",
      "t1ce_encoder.e2_c1.conv.bias\n",
      "t1ce_encoder.e2_c2.conv.weight\n",
      "t1ce_encoder.e2_c2.conv.bias\n",
      "t1ce_encoder.e2_c3.conv.weight\n",
      "t1ce_encoder.e2_c3.conv.bias\n",
      "t1ce_encoder.e3_c1.conv.weight\n",
      "t1ce_encoder.e3_c1.conv.bias\n",
      "t1ce_encoder.e3_c2.conv.weight\n",
      "t1ce_encoder.e3_c2.conv.bias\n",
      "t1ce_encoder.e3_c3.conv.weight\n",
      "t1ce_encoder.e3_c3.conv.bias\n",
      "t1ce_encoder.e4_c1.conv.weight\n",
      "t1ce_encoder.e4_c1.conv.bias\n",
      "t1ce_encoder.e4_c2.conv.weight\n",
      "t1ce_encoder.e4_c2.conv.bias\n",
      "t1ce_encoder.e4_c3.conv.weight\n",
      "t1ce_encoder.e4_c3.conv.bias\n",
      "t1ce_encoder.e5_c1.conv.weight\n",
      "t1ce_encoder.e5_c1.conv.bias\n",
      "t1ce_encoder.e5_c2.conv.weight\n",
      "t1ce_encoder.e5_c2.conv.bias\n",
      "t1ce_encoder.e5_c3.conv.weight\n",
      "t1ce_encoder.e5_c3.conv.bias\n",
      "t1_encoder.e1_c1.weight\n",
      "t1_encoder.e1_c1.bias\n",
      "t1_encoder.e1_c2.conv.weight\n",
      "t1_encoder.e1_c2.conv.bias\n",
      "t1_encoder.e1_c3.conv.weight\n",
      "t1_encoder.e1_c3.conv.bias\n",
      "t1_encoder.e2_c1.conv.weight\n",
      "t1_encoder.e2_c1.conv.bias\n",
      "t1_encoder.e2_c2.conv.weight\n",
      "t1_encoder.e2_c2.conv.bias\n",
      "t1_encoder.e2_c3.conv.weight\n",
      "t1_encoder.e2_c3.conv.bias\n",
      "t1_encoder.e3_c1.conv.weight\n",
      "t1_encoder.e3_c1.conv.bias\n",
      "t1_encoder.e3_c2.conv.weight\n",
      "t1_encoder.e3_c2.conv.bias\n",
      "t1_encoder.e3_c3.conv.weight\n",
      "t1_encoder.e3_c3.conv.bias\n",
      "t1_encoder.e4_c1.conv.weight\n",
      "t1_encoder.e4_c1.conv.bias\n",
      "t1_encoder.e4_c2.conv.weight\n",
      "t1_encoder.e4_c2.conv.bias\n",
      "t1_encoder.e4_c3.conv.weight\n",
      "t1_encoder.e4_c3.conv.bias\n",
      "t1_encoder.e5_c1.conv.weight\n",
      "t1_encoder.e5_c1.conv.bias\n",
      "t1_encoder.e5_c2.conv.weight\n",
      "t1_encoder.e5_c2.conv.bias\n",
      "t1_encoder.e5_c3.conv.weight\n",
      "t1_encoder.e5_c3.conv.bias\n",
      "t2_encoder.e1_c1.weight\n",
      "t2_encoder.e1_c1.bias\n",
      "t2_encoder.e1_c2.conv.weight\n",
      "t2_encoder.e1_c2.conv.bias\n",
      "t2_encoder.e1_c3.conv.weight\n",
      "t2_encoder.e1_c3.conv.bias\n",
      "t2_encoder.e2_c1.conv.weight\n",
      "t2_encoder.e2_c1.conv.bias\n",
      "t2_encoder.e2_c2.conv.weight\n",
      "t2_encoder.e2_c2.conv.bias\n",
      "t2_encoder.e2_c3.conv.weight\n",
      "t2_encoder.e2_c3.conv.bias\n",
      "t2_encoder.e3_c1.conv.weight\n",
      "t2_encoder.e3_c1.conv.bias\n",
      "t2_encoder.e3_c2.conv.weight\n",
      "t2_encoder.e3_c2.conv.bias\n",
      "t2_encoder.e3_c3.conv.weight\n",
      "t2_encoder.e3_c3.conv.bias\n",
      "t2_encoder.e4_c1.conv.weight\n",
      "t2_encoder.e4_c1.conv.bias\n",
      "t2_encoder.e4_c2.conv.weight\n",
      "t2_encoder.e4_c2.conv.bias\n",
      "t2_encoder.e4_c3.conv.weight\n",
      "t2_encoder.e4_c3.conv.bias\n",
      "t2_encoder.e5_c1.conv.weight\n",
      "t2_encoder.e5_c1.conv.bias\n",
      "t2_encoder.e5_c2.conv.weight\n",
      "t2_encoder.e5_c2.conv.bias\n",
      "t2_encoder.e5_c3.conv.weight\n",
      "t2_encoder.e5_c3.conv.bias\n",
      "flair_encode_conv.weight\n",
      "flair_encode_conv.bias\n",
      "t1ce_encode_conv.weight\n",
      "t1ce_encode_conv.bias\n",
      "t1_encode_conv.weight\n",
      "t1_encode_conv.bias\n",
      "t2_encode_conv.weight\n",
      "t2_encode_conv.bias\n",
      "flair_decode_conv.weight\n",
      "flair_decode_conv.bias\n",
      "t1ce_decode_conv.weight\n",
      "t1ce_decode_conv.bias\n",
      "t1_decode_conv.weight\n",
      "t1_decode_conv.bias\n",
      "t2_decode_conv.weight\n",
      "t2_decode_conv.bias\n",
      "multimodal_decode_conv.weight\n",
      "multimodal_decode_conv.bias\n",
      "flair_transformer.cross_attention_list.0.fn.norm.weight\n",
      "flair_transformer.cross_attention_list.0.fn.norm.bias\n",
      "flair_transformer.cross_attention_list.0.fn.fn.qkv.weight\n",
      "flair_transformer.cross_attention_list.0.fn.fn.proj.weight\n",
      "flair_transformer.cross_attention_list.0.fn.fn.proj.bias\n",
      "flair_transformer.cross_ffn_list.0.fn.norm.weight\n",
      "flair_transformer.cross_ffn_list.0.fn.norm.bias\n",
      "flair_transformer.cross_ffn_list.0.fn.fn.net.0.weight\n",
      "flair_transformer.cross_ffn_list.0.fn.fn.net.0.bias\n",
      "flair_transformer.cross_ffn_list.0.fn.fn.net.3.weight\n",
      "flair_transformer.cross_ffn_list.0.fn.fn.net.3.bias\n",
      "t1ce_transformer.cross_attention_list.0.fn.norm.weight\n",
      "t1ce_transformer.cross_attention_list.0.fn.norm.bias\n",
      "t1ce_transformer.cross_attention_list.0.fn.fn.qkv.weight\n",
      "t1ce_transformer.cross_attention_list.0.fn.fn.proj.weight\n",
      "t1ce_transformer.cross_attention_list.0.fn.fn.proj.bias\n",
      "t1ce_transformer.cross_ffn_list.0.fn.norm.weight\n",
      "t1ce_transformer.cross_ffn_list.0.fn.norm.bias\n",
      "t1ce_transformer.cross_ffn_list.0.fn.fn.net.0.weight\n",
      "t1ce_transformer.cross_ffn_list.0.fn.fn.net.0.bias\n",
      "t1ce_transformer.cross_ffn_list.0.fn.fn.net.3.weight\n",
      "t1ce_transformer.cross_ffn_list.0.fn.fn.net.3.bias\n",
      "t1_transformer.cross_attention_list.0.fn.norm.weight\n",
      "t1_transformer.cross_attention_list.0.fn.norm.bias\n",
      "t1_transformer.cross_attention_list.0.fn.fn.qkv.weight\n",
      "t1_transformer.cross_attention_list.0.fn.fn.proj.weight\n",
      "t1_transformer.cross_attention_list.0.fn.fn.proj.bias\n",
      "t1_transformer.cross_ffn_list.0.fn.norm.weight\n",
      "t1_transformer.cross_ffn_list.0.fn.norm.bias\n",
      "t1_transformer.cross_ffn_list.0.fn.fn.net.0.weight\n",
      "t1_transformer.cross_ffn_list.0.fn.fn.net.0.bias\n",
      "t1_transformer.cross_ffn_list.0.fn.fn.net.3.weight\n",
      "t1_transformer.cross_ffn_list.0.fn.fn.net.3.bias\n",
      "t2_transformer.cross_attention_list.0.fn.norm.weight\n",
      "t2_transformer.cross_attention_list.0.fn.norm.bias\n",
      "t2_transformer.cross_attention_list.0.fn.fn.qkv.weight\n",
      "t2_transformer.cross_attention_list.0.fn.fn.proj.weight\n",
      "t2_transformer.cross_attention_list.0.fn.fn.proj.bias\n",
      "t2_transformer.cross_ffn_list.0.fn.norm.weight\n",
      "t2_transformer.cross_ffn_list.0.fn.norm.bias\n",
      "t2_transformer.cross_ffn_list.0.fn.fn.net.0.weight\n",
      "t2_transformer.cross_ffn_list.0.fn.fn.net.0.bias\n",
      "t2_transformer.cross_ffn_list.0.fn.fn.net.3.weight\n",
      "t2_transformer.cross_ffn_list.0.fn.fn.net.3.bias\n",
      "multimodal_transformer.cross_attention_list.0.fn.norm.weight\n",
      "multimodal_transformer.cross_attention_list.0.fn.norm.bias\n",
      "multimodal_transformer.cross_attention_list.0.fn.fn.qkv.weight\n",
      "multimodal_transformer.cross_attention_list.0.fn.fn.proj.weight\n",
      "multimodal_transformer.cross_attention_list.0.fn.fn.proj.bias\n",
      "multimodal_transformer.cross_ffn_list.0.fn.norm.weight\n",
      "multimodal_transformer.cross_ffn_list.0.fn.norm.bias\n",
      "multimodal_transformer.cross_ffn_list.0.fn.fn.net.0.weight\n",
      "multimodal_transformer.cross_ffn_list.0.fn.fn.net.0.bias\n",
      "multimodal_transformer.cross_ffn_list.0.fn.fn.net.3.weight\n",
      "multimodal_transformer.cross_ffn_list.0.fn.fn.net.3.bias\n",
      "decoder_fuse.d4_c1.conv.weight\n",
      "decoder_fuse.d4_c1.conv.bias\n",
      "decoder_fuse.d4_c2.conv.weight\n",
      "decoder_fuse.d4_c2.conv.bias\n",
      "decoder_fuse.d4_out.conv.weight\n",
      "decoder_fuse.d4_out.conv.bias\n",
      "decoder_fuse.d3_c1.conv.weight\n",
      "decoder_fuse.d3_c1.conv.bias\n",
      "decoder_fuse.d3_c2.conv.weight\n",
      "decoder_fuse.d3_c2.conv.bias\n",
      "decoder_fuse.d3_out.conv.weight\n",
      "decoder_fuse.d3_out.conv.bias\n",
      "decoder_fuse.d2_c1.conv.weight\n",
      "decoder_fuse.d2_c1.conv.bias\n",
      "decoder_fuse.d2_c2.conv.weight\n",
      "decoder_fuse.d2_c2.conv.bias\n",
      "decoder_fuse.d2_out.conv.weight\n",
      "decoder_fuse.d2_out.conv.bias\n",
      "decoder_fuse.d1_c1.conv.weight\n",
      "decoder_fuse.d1_c1.conv.bias\n",
      "decoder_fuse.d1_c2.conv.weight\n",
      "decoder_fuse.d1_c2.conv.bias\n",
      "decoder_fuse.d1_out.conv.weight\n",
      "decoder_fuse.d1_out.conv.bias\n",
      "decoder_fuse.seg_d4.weight\n",
      "decoder_fuse.seg_d4.bias\n",
      "decoder_fuse.seg_d3.weight\n",
      "decoder_fuse.seg_d3.bias\n",
      "decoder_fuse.seg_d2.weight\n",
      "decoder_fuse.seg_d2.bias\n",
      "decoder_fuse.seg_d1.weight\n",
      "decoder_fuse.seg_d1.bias\n",
      "decoder_fuse.seg_layer.weight\n",
      "decoder_fuse.seg_layer.bias\n",
      "decoder_fuse.RFM5.fusion_layer.0.conv.weight\n",
      "decoder_fuse.RFM5.fusion_layer.0.conv.bias\n",
      "decoder_fuse.RFM5.fusion_layer.1.conv.weight\n",
      "decoder_fuse.RFM5.fusion_layer.1.conv.bias\n",
      "decoder_fuse.RFM5.fusion_layer.2.conv.weight\n",
      "decoder_fuse.RFM5.fusion_layer.2.conv.bias\n",
      "decoder_fuse.RFM4.fusion_layer.0.conv.weight\n",
      "decoder_fuse.RFM4.fusion_layer.0.conv.bias\n",
      "decoder_fuse.RFM4.fusion_layer.1.conv.weight\n",
      "decoder_fuse.RFM4.fusion_layer.1.conv.bias\n",
      "decoder_fuse.RFM4.fusion_layer.2.conv.weight\n",
      "decoder_fuse.RFM4.fusion_layer.2.conv.bias\n",
      "decoder_fuse.RFM3.fusion_layer.0.conv.weight\n",
      "decoder_fuse.RFM3.fusion_layer.0.conv.bias\n",
      "decoder_fuse.RFM3.fusion_layer.1.conv.weight\n",
      "decoder_fuse.RFM3.fusion_layer.1.conv.bias\n",
      "decoder_fuse.RFM3.fusion_layer.2.conv.weight\n",
      "decoder_fuse.RFM3.fusion_layer.2.conv.bias\n",
      "decoder_fuse.RFM2.fusion_layer.0.conv.weight\n",
      "decoder_fuse.RFM2.fusion_layer.0.conv.bias\n",
      "decoder_fuse.RFM2.fusion_layer.1.conv.weight\n",
      "decoder_fuse.RFM2.fusion_layer.1.conv.bias\n",
      "decoder_fuse.RFM2.fusion_layer.2.conv.weight\n",
      "decoder_fuse.RFM2.fusion_layer.2.conv.bias\n",
      "decoder_fuse.RFM1.fusion_layer.0.conv.weight\n",
      "decoder_fuse.RFM1.fusion_layer.0.conv.bias\n",
      "decoder_fuse.RFM1.fusion_layer.1.conv.weight\n",
      "decoder_fuse.RFM1.fusion_layer.1.conv.bias\n",
      "decoder_fuse.RFM1.fusion_layer.2.conv.weight\n",
      "decoder_fuse.RFM1.fusion_layer.2.conv.bias\n",
      "decoder_sep.d4_c1.conv.weight\n",
      "decoder_sep.d4_c1.conv.bias\n",
      "decoder_sep.d4_c2.conv.weight\n",
      "decoder_sep.d4_c2.conv.bias\n",
      "decoder_sep.d4_out.conv.weight\n",
      "decoder_sep.d4_out.conv.bias\n",
      "decoder_sep.d3_c1.conv.weight\n",
      "decoder_sep.d3_c1.conv.bias\n",
      "decoder_sep.d3_c2.conv.weight\n",
      "decoder_sep.d3_c2.conv.bias\n",
      "decoder_sep.d3_out.conv.weight\n",
      "decoder_sep.d3_out.conv.bias\n",
      "decoder_sep.d2_c1.conv.weight\n",
      "decoder_sep.d2_c1.conv.bias\n",
      "decoder_sep.d2_c2.conv.weight\n",
      "decoder_sep.d2_c2.conv.bias\n",
      "decoder_sep.d2_out.conv.weight\n",
      "decoder_sep.d2_out.conv.bias\n",
      "decoder_sep.d1_c1.conv.weight\n",
      "decoder_sep.d1_c1.conv.bias\n",
      "decoder_sep.d1_c2.conv.weight\n",
      "decoder_sep.d1_c2.conv.bias\n",
      "decoder_sep.d1_out.conv.weight\n",
      "decoder_sep.d1_out.conv.bias\n",
      "decoder_sep.seg_layer.weight\n",
      "decoder_sep.seg_layer.bias\n"
     ]
    }
   ],
   "source": [
    "import torch\n",
    "\n",
    "checkpoint = torch.load(\"/mnt/disk1/hjlee/orhun/repo/mmFormer/pt_model/model_last.pth\")\n",
    "new_state_dict = {k.replace(\"module.\", \"\"): v for k, v in checkpoint[\"state_dict\"].items()}\n",
    "\n",
    "for name, param in new_state_dict.items():\n",
    "    print(name)\n"
   ]
  },
  {
   "cell_type": "code",
   "execution_count": 4,
   "metadata": {},
   "outputs": [
    {
     "name": "stdout",
     "output_type": "stream",
     "text": [
      "flair_pos\n",
      "t1ce_pos\n",
      "t1_pos\n",
      "t2_pos\n",
      "flair_encoder.e1_c1.weight\n",
      "flair_encoder.e1_c1.bias\n",
      "flair_encoder.e1_c2.conv.weight\n",
      "flair_encoder.e1_c2.conv.bias\n",
      "flair_encoder.e1_c3.conv.weight\n",
      "flair_encoder.e1_c3.conv.bias\n",
      "flair_encoder.e2_c1.conv.weight\n",
      "flair_encoder.e2_c1.conv.bias\n",
      "flair_encoder.e2_c2.conv.weight\n",
      "flair_encoder.e2_c2.conv.bias\n",
      "flair_encoder.e2_c3.conv.weight\n",
      "flair_encoder.e2_c3.conv.bias\n",
      "flair_encoder.e3_c1.conv.weight\n",
      "flair_encoder.e3_c1.conv.bias\n",
      "flair_encoder.e3_c2.conv.weight\n",
      "flair_encoder.e3_c2.conv.bias\n",
      "flair_encoder.e3_c3.conv.weight\n",
      "flair_encoder.e3_c3.conv.bias\n",
      "flair_encoder.e4_c1.conv.weight\n",
      "flair_encoder.e4_c1.conv.bias\n",
      "flair_encoder.e4_c2.conv.weight\n",
      "flair_encoder.e4_c2.conv.bias\n",
      "flair_encoder.e4_c3.conv.weight\n",
      "flair_encoder.e4_c3.conv.bias\n",
      "flair_encoder.e5_c1.conv.weight\n",
      "flair_encoder.e5_c1.conv.bias\n",
      "flair_encoder.e5_c2.conv.weight\n",
      "flair_encoder.e5_c2.conv.bias\n",
      "flair_encoder.e5_c3.conv.weight\n",
      "flair_encoder.e5_c3.conv.bias\n",
      "t1ce_encoder.e1_c1.weight\n",
      "t1ce_encoder.e1_c1.bias\n",
      "t1ce_encoder.e1_c2.conv.weight\n",
      "t1ce_encoder.e1_c2.conv.bias\n",
      "t1ce_encoder.e1_c3.conv.weight\n",
      "t1ce_encoder.e1_c3.conv.bias\n",
      "t1ce_encoder.e2_c1.conv.weight\n",
      "t1ce_encoder.e2_c1.conv.bias\n",
      "t1ce_encoder.e2_c2.conv.weight\n",
      "t1ce_encoder.e2_c2.conv.bias\n",
      "t1ce_encoder.e2_c3.conv.weight\n",
      "t1ce_encoder.e2_c3.conv.bias\n",
      "t1ce_encoder.e3_c1.conv.weight\n",
      "t1ce_encoder.e3_c1.conv.bias\n",
      "t1ce_encoder.e3_c2.conv.weight\n",
      "t1ce_encoder.e3_c2.conv.bias\n",
      "t1ce_encoder.e3_c3.conv.weight\n",
      "t1ce_encoder.e3_c3.conv.bias\n",
      "t1ce_encoder.e4_c1.conv.weight\n",
      "t1ce_encoder.e4_c1.conv.bias\n",
      "t1ce_encoder.e4_c2.conv.weight\n",
      "t1ce_encoder.e4_c2.conv.bias\n",
      "t1ce_encoder.e4_c3.conv.weight\n",
      "t1ce_encoder.e4_c3.conv.bias\n",
      "t1ce_encoder.e5_c1.conv.weight\n",
      "t1ce_encoder.e5_c1.conv.bias\n",
      "t1ce_encoder.e5_c2.conv.weight\n",
      "t1ce_encoder.e5_c2.conv.bias\n",
      "t1ce_encoder.e5_c3.conv.weight\n",
      "t1ce_encoder.e5_c3.conv.bias\n",
      "t1_encoder.e1_c1.weight\n",
      "t1_encoder.e1_c1.bias\n",
      "t1_encoder.e1_c2.conv.weight\n",
      "t1_encoder.e1_c2.conv.bias\n",
      "t1_encoder.e1_c3.conv.weight\n",
      "t1_encoder.e1_c3.conv.bias\n",
      "t1_encoder.e2_c1.conv.weight\n",
      "t1_encoder.e2_c1.conv.bias\n",
      "t1_encoder.e2_c2.conv.weight\n",
      "t1_encoder.e2_c2.conv.bias\n",
      "t1_encoder.e2_c3.conv.weight\n",
      "t1_encoder.e2_c3.conv.bias\n",
      "t1_encoder.e3_c1.conv.weight\n",
      "t1_encoder.e3_c1.conv.bias\n",
      "t1_encoder.e3_c2.conv.weight\n",
      "t1_encoder.e3_c2.conv.bias\n",
      "t1_encoder.e3_c3.conv.weight\n",
      "t1_encoder.e3_c3.conv.bias\n",
      "t1_encoder.e4_c1.conv.weight\n",
      "t1_encoder.e4_c1.conv.bias\n",
      "t1_encoder.e4_c2.conv.weight\n",
      "t1_encoder.e4_c2.conv.bias\n",
      "t1_encoder.e4_c3.conv.weight\n",
      "t1_encoder.e4_c3.conv.bias\n",
      "t1_encoder.e5_c1.conv.weight\n",
      "t1_encoder.e5_c1.conv.bias\n",
      "t1_encoder.e5_c2.conv.weight\n",
      "t1_encoder.e5_c2.conv.bias\n",
      "t1_encoder.e5_c3.conv.weight\n",
      "t1_encoder.e5_c3.conv.bias\n",
      "t2_encoder.e1_c1.weight\n",
      "t2_encoder.e1_c1.bias\n",
      "t2_encoder.e1_c2.conv.weight\n",
      "t2_encoder.e1_c2.conv.bias\n",
      "t2_encoder.e1_c3.conv.weight\n",
      "t2_encoder.e1_c3.conv.bias\n",
      "t2_encoder.e2_c1.conv.weight\n",
      "t2_encoder.e2_c1.conv.bias\n",
      "t2_encoder.e2_c2.conv.weight\n",
      "t2_encoder.e2_c2.conv.bias\n",
      "t2_encoder.e2_c3.conv.weight\n",
      "t2_encoder.e2_c3.conv.bias\n",
      "t2_encoder.e3_c1.conv.weight\n",
      "t2_encoder.e3_c1.conv.bias\n",
      "t2_encoder.e3_c2.conv.weight\n",
      "t2_encoder.e3_c2.conv.bias\n",
      "t2_encoder.e3_c3.conv.weight\n",
      "t2_encoder.e3_c3.conv.bias\n",
      "t2_encoder.e4_c1.conv.weight\n",
      "t2_encoder.e4_c1.conv.bias\n",
      "t2_encoder.e4_c2.conv.weight\n",
      "t2_encoder.e4_c2.conv.bias\n",
      "t2_encoder.e4_c3.conv.weight\n",
      "t2_encoder.e4_c3.conv.bias\n",
      "t2_encoder.e5_c1.conv.weight\n",
      "t2_encoder.e5_c1.conv.bias\n",
      "t2_encoder.e5_c2.conv.weight\n",
      "t2_encoder.e5_c2.conv.bias\n",
      "t2_encoder.e5_c3.conv.weight\n",
      "t2_encoder.e5_c3.conv.bias\n",
      "flair_encode_conv.weight\n",
      "flair_encode_conv.bias\n",
      "t1ce_encode_conv.weight\n",
      "t1ce_encode_conv.bias\n",
      "t1_encode_conv.weight\n",
      "t1_encode_conv.bias\n",
      "t2_encode_conv.weight\n",
      "t2_encode_conv.bias\n",
      "flair_decode_conv.weight\n",
      "flair_decode_conv.bias\n",
      "t1ce_decode_conv.weight\n",
      "t1ce_decode_conv.bias\n",
      "t1_decode_conv.weight\n",
      "t1_decode_conv.bias\n",
      "t2_decode_conv.weight\n",
      "t2_decode_conv.bias\n",
      "multimodal_decode_conv.weight\n",
      "multimodal_decode_conv.bias\n",
      "flair_transformer.cross_attention_list.0.fn.norm.weight\n",
      "flair_transformer.cross_attention_list.0.fn.norm.bias\n",
      "flair_transformer.cross_attention_list.0.fn.fn.qkv.weight\n",
      "flair_transformer.cross_attention_list.0.fn.fn.proj.weight\n",
      "flair_transformer.cross_attention_list.0.fn.fn.proj.bias\n",
      "flair_transformer.cross_ffn_list.0.fn.norm.weight\n",
      "flair_transformer.cross_ffn_list.0.fn.norm.bias\n",
      "flair_transformer.cross_ffn_list.0.fn.fn.net.0.weight\n",
      "flair_transformer.cross_ffn_list.0.fn.fn.net.0.bias\n",
      "flair_transformer.cross_ffn_list.0.fn.fn.net.3.weight\n",
      "flair_transformer.cross_ffn_list.0.fn.fn.net.3.bias\n",
      "t1ce_transformer.cross_attention_list.0.fn.norm.weight\n",
      "t1ce_transformer.cross_attention_list.0.fn.norm.bias\n",
      "t1ce_transformer.cross_attention_list.0.fn.fn.qkv.weight\n",
      "t1ce_transformer.cross_attention_list.0.fn.fn.proj.weight\n",
      "t1ce_transformer.cross_attention_list.0.fn.fn.proj.bias\n",
      "t1ce_transformer.cross_ffn_list.0.fn.norm.weight\n",
      "t1ce_transformer.cross_ffn_list.0.fn.norm.bias\n",
      "t1ce_transformer.cross_ffn_list.0.fn.fn.net.0.weight\n",
      "t1ce_transformer.cross_ffn_list.0.fn.fn.net.0.bias\n",
      "t1ce_transformer.cross_ffn_list.0.fn.fn.net.3.weight\n",
      "t1ce_transformer.cross_ffn_list.0.fn.fn.net.3.bias\n",
      "t1_transformer.cross_attention_list.0.fn.norm.weight\n",
      "t1_transformer.cross_attention_list.0.fn.norm.bias\n",
      "t1_transformer.cross_attention_list.0.fn.fn.qkv.weight\n",
      "t1_transformer.cross_attention_list.0.fn.fn.proj.weight\n",
      "t1_transformer.cross_attention_list.0.fn.fn.proj.bias\n",
      "t1_transformer.cross_ffn_list.0.fn.norm.weight\n",
      "t1_transformer.cross_ffn_list.0.fn.norm.bias\n",
      "t1_transformer.cross_ffn_list.0.fn.fn.net.0.weight\n",
      "t1_transformer.cross_ffn_list.0.fn.fn.net.0.bias\n",
      "t1_transformer.cross_ffn_list.0.fn.fn.net.3.weight\n",
      "t1_transformer.cross_ffn_list.0.fn.fn.net.3.bias\n",
      "t2_transformer.cross_attention_list.0.fn.norm.weight\n",
      "t2_transformer.cross_attention_list.0.fn.norm.bias\n",
      "t2_transformer.cross_attention_list.0.fn.fn.qkv.weight\n",
      "t2_transformer.cross_attention_list.0.fn.fn.proj.weight\n",
      "t2_transformer.cross_attention_list.0.fn.fn.proj.bias\n",
      "t2_transformer.cross_ffn_list.0.fn.norm.weight\n",
      "t2_transformer.cross_ffn_list.0.fn.norm.bias\n",
      "t2_transformer.cross_ffn_list.0.fn.fn.net.0.weight\n",
      "t2_transformer.cross_ffn_list.0.fn.fn.net.0.bias\n",
      "t2_transformer.cross_ffn_list.0.fn.fn.net.3.weight\n",
      "t2_transformer.cross_ffn_list.0.fn.fn.net.3.bias\n",
      "multimodal_transformer.cross_attention_list.0.fn.norm.weight\n",
      "multimodal_transformer.cross_attention_list.0.fn.norm.bias\n",
      "multimodal_transformer.cross_attention_list.0.fn.fn.qkv.weight\n",
      "multimodal_transformer.cross_attention_list.0.fn.fn.proj.weight\n",
      "multimodal_transformer.cross_attention_list.0.fn.fn.proj.bias\n",
      "multimodal_transformer.cross_ffn_list.0.fn.norm.weight\n",
      "multimodal_transformer.cross_ffn_list.0.fn.norm.bias\n",
      "multimodal_transformer.cross_ffn_list.0.fn.fn.net.0.weight\n",
      "multimodal_transformer.cross_ffn_list.0.fn.fn.net.0.bias\n",
      "multimodal_transformer.cross_ffn_list.0.fn.fn.net.3.weight\n",
      "multimodal_transformer.cross_ffn_list.0.fn.fn.net.3.bias\n",
      "decoder_sep.d4_c1.conv.weight\n",
      "decoder_sep.d4_c1.conv.bias\n",
      "decoder_sep.d4_c2.conv.weight\n",
      "decoder_sep.d4_c2.conv.bias\n",
      "decoder_sep.d4_out.conv.weight\n",
      "decoder_sep.d4_out.conv.bias\n",
      "decoder_sep.d3_c1.conv.weight\n",
      "decoder_sep.d3_c1.conv.bias\n",
      "decoder_sep.d3_c2.conv.weight\n",
      "decoder_sep.d3_c2.conv.bias\n",
      "decoder_sep.d3_out.conv.weight\n",
      "decoder_sep.d3_out.conv.bias\n",
      "decoder_sep.d2_c1.conv.weight\n",
      "decoder_sep.d2_c1.conv.bias\n",
      "decoder_sep.d2_c2.conv.weight\n",
      "decoder_sep.d2_c2.conv.bias\n",
      "decoder_sep.d2_out.conv.weight\n",
      "decoder_sep.d2_out.conv.bias\n",
      "decoder_sep.d1_c1.conv.weight\n",
      "decoder_sep.d1_c1.conv.bias\n",
      "decoder_sep.d1_c2.conv.weight\n",
      "decoder_sep.d1_c2.conv.bias\n",
      "decoder_sep.d1_out.conv.weight\n",
      "decoder_sep.d1_out.conv.bias\n",
      "decoder_sep.seg_layer.weight\n",
      "decoder_sep.seg_layer.bias\n"
     ]
    }
   ],
   "source": [
    "import torch\n",
    "\n",
    "checkpoint = torch.load(\"/mnt/disk1/hjlee/orhun/repo/mmFormer/pt_model/model_last.pth\")\n",
    "new_state_dict = {k.replace(\"module.\", \"\"): v for k, v in checkpoint[\"state_dict\"].items()}\n",
    "new_state_dict = {k: v for k, v in new_state_dict.items() if not k.startswith(\"decoder_fuse\")}\n",
    "\n",
    "for name, param in new_state_dict.items():\n",
    "    print(name)"
   ]
  },
  {
   "cell_type": "code",
   "execution_count": 10,
   "metadata": {},
   "outputs": [
    {
     "name": "stdout",
     "output_type": "stream",
     "text": [
      "flair_pos\n",
      "t1ce_pos\n",
      "t1_pos\n",
      "t2_pos\n",
      "flair_encoder.e1_c1.weight\n",
      "flair_encoder.e1_c1.bias\n",
      "flair_encoder.e1_c2.conv.weight\n",
      "flair_encoder.e1_c2.conv.bias\n",
      "flair_encoder.e1_c3.conv.weight\n",
      "flair_encoder.e1_c3.conv.bias\n",
      "flair_encoder.e2_c1.conv.weight\n",
      "flair_encoder.e2_c1.conv.bias\n",
      "flair_encoder.e2_c2.conv.weight\n",
      "flair_encoder.e2_c2.conv.bias\n",
      "flair_encoder.e2_c3.conv.weight\n",
      "flair_encoder.e2_c3.conv.bias\n",
      "flair_encoder.e3_c1.conv.weight\n",
      "flair_encoder.e3_c1.conv.bias\n",
      "flair_encoder.e3_c2.conv.weight\n",
      "flair_encoder.e3_c2.conv.bias\n",
      "flair_encoder.e3_c3.conv.weight\n",
      "flair_encoder.e3_c3.conv.bias\n",
      "flair_encoder.e4_c1.conv.weight\n",
      "flair_encoder.e4_c1.conv.bias\n",
      "flair_encoder.e4_c2.conv.weight\n",
      "flair_encoder.e4_c2.conv.bias\n",
      "flair_encoder.e4_c3.conv.weight\n",
      "flair_encoder.e4_c3.conv.bias\n",
      "flair_encoder.e5_c1.conv.weight\n",
      "flair_encoder.e5_c1.conv.bias\n",
      "flair_encoder.e5_c2.conv.weight\n",
      "flair_encoder.e5_c2.conv.bias\n",
      "flair_encoder.e5_c3.conv.weight\n",
      "flair_encoder.e5_c3.conv.bias\n",
      "t1ce_encoder.e1_c1.weight\n",
      "t1ce_encoder.e1_c1.bias\n",
      "t1ce_encoder.e1_c2.conv.weight\n",
      "t1ce_encoder.e1_c2.conv.bias\n",
      "t1ce_encoder.e1_c3.conv.weight\n",
      "t1ce_encoder.e1_c3.conv.bias\n",
      "t1ce_encoder.e2_c1.conv.weight\n",
      "t1ce_encoder.e2_c1.conv.bias\n",
      "t1ce_encoder.e2_c2.conv.weight\n",
      "t1ce_encoder.e2_c2.conv.bias\n",
      "t1ce_encoder.e2_c3.conv.weight\n",
      "t1ce_encoder.e2_c3.conv.bias\n",
      "t1ce_encoder.e3_c1.conv.weight\n",
      "t1ce_encoder.e3_c1.conv.bias\n",
      "t1ce_encoder.e3_c2.conv.weight\n",
      "t1ce_encoder.e3_c2.conv.bias\n",
      "t1ce_encoder.e3_c3.conv.weight\n",
      "t1ce_encoder.e3_c3.conv.bias\n",
      "t1ce_encoder.e4_c1.conv.weight\n",
      "t1ce_encoder.e4_c1.conv.bias\n",
      "t1ce_encoder.e4_c2.conv.weight\n",
      "t1ce_encoder.e4_c2.conv.bias\n",
      "t1ce_encoder.e4_c3.conv.weight\n",
      "t1ce_encoder.e4_c3.conv.bias\n",
      "t1ce_encoder.e5_c1.conv.weight\n",
      "t1ce_encoder.e5_c1.conv.bias\n",
      "t1ce_encoder.e5_c2.conv.weight\n",
      "t1ce_encoder.e5_c2.conv.bias\n",
      "t1ce_encoder.e5_c3.conv.weight\n",
      "t1ce_encoder.e5_c3.conv.bias\n",
      "t1_encoder.e1_c1.weight\n",
      "t1_encoder.e1_c1.bias\n",
      "t1_encoder.e1_c2.conv.weight\n",
      "t1_encoder.e1_c2.conv.bias\n",
      "t1_encoder.e1_c3.conv.weight\n",
      "t1_encoder.e1_c3.conv.bias\n",
      "t1_encoder.e2_c1.conv.weight\n",
      "t1_encoder.e2_c1.conv.bias\n",
      "t1_encoder.e2_c2.conv.weight\n",
      "t1_encoder.e2_c2.conv.bias\n",
      "t1_encoder.e2_c3.conv.weight\n",
      "t1_encoder.e2_c3.conv.bias\n",
      "t1_encoder.e3_c1.conv.weight\n",
      "t1_encoder.e3_c1.conv.bias\n",
      "t1_encoder.e3_c2.conv.weight\n",
      "t1_encoder.e3_c2.conv.bias\n",
      "t1_encoder.e3_c3.conv.weight\n",
      "t1_encoder.e3_c3.conv.bias\n",
      "t1_encoder.e4_c1.conv.weight\n",
      "t1_encoder.e4_c1.conv.bias\n",
      "t1_encoder.e4_c2.conv.weight\n",
      "t1_encoder.e4_c2.conv.bias\n",
      "t1_encoder.e4_c3.conv.weight\n",
      "t1_encoder.e4_c3.conv.bias\n",
      "t1_encoder.e5_c1.conv.weight\n",
      "t1_encoder.e5_c1.conv.bias\n",
      "t1_encoder.e5_c2.conv.weight\n",
      "t1_encoder.e5_c2.conv.bias\n",
      "t1_encoder.e5_c3.conv.weight\n",
      "t1_encoder.e5_c3.conv.bias\n",
      "t2_encoder.e1_c1.weight\n",
      "t2_encoder.e1_c1.bias\n",
      "t2_encoder.e1_c2.conv.weight\n",
      "t2_encoder.e1_c2.conv.bias\n",
      "t2_encoder.e1_c3.conv.weight\n",
      "t2_encoder.e1_c3.conv.bias\n",
      "t2_encoder.e2_c1.conv.weight\n",
      "t2_encoder.e2_c1.conv.bias\n",
      "t2_encoder.e2_c2.conv.weight\n",
      "t2_encoder.e2_c2.conv.bias\n",
      "t2_encoder.e2_c3.conv.weight\n",
      "t2_encoder.e2_c3.conv.bias\n",
      "t2_encoder.e3_c1.conv.weight\n",
      "t2_encoder.e3_c1.conv.bias\n",
      "t2_encoder.e3_c2.conv.weight\n",
      "t2_encoder.e3_c2.conv.bias\n",
      "t2_encoder.e3_c3.conv.weight\n",
      "t2_encoder.e3_c3.conv.bias\n",
      "t2_encoder.e4_c1.conv.weight\n",
      "t2_encoder.e4_c1.conv.bias\n",
      "t2_encoder.e4_c2.conv.weight\n",
      "t2_encoder.e4_c2.conv.bias\n",
      "t2_encoder.e4_c3.conv.weight\n",
      "t2_encoder.e4_c3.conv.bias\n",
      "t2_encoder.e5_c1.conv.weight\n",
      "t2_encoder.e5_c1.conv.bias\n",
      "t2_encoder.e5_c2.conv.weight\n",
      "t2_encoder.e5_c2.conv.bias\n",
      "t2_encoder.e5_c3.conv.weight\n",
      "t2_encoder.e5_c3.conv.bias\n",
      "flair_encode_conv.weight\n",
      "flair_encode_conv.bias\n",
      "t1ce_encode_conv.weight\n",
      "t1ce_encode_conv.bias\n",
      "t1_encode_conv.weight\n",
      "t1_encode_conv.bias\n",
      "t2_encode_conv.weight\n",
      "t2_encode_conv.bias\n",
      "flair_decode_conv.weight\n",
      "flair_decode_conv.bias\n",
      "t1ce_decode_conv.weight\n",
      "t1ce_decode_conv.bias\n",
      "t1_decode_conv.weight\n",
      "t1_decode_conv.bias\n",
      "t2_decode_conv.weight\n",
      "t2_decode_conv.bias\n",
      "multimodal_decode_conv.weight\n",
      "multimodal_decode_conv.bias\n",
      "flair_transformer.cross_attention_list.0.fn.norm.weight\n",
      "flair_transformer.cross_attention_list.0.fn.norm.bias\n",
      "flair_transformer.cross_attention_list.0.fn.fn.qkv.weight\n",
      "flair_transformer.cross_attention_list.0.fn.fn.proj.weight\n",
      "flair_transformer.cross_attention_list.0.fn.fn.proj.bias\n",
      "flair_transformer.cross_ffn_list.0.fn.norm.weight\n",
      "flair_transformer.cross_ffn_list.0.fn.norm.bias\n",
      "flair_transformer.cross_ffn_list.0.fn.fn.net.0.weight\n",
      "flair_transformer.cross_ffn_list.0.fn.fn.net.0.bias\n",
      "flair_transformer.cross_ffn_list.0.fn.fn.net.3.weight\n",
      "flair_transformer.cross_ffn_list.0.fn.fn.net.3.bias\n",
      "t1ce_transformer.cross_attention_list.0.fn.norm.weight\n",
      "t1ce_transformer.cross_attention_list.0.fn.norm.bias\n",
      "t1ce_transformer.cross_attention_list.0.fn.fn.qkv.weight\n",
      "t1ce_transformer.cross_attention_list.0.fn.fn.proj.weight\n",
      "t1ce_transformer.cross_attention_list.0.fn.fn.proj.bias\n",
      "t1ce_transformer.cross_ffn_list.0.fn.norm.weight\n",
      "t1ce_transformer.cross_ffn_list.0.fn.norm.bias\n",
      "t1ce_transformer.cross_ffn_list.0.fn.fn.net.0.weight\n",
      "t1ce_transformer.cross_ffn_list.0.fn.fn.net.0.bias\n",
      "t1ce_transformer.cross_ffn_list.0.fn.fn.net.3.weight\n",
      "t1ce_transformer.cross_ffn_list.0.fn.fn.net.3.bias\n",
      "t1_transformer.cross_attention_list.0.fn.norm.weight\n",
      "t1_transformer.cross_attention_list.0.fn.norm.bias\n",
      "t1_transformer.cross_attention_list.0.fn.fn.qkv.weight\n",
      "t1_transformer.cross_attention_list.0.fn.fn.proj.weight\n",
      "t1_transformer.cross_attention_list.0.fn.fn.proj.bias\n",
      "t1_transformer.cross_ffn_list.0.fn.norm.weight\n",
      "t1_transformer.cross_ffn_list.0.fn.norm.bias\n",
      "t1_transformer.cross_ffn_list.0.fn.fn.net.0.weight\n",
      "t1_transformer.cross_ffn_list.0.fn.fn.net.0.bias\n",
      "t1_transformer.cross_ffn_list.0.fn.fn.net.3.weight\n",
      "t1_transformer.cross_ffn_list.0.fn.fn.net.3.bias\n",
      "t2_transformer.cross_attention_list.0.fn.norm.weight\n",
      "t2_transformer.cross_attention_list.0.fn.norm.bias\n",
      "t2_transformer.cross_attention_list.0.fn.fn.qkv.weight\n",
      "t2_transformer.cross_attention_list.0.fn.fn.proj.weight\n",
      "t2_transformer.cross_attention_list.0.fn.fn.proj.bias\n",
      "t2_transformer.cross_ffn_list.0.fn.norm.weight\n",
      "t2_transformer.cross_ffn_list.0.fn.norm.bias\n",
      "t2_transformer.cross_ffn_list.0.fn.fn.net.0.weight\n",
      "t2_transformer.cross_ffn_list.0.fn.fn.net.0.bias\n",
      "t2_transformer.cross_ffn_list.0.fn.fn.net.3.weight\n",
      "t2_transformer.cross_ffn_list.0.fn.fn.net.3.bias\n",
      "multimodal_transformer.cross_attention_list.0.fn.norm.weight\n",
      "multimodal_transformer.cross_attention_list.0.fn.norm.bias\n",
      "multimodal_transformer.cross_attention_list.0.fn.fn.qkv.weight\n",
      "multimodal_transformer.cross_attention_list.0.fn.fn.proj.weight\n",
      "multimodal_transformer.cross_attention_list.0.fn.fn.proj.bias\n",
      "multimodal_transformer.cross_ffn_list.0.fn.norm.weight\n",
      "multimodal_transformer.cross_ffn_list.0.fn.norm.bias\n",
      "multimodal_transformer.cross_ffn_list.0.fn.fn.net.0.weight\n",
      "multimodal_transformer.cross_ffn_list.0.fn.fn.net.0.bias\n",
      "multimodal_transformer.cross_ffn_list.0.fn.fn.net.3.weight\n",
      "multimodal_transformer.cross_ffn_list.0.fn.fn.net.3.bias\n",
      "decoder_fuse.d4_c1.conv.weight\n",
      "decoder_fuse.d4_c1.conv.bias\n",
      "decoder_fuse.d4_c2.conv.weight\n",
      "decoder_fuse.d4_c2.conv.bias\n",
      "decoder_fuse.d4_out.conv.weight\n",
      "decoder_fuse.d4_out.conv.bias\n",
      "decoder_fuse.d3_c1.conv.weight\n",
      "decoder_fuse.d3_c1.conv.bias\n",
      "decoder_fuse.d3_c2.conv.weight\n",
      "decoder_fuse.d3_c2.conv.bias\n",
      "decoder_fuse.d3_out.conv.weight\n",
      "decoder_fuse.d3_out.conv.bias\n",
      "decoder_fuse.d2_c1.conv.weight\n",
      "decoder_fuse.d2_c1.conv.bias\n",
      "decoder_fuse.d2_c2.conv.weight\n",
      "decoder_fuse.d2_c2.conv.bias\n",
      "decoder_fuse.d2_out.conv.weight\n",
      "decoder_fuse.d2_out.conv.bias\n",
      "decoder_fuse.d1_c1.conv.weight\n",
      "decoder_fuse.d1_c1.conv.bias\n",
      "decoder_fuse.d1_c2.conv.weight\n",
      "decoder_fuse.d1_c2.conv.bias\n",
      "decoder_fuse.d1_out.conv.weight\n",
      "decoder_fuse.d1_out.conv.bias\n",
      "decoder_fuse.seg_d4.weight\n",
      "decoder_fuse.seg_d4.bias\n",
      "decoder_fuse.seg_d3.weight\n",
      "decoder_fuse.seg_d3.bias\n",
      "decoder_fuse.seg_d2.weight\n",
      "decoder_fuse.seg_d2.bias\n",
      "decoder_fuse.seg_d1.weight\n",
      "decoder_fuse.seg_d1.bias\n",
      "decoder_fuse.seg_layer.weight\n",
      "decoder_fuse.seg_layer.bias\n",
      "decoder_fuse.RFM5.fusion_layer.0.conv.weight\n",
      "decoder_fuse.RFM5.fusion_layer.0.conv.bias\n",
      "decoder_fuse.RFM5.fusion_layer.1.conv.weight\n",
      "decoder_fuse.RFM5.fusion_layer.1.conv.bias\n",
      "decoder_fuse.RFM5.fusion_layer.2.conv.weight\n",
      "decoder_fuse.RFM5.fusion_layer.2.conv.bias\n",
      "decoder_fuse.RFM4.fusion_layer.0.conv.weight\n",
      "decoder_fuse.RFM4.fusion_layer.0.conv.bias\n",
      "decoder_fuse.RFM4.fusion_layer.1.conv.weight\n",
      "decoder_fuse.RFM4.fusion_layer.1.conv.bias\n",
      "decoder_fuse.RFM4.fusion_layer.2.conv.weight\n",
      "decoder_fuse.RFM4.fusion_layer.2.conv.bias\n",
      "decoder_fuse.RFM3.fusion_layer.0.conv.weight\n",
      "decoder_fuse.RFM3.fusion_layer.0.conv.bias\n",
      "decoder_fuse.RFM3.fusion_layer.1.conv.weight\n",
      "decoder_fuse.RFM3.fusion_layer.1.conv.bias\n",
      "decoder_fuse.RFM3.fusion_layer.2.conv.weight\n",
      "decoder_fuse.RFM3.fusion_layer.2.conv.bias\n",
      "decoder_fuse.RFM2.fusion_layer.0.conv.weight\n",
      "decoder_fuse.RFM2.fusion_layer.0.conv.bias\n",
      "decoder_fuse.RFM2.fusion_layer.1.conv.weight\n",
      "decoder_fuse.RFM2.fusion_layer.1.conv.bias\n",
      "decoder_fuse.RFM2.fusion_layer.2.conv.weight\n",
      "decoder_fuse.RFM2.fusion_layer.2.conv.bias\n",
      "decoder_fuse.RFM1.fusion_layer.0.conv.weight\n",
      "decoder_fuse.RFM1.fusion_layer.0.conv.bias\n",
      "decoder_fuse.RFM1.fusion_layer.1.conv.weight\n",
      "decoder_fuse.RFM1.fusion_layer.1.conv.bias\n",
      "decoder_fuse.RFM1.fusion_layer.2.conv.weight\n",
      "decoder_fuse.RFM1.fusion_layer.2.conv.bias\n",
      "decoder_sep.d4_c1.conv.weight\n",
      "decoder_sep.d4_c1.conv.bias\n",
      "decoder_sep.d4_c2.conv.weight\n",
      "decoder_sep.d4_c2.conv.bias\n",
      "decoder_sep.d4_out.conv.weight\n",
      "decoder_sep.d4_out.conv.bias\n",
      "decoder_sep.d3_c1.conv.weight\n",
      "decoder_sep.d3_c1.conv.bias\n",
      "decoder_sep.d3_c2.conv.weight\n",
      "decoder_sep.d3_c2.conv.bias\n",
      "decoder_sep.d3_out.conv.weight\n",
      "decoder_sep.d3_out.conv.bias\n",
      "decoder_sep.d2_c1.conv.weight\n",
      "decoder_sep.d2_c1.conv.bias\n",
      "decoder_sep.d2_c2.conv.weight\n",
      "decoder_sep.d2_c2.conv.bias\n",
      "decoder_sep.d2_out.conv.weight\n",
      "decoder_sep.d2_out.conv.bias\n",
      "decoder_sep.d1_c1.conv.weight\n",
      "decoder_sep.d1_c1.conv.bias\n",
      "decoder_sep.d1_c2.conv.weight\n",
      "decoder_sep.d1_c2.conv.bias\n",
      "decoder_sep.d1_out.conv.weight\n",
      "decoder_sep.d1_out.conv.bias\n",
      "decoder_sep.seg_layer.weight\n",
      "decoder_sep.seg_layer.bias\n"
     ]
    }
   ],
   "source": [
    "checkpoint = torch.load(\"/mnt/disk1/hjlee/orhun/repo/mmFormer/pt_model/model_last.pth\")\n",
    "new_state_dict = {k.replace(\"module.\", \"\"): v for k, v in checkpoint[\"state_dict\"].items()}\n",
    "\n",
    "for name, param in new_state_dict.items():\n",
    "    print(name)"
   ]
  },
  {
   "cell_type": "code",
   "execution_count": 7,
   "metadata": {},
   "outputs": [
    {
     "name": "stdout",
     "output_type": "stream",
     "text": [
      "module.flair_pos\n",
      "module.t1ce_pos\n",
      "module.t1_pos\n",
      "module.t2_pos\n",
      "module.flair_encoder.e1_c1.weight\n",
      "module.flair_encoder.e1_c1.bias\n",
      "module.flair_encoder.e1_c2.conv.weight\n",
      "module.flair_encoder.e1_c2.conv.bias\n",
      "module.flair_encoder.e1_c3.conv.weight\n",
      "module.flair_encoder.e1_c3.conv.bias\n",
      "module.flair_encoder.e2_c1.conv.weight\n",
      "module.flair_encoder.e2_c1.conv.bias\n",
      "module.flair_encoder.e2_c2.conv.weight\n",
      "module.flair_encoder.e2_c2.conv.bias\n",
      "module.flair_encoder.e2_c3.conv.weight\n",
      "module.flair_encoder.e2_c3.conv.bias\n",
      "module.flair_encoder.e3_c1.conv.weight\n",
      "module.flair_encoder.e3_c1.conv.bias\n",
      "module.flair_encoder.e3_c2.conv.weight\n",
      "module.flair_encoder.e3_c2.conv.bias\n",
      "module.flair_encoder.e3_c3.conv.weight\n",
      "module.flair_encoder.e3_c3.conv.bias\n",
      "module.flair_encoder.e4_c1.conv.weight\n",
      "module.flair_encoder.e4_c1.conv.bias\n",
      "module.flair_encoder.e4_c2.conv.weight\n",
      "module.flair_encoder.e4_c2.conv.bias\n",
      "module.flair_encoder.e4_c3.conv.weight\n",
      "module.flair_encoder.e4_c3.conv.bias\n",
      "module.flair_encoder.e5_c1.conv.weight\n",
      "module.flair_encoder.e5_c1.conv.bias\n",
      "module.flair_encoder.e5_c2.conv.weight\n",
      "module.flair_encoder.e5_c2.conv.bias\n",
      "module.flair_encoder.e5_c3.conv.weight\n",
      "module.flair_encoder.e5_c3.conv.bias\n",
      "module.t1ce_encoder.e1_c1.weight\n",
      "module.t1ce_encoder.e1_c1.bias\n",
      "module.t1ce_encoder.e1_c2.conv.weight\n",
      "module.t1ce_encoder.e1_c2.conv.bias\n",
      "module.t1ce_encoder.e1_c3.conv.weight\n",
      "module.t1ce_encoder.e1_c3.conv.bias\n",
      "module.t1ce_encoder.e2_c1.conv.weight\n",
      "module.t1ce_encoder.e2_c1.conv.bias\n",
      "module.t1ce_encoder.e2_c2.conv.weight\n",
      "module.t1ce_encoder.e2_c2.conv.bias\n",
      "module.t1ce_encoder.e2_c3.conv.weight\n",
      "module.t1ce_encoder.e2_c3.conv.bias\n",
      "module.t1ce_encoder.e3_c1.conv.weight\n",
      "module.t1ce_encoder.e3_c1.conv.bias\n",
      "module.t1ce_encoder.e3_c2.conv.weight\n",
      "module.t1ce_encoder.e3_c2.conv.bias\n",
      "module.t1ce_encoder.e3_c3.conv.weight\n",
      "module.t1ce_encoder.e3_c3.conv.bias\n",
      "module.t1ce_encoder.e4_c1.conv.weight\n",
      "module.t1ce_encoder.e4_c1.conv.bias\n",
      "module.t1ce_encoder.e4_c2.conv.weight\n",
      "module.t1ce_encoder.e4_c2.conv.bias\n",
      "module.t1ce_encoder.e4_c3.conv.weight\n",
      "module.t1ce_encoder.e4_c3.conv.bias\n",
      "module.t1ce_encoder.e5_c1.conv.weight\n",
      "module.t1ce_encoder.e5_c1.conv.bias\n",
      "module.t1ce_encoder.e5_c2.conv.weight\n",
      "module.t1ce_encoder.e5_c2.conv.bias\n",
      "module.t1ce_encoder.e5_c3.conv.weight\n",
      "module.t1ce_encoder.e5_c3.conv.bias\n",
      "module.t1_encoder.e1_c1.weight\n",
      "module.t1_encoder.e1_c1.bias\n",
      "module.t1_encoder.e1_c2.conv.weight\n",
      "module.t1_encoder.e1_c2.conv.bias\n",
      "module.t1_encoder.e1_c3.conv.weight\n",
      "module.t1_encoder.e1_c3.conv.bias\n",
      "module.t1_encoder.e2_c1.conv.weight\n",
      "module.t1_encoder.e2_c1.conv.bias\n",
      "module.t1_encoder.e2_c2.conv.weight\n",
      "module.t1_encoder.e2_c2.conv.bias\n",
      "module.t1_encoder.e2_c3.conv.weight\n",
      "module.t1_encoder.e2_c3.conv.bias\n",
      "module.t1_encoder.e3_c1.conv.weight\n",
      "module.t1_encoder.e3_c1.conv.bias\n",
      "module.t1_encoder.e3_c2.conv.weight\n",
      "module.t1_encoder.e3_c2.conv.bias\n",
      "module.t1_encoder.e3_c3.conv.weight\n",
      "module.t1_encoder.e3_c3.conv.bias\n",
      "module.t1_encoder.e4_c1.conv.weight\n",
      "module.t1_encoder.e4_c1.conv.bias\n",
      "module.t1_encoder.e4_c2.conv.weight\n",
      "module.t1_encoder.e4_c2.conv.bias\n",
      "module.t1_encoder.e4_c3.conv.weight\n",
      "module.t1_encoder.e4_c3.conv.bias\n",
      "module.t1_encoder.e5_c1.conv.weight\n",
      "module.t1_encoder.e5_c1.conv.bias\n",
      "module.t1_encoder.e5_c2.conv.weight\n",
      "module.t1_encoder.e5_c2.conv.bias\n",
      "module.t1_encoder.e5_c3.conv.weight\n",
      "module.t1_encoder.e5_c3.conv.bias\n",
      "module.t2_encoder.e1_c1.weight\n",
      "module.t2_encoder.e1_c1.bias\n",
      "module.t2_encoder.e1_c2.conv.weight\n",
      "module.t2_encoder.e1_c2.conv.bias\n",
      "module.t2_encoder.e1_c3.conv.weight\n",
      "module.t2_encoder.e1_c3.conv.bias\n",
      "module.t2_encoder.e2_c1.conv.weight\n",
      "module.t2_encoder.e2_c1.conv.bias\n",
      "module.t2_encoder.e2_c2.conv.weight\n",
      "module.t2_encoder.e2_c2.conv.bias\n",
      "module.t2_encoder.e2_c3.conv.weight\n",
      "module.t2_encoder.e2_c3.conv.bias\n",
      "module.t2_encoder.e3_c1.conv.weight\n",
      "module.t2_encoder.e3_c1.conv.bias\n",
      "module.t2_encoder.e3_c2.conv.weight\n",
      "module.t2_encoder.e3_c2.conv.bias\n",
      "module.t2_encoder.e3_c3.conv.weight\n",
      "module.t2_encoder.e3_c3.conv.bias\n",
      "module.t2_encoder.e4_c1.conv.weight\n",
      "module.t2_encoder.e4_c1.conv.bias\n",
      "module.t2_encoder.e4_c2.conv.weight\n",
      "module.t2_encoder.e4_c2.conv.bias\n",
      "module.t2_encoder.e4_c3.conv.weight\n",
      "module.t2_encoder.e4_c3.conv.bias\n",
      "module.t2_encoder.e5_c1.conv.weight\n",
      "module.t2_encoder.e5_c1.conv.bias\n",
      "module.t2_encoder.e5_c2.conv.weight\n",
      "module.t2_encoder.e5_c2.conv.bias\n",
      "module.t2_encoder.e5_c3.conv.weight\n",
      "module.t2_encoder.e5_c3.conv.bias\n",
      "module.flair_encode_conv.weight\n",
      "module.flair_encode_conv.bias\n",
      "module.t1ce_encode_conv.weight\n",
      "module.t1ce_encode_conv.bias\n",
      "module.t1_encode_conv.weight\n",
      "module.t1_encode_conv.bias\n",
      "module.t2_encode_conv.weight\n",
      "module.t2_encode_conv.bias\n",
      "module.flair_decode_conv.weight\n",
      "module.flair_decode_conv.bias\n",
      "module.t1ce_decode_conv.weight\n",
      "module.t1ce_decode_conv.bias\n",
      "module.t1_decode_conv.weight\n",
      "module.t1_decode_conv.bias\n",
      "module.t2_decode_conv.weight\n",
      "module.t2_decode_conv.bias\n",
      "module.multimodal_decode_conv.weight\n",
      "module.multimodal_decode_conv.bias\n",
      "module.flair_transformer.cross_attention_list.0.fn.norm.weight\n",
      "module.flair_transformer.cross_attention_list.0.fn.norm.bias\n",
      "module.flair_transformer.cross_attention_list.0.fn.fn.qkv.weight\n",
      "module.flair_transformer.cross_attention_list.0.fn.fn.proj.weight\n",
      "module.flair_transformer.cross_attention_list.0.fn.fn.proj.bias\n",
      "module.flair_transformer.cross_ffn_list.0.fn.norm.weight\n",
      "module.flair_transformer.cross_ffn_list.0.fn.norm.bias\n",
      "module.flair_transformer.cross_ffn_list.0.fn.fn.net.0.weight\n",
      "module.flair_transformer.cross_ffn_list.0.fn.fn.net.0.bias\n",
      "module.flair_transformer.cross_ffn_list.0.fn.fn.net.3.weight\n",
      "module.flair_transformer.cross_ffn_list.0.fn.fn.net.3.bias\n",
      "module.t1ce_transformer.cross_attention_list.0.fn.norm.weight\n",
      "module.t1ce_transformer.cross_attention_list.0.fn.norm.bias\n",
      "module.t1ce_transformer.cross_attention_list.0.fn.fn.qkv.weight\n",
      "module.t1ce_transformer.cross_attention_list.0.fn.fn.proj.weight\n",
      "module.t1ce_transformer.cross_attention_list.0.fn.fn.proj.bias\n",
      "module.t1ce_transformer.cross_ffn_list.0.fn.norm.weight\n",
      "module.t1ce_transformer.cross_ffn_list.0.fn.norm.bias\n",
      "module.t1ce_transformer.cross_ffn_list.0.fn.fn.net.0.weight\n",
      "module.t1ce_transformer.cross_ffn_list.0.fn.fn.net.0.bias\n",
      "module.t1ce_transformer.cross_ffn_list.0.fn.fn.net.3.weight\n",
      "module.t1ce_transformer.cross_ffn_list.0.fn.fn.net.3.bias\n",
      "module.t1_transformer.cross_attention_list.0.fn.norm.weight\n",
      "module.t1_transformer.cross_attention_list.0.fn.norm.bias\n",
      "module.t1_transformer.cross_attention_list.0.fn.fn.qkv.weight\n",
      "module.t1_transformer.cross_attention_list.0.fn.fn.proj.weight\n",
      "module.t1_transformer.cross_attention_list.0.fn.fn.proj.bias\n",
      "module.t1_transformer.cross_ffn_list.0.fn.norm.weight\n",
      "module.t1_transformer.cross_ffn_list.0.fn.norm.bias\n",
      "module.t1_transformer.cross_ffn_list.0.fn.fn.net.0.weight\n",
      "module.t1_transformer.cross_ffn_list.0.fn.fn.net.0.bias\n",
      "module.t1_transformer.cross_ffn_list.0.fn.fn.net.3.weight\n",
      "module.t1_transformer.cross_ffn_list.0.fn.fn.net.3.bias\n",
      "module.t2_transformer.cross_attention_list.0.fn.norm.weight\n",
      "module.t2_transformer.cross_attention_list.0.fn.norm.bias\n",
      "module.t2_transformer.cross_attention_list.0.fn.fn.qkv.weight\n",
      "module.t2_transformer.cross_attention_list.0.fn.fn.proj.weight\n",
      "module.t2_transformer.cross_attention_list.0.fn.fn.proj.bias\n",
      "module.t2_transformer.cross_ffn_list.0.fn.norm.weight\n",
      "module.t2_transformer.cross_ffn_list.0.fn.norm.bias\n",
      "module.t2_transformer.cross_ffn_list.0.fn.fn.net.0.weight\n",
      "module.t2_transformer.cross_ffn_list.0.fn.fn.net.0.bias\n",
      "module.t2_transformer.cross_ffn_list.0.fn.fn.net.3.weight\n",
      "module.t2_transformer.cross_ffn_list.0.fn.fn.net.3.bias\n",
      "module.multimodal_transformer.cross_attention_list.0.fn.norm.weight\n",
      "module.multimodal_transformer.cross_attention_list.0.fn.norm.bias\n",
      "module.multimodal_transformer.cross_attention_list.0.fn.fn.qkv.weight\n",
      "module.multimodal_transformer.cross_attention_list.0.fn.fn.proj.weight\n",
      "module.multimodal_transformer.cross_attention_list.0.fn.fn.proj.bias\n",
      "module.multimodal_transformer.cross_ffn_list.0.fn.norm.weight\n",
      "module.multimodal_transformer.cross_ffn_list.0.fn.norm.bias\n",
      "module.multimodal_transformer.cross_ffn_list.0.fn.fn.net.0.weight\n",
      "module.multimodal_transformer.cross_ffn_list.0.fn.fn.net.0.bias\n",
      "module.multimodal_transformer.cross_ffn_list.0.fn.fn.net.3.weight\n",
      "module.multimodal_transformer.cross_ffn_list.0.fn.fn.net.3.bias\n",
      "module.decoder_fuse.d4_c1.conv.weight\n",
      "module.decoder_fuse.d4_c1.conv.bias\n",
      "module.decoder_fuse.d4_c2.conv.weight\n",
      "module.decoder_fuse.d4_c2.conv.bias\n",
      "module.decoder_fuse.d4_out.conv.weight\n",
      "module.decoder_fuse.d4_out.conv.bias\n",
      "module.decoder_fuse.d3_c1.conv.weight\n",
      "module.decoder_fuse.d3_c1.conv.bias\n",
      "module.decoder_fuse.d3_c2.conv.weight\n",
      "module.decoder_fuse.d3_c2.conv.bias\n",
      "module.decoder_fuse.d3_out.conv.weight\n",
      "module.decoder_fuse.d3_out.conv.bias\n",
      "module.decoder_fuse.d2_c1.conv.weight\n",
      "module.decoder_fuse.d2_c1.conv.bias\n",
      "module.decoder_fuse.d2_c2.conv.weight\n",
      "module.decoder_fuse.d2_c2.conv.bias\n",
      "module.decoder_fuse.d2_out.conv.weight\n",
      "module.decoder_fuse.d2_out.conv.bias\n",
      "module.decoder_fuse.d1_c1.conv.weight\n",
      "module.decoder_fuse.d1_c1.conv.bias\n",
      "module.decoder_fuse.d1_c2.conv.weight\n",
      "module.decoder_fuse.d1_c2.conv.bias\n",
      "module.decoder_fuse.d1_out.conv.weight\n",
      "module.decoder_fuse.d1_out.conv.bias\n",
      "module.decoder_fuse.seg_d4.weight\n",
      "module.decoder_fuse.seg_d4.bias\n",
      "module.decoder_fuse.seg_d3.weight\n",
      "module.decoder_fuse.seg_d3.bias\n",
      "module.decoder_fuse.seg_d2.weight\n",
      "module.decoder_fuse.seg_d2.bias\n",
      "module.decoder_fuse.seg_d1.weight\n",
      "module.decoder_fuse.seg_d1.bias\n",
      "module.decoder_fuse.seg_layer.weight\n",
      "module.decoder_fuse.seg_layer.bias\n",
      "module.decoder_fuse.RFM5.fusion_layer.0.conv.weight\n",
      "module.decoder_fuse.RFM5.fusion_layer.0.conv.bias\n",
      "module.decoder_fuse.RFM5.fusion_layer.1.conv.weight\n",
      "module.decoder_fuse.RFM5.fusion_layer.1.conv.bias\n",
      "module.decoder_fuse.RFM5.fusion_layer.2.conv.weight\n",
      "module.decoder_fuse.RFM5.fusion_layer.2.conv.bias\n",
      "module.decoder_fuse.RFM4.fusion_layer.0.conv.weight\n",
      "module.decoder_fuse.RFM4.fusion_layer.0.conv.bias\n",
      "module.decoder_fuse.RFM4.fusion_layer.1.conv.weight\n",
      "module.decoder_fuse.RFM4.fusion_layer.1.conv.bias\n",
      "module.decoder_fuse.RFM4.fusion_layer.2.conv.weight\n",
      "module.decoder_fuse.RFM4.fusion_layer.2.conv.bias\n",
      "module.decoder_fuse.RFM3.fusion_layer.0.conv.weight\n",
      "module.decoder_fuse.RFM3.fusion_layer.0.conv.bias\n",
      "module.decoder_fuse.RFM3.fusion_layer.1.conv.weight\n",
      "module.decoder_fuse.RFM3.fusion_layer.1.conv.bias\n",
      "module.decoder_fuse.RFM3.fusion_layer.2.conv.weight\n",
      "module.decoder_fuse.RFM3.fusion_layer.2.conv.bias\n",
      "module.decoder_fuse.RFM2.fusion_layer.0.conv.weight\n",
      "module.decoder_fuse.RFM2.fusion_layer.0.conv.bias\n",
      "module.decoder_fuse.RFM2.fusion_layer.1.conv.weight\n",
      "module.decoder_fuse.RFM2.fusion_layer.1.conv.bias\n",
      "module.decoder_fuse.RFM2.fusion_layer.2.conv.weight\n",
      "module.decoder_fuse.RFM2.fusion_layer.2.conv.bias\n",
      "module.decoder_fuse.RFM1.fusion_layer.0.conv.weight\n",
      "module.decoder_fuse.RFM1.fusion_layer.0.conv.bias\n",
      "module.decoder_fuse.RFM1.fusion_layer.1.conv.weight\n",
      "module.decoder_fuse.RFM1.fusion_layer.1.conv.bias\n",
      "module.decoder_fuse.RFM1.fusion_layer.2.conv.weight\n",
      "module.decoder_fuse.RFM1.fusion_layer.2.conv.bias\n",
      "module.decoder_sep.d4_c1.conv.weight\n",
      "module.decoder_sep.d4_c1.conv.bias\n",
      "module.decoder_sep.d4_c2.conv.weight\n",
      "module.decoder_sep.d4_c2.conv.bias\n",
      "module.decoder_sep.d4_out.conv.weight\n",
      "module.decoder_sep.d4_out.conv.bias\n",
      "module.decoder_sep.d3_c1.conv.weight\n",
      "module.decoder_sep.d3_c1.conv.bias\n",
      "module.decoder_sep.d3_c2.conv.weight\n",
      "module.decoder_sep.d3_c2.conv.bias\n",
      "module.decoder_sep.d3_out.conv.weight\n",
      "module.decoder_sep.d3_out.conv.bias\n",
      "module.decoder_sep.d2_c1.conv.weight\n",
      "module.decoder_sep.d2_c1.conv.bias\n",
      "module.decoder_sep.d2_c2.conv.weight\n",
      "module.decoder_sep.d2_c2.conv.bias\n",
      "module.decoder_sep.d2_out.conv.weight\n",
      "module.decoder_sep.d2_out.conv.bias\n",
      "module.decoder_sep.d1_c1.conv.weight\n",
      "module.decoder_sep.d1_c1.conv.bias\n",
      "module.decoder_sep.d1_c2.conv.weight\n",
      "module.decoder_sep.d1_c2.conv.bias\n",
      "module.decoder_sep.d1_out.conv.weight\n",
      "module.decoder_sep.d1_out.conv.bias\n",
      "module.decoder_sep.seg_layer.weight\n",
      "module.decoder_sep.seg_layer.bias\n"
     ]
    }
   ],
   "source": [
    "import torch\n",
    "checkpoint = torch.load(\"/mnt/disk1/hjlee/orhun/repo/mmFormer/pt_model/model_last.pth\")\n",
    "\n",
    "for name, param in checkpoint[\"state_dict\"].items():\n",
    "    print(name)"
   ]
  },
  {
   "cell_type": "code",
   "execution_count": 6,
   "metadata": {},
   "outputs": [
    {
     "name": "stdout",
     "output_type": "stream",
     "text": [
      "flair_pos\n",
      "t1ce_pos\n",
      "t1_pos\n",
      "t2_pos\n",
      "flair_encoder.e1_c1.weight\n",
      "flair_encoder.e1_c1.bias\n",
      "flair_encoder.e1_c2.conv.weight\n",
      "flair_encoder.e1_c2.conv.bias\n",
      "flair_encoder.e1_c3.conv.weight\n",
      "flair_encoder.e1_c3.conv.bias\n",
      "flair_encoder.e2_c1.conv.weight\n",
      "flair_encoder.e2_c1.conv.bias\n",
      "flair_encoder.e2_c2.conv.weight\n",
      "flair_encoder.e2_c2.conv.bias\n",
      "flair_encoder.e2_c3.conv.weight\n",
      "flair_encoder.e2_c3.conv.bias\n",
      "flair_encoder.e3_c1.conv.weight\n",
      "flair_encoder.e3_c1.conv.bias\n",
      "flair_encoder.e3_c2.conv.weight\n",
      "flair_encoder.e3_c2.conv.bias\n",
      "flair_encoder.e3_c3.conv.weight\n",
      "flair_encoder.e3_c3.conv.bias\n",
      "flair_encoder.e4_c1.conv.weight\n",
      "flair_encoder.e4_c1.conv.bias\n",
      "flair_encoder.e4_c2.conv.weight\n",
      "flair_encoder.e4_c2.conv.bias\n",
      "flair_encoder.e4_c3.conv.weight\n",
      "flair_encoder.e4_c3.conv.bias\n",
      "flair_encoder.e5_c1.conv.weight\n",
      "flair_encoder.e5_c1.conv.bias\n",
      "flair_encoder.e5_c2.conv.weight\n",
      "flair_encoder.e5_c2.conv.bias\n",
      "flair_encoder.e5_c3.conv.weight\n",
      "flair_encoder.e5_c3.conv.bias\n",
      "t1ce_encoder.e1_c1.weight\n",
      "t1ce_encoder.e1_c1.bias\n",
      "t1ce_encoder.e1_c2.conv.weight\n",
      "t1ce_encoder.e1_c2.conv.bias\n",
      "t1ce_encoder.e1_c3.conv.weight\n",
      "t1ce_encoder.e1_c3.conv.bias\n",
      "t1ce_encoder.e2_c1.conv.weight\n",
      "t1ce_encoder.e2_c1.conv.bias\n",
      "t1ce_encoder.e2_c2.conv.weight\n",
      "t1ce_encoder.e2_c2.conv.bias\n",
      "t1ce_encoder.e2_c3.conv.weight\n",
      "t1ce_encoder.e2_c3.conv.bias\n",
      "t1ce_encoder.e3_c1.conv.weight\n",
      "t1ce_encoder.e3_c1.conv.bias\n",
      "t1ce_encoder.e3_c2.conv.weight\n",
      "t1ce_encoder.e3_c2.conv.bias\n",
      "t1ce_encoder.e3_c3.conv.weight\n",
      "t1ce_encoder.e3_c3.conv.bias\n",
      "t1ce_encoder.e4_c1.conv.weight\n",
      "t1ce_encoder.e4_c1.conv.bias\n",
      "t1ce_encoder.e4_c2.conv.weight\n",
      "t1ce_encoder.e4_c2.conv.bias\n",
      "t1ce_encoder.e4_c3.conv.weight\n",
      "t1ce_encoder.e4_c3.conv.bias\n",
      "t1ce_encoder.e5_c1.conv.weight\n",
      "t1ce_encoder.e5_c1.conv.bias\n",
      "t1ce_encoder.e5_c2.conv.weight\n",
      "t1ce_encoder.e5_c2.conv.bias\n",
      "t1ce_encoder.e5_c3.conv.weight\n",
      "t1ce_encoder.e5_c3.conv.bias\n",
      "t1_encoder.e1_c1.weight\n",
      "t1_encoder.e1_c1.bias\n",
      "t1_encoder.e1_c2.conv.weight\n",
      "t1_encoder.e1_c2.conv.bias\n",
      "t1_encoder.e1_c3.conv.weight\n",
      "t1_encoder.e1_c3.conv.bias\n",
      "t1_encoder.e2_c1.conv.weight\n",
      "t1_encoder.e2_c1.conv.bias\n",
      "t1_encoder.e2_c2.conv.weight\n",
      "t1_encoder.e2_c2.conv.bias\n",
      "t1_encoder.e2_c3.conv.weight\n",
      "t1_encoder.e2_c3.conv.bias\n",
      "t1_encoder.e3_c1.conv.weight\n",
      "t1_encoder.e3_c1.conv.bias\n",
      "t1_encoder.e3_c2.conv.weight\n",
      "t1_encoder.e3_c2.conv.bias\n",
      "t1_encoder.e3_c3.conv.weight\n",
      "t1_encoder.e3_c3.conv.bias\n",
      "t1_encoder.e4_c1.conv.weight\n",
      "t1_encoder.e4_c1.conv.bias\n",
      "t1_encoder.e4_c2.conv.weight\n",
      "t1_encoder.e4_c2.conv.bias\n",
      "t1_encoder.e4_c3.conv.weight\n",
      "t1_encoder.e4_c3.conv.bias\n",
      "t1_encoder.e5_c1.conv.weight\n",
      "t1_encoder.e5_c1.conv.bias\n",
      "t1_encoder.e5_c2.conv.weight\n",
      "t1_encoder.e5_c2.conv.bias\n",
      "t1_encoder.e5_c3.conv.weight\n",
      "t1_encoder.e5_c3.conv.bias\n",
      "t2_encoder.e1_c1.weight\n",
      "t2_encoder.e1_c1.bias\n",
      "t2_encoder.e1_c2.conv.weight\n",
      "t2_encoder.e1_c2.conv.bias\n",
      "t2_encoder.e1_c3.conv.weight\n",
      "t2_encoder.e1_c3.conv.bias\n",
      "t2_encoder.e2_c1.conv.weight\n",
      "t2_encoder.e2_c1.conv.bias\n",
      "t2_encoder.e2_c2.conv.weight\n",
      "t2_encoder.e2_c2.conv.bias\n",
      "t2_encoder.e2_c3.conv.weight\n",
      "t2_encoder.e2_c3.conv.bias\n",
      "t2_encoder.e3_c1.conv.weight\n",
      "t2_encoder.e3_c1.conv.bias\n",
      "t2_encoder.e3_c2.conv.weight\n",
      "t2_encoder.e3_c2.conv.bias\n",
      "t2_encoder.e3_c3.conv.weight\n",
      "t2_encoder.e3_c3.conv.bias\n",
      "t2_encoder.e4_c1.conv.weight\n",
      "t2_encoder.e4_c1.conv.bias\n",
      "t2_encoder.e4_c2.conv.weight\n",
      "t2_encoder.e4_c2.conv.bias\n",
      "t2_encoder.e4_c3.conv.weight\n",
      "t2_encoder.e4_c3.conv.bias\n",
      "t2_encoder.e5_c1.conv.weight\n",
      "t2_encoder.e5_c1.conv.bias\n",
      "t2_encoder.e5_c2.conv.weight\n",
      "t2_encoder.e5_c2.conv.bias\n",
      "t2_encoder.e5_c3.conv.weight\n",
      "t2_encoder.e5_c3.conv.bias\n",
      "flair_encode_conv.weight\n",
      "flair_encode_conv.bias\n",
      "t1ce_encode_conv.weight\n",
      "t1ce_encode_conv.bias\n",
      "t1_encode_conv.weight\n",
      "t1_encode_conv.bias\n",
      "t2_encode_conv.weight\n",
      "t2_encode_conv.bias\n",
      "flair_decode_conv.weight\n",
      "flair_decode_conv.bias\n",
      "t1ce_decode_conv.weight\n",
      "t1ce_decode_conv.bias\n",
      "t1_decode_conv.weight\n",
      "t1_decode_conv.bias\n",
      "t2_decode_conv.weight\n",
      "t2_decode_conv.bias\n",
      "flair_transformer.cross_attention_list.0.fn.norm.weight\n",
      "flair_transformer.cross_attention_list.0.fn.norm.bias\n",
      "flair_transformer.cross_attention_list.0.fn.fn.qkv.weight\n",
      "flair_transformer.cross_attention_list.0.fn.fn.proj.weight\n",
      "flair_transformer.cross_attention_list.0.fn.fn.proj.bias\n",
      "flair_transformer.cross_ffn_list.0.fn.norm.weight\n",
      "flair_transformer.cross_ffn_list.0.fn.norm.bias\n",
      "flair_transformer.cross_ffn_list.0.fn.fn.net.0.weight\n",
      "flair_transformer.cross_ffn_list.0.fn.fn.net.0.bias\n",
      "flair_transformer.cross_ffn_list.0.fn.fn.net.3.weight\n",
      "flair_transformer.cross_ffn_list.0.fn.fn.net.3.bias\n",
      "t1ce_transformer.cross_attention_list.0.fn.norm.weight\n",
      "t1ce_transformer.cross_attention_list.0.fn.norm.bias\n",
      "t1ce_transformer.cross_attention_list.0.fn.fn.qkv.weight\n",
      "t1ce_transformer.cross_attention_list.0.fn.fn.proj.weight\n",
      "t1ce_transformer.cross_attention_list.0.fn.fn.proj.bias\n",
      "t1ce_transformer.cross_ffn_list.0.fn.norm.weight\n",
      "t1ce_transformer.cross_ffn_list.0.fn.norm.bias\n",
      "t1ce_transformer.cross_ffn_list.0.fn.fn.net.0.weight\n",
      "t1ce_transformer.cross_ffn_list.0.fn.fn.net.0.bias\n",
      "t1ce_transformer.cross_ffn_list.0.fn.fn.net.3.weight\n",
      "t1ce_transformer.cross_ffn_list.0.fn.fn.net.3.bias\n",
      "t1_transformer.cross_attention_list.0.fn.norm.weight\n",
      "t1_transformer.cross_attention_list.0.fn.norm.bias\n",
      "t1_transformer.cross_attention_list.0.fn.fn.qkv.weight\n",
      "t1_transformer.cross_attention_list.0.fn.fn.proj.weight\n",
      "t1_transformer.cross_attention_list.0.fn.fn.proj.bias\n",
      "t1_transformer.cross_ffn_list.0.fn.norm.weight\n",
      "t1_transformer.cross_ffn_list.0.fn.norm.bias\n",
      "t1_transformer.cross_ffn_list.0.fn.fn.net.0.weight\n",
      "t1_transformer.cross_ffn_list.0.fn.fn.net.0.bias\n",
      "t1_transformer.cross_ffn_list.0.fn.fn.net.3.weight\n",
      "t1_transformer.cross_ffn_list.0.fn.fn.net.3.bias\n",
      "t2_transformer.cross_attention_list.0.fn.norm.weight\n",
      "t2_transformer.cross_attention_list.0.fn.norm.bias\n",
      "t2_transformer.cross_attention_list.0.fn.fn.qkv.weight\n",
      "t2_transformer.cross_attention_list.0.fn.fn.proj.weight\n",
      "t2_transformer.cross_attention_list.0.fn.fn.proj.bias\n",
      "t2_transformer.cross_ffn_list.0.fn.norm.weight\n",
      "t2_transformer.cross_ffn_list.0.fn.norm.bias\n",
      "t2_transformer.cross_ffn_list.0.fn.fn.net.0.weight\n",
      "t2_transformer.cross_ffn_list.0.fn.fn.net.0.bias\n",
      "t2_transformer.cross_ffn_list.0.fn.fn.net.3.weight\n",
      "t2_transformer.cross_ffn_list.0.fn.fn.net.3.bias\n",
      "multimodal_transformer.cross_attention_list.0.fn.norm.weight\n",
      "multimodal_transformer.cross_attention_list.0.fn.norm.bias\n",
      "multimodal_transformer.cross_attention_list.0.fn.fn.qkv.weight\n",
      "multimodal_transformer.cross_attention_list.0.fn.fn.proj.weight\n",
      "multimodal_transformer.cross_attention_list.0.fn.fn.proj.bias\n",
      "multimodal_transformer.cross_ffn_list.0.fn.norm.weight\n",
      "multimodal_transformer.cross_ffn_list.0.fn.norm.bias\n",
      "multimodal_transformer.cross_ffn_list.0.fn.fn.net.0.weight\n",
      "multimodal_transformer.cross_ffn_list.0.fn.fn.net.0.bias\n",
      "multimodal_transformer.cross_ffn_list.0.fn.fn.net.3.weight\n",
      "multimodal_transformer.cross_ffn_list.0.fn.fn.net.3.bias\n",
      "multimodal_decode_conv.weight\n",
      "multimodal_decode_conv.bias\n",
      "decoder_fuse.d4_c1.conv.weight\n",
      "decoder_fuse.d4_c1.conv.bias\n",
      "decoder_fuse.d4_c2.conv.weight\n",
      "decoder_fuse.d4_c2.conv.bias\n",
      "decoder_fuse.d4_out.conv.weight\n",
      "decoder_fuse.d4_out.conv.bias\n",
      "decoder_fuse.d3_c1.conv.weight\n",
      "decoder_fuse.d3_c1.conv.bias\n",
      "decoder_fuse.d3_c2.conv.weight\n",
      "decoder_fuse.d3_c2.conv.bias\n",
      "decoder_fuse.d3_out.conv.weight\n",
      "decoder_fuse.d3_out.conv.bias\n",
      "decoder_fuse.d2_c1.conv.weight\n",
      "decoder_fuse.d2_c1.conv.bias\n",
      "decoder_fuse.d2_c2.conv.weight\n",
      "decoder_fuse.d2_c2.conv.bias\n",
      "decoder_fuse.d2_out.conv.weight\n",
      "decoder_fuse.d2_out.conv.bias\n",
      "decoder_fuse.d1_c1.conv.weight\n",
      "decoder_fuse.d1_c1.conv.bias\n",
      "decoder_fuse.d1_c2.conv.weight\n",
      "decoder_fuse.d1_c2.conv.bias\n",
      "decoder_fuse.d1_out.conv.weight\n",
      "decoder_fuse.d1_out.conv.bias\n",
      "decoder_fuse.seg_d4.weight\n",
      "decoder_fuse.seg_d4.bias\n",
      "decoder_fuse.seg_d3.weight\n",
      "decoder_fuse.seg_d3.bias\n",
      "decoder_fuse.seg_d2.weight\n",
      "decoder_fuse.seg_d2.bias\n",
      "decoder_fuse.seg_d1.weight\n",
      "decoder_fuse.seg_d1.bias\n",
      "decoder_fuse.seg_layer.weight\n",
      "decoder_fuse.seg_layer.bias\n",
      "decoder_fuse.RFM5.fusion_layer.0.conv.weight\n",
      "decoder_fuse.RFM5.fusion_layer.0.conv.bias\n",
      "decoder_fuse.RFM5.fusion_layer.1.conv.weight\n",
      "decoder_fuse.RFM5.fusion_layer.1.conv.bias\n",
      "decoder_fuse.RFM5.fusion_layer.2.conv.weight\n",
      "decoder_fuse.RFM5.fusion_layer.2.conv.bias\n",
      "decoder_fuse.RFM4.fusion_layer.0.conv.weight\n",
      "decoder_fuse.RFM4.fusion_layer.0.conv.bias\n",
      "decoder_fuse.RFM4.fusion_layer.1.conv.weight\n",
      "decoder_fuse.RFM4.fusion_layer.1.conv.bias\n",
      "decoder_fuse.RFM4.fusion_layer.2.conv.weight\n",
      "decoder_fuse.RFM4.fusion_layer.2.conv.bias\n",
      "decoder_fuse.RFM3.fusion_layer.0.conv.weight\n",
      "decoder_fuse.RFM3.fusion_layer.0.conv.bias\n",
      "decoder_fuse.RFM3.fusion_layer.1.conv.weight\n",
      "decoder_fuse.RFM3.fusion_layer.1.conv.bias\n",
      "decoder_fuse.RFM3.fusion_layer.2.conv.weight\n",
      "decoder_fuse.RFM3.fusion_layer.2.conv.bias\n",
      "decoder_fuse.RFM2.fusion_layer.0.conv.weight\n",
      "decoder_fuse.RFM2.fusion_layer.0.conv.bias\n",
      "decoder_fuse.RFM2.fusion_layer.1.conv.weight\n",
      "decoder_fuse.RFM2.fusion_layer.1.conv.bias\n",
      "decoder_fuse.RFM2.fusion_layer.2.conv.weight\n",
      "decoder_fuse.RFM2.fusion_layer.2.conv.bias\n",
      "decoder_fuse.RFM1.fusion_layer.0.conv.weight\n",
      "decoder_fuse.RFM1.fusion_layer.0.conv.bias\n",
      "decoder_fuse.RFM1.fusion_layer.1.conv.weight\n",
      "decoder_fuse.RFM1.fusion_layer.1.conv.bias\n",
      "decoder_fuse.RFM1.fusion_layer.2.conv.weight\n",
      "decoder_fuse.RFM1.fusion_layer.2.conv.bias\n",
      "decoder_sep.d4_c1.conv.weight\n",
      "decoder_sep.d4_c1.conv.bias\n",
      "decoder_sep.d4_c2.conv.weight\n",
      "decoder_sep.d4_c2.conv.bias\n",
      "decoder_sep.d4_out.conv.weight\n",
      "decoder_sep.d4_out.conv.bias\n",
      "decoder_sep.d3_c1.conv.weight\n",
      "decoder_sep.d3_c1.conv.bias\n",
      "decoder_sep.d3_c2.conv.weight\n",
      "decoder_sep.d3_c2.conv.bias\n",
      "decoder_sep.d3_out.conv.weight\n",
      "decoder_sep.d3_out.conv.bias\n",
      "decoder_sep.d2_c1.conv.weight\n",
      "decoder_sep.d2_c1.conv.bias\n",
      "decoder_sep.d2_c2.conv.weight\n",
      "decoder_sep.d2_c2.conv.bias\n",
      "decoder_sep.d2_out.conv.weight\n",
      "decoder_sep.d2_out.conv.bias\n",
      "decoder_sep.d1_c1.conv.weight\n",
      "decoder_sep.d1_c1.conv.bias\n",
      "decoder_sep.d1_c2.conv.weight\n",
      "decoder_sep.d1_c2.conv.bias\n",
      "decoder_sep.d1_out.conv.weight\n",
      "decoder_sep.d1_out.conv.bias\n",
      "decoder_sep.seg_layer.weight\n",
      "decoder_sep.seg_layer.bias\n"
     ]
    }
   ],
   "source": [
    "from nets.mmformer import Model, LR_Scheduler, mmformer_mask, get_mmformer_loaders, softmax_weighted_loss_monai, softmax_weighted_loss\n",
    "\n",
    "model = Model(num_cls=4)\n",
    "for name, param in model.state_dict().items():\n",
    "    print(name)"
   ]
  },
  {
   "cell_type": "code",
   "execution_count": null,
   "metadata": {},
   "outputs": [
    {
     "name": "stderr",
     "output_type": "stream",
     "text": [
      "/mnt/disk1/hjlee/orhun/envs/multimodalenv/lib/python3.10/site-packages/monai/utils/deprecate_utils.py:221: FutureWarning: monai.networks.nets.swin_unetr SwinUNETR.__init__:img_size: Argument `img_size` has been deprecated since version 1.3. It will be removed in version 1.5. The img_size argument is not required anymore and checks on the input size are run during forward().\n",
      "  warn_deprecated(argname, msg, warning_category)\n"
     ]
    },
    {
     "name": "stdout",
     "output_type": "stream",
     "text": [
      "SwinTransformer(\n",
      "  (patch_embed): PatchEmbed(\n",
      "    (proj): Conv3d(4, 48, kernel_size=(2, 2, 2), stride=(2, 2, 2))\n",
      "  )\n",
      "  (pos_drop): Dropout(p=0.0, inplace=False)\n",
      "  (layers1): ModuleList(\n",
      "    (0): BasicLayer(\n",
      "      (blocks): ModuleList(\n",
      "        (0): SwinTransformerBlock(\n",
      "          (norm1): LayerNorm((48,), eps=1e-05, elementwise_affine=True)\n",
      "          (attn): WindowAttention(\n",
      "            (qkv): Linear(in_features=48, out_features=144, bias=True)\n",
      "            (attn_drop): Dropout(p=0.0, inplace=False)\n",
      "            (proj): Linear(in_features=48, out_features=48, bias=True)\n",
      "            (proj_drop): Dropout(p=0.0, inplace=False)\n",
      "            (softmax): Softmax(dim=-1)\n",
      "          )\n",
      "          (drop_path): Identity()\n",
      "          (norm2): LayerNorm((48,), eps=1e-05, elementwise_affine=True)\n",
      "          (mlp): MLPBlock(\n",
      "            (linear1): Linear(in_features=48, out_features=192, bias=True)\n",
      "            (linear2): Linear(in_features=192, out_features=48, bias=True)\n",
      "            (fn): GELU(approximate='none')\n",
      "            (drop1): Dropout(p=0.0, inplace=False)\n",
      "            (drop2): Dropout(p=0.0, inplace=False)\n",
      "          )\n",
      "        )\n",
      "        (1): SwinTransformerBlock(\n",
      "          (norm1): LayerNorm((48,), eps=1e-05, elementwise_affine=True)\n",
      "          (attn): WindowAttention(\n",
      "            (qkv): Linear(in_features=48, out_features=144, bias=True)\n",
      "            (attn_drop): Dropout(p=0.0, inplace=False)\n",
      "            (proj): Linear(in_features=48, out_features=48, bias=True)\n",
      "            (proj_drop): Dropout(p=0.0, inplace=False)\n",
      "            (softmax): Softmax(dim=-1)\n",
      "          )\n",
      "          (drop_path): Identity()\n",
      "          (norm2): LayerNorm((48,), eps=1e-05, elementwise_affine=True)\n",
      "          (mlp): MLPBlock(\n",
      "            (linear1): Linear(in_features=48, out_features=192, bias=True)\n",
      "            (linear2): Linear(in_features=192, out_features=48, bias=True)\n",
      "            (fn): GELU(approximate='none')\n",
      "            (drop1): Dropout(p=0.0, inplace=False)\n",
      "            (drop2): Dropout(p=0.0, inplace=False)\n",
      "          )\n",
      "        )\n",
      "      )\n",
      "      (downsample): PatchMerging(\n",
      "        (reduction): Linear(in_features=384, out_features=96, bias=False)\n",
      "        (norm): LayerNorm((384,), eps=1e-05, elementwise_affine=True)\n",
      "      )\n",
      "    )\n",
      "  )\n",
      "  (layers2): ModuleList(\n",
      "    (0): BasicLayer(\n",
      "      (blocks): ModuleList(\n",
      "        (0): SwinTransformerBlock(\n",
      "          (norm1): LayerNorm((96,), eps=1e-05, elementwise_affine=True)\n",
      "          (attn): WindowAttention(\n",
      "            (qkv): Linear(in_features=96, out_features=288, bias=True)\n",
      "            (attn_drop): Dropout(p=0.0, inplace=False)\n",
      "            (proj): Linear(in_features=96, out_features=96, bias=True)\n",
      "            (proj_drop): Dropout(p=0.0, inplace=False)\n",
      "            (softmax): Softmax(dim=-1)\n",
      "          )\n",
      "          (drop_path): Identity()\n",
      "          (norm2): LayerNorm((96,), eps=1e-05, elementwise_affine=True)\n",
      "          (mlp): MLPBlock(\n",
      "            (linear1): Linear(in_features=96, out_features=384, bias=True)\n",
      "            (linear2): Linear(in_features=384, out_features=96, bias=True)\n",
      "            (fn): GELU(approximate='none')\n",
      "            (drop1): Dropout(p=0.0, inplace=False)\n",
      "            (drop2): Dropout(p=0.0, inplace=False)\n",
      "          )\n",
      "        )\n",
      "        (1): SwinTransformerBlock(\n",
      "          (norm1): LayerNorm((96,), eps=1e-05, elementwise_affine=True)\n",
      "          (attn): WindowAttention(\n",
      "            (qkv): Linear(in_features=96, out_features=288, bias=True)\n",
      "            (attn_drop): Dropout(p=0.0, inplace=False)\n",
      "            (proj): Linear(in_features=96, out_features=96, bias=True)\n",
      "            (proj_drop): Dropout(p=0.0, inplace=False)\n",
      "            (softmax): Softmax(dim=-1)\n",
      "          )\n",
      "          (drop_path): Identity()\n",
      "          (norm2): LayerNorm((96,), eps=1e-05, elementwise_affine=True)\n",
      "          (mlp): MLPBlock(\n",
      "            (linear1): Linear(in_features=96, out_features=384, bias=True)\n",
      "            (linear2): Linear(in_features=384, out_features=96, bias=True)\n",
      "            (fn): GELU(approximate='none')\n",
      "            (drop1): Dropout(p=0.0, inplace=False)\n",
      "            (drop2): Dropout(p=0.0, inplace=False)\n",
      "          )\n",
      "        )\n",
      "      )\n",
      "      (downsample): PatchMerging(\n",
      "        (reduction): Linear(in_features=768, out_features=192, bias=False)\n",
      "        (norm): LayerNorm((768,), eps=1e-05, elementwise_affine=True)\n",
      "      )\n",
      "    )\n",
      "  )\n",
      "  (layers3): ModuleList(\n",
      "    (0): BasicLayer(\n",
      "      (blocks): ModuleList(\n",
      "        (0): SwinTransformerBlock(\n",
      "          (norm1): LayerNorm((192,), eps=1e-05, elementwise_affine=True)\n",
      "          (attn): WindowAttention(\n",
      "            (qkv): Linear(in_features=192, out_features=576, bias=True)\n",
      "            (attn_drop): Dropout(p=0.0, inplace=False)\n",
      "            (proj): Linear(in_features=192, out_features=192, bias=True)\n",
      "            (proj_drop): Dropout(p=0.0, inplace=False)\n",
      "            (softmax): Softmax(dim=-1)\n",
      "          )\n",
      "          (drop_path): Identity()\n",
      "          (norm2): LayerNorm((192,), eps=1e-05, elementwise_affine=True)\n",
      "          (mlp): MLPBlock(\n",
      "            (linear1): Linear(in_features=192, out_features=768, bias=True)\n",
      "            (linear2): Linear(in_features=768, out_features=192, bias=True)\n",
      "            (fn): GELU(approximate='none')\n",
      "            (drop1): Dropout(p=0.0, inplace=False)\n",
      "            (drop2): Dropout(p=0.0, inplace=False)\n",
      "          )\n",
      "        )\n",
      "        (1): SwinTransformerBlock(\n",
      "          (norm1): LayerNorm((192,), eps=1e-05, elementwise_affine=True)\n",
      "          (attn): WindowAttention(\n",
      "            (qkv): Linear(in_features=192, out_features=576, bias=True)\n",
      "            (attn_drop): Dropout(p=0.0, inplace=False)\n",
      "            (proj): Linear(in_features=192, out_features=192, bias=True)\n",
      "            (proj_drop): Dropout(p=0.0, inplace=False)\n",
      "            (softmax): Softmax(dim=-1)\n",
      "          )\n",
      "          (drop_path): Identity()\n",
      "          (norm2): LayerNorm((192,), eps=1e-05, elementwise_affine=True)\n",
      "          (mlp): MLPBlock(\n",
      "            (linear1): Linear(in_features=192, out_features=768, bias=True)\n",
      "            (linear2): Linear(in_features=768, out_features=192, bias=True)\n",
      "            (fn): GELU(approximate='none')\n",
      "            (drop1): Dropout(p=0.0, inplace=False)\n",
      "            (drop2): Dropout(p=0.0, inplace=False)\n",
      "          )\n",
      "        )\n",
      "      )\n",
      "      (downsample): PatchMerging(\n",
      "        (reduction): Linear(in_features=1536, out_features=384, bias=False)\n",
      "        (norm): LayerNorm((1536,), eps=1e-05, elementwise_affine=True)\n",
      "      )\n",
      "    )\n",
      "  )\n",
      "  (layers4): ModuleList(\n",
      "    (0): BasicLayer(\n",
      "      (blocks): ModuleList(\n",
      "        (0): SwinTransformerBlock(\n",
      "          (norm1): LayerNorm((384,), eps=1e-05, elementwise_affine=True)\n",
      "          (attn): WindowAttention(\n",
      "            (qkv): Linear(in_features=384, out_features=1152, bias=True)\n",
      "            (attn_drop): Dropout(p=0.0, inplace=False)\n",
      "            (proj): Linear(in_features=384, out_features=384, bias=True)\n",
      "            (proj_drop): Dropout(p=0.0, inplace=False)\n",
      "            (softmax): Softmax(dim=-1)\n",
      "          )\n",
      "          (drop_path): Identity()\n",
      "          (norm2): LayerNorm((384,), eps=1e-05, elementwise_affine=True)\n",
      "          (mlp): MLPBlock(\n",
      "            (linear1): Linear(in_features=384, out_features=1536, bias=True)\n",
      "            (linear2): Linear(in_features=1536, out_features=384, bias=True)\n",
      "            (fn): GELU(approximate='none')\n",
      "            (drop1): Dropout(p=0.0, inplace=False)\n",
      "            (drop2): Dropout(p=0.0, inplace=False)\n",
      "          )\n",
      "        )\n",
      "        (1): SwinTransformerBlock(\n",
      "          (norm1): LayerNorm((384,), eps=1e-05, elementwise_affine=True)\n",
      "          (attn): WindowAttention(\n",
      "            (qkv): Linear(in_features=384, out_features=1152, bias=True)\n",
      "            (attn_drop): Dropout(p=0.0, inplace=False)\n",
      "            (proj): Linear(in_features=384, out_features=384, bias=True)\n",
      "            (proj_drop): Dropout(p=0.0, inplace=False)\n",
      "            (softmax): Softmax(dim=-1)\n",
      "          )\n",
      "          (drop_path): Identity()\n",
      "          (norm2): LayerNorm((384,), eps=1e-05, elementwise_affine=True)\n",
      "          (mlp): MLPBlock(\n",
      "            (linear1): Linear(in_features=384, out_features=1536, bias=True)\n",
      "            (linear2): Linear(in_features=1536, out_features=384, bias=True)\n",
      "            (fn): GELU(approximate='none')\n",
      "            (drop1): Dropout(p=0.0, inplace=False)\n",
      "            (drop2): Dropout(p=0.0, inplace=False)\n",
      "          )\n",
      "        )\n",
      "      )\n",
      "      (downsample): PatchMerging(\n",
      "        (reduction): Linear(in_features=3072, out_features=768, bias=False)\n",
      "        (norm): LayerNorm((3072,), eps=1e-05, elementwise_affine=True)\n",
      "      )\n",
      "    )\n",
      "  )\n",
      ")\n"
     ]
    }
   ],
   "source": [
    "from monai.networks.nets import SwinUNETR\n",
    "import torch\n",
    "\n",
    "swinunetr_model = SwinUNETR(\n",
    "    img_size=(128, 128, 128),\n",
    "    in_channels=4, \n",
    "    out_channels=3,\n",
    "    feature_size=48,\n",
    "    use_checkpoint=True)\n",
    "\n",
    "print(swinunetr_model.swinViT)"
   ]
  },
  {
   "cell_type": "code",
   "execution_count": 1,
   "metadata": {},
   "outputs": [],
   "source": [
    "import torch\n",
    "checkpoint_path = \"/data/hjlee/orhun/thesis/models/finetune_mm48_swinunetr21base_nodecoderloaded_discrete04/finetune_mm48_swinunetr21base_nodecoderloaded_discrete04_checkpoint_Epoch_180.pt\"\n",
    "checkpoint = torch.load(checkpoint_path, map_location=torch.device('cuda:2'))[\"model_state_dict\"]"
   ]
  },
  {
   "cell_type": "code",
   "execution_count": 10,
   "metadata": {},
   "outputs": [],
   "source": [
    "\n",
    "def sup_128(xmin, xmax):\n",
    "    if xmax - xmin < 128:\n",
    "        print('#' * 100)\n",
    "        ecart = int((128 - (xmax - xmin)) / 2)\n",
    "        xmax = xmax + ecart + 1\n",
    "        xmin = xmin - ecart\n",
    "    if xmin < 0:\n",
    "        xmax -= xmin\n",
    "        xmin = 0\n",
    "    return xmin, xmax\n",
    "\n",
    "def crop(vol):\n",
    "    assert len(vol.shape) == 4  # Expecting (H, W, D, C)\n",
    "    vol_max = np.amax(vol, axis=-1)  # Max projection over channels to find non-zero region\n",
    "    \n",
    "    x_nonzeros, y_nonzeros, z_nonzeros = np.where(vol_max != 0)\n",
    "\n",
    "    x_min, x_max = np.amin(x_nonzeros), np.amax(x_nonzeros)\n",
    "    y_min, y_max = np.amin(y_nonzeros), np.amax(y_nonzeros)\n",
    "    z_min, z_max = np.amin(z_nonzeros), np.amax(z_nonzeros)\n",
    "\n",
    "    x_min, x_max = sup_128(x_min, x_max)\n",
    "    y_min, y_max = sup_128(y_min, y_max)\n",
    "    z_min, z_max = sup_128(z_min, z_max)\n",
    "\n",
    "    return x_min, x_max, y_min, y_max, z_min, z_max\n",
    "\n",
    "def normalize(vol):\n",
    "    mask = vol.sum(axis=(0, 1, 2)) > 0  # Sum over spatial dimensions, keep only valid channels\n",
    "    for k in range(vol.shape[-1]):  # Iterate over channels\n",
    "        if mask[k]:\n",
    "            x = vol[..., k]\n",
    "            y = x[x > 0]\n",
    "            if y.size > 0:\n",
    "                vol[..., k] = (x - y.mean()) / (y.std() + 1e-8)  # Normalize with numerical stability\n",
    "    return vol\n",
    "\n",
    "def process_and_save(image_path, label_path, output_img_folder, output_label_folder):\n",
    "    img_nii = nib.load(image_path)\n",
    "    label_nii = nib.load(label_path)\n",
    "    \n",
    "    img_data = img_nii.get_fdata()\n",
    "    label_data = label_nii.get_fdata()\n",
    "    \n",
    "    x_min, x_max, y_min, y_max, z_min, z_max = crop(img_data)  # Extract coordinates from image data\n",
    "    \n",
    "    cropped_img = img_data[x_min:x_max, y_min:y_max, z_min:z_max, :]\n",
    "    cropped_label = label_data[x_min:x_max, y_min:y_max, z_min:z_max]  # Apply same crop to label data\n",
    "    \n",
    "    normalized_img = normalize(cropped_img)  # Apply normalization\n",
    "    \n",
    "    cropped_img_nii = nib.Nifti1Image(normalized_img, img_nii.affine, img_nii.header)\n",
    "    cropped_label_nii = nib.Nifti1Image(cropped_label, label_nii.affine, label_nii.header)\n",
    "    \n",
    "    os.makedirs(output_img_folder, exist_ok=True)\n",
    "    os.makedirs(output_label_folder, exist_ok=True)\n",
    "    \n",
    "    img_filename = os.path.basename(image_path)\n",
    "    label_filename = os.path.basename(label_path)\n",
    "    \n",
    "    nib.save(cropped_img_nii, os.path.join(output_img_folder, img_filename))\n",
    "    nib.save(cropped_label_nii, os.path.join(output_label_folder, label_filename))\n",
    "    \n",
    "    print(f\"Processed and saved: {img_filename}, {label_filename}\")"
   ]
  },
  {
   "cell_type": "code",
   "execution_count": 3,
   "metadata": {},
   "outputs": [
    {
     "name": "stdout",
     "output_type": "stream",
     "text": [
      "Shape of the image: (128, 128, 128, 4)\n"
     ]
    }
   ],
   "source": [
    "import nibabel as nib\n",
    "\n",
    "# Load the NIfTI file\n",
    "nii_file = nib.load(\"/data/hjlee/orhun/data/BRATS18/BRATS18_Preprocessed_C/Images/Brats18_2013_0_1.nii.gz\")\n",
    "\n",
    "# Get the shape of the image data\n",
    "image_data = nii_file.get_fdata()\n",
    "print(\"Shape of the image:\", image_data.shape)\n"
   ]
  },
  {
   "cell_type": "code",
   "execution_count": 11,
   "metadata": {},
   "outputs": [
    {
     "name": "stdout",
     "output_type": "stream",
     "text": [
      "Processed and saved: Brats18_TCIA08_105_1.nii.gz, Brats18_TCIA08_105_1_label.nii.gz\n",
      "Processed and saved: Brats18_CBICA_AAG_1.nii.gz, Brats18_CBICA_AAG_1_label.nii.gz\n",
      "Processed and saved: Brats18_TCIA13_642_1.nii.gz, Brats18_TCIA13_642_1_label.nii.gz\n",
      "Processed and saved: Brats18_TCIA10_640_1.nii.gz, Brats18_TCIA10_640_1_label.nii.gz\n",
      "Processed and saved: Brats18_CBICA_ANG_1.nii.gz, Brats18_CBICA_ANG_1_label.nii.gz\n",
      "Processed and saved: Brats18_TCIA06_211_1.nii.gz, Brats18_TCIA06_211_1_label.nii.gz\n",
      "Processed and saved: Brats18_CBICA_AQT_1.nii.gz, Brats18_CBICA_AQT_1_label.nii.gz\n",
      "####################################################################################################\n",
      "Processed and saved: Brats18_CBICA_AUN_1.nii.gz, Brats18_CBICA_AUN_1_label.nii.gz\n",
      "Processed and saved: Brats18_TCIA09_254_1.nii.gz, Brats18_TCIA09_254_1_label.nii.gz\n",
      "Processed and saved: Brats18_TCIA05_478_1.nii.gz, Brats18_TCIA05_478_1_label.nii.gz\n",
      "Processed and saved: Brats18_TCIA02_608_1.nii.gz, Brats18_TCIA02_608_1_label.nii.gz\n",
      "Processed and saved: Brats18_TCIA01_448_1.nii.gz, Brats18_TCIA01_448_1_label.nii.gz\n",
      "Processed and saved: Brats18_TCIA08_162_1.nii.gz, Brats18_TCIA08_162_1_label.nii.gz\n",
      "Processed and saved: Brats18_2013_27_1.nii.gz, Brats18_2013_27_1_label.nii.gz\n",
      "Processed and saved: Brats18_TCIA03_257_1.nii.gz, Brats18_TCIA03_257_1_label.nii.gz\n",
      "Processed and saved: Brats18_CBICA_ABM_1.nii.gz, Brats18_CBICA_ABM_1_label.nii.gz\n",
      "Processed and saved: Brats18_CBICA_AQD_1.nii.gz, Brats18_CBICA_AQD_1_label.nii.gz\n",
      "Processed and saved: Brats18_TCIA10_408_1.nii.gz, Brats18_TCIA10_408_1_label.nii.gz\n",
      "Processed and saved: Brats18_TCIA04_361_1.nii.gz, Brats18_TCIA04_361_1_label.nii.gz\n",
      "Processed and saved: Brats18_TCIA02_168_1.nii.gz, Brats18_TCIA02_168_1_label.nii.gz\n",
      "Processed and saved: Brats18_CBICA_AXJ_1.nii.gz, Brats18_CBICA_AXJ_1_label.nii.gz\n",
      "Processed and saved: Brats18_TCIA01_412_1.nii.gz, Brats18_TCIA01_412_1_label.nii.gz\n",
      "Processed and saved: Brats18_CBICA_ABE_1.nii.gz, Brats18_CBICA_ABE_1_label.nii.gz\n",
      "Processed and saved: Brats18_TCIA08_167_1.nii.gz, Brats18_TCIA08_167_1_label.nii.gz\n",
      "Processed and saved: Brats18_CBICA_ALN_1.nii.gz, Brats18_CBICA_ALN_1_label.nii.gz\n",
      "Processed and saved: Brats18_TCIA04_479_1.nii.gz, Brats18_TCIA04_479_1_label.nii.gz\n",
      "Processed and saved: Brats18_TCIA08_205_1.nii.gz, Brats18_TCIA08_205_1_label.nii.gz\n",
      "Processed and saved: Brats18_CBICA_ABB_1.nii.gz, Brats18_CBICA_ABB_1_label.nii.gz\n",
      "####################################################################################################\n",
      "Processed and saved: Brats18_CBICA_AOP_1.nii.gz, Brats18_CBICA_AOP_1_label.nii.gz\n",
      "Processed and saved: Brats18_TCIA12_249_1.nii.gz, Brats18_TCIA12_249_1_label.nii.gz\n",
      "Processed and saved: Brats18_TCIA13_624_1.nii.gz, Brats18_TCIA13_624_1_label.nii.gz\n",
      "Processed and saved: Brats18_TCIA08_242_1.nii.gz, Brats18_TCIA08_242_1_label.nii.gz\n",
      "Processed and saved: Brats18_TCIA10_307_1.nii.gz, Brats18_TCIA10_307_1_label.nii.gz\n",
      "Processed and saved: Brats18_TCIA09_428_1.nii.gz, Brats18_TCIA09_428_1_label.nii.gz\n",
      "Processed and saved: Brats18_CBICA_AZD_1.nii.gz, Brats18_CBICA_AZD_1_label.nii.gz\n",
      "Processed and saved: Brats18_2013_11_1.nii.gz, Brats18_2013_11_1_label.nii.gz\n",
      "Processed and saved: Brats18_TCIA13_645_1.nii.gz, Brats18_TCIA13_645_1_label.nii.gz\n",
      "Processed and saved: Brats18_TCIA03_474_1.nii.gz, Brats18_TCIA03_474_1_label.nii.gz\n",
      "Processed and saved: Brats18_TCIA01_401_1.nii.gz, Brats18_TCIA01_401_1_label.nii.gz\n",
      "Processed and saved: Brats18_TCIA09_402_1.nii.gz, Brats18_TCIA09_402_1_label.nii.gz\n",
      "Processed and saved: Brats18_TCIA03_338_1.nii.gz, Brats18_TCIA03_338_1_label.nii.gz\n",
      "Processed and saved: Brats18_TCIA02_491_1.nii.gz, Brats18_TCIA02_491_1_label.nii.gz\n",
      "Processed and saved: Brats18_2013_23_1.nii.gz, Brats18_2013_23_1_label.nii.gz\n",
      "Processed and saved: Brats18_TCIA08_234_1.nii.gz, Brats18_TCIA08_234_1_label.nii.gz\n",
      "Processed and saved: Brats18_2013_10_1.nii.gz, Brats18_2013_10_1_label.nii.gz\n",
      "Processed and saved: Brats18_TCIA02_377_1.nii.gz, Brats18_TCIA02_377_1_label.nii.gz\n",
      "Processed and saved: Brats18_2013_14_1.nii.gz, Brats18_2013_14_1_label.nii.gz\n",
      "Processed and saved: Brats18_TCIA01_186_1.nii.gz, Brats18_TCIA01_186_1_label.nii.gz\n",
      "Processed and saved: Brats18_2013_17_1.nii.gz, Brats18_2013_17_1_label.nii.gz\n",
      "Processed and saved: Brats18_TCIA02_606_1.nii.gz, Brats18_TCIA02_606_1_label.nii.gz\n",
      "Processed and saved: Brats18_TCIA10_628_1.nii.gz, Brats18_TCIA10_628_1_label.nii.gz\n",
      "Processed and saved: Brats18_TCIA01_499_1.nii.gz, Brats18_TCIA01_499_1_label.nii.gz\n",
      "Processed and saved: Brats18_TCIA08_469_1.nii.gz, Brats18_TCIA08_469_1_label.nii.gz\n",
      "Processed and saved: Brats18_TCIA10_276_1.nii.gz, Brats18_TCIA10_276_1_label.nii.gz\n",
      "Processed and saved: Brats18_CBICA_AYA_1.nii.gz, Brats18_CBICA_AYA_1_label.nii.gz\n",
      "Processed and saved: Brats18_2013_8_1.nii.gz, Brats18_2013_8_1_label.nii.gz\n",
      "Processed and saved: Brats18_TCIA02_314_1.nii.gz, Brats18_TCIA02_314_1_label.nii.gz\n",
      "Processed and saved: Brats18_2013_16_1.nii.gz, Brats18_2013_16_1_label.nii.gz\n",
      "Processed and saved: Brats18_TCIA13_633_1.nii.gz, Brats18_TCIA13_633_1_label.nii.gz\n",
      "Processed and saved: Brats18_TCIA01_235_1.nii.gz, Brats18_TCIA01_235_1_label.nii.gz\n",
      "Processed and saved: Brats18_CBICA_AAL_1.nii.gz, Brats18_CBICA_AAL_1_label.nii.gz\n",
      "Processed and saved: Brats18_TCIA08_280_1.nii.gz, Brats18_TCIA08_280_1_label.nii.gz\n",
      "Processed and saved: Brats18_CBICA_ABN_1.nii.gz, Brats18_CBICA_ABN_1_label.nii.gz\n",
      "Processed and saved: Brats18_2013_2_1.nii.gz, Brats18_2013_2_1_label.nii.gz\n",
      "Processed and saved: Brats18_TCIA09_620_1.nii.gz, Brats18_TCIA09_620_1_label.nii.gz\n",
      "Processed and saved: Brats18_TCIA12_466_1.nii.gz, Brats18_TCIA12_466_1_label.nii.gz\n",
      "Processed and saved: Brats18_CBICA_AOH_1.nii.gz, Brats18_CBICA_AOH_1_label.nii.gz\n",
      "Processed and saved: Brats18_TCIA10_109_1.nii.gz, Brats18_TCIA10_109_1_label.nii.gz\n",
      "Processed and saved: Brats18_TCIA08_218_1.nii.gz, Brats18_TCIA08_218_1_label.nii.gz\n",
      "Processed and saved: Brats18_TCIA10_241_1.nii.gz, Brats18_TCIA10_241_1_label.nii.gz\n",
      "Processed and saved: Brats18_TCIA10_637_1.nii.gz, Brats18_TCIA10_637_1_label.nii.gz\n",
      "Processed and saved: Brats18_2013_0_1.nii.gz, Brats18_2013_0_1_label.nii.gz\n",
      "Processed and saved: Brats18_TCIA01_231_1.nii.gz, Brats18_TCIA01_231_1_label.nii.gz\n",
      "Processed and saved: Brats18_TCIA04_328_1.nii.gz, Brats18_TCIA04_328_1_label.nii.gz\n",
      "Processed and saved: Brats18_CBICA_AQY_1.nii.gz, Brats18_CBICA_AQY_1_label.nii.gz\n",
      "Processed and saved: Brats18_TCIA01_390_1.nii.gz, Brats18_TCIA01_390_1_label.nii.gz\n",
      "Processed and saved: Brats18_TCIA04_343_1.nii.gz, Brats18_TCIA04_343_1_label.nii.gz\n",
      "Processed and saved: Brats18_2013_24_1.nii.gz, Brats18_2013_24_1_label.nii.gz\n",
      "Processed and saved: Brats18_TCIA04_149_1.nii.gz, Brats18_TCIA04_149_1_label.nii.gz\n",
      "Processed and saved: Brats18_CBICA_AWI_1.nii.gz, Brats18_CBICA_AWI_1_label.nii.gz\n",
      "Processed and saved: Brats18_TCIA08_436_1.nii.gz, Brats18_TCIA08_436_1_label.nii.gz\n",
      "Processed and saved: Brats18_CBICA_AQZ_1.nii.gz, Brats18_CBICA_AQZ_1_label.nii.gz\n",
      "Processed and saved: Brats18_CBICA_ASV_1.nii.gz, Brats18_CBICA_ASV_1_label.nii.gz\n",
      "Processed and saved: Brats18_TCIA03_121_1.nii.gz, Brats18_TCIA03_121_1_label.nii.gz\n",
      "Processed and saved: Brats18_TCIA13_650_1.nii.gz, Brats18_TCIA13_650_1_label.nii.gz\n",
      "Processed and saved: Brats18_TCIA10_261_1.nii.gz, Brats18_TCIA10_261_1_label.nii.gz\n",
      "Processed and saved: Brats18_TCIA02_331_1.nii.gz, Brats18_TCIA02_331_1_label.nii.gz\n",
      "Processed and saved: Brats18_TCIA10_351_1.nii.gz, Brats18_TCIA10_351_1_label.nii.gz\n",
      "Processed and saved: Brats18_CBICA_ASK_1.nii.gz, Brats18_CBICA_ASK_1_label.nii.gz\n",
      "Processed and saved: Brats18_TCIA01_190_1.nii.gz, Brats18_TCIA01_190_1_label.nii.gz\n",
      "Processed and saved: Brats18_TCIA02_605_1.nii.gz, Brats18_TCIA02_605_1_label.nii.gz\n",
      "Processed and saved: Brats18_TCIA08_406_1.nii.gz, Brats18_TCIA08_406_1_label.nii.gz\n",
      "Processed and saved: Brats18_TCIA02_607_1.nii.gz, Brats18_TCIA02_607_1_label.nii.gz\n",
      "Processed and saved: Brats18_TCIA02_321_1.nii.gz, Brats18_TCIA02_321_1_label.nii.gz\n",
      "Processed and saved: Brats18_TCIA02_198_1.nii.gz, Brats18_TCIA02_198_1_label.nii.gz\n",
      "Processed and saved: Brats18_TCIA03_138_1.nii.gz, Brats18_TCIA03_138_1_label.nii.gz\n",
      "Processed and saved: Brats18_TCIA10_330_1.nii.gz, Brats18_TCIA10_330_1_label.nii.gz\n",
      "Processed and saved: Brats18_CBICA_AQU_1.nii.gz, Brats18_CBICA_AQU_1_label.nii.gz\n",
      "Processed and saved: Brats18_TCIA03_133_1.nii.gz, Brats18_TCIA03_133_1_label.nii.gz\n",
      "Processed and saved: Brats18_TCIA06_247_1.nii.gz, Brats18_TCIA06_247_1_label.nii.gz\n",
      "Processed and saved: Brats18_TCIA10_625_1.nii.gz, Brats18_TCIA10_625_1_label.nii.gz\n",
      "Processed and saved: Brats18_TCIA12_470_1.nii.gz, Brats18_TCIA12_470_1_label.nii.gz\n",
      "Processed and saved: Brats18_TCIA06_603_1.nii.gz, Brats18_TCIA06_603_1_label.nii.gz\n",
      "Processed and saved: Brats18_2013_6_1.nii.gz, Brats18_2013_6_1_label.nii.gz\n",
      "Processed and saved: Brats18_TCIA13_654_1.nii.gz, Brats18_TCIA13_654_1_label.nii.gz\n",
      "Processed and saved: Brats18_TCIA02_374_1.nii.gz, Brats18_TCIA02_374_1_label.nii.gz\n",
      "Processed and saved: Brats18_TCIA12_101_1.nii.gz, Brats18_TCIA12_101_1_label.nii.gz\n",
      "Processed and saved: Brats18_TCIA02_290_1.nii.gz, Brats18_TCIA02_290_1_label.nii.gz\n",
      "Processed and saved: Brats18_CBICA_AAB_1.nii.gz, Brats18_CBICA_AAB_1_label.nii.gz\n",
      "Processed and saved: Brats18_TCIA13_621_1.nii.gz, Brats18_TCIA13_621_1_label.nii.gz\n",
      "Processed and saved: Brats18_TCIA10_449_1.nii.gz, Brats18_TCIA10_449_1_label.nii.gz\n",
      "Processed and saved: Brats18_TCIA09_493_1.nii.gz, Brats18_TCIA09_493_1_label.nii.gz\n",
      "Processed and saved: Brats18_CBICA_ATF_1.nii.gz, Brats18_CBICA_ATF_1_label.nii.gz\n",
      "Processed and saved: Brats18_TCIA04_111_1.nii.gz, Brats18_TCIA04_111_1_label.nii.gz\n",
      "####################################################################################################\n",
      "Processed and saved: Brats18_2013_26_1.nii.gz, Brats18_2013_26_1_label.nii.gz\n",
      "Processed and saved: Brats18_TCIA02_283_1.nii.gz, Brats18_TCIA02_283_1_label.nii.gz\n",
      "Processed and saved: Brats18_TCIA10_420_1.nii.gz, Brats18_TCIA10_420_1_label.nii.gz\n",
      "Processed and saved: Brats18_TCIA09_255_1.nii.gz, Brats18_TCIA09_255_1_label.nii.gz\n",
      "Processed and saved: Brats18_TCIA13_630_1.nii.gz, Brats18_TCIA13_630_1_label.nii.gz\n",
      "Processed and saved: Brats18_TCIA03_296_1.nii.gz, Brats18_TCIA03_296_1_label.nii.gz\n",
      "####################################################################################################\n",
      "Processed and saved: Brats18_CBICA_ATD_1.nii.gz, Brats18_CBICA_ATD_1_label.nii.gz\n",
      "Processed and saved: Brats18_TCIA03_375_1.nii.gz, Brats18_TCIA03_375_1_label.nii.gz\n",
      "Processed and saved: Brats18_TCIA01_411_1.nii.gz, Brats18_TCIA01_411_1_label.nii.gz\n",
      "Processed and saved: Brats18_CBICA_ASG_1.nii.gz, Brats18_CBICA_ASG_1_label.nii.gz\n",
      "####################################################################################################\n",
      "Processed and saved: Brats18_CBICA_AQP_1.nii.gz, Brats18_CBICA_AQP_1_label.nii.gz\n",
      "Processed and saved: Brats18_TCIA03_199_1.nii.gz, Brats18_TCIA03_199_1_label.nii.gz\n",
      "Processed and saved: Brats18_TCIA09_141_1.nii.gz, Brats18_TCIA09_141_1_label.nii.gz\n",
      "Processed and saved: Brats18_CBICA_AOZ_1.nii.gz, Brats18_CBICA_AOZ_1_label.nii.gz\n",
      "Processed and saved: Brats18_2013_28_1.nii.gz, Brats18_2013_28_1_label.nii.gz\n",
      "Processed and saved: Brats18_CBICA_ANZ_1.nii.gz, Brats18_CBICA_ANZ_1_label.nii.gz\n",
      "Processed and saved: Brats18_TCIA10_442_1.nii.gz, Brats18_TCIA10_442_1_label.nii.gz\n",
      "Processed and saved: Brats18_2013_18_1.nii.gz, Brats18_2013_18_1_label.nii.gz\n",
      "Processed and saved: Brats18_TCIA02_471_1.nii.gz, Brats18_TCIA02_471_1_label.nii.gz\n",
      "Processed and saved: Brats18_CBICA_APR_1.nii.gz, Brats18_CBICA_APR_1_label.nii.gz\n",
      "Processed and saved: Brats18_CBICA_AAP_1.nii.gz, Brats18_CBICA_AAP_1_label.nii.gz\n",
      "Processed and saved: Brats18_TCIA02_151_1.nii.gz, Brats18_TCIA02_151_1_label.nii.gz\n",
      "Processed and saved: Brats18_CBICA_AME_1.nii.gz, Brats18_CBICA_AME_1_label.nii.gz\n",
      "Processed and saved: Brats18_TCIA10_325_1.nii.gz, Brats18_TCIA10_325_1_label.nii.gz\n",
      "Processed and saved: Brats18_TCIA10_282_1.nii.gz, Brats18_TCIA10_282_1_label.nii.gz\n",
      "Processed and saved: Brats18_TCIA03_419_1.nii.gz, Brats18_TCIA03_419_1_label.nii.gz\n",
      "Processed and saved: Brats18_TCIA01_203_1.nii.gz, Brats18_TCIA01_203_1_label.nii.gz\n",
      "Processed and saved: Brats18_CBICA_AXN_1.nii.gz, Brats18_CBICA_AXN_1_label.nii.gz\n",
      "Processed and saved: Brats18_CBICA_ASE_1.nii.gz, Brats18_CBICA_ASE_1_label.nii.gz\n",
      "Processed and saved: Brats18_2013_25_1.nii.gz, Brats18_2013_25_1_label.nii.gz\n",
      "Processed and saved: Brats18_2013_5_1.nii.gz, Brats18_2013_5_1_label.nii.gz\n",
      "Processed and saved: Brats18_TCIA01_147_1.nii.gz, Brats18_TCIA01_147_1_label.nii.gz\n",
      "####################################################################################################\n",
      "Processed and saved: Brats18_TCIA04_192_1.nii.gz, Brats18_TCIA04_192_1_label.nii.gz\n",
      "Processed and saved: Brats18_TCIA08_113_1.nii.gz, Brats18_TCIA08_113_1_label.nii.gz\n",
      "Processed and saved: Brats18_TCIA01_335_1.nii.gz, Brats18_TCIA01_335_1_label.nii.gz\n",
      "Processed and saved: Brats18_TCIA08_319_1.nii.gz, Brats18_TCIA08_319_1_label.nii.gz\n",
      "Processed and saved: Brats18_CBICA_AQO_1.nii.gz, Brats18_CBICA_AQO_1_label.nii.gz\n",
      "Processed and saved: Brats18_CBICA_AVJ_1.nii.gz, Brats18_CBICA_AVJ_1_label.nii.gz\n",
      "Processed and saved: Brats18_TCIA10_387_1.nii.gz, Brats18_TCIA10_387_1_label.nii.gz\n",
      "####################################################################################################\n",
      "Processed and saved: Brats18_CBICA_ATB_1.nii.gz, Brats18_CBICA_ATB_1_label.nii.gz\n",
      "Processed and saved: Brats18_2013_29_1.nii.gz, Brats18_2013_29_1_label.nii.gz\n",
      "Processed and saved: Brats18_TCIA12_480_1.nii.gz, Brats18_TCIA12_480_1_label.nii.gz\n",
      "Processed and saved: Brats18_CBICA_AYW_1.nii.gz, Brats18_CBICA_AYW_1_label.nii.gz\n",
      "Processed and saved: Brats18_CBICA_ARF_1.nii.gz, Brats18_CBICA_ARF_1_label.nii.gz\n",
      "Processed and saved: Brats18_TCIA13_634_1.nii.gz, Brats18_TCIA13_634_1_label.nii.gz\n",
      "Processed and saved: Brats18_TCIA06_184_1.nii.gz, Brats18_TCIA06_184_1_label.nii.gz\n",
      "Processed and saved: Brats18_TCIA06_409_1.nii.gz, Brats18_TCIA06_409_1_label.nii.gz\n",
      "Processed and saved: Brats18_TCIA01_221_1.nii.gz, Brats18_TCIA01_221_1_label.nii.gz\n",
      "Processed and saved: Brats18_TCIA10_152_1.nii.gz, Brats18_TCIA10_152_1_label.nii.gz\n",
      "Processed and saved: Brats18_TCIA05_277_1.nii.gz, Brats18_TCIA05_277_1_label.nii.gz\n",
      "Processed and saved: Brats18_TCIA09_462_1.nii.gz, Brats18_TCIA09_462_1_label.nii.gz\n",
      "Processed and saved: Brats18_TCIA10_202_1.nii.gz, Brats18_TCIA10_202_1_label.nii.gz\n",
      "Processed and saved: Brats18_CBICA_AXO_1.nii.gz, Brats18_CBICA_AXO_1_label.nii.gz\n",
      "Processed and saved: Brats18_TCIA01_460_1.nii.gz, Brats18_TCIA01_460_1_label.nii.gz\n",
      "Processed and saved: Brats18_CBICA_AYU_1.nii.gz, Brats18_CBICA_AYU_1_label.nii.gz\n",
      "Processed and saved: Brats18_TCIA13_623_1.nii.gz, Brats18_TCIA13_623_1_label.nii.gz\n",
      "Processed and saved: Brats18_2013_3_1.nii.gz, Brats18_2013_3_1_label.nii.gz\n",
      "Processed and saved: Brats18_CBICA_AQG_1.nii.gz, Brats18_CBICA_AQG_1_label.nii.gz\n",
      "Processed and saved: Brats18_CBICA_AQJ_1.nii.gz, Brats18_CBICA_AQJ_1_label.nii.gz\n",
      "####################################################################################################\n",
      "Processed and saved: Brats18_CBICA_AUR_1.nii.gz, Brats18_CBICA_AUR_1_label.nii.gz\n",
      "Processed and saved: Brats18_CBICA_AQA_1.nii.gz, Brats18_CBICA_AQA_1_label.nii.gz\n",
      "Processed and saved: Brats18_CBICA_ANI_1.nii.gz, Brats18_CBICA_ANI_1_label.nii.gz\n",
      "Processed and saved: Brats18_CBICA_AWG_1.nii.gz, Brats18_CBICA_AWG_1_label.nii.gz\n",
      "Processed and saved: Brats18_CBICA_AQQ_1.nii.gz, Brats18_CBICA_AQQ_1_label.nii.gz\n",
      "Processed and saved: Brats18_TCIA05_444_1.nii.gz, Brats18_TCIA05_444_1_label.nii.gz\n",
      "Processed and saved: Brats18_2013_7_1.nii.gz, Brats18_2013_7_1_label.nii.gz\n",
      "Processed and saved: Brats18_TCIA02_222_1.nii.gz, Brats18_TCIA02_222_1_label.nii.gz\n",
      "Processed and saved: Brats18_CBICA_ASA_1.nii.gz, Brats18_CBICA_ASA_1_label.nii.gz\n",
      "Processed and saved: Brats18_TCIA01_429_1.nii.gz, Brats18_TCIA01_429_1_label.nii.gz\n",
      "Processed and saved: Brats18_CBICA_ASH_1.nii.gz, Brats18_CBICA_ASH_1_label.nii.gz\n",
      "Processed and saved: Brats18_CBICA_AVG_1.nii.gz, Brats18_CBICA_AVG_1_label.nii.gz\n",
      "Processed and saved: Brats18_TCIA10_266_1.nii.gz, Brats18_TCIA10_266_1_label.nii.gz\n",
      "Processed and saved: Brats18_TCIA02_300_1.nii.gz, Brats18_TCIA02_300_1_label.nii.gz\n",
      "Processed and saved: Brats18_CBICA_ALU_1.nii.gz, Brats18_CBICA_ALU_1_label.nii.gz\n",
      "Processed and saved: Brats18_CBICA_ABY_1.nii.gz, Brats18_CBICA_ABY_1_label.nii.gz\n",
      "####################################################################################################\n",
      "Processed and saved: Brats18_CBICA_ASW_1.nii.gz, Brats18_CBICA_ASW_1_label.nii.gz\n",
      "Processed and saved: Brats18_TCIA02_368_1.nii.gz, Brats18_TCIA02_368_1_label.nii.gz\n",
      "Processed and saved: Brats18_TCIA02_455_1.nii.gz, Brats18_TCIA02_455_1_label.nii.gz\n",
      "Processed and saved: Brats18_CBICA_AXW_1.nii.gz, Brats18_CBICA_AXW_1_label.nii.gz\n",
      "Processed and saved: Brats18_2013_9_1.nii.gz, Brats18_2013_9_1_label.nii.gz\n",
      "Processed and saved: Brats18_TCIA02_135_1.nii.gz, Brats18_TCIA02_135_1_label.nii.gz\n",
      "Processed and saved: Brats18_CBICA_ATP_1.nii.gz, Brats18_CBICA_ATP_1_label.nii.gz\n",
      "Processed and saved: Brats18_CBICA_BFB_1.nii.gz, Brats18_CBICA_BFB_1_label.nii.gz\n",
      "Processed and saved: Brats18_CBICA_ASU_1.nii.gz, Brats18_CBICA_ASU_1_label.nii.gz\n",
      "Processed and saved: Brats18_TCIA02_118_1.nii.gz, Brats18_TCIA02_118_1_label.nii.gz\n",
      "Processed and saved: Brats18_CBICA_ASO_1.nii.gz, Brats18_CBICA_ASO_1_label.nii.gz\n",
      "Processed and saved: Brats18_CBICA_ABO_1.nii.gz, Brats18_CBICA_ABO_1_label.nii.gz\n",
      "Processed and saved: Brats18_TCIA01_378_1.nii.gz, Brats18_TCIA01_378_1_label.nii.gz\n",
      "####################################################################################################\n",
      "Processed and saved: Brats18_TCIA10_310_1.nii.gz, Brats18_TCIA10_310_1_label.nii.gz\n",
      "Processed and saved: Brats18_2013_19_1.nii.gz, Brats18_2013_19_1_label.nii.gz\n",
      "Processed and saved: Brats18_CBICA_ATX_1.nii.gz, Brats18_CBICA_ATX_1_label.nii.gz\n",
      "Processed and saved: Brats18_CBICA_AXL_1.nii.gz, Brats18_CBICA_AXL_1_label.nii.gz\n",
      "Processed and saved: Brats18_TCIA13_618_1.nii.gz, Brats18_TCIA13_618_1_label.nii.gz\n",
      "Processed and saved: Brats18_CBICA_AZH_1.nii.gz, Brats18_CBICA_AZH_1_label.nii.gz\n",
      "Processed and saved: Brats18_TCIA10_413_1.nii.gz, Brats18_TCIA10_413_1_label.nii.gz\n",
      "Processed and saved: Brats18_2013_4_1.nii.gz, Brats18_2013_4_1_label.nii.gz\n",
      "Processed and saved: Brats18_TCIA13_615_1.nii.gz, Brats18_TCIA13_615_1_label.nii.gz\n",
      "Processed and saved: Brats18_CBICA_AQN_1.nii.gz, Brats18_CBICA_AQN_1_label.nii.gz\n",
      "Processed and saved: Brats18_TCIA10_299_1.nii.gz, Brats18_TCIA10_299_1_label.nii.gz\n",
      "Processed and saved: Brats18_TCIA01_201_1.nii.gz, Brats18_TCIA01_201_1_label.nii.gz\n",
      "Processed and saved: Brats18_TCIA10_644_1.nii.gz, Brats18_TCIA10_644_1_label.nii.gz\n",
      "Processed and saved: Brats18_CBICA_AXQ_1.nii.gz, Brats18_CBICA_AXQ_1_label.nii.gz\n",
      "Processed and saved: Brats18_CBICA_ANP_1.nii.gz, Brats18_CBICA_ANP_1_label.nii.gz\n",
      "Processed and saved: Brats18_TCIA02_322_1.nii.gz, Brats18_TCIA02_322_1_label.nii.gz\n",
      "Processed and saved: Brats18_CBICA_AYI_1.nii.gz, Brats18_CBICA_AYI_1_label.nii.gz\n",
      "Processed and saved: Brats18_2013_21_1.nii.gz, Brats18_2013_21_1_label.nii.gz\n",
      "Processed and saved: Brats18_CBICA_BHK_1.nii.gz, Brats18_CBICA_BHK_1_label.nii.gz\n",
      "Processed and saved: Brats18_TCIA09_451_1.nii.gz, Brats18_TCIA09_451_1_label.nii.gz\n",
      "Processed and saved: Brats18_TCIA04_437_1.nii.gz, Brats18_TCIA04_437_1_label.nii.gz\n",
      "Processed and saved: Brats18_CBICA_ALX_1.nii.gz, Brats18_CBICA_ALX_1_label.nii.gz\n",
      "Processed and saved: Brats18_TCIA10_629_1.nii.gz, Brats18_TCIA10_629_1_label.nii.gz\n",
      "Processed and saved: Brats18_TCIA13_653_1.nii.gz, Brats18_TCIA13_653_1_label.nii.gz\n",
      "Processed and saved: Brats18_TCIA10_639_1.nii.gz, Brats18_TCIA10_639_1_label.nii.gz\n",
      "Processed and saved: Brats18_CBICA_AMH_1.nii.gz, Brats18_CBICA_AMH_1_label.nii.gz\n",
      "Processed and saved: Brats18_CBICA_BHB_1.nii.gz, Brats18_CBICA_BHB_1_label.nii.gz\n",
      "Processed and saved: Brats18_CBICA_AOD_1.nii.gz, Brats18_CBICA_AOD_1_label.nii.gz\n",
      "####################################################################################################\n",
      "Processed and saved: Brats18_2013_12_1.nii.gz, Brats18_2013_12_1_label.nii.gz\n",
      "Processed and saved: Brats18_2013_22_1.nii.gz, Brats18_2013_22_1_label.nii.gz\n",
      "Processed and saved: Brats18_TCIA01_180_1.nii.gz, Brats18_TCIA01_180_1_label.nii.gz\n",
      "Processed and saved: Brats18_CBICA_BHM_1.nii.gz, Brats18_CBICA_BHM_1_label.nii.gz\n",
      "Processed and saved: Brats18_CBICA_APZ_1.nii.gz, Brats18_CBICA_APZ_1_label.nii.gz\n",
      "Processed and saved: Brats18_TCIA10_490_1.nii.gz, Brats18_TCIA10_490_1_label.nii.gz\n",
      "Processed and saved: Brats18_TCIA01_131_1.nii.gz, Brats18_TCIA01_131_1_label.nii.gz\n",
      "Processed and saved: Brats18_CBICA_AQR_1.nii.gz, Brats18_CBICA_AQR_1_label.nii.gz\n",
      "Processed and saved: Brats18_CBICA_ARW_1.nii.gz, Brats18_CBICA_ARW_1_label.nii.gz\n",
      "Processed and saved: Brats18_TCIA09_177_1.nii.gz, Brats18_TCIA09_177_1_label.nii.gz\n",
      "####################################################################################################\n",
      "Processed and saved: Brats18_TCIA03_265_1.nii.gz, Brats18_TCIA03_265_1_label.nii.gz\n",
      "####################################################################################################\n",
      "Processed and saved: Brats18_CBICA_AQV_1.nii.gz, Brats18_CBICA_AQV_1_label.nii.gz\n",
      "Processed and saved: Brats18_TCIA10_130_1.nii.gz, Brats18_TCIA10_130_1_label.nii.gz\n",
      "Processed and saved: Brats18_TCIA06_165_1.nii.gz, Brats18_TCIA06_165_1_label.nii.gz\n",
      "Processed and saved: Brats18_CBICA_AXM_1.nii.gz, Brats18_CBICA_AXM_1_label.nii.gz\n",
      "Processed and saved: Brats18_TCIA02_394_1.nii.gz, Brats18_TCIA02_394_1_label.nii.gz\n",
      "Processed and saved: Brats18_TCIA05_396_1.nii.gz, Brats18_TCIA05_396_1_label.nii.gz\n",
      "####################################################################################################\n",
      "Processed and saved: Brats18_TCIA02_473_1.nii.gz, Brats18_TCIA02_473_1_label.nii.gz\n",
      "####################################################################################################\n",
      "Processed and saved: Brats18_TCIA02_430_1.nii.gz, Brats18_TCIA02_430_1_label.nii.gz\n",
      "Processed and saved: Brats18_TCIA10_103_1.nii.gz, Brats18_TCIA10_103_1_label.nii.gz\n",
      "Processed and saved: Brats18_CBICA_AVV_1.nii.gz, Brats18_CBICA_AVV_1_label.nii.gz\n",
      "Processed and saved: Brats18_TCIA10_393_1.nii.gz, Brats18_TCIA10_393_1_label.nii.gz\n",
      "Processed and saved: Brats18_TCIA02_208_1.nii.gz, Brats18_TCIA02_208_1_label.nii.gz\n",
      "Processed and saved: Brats18_TCIA06_332_1.nii.gz, Brats18_TCIA06_332_1_label.nii.gz\n",
      "Processed and saved: Brats18_2013_15_1.nii.gz, Brats18_2013_15_1_label.nii.gz\n",
      "Processed and saved: Brats18_TCIA02_309_1.nii.gz, Brats18_TCIA02_309_1_label.nii.gz\n",
      "Processed and saved: Brats18_TCIA02_179_1.nii.gz, Brats18_TCIA02_179_1_label.nii.gz\n",
      "Processed and saved: Brats18_TCIA10_346_1.nii.gz, Brats18_TCIA10_346_1_label.nii.gz\n",
      "Processed and saved: Brats18_CBICA_BFP_1.nii.gz, Brats18_CBICA_BFP_1_label.nii.gz\n",
      "Processed and saved: Brats18_TCIA02_274_1.nii.gz, Brats18_TCIA02_274_1_label.nii.gz\n",
      "Processed and saved: Brats18_2013_20_1.nii.gz, Brats18_2013_20_1_label.nii.gz\n",
      "Processed and saved: Brats18_TCIA01_150_1.nii.gz, Brats18_TCIA01_150_1_label.nii.gz\n",
      "Processed and saved: Brats18_CBICA_ASY_1.nii.gz, Brats18_CBICA_ASY_1_label.nii.gz\n",
      "Processed and saved: Brats18_TCIA09_312_1.nii.gz, Brats18_TCIA09_312_1_label.nii.gz\n",
      "Processed and saved: Brats18_TCIA02_370_1.nii.gz, Brats18_TCIA02_370_1_label.nii.gz\n",
      "Processed and saved: Brats18_TCIA10_175_1.nii.gz, Brats18_TCIA10_175_1_label.nii.gz\n",
      "Processed and saved: Brats18_TCIA02_117_1.nii.gz, Brats18_TCIA02_117_1_label.nii.gz\n",
      "Processed and saved: Brats18_TCIA12_298_1.nii.gz, Brats18_TCIA12_298_1_label.nii.gz\n",
      "####################################################################################################\n",
      "Processed and saved: Brats18_CBICA_AWH_1.nii.gz, Brats18_CBICA_AWH_1_label.nii.gz\n",
      "Processed and saved: Brats18_TCIA01_425_1.nii.gz, Brats18_TCIA01_425_1_label.nii.gz\n",
      "Processed and saved: Brats18_2013_1_1.nii.gz, Brats18_2013_1_1_label.nii.gz\n",
      "Processed and saved: Brats18_TCIA08_278_1.nii.gz, Brats18_TCIA08_278_1_label.nii.gz\n",
      "Processed and saved: Brats18_TCIA10_410_1.nii.gz, Brats18_TCIA10_410_1_label.nii.gz\n",
      "Processed and saved: Brats18_TCIA02_171_1.nii.gz, Brats18_TCIA02_171_1_label.nii.gz\n",
      "Processed and saved: Brats18_TCIA06_372_1.nii.gz, Brats18_TCIA06_372_1_label.nii.gz\n",
      "Processed and saved: Brats18_TCIA02_226_1.nii.gz, Brats18_TCIA02_226_1_label.nii.gz\n",
      "Processed and saved: Brats18_2013_13_1.nii.gz, Brats18_2013_13_1_label.nii.gz\n",
      "Processed and saved: Brats18_CBICA_ARZ_1.nii.gz, Brats18_CBICA_ARZ_1_label.nii.gz\n",
      "Processed and saved: Brats18_TCIA10_632_1.nii.gz, Brats18_TCIA10_632_1_label.nii.gz\n",
      "Processed and saved: Brats18_CBICA_AOO_1.nii.gz, Brats18_CBICA_AOO_1_label.nii.gz\n",
      "Processed and saved: Brats18_CBICA_APY_1.nii.gz, Brats18_CBICA_APY_1_label.nii.gz\n",
      "Processed and saved: Brats18_CBICA_ASN_1.nii.gz, Brats18_CBICA_ASN_1_label.nii.gz\n",
      "####################################################################################################\n",
      "Processed and saved: Brats18_CBICA_ATV_1.nii.gz, Brats18_CBICA_ATV_1_label.nii.gz\n",
      "Processed and saved: Brats18_CBICA_AUQ_1.nii.gz, Brats18_CBICA_AUQ_1_label.nii.gz\n",
      "Processed and saved: Brats18_TCIA03_498_1.nii.gz, Brats18_TCIA03_498_1_label.nii.gz\n"
     ]
    }
   ],
   "source": [
    "image_dir = \"/data/hjlee/orhun/data/BRATS18/BRATS18_Preprocessed/Training/Images\"\n",
    "label_dir = \"/data/hjlee/orhun/data/BRATS18/BRATS18_Preprocessed/Training/Labels\"\n",
    "output_img_dir = \"/data/hjlee/orhun/data/BRATS18/BRATS18_Preprocessed_C_N/Images\"\n",
    "output_label_dir = \"/data/hjlee/orhun/data/BRATS18/BRATS18_Preprocessed_C_N/Labels\"\n",
    "\n",
    "for img_file in os.listdir(image_dir):\n",
    "    if img_file.endswith(\".nii.gz\"):\n",
    "        img_path = os.path.join(image_dir, img_file)\n",
    "        label_path = os.path.join(label_dir, img_file.replace(\".nii.gz\", \"_label.nii.gz\"))\n",
    "        \n",
    "        if os.path.exists(label_path):\n",
    "            process_and_save(img_path, label_path, output_img_dir, output_label_dir)\n",
    "        else:\n",
    "            print(f\"Label file not found for {img_file}\")"
   ]
  },
  {
   "cell_type": "code",
   "execution_count": 1,
   "metadata": {},
   "outputs": [
    {
     "name": "stdout",
     "output_type": "stream",
     "text": [
      "UNet(\n",
      "  (model): Sequential(\n",
      "    (0): ResidualUnit(\n",
      "      (conv): Sequential(\n",
      "        (unit0): Convolution(\n",
      "          (conv): Conv3d(4, 32, kernel_size=(3, 3, 3), stride=(2, 2, 2), padding=(1, 1, 1))\n",
      "          (adn): ADN(\n",
      "            (N): InstanceNorm3d(32, eps=1e-05, momentum=0.1, affine=False, track_running_stats=False)\n",
      "            (D): Dropout(p=0.0, inplace=False)\n",
      "            (A): PReLU(num_parameters=1)\n",
      "          )\n",
      "        )\n",
      "        (unit1): Convolution(\n",
      "          (conv): Conv3d(32, 32, kernel_size=(3, 3, 3), stride=(1, 1, 1), padding=(1, 1, 1))\n",
      "          (adn): ADN(\n",
      "            (N): InstanceNorm3d(32, eps=1e-05, momentum=0.1, affine=False, track_running_stats=False)\n",
      "            (D): Dropout(p=0.0, inplace=False)\n",
      "            (A): PReLU(num_parameters=1)\n",
      "          )\n",
      "        )\n",
      "      )\n",
      "      (residual): Conv3d(4, 32, kernel_size=(3, 3, 3), stride=(2, 2, 2), padding=(1, 1, 1))\n",
      "    )\n",
      "    (1): SkipConnection(\n",
      "      (submodule): Sequential(\n",
      "        (0): ResidualUnit(\n",
      "          (conv): Sequential(\n",
      "            (unit0): Convolution(\n",
      "              (conv): Conv3d(32, 64, kernel_size=(3, 3, 3), stride=(2, 2, 2), padding=(1, 1, 1))\n",
      "              (adn): ADN(\n",
      "                (N): InstanceNorm3d(64, eps=1e-05, momentum=0.1, affine=False, track_running_stats=False)\n",
      "                (D): Dropout(p=0.0, inplace=False)\n",
      "                (A): PReLU(num_parameters=1)\n",
      "              )\n",
      "            )\n",
      "            (unit1): Convolution(\n",
      "              (conv): Conv3d(64, 64, kernel_size=(3, 3, 3), stride=(1, 1, 1), padding=(1, 1, 1))\n",
      "              (adn): ADN(\n",
      "                (N): InstanceNorm3d(64, eps=1e-05, momentum=0.1, affine=False, track_running_stats=False)\n",
      "                (D): Dropout(p=0.0, inplace=False)\n",
      "                (A): PReLU(num_parameters=1)\n",
      "              )\n",
      "            )\n",
      "          )\n",
      "          (residual): Conv3d(32, 64, kernel_size=(3, 3, 3), stride=(2, 2, 2), padding=(1, 1, 1))\n",
      "        )\n",
      "        (1): SkipConnection(\n",
      "          (submodule): Sequential(\n",
      "            (0): ResidualUnit(\n",
      "              (conv): Sequential(\n",
      "                (unit0): Convolution(\n",
      "                  (conv): Conv3d(64, 128, kernel_size=(3, 3, 3), stride=(2, 2, 2), padding=(1, 1, 1))\n",
      "                  (adn): ADN(\n",
      "                    (N): InstanceNorm3d(128, eps=1e-05, momentum=0.1, affine=False, track_running_stats=False)\n",
      "                    (D): Dropout(p=0.0, inplace=False)\n",
      "                    (A): PReLU(num_parameters=1)\n",
      "                  )\n",
      "                )\n",
      "                (unit1): Convolution(\n",
      "                  (conv): Conv3d(128, 128, kernel_size=(3, 3, 3), stride=(1, 1, 1), padding=(1, 1, 1))\n",
      "                  (adn): ADN(\n",
      "                    (N): InstanceNorm3d(128, eps=1e-05, momentum=0.1, affine=False, track_running_stats=False)\n",
      "                    (D): Dropout(p=0.0, inplace=False)\n",
      "                    (A): PReLU(num_parameters=1)\n",
      "                  )\n",
      "                )\n",
      "              )\n",
      "              (residual): Conv3d(64, 128, kernel_size=(3, 3, 3), stride=(2, 2, 2), padding=(1, 1, 1))\n",
      "            )\n",
      "            (1): SkipConnection(\n",
      "              (submodule): Sequential(\n",
      "                (0): ResidualUnit(\n",
      "                  (conv): Sequential(\n",
      "                    (unit0): Convolution(\n",
      "                      (conv): Conv3d(128, 256, kernel_size=(3, 3, 3), stride=(2, 2, 2), padding=(1, 1, 1))\n",
      "                      (adn): ADN(\n",
      "                        (N): InstanceNorm3d(256, eps=1e-05, momentum=0.1, affine=False, track_running_stats=False)\n",
      "                        (D): Dropout(p=0.0, inplace=False)\n",
      "                        (A): PReLU(num_parameters=1)\n",
      "                      )\n",
      "                    )\n",
      "                    (unit1): Convolution(\n",
      "                      (conv): Conv3d(256, 256, kernel_size=(3, 3, 3), stride=(1, 1, 1), padding=(1, 1, 1))\n",
      "                      (adn): ADN(\n",
      "                        (N): InstanceNorm3d(256, eps=1e-05, momentum=0.1, affine=False, track_running_stats=False)\n",
      "                        (D): Dropout(p=0.0, inplace=False)\n",
      "                        (A): PReLU(num_parameters=1)\n",
      "                      )\n",
      "                    )\n",
      "                  )\n",
      "                  (residual): Conv3d(128, 256, kernel_size=(3, 3, 3), stride=(2, 2, 2), padding=(1, 1, 1))\n",
      "                )\n",
      "                (1): SkipConnection(\n",
      "                  (submodule): ResidualUnit(\n",
      "                    (conv): Sequential(\n",
      "                      (unit0): Convolution(\n",
      "                        (conv): Conv3d(256, 512, kernel_size=(3, 3, 3), stride=(1, 1, 1), padding=(1, 1, 1))\n",
      "                        (adn): ADN(\n",
      "                          (N): InstanceNorm3d(512, eps=1e-05, momentum=0.1, affine=False, track_running_stats=False)\n",
      "                          (D): Dropout(p=0.0, inplace=False)\n",
      "                          (A): PReLU(num_parameters=1)\n",
      "                        )\n",
      "                      )\n",
      "                      (unit1): Convolution(\n",
      "                        (conv): Conv3d(512, 512, kernel_size=(3, 3, 3), stride=(1, 1, 1), padding=(1, 1, 1))\n",
      "                        (adn): ADN(\n",
      "                          (N): InstanceNorm3d(512, eps=1e-05, momentum=0.1, affine=False, track_running_stats=False)\n",
      "                          (D): Dropout(p=0.0, inplace=False)\n",
      "                          (A): PReLU(num_parameters=1)\n",
      "                        )\n",
      "                      )\n",
      "                    )\n",
      "                    (residual): Conv3d(256, 512, kernel_size=(1, 1, 1), stride=(1, 1, 1))\n",
      "                  )\n",
      "                )\n",
      "                (2): Sequential(\n",
      "                  (0): Convolution(\n",
      "                    (conv): ConvTranspose3d(768, 128, kernel_size=(3, 3, 3), stride=(2, 2, 2), padding=(1, 1, 1), output_padding=(1, 1, 1))\n",
      "                    (adn): ADN(\n",
      "                      (N): InstanceNorm3d(128, eps=1e-05, momentum=0.1, affine=False, track_running_stats=False)\n",
      "                      (D): Dropout(p=0.0, inplace=False)\n",
      "                      (A): PReLU(num_parameters=1)\n",
      "                    )\n",
      "                  )\n",
      "                  (1): ResidualUnit(\n",
      "                    (conv): Sequential(\n",
      "                      (unit0): Convolution(\n",
      "                        (conv): Conv3d(128, 128, kernel_size=(3, 3, 3), stride=(1, 1, 1), padding=(1, 1, 1))\n",
      "                        (adn): ADN(\n",
      "                          (N): InstanceNorm3d(128, eps=1e-05, momentum=0.1, affine=False, track_running_stats=False)\n",
      "                          (D): Dropout(p=0.0, inplace=False)\n",
      "                          (A): PReLU(num_parameters=1)\n",
      "                        )\n",
      "                      )\n",
      "                    )\n",
      "                    (residual): Identity()\n",
      "                  )\n",
      "                )\n",
      "              )\n",
      "            )\n",
      "            (2): Sequential(\n",
      "              (0): Convolution(\n",
      "                (conv): ConvTranspose3d(256, 64, kernel_size=(3, 3, 3), stride=(2, 2, 2), padding=(1, 1, 1), output_padding=(1, 1, 1))\n",
      "                (adn): ADN(\n",
      "                  (N): InstanceNorm3d(64, eps=1e-05, momentum=0.1, affine=False, track_running_stats=False)\n",
      "                  (D): Dropout(p=0.0, inplace=False)\n",
      "                  (A): PReLU(num_parameters=1)\n",
      "                )\n",
      "              )\n",
      "              (1): ResidualUnit(\n",
      "                (conv): Sequential(\n",
      "                  (unit0): Convolution(\n",
      "                    (conv): Conv3d(64, 64, kernel_size=(3, 3, 3), stride=(1, 1, 1), padding=(1, 1, 1))\n",
      "                    (adn): ADN(\n",
      "                      (N): InstanceNorm3d(64, eps=1e-05, momentum=0.1, affine=False, track_running_stats=False)\n",
      "                      (D): Dropout(p=0.0, inplace=False)\n",
      "                      (A): PReLU(num_parameters=1)\n",
      "                    )\n",
      "                  )\n",
      "                )\n",
      "                (residual): Identity()\n",
      "              )\n",
      "            )\n",
      "          )\n",
      "        )\n",
      "        (2): Sequential(\n",
      "          (0): Convolution(\n",
      "            (conv): ConvTranspose3d(128, 32, kernel_size=(3, 3, 3), stride=(2, 2, 2), padding=(1, 1, 1), output_padding=(1, 1, 1))\n",
      "            (adn): ADN(\n",
      "              (N): InstanceNorm3d(32, eps=1e-05, momentum=0.1, affine=False, track_running_stats=False)\n",
      "              (D): Dropout(p=0.0, inplace=False)\n",
      "              (A): PReLU(num_parameters=1)\n",
      "            )\n",
      "          )\n",
      "          (1): ResidualUnit(\n",
      "            (conv): Sequential(\n",
      "              (unit0): Convolution(\n",
      "                (conv): Conv3d(32, 32, kernel_size=(3, 3, 3), stride=(1, 1, 1), padding=(1, 1, 1))\n",
      "                (adn): ADN(\n",
      "                  (N): InstanceNorm3d(32, eps=1e-05, momentum=0.1, affine=False, track_running_stats=False)\n",
      "                  (D): Dropout(p=0.0, inplace=False)\n",
      "                  (A): PReLU(num_parameters=1)\n",
      "                )\n",
      "              )\n",
      "            )\n",
      "            (residual): Identity()\n",
      "          )\n",
      "        )\n",
      "      )\n",
      "    )\n",
      "    (2): Sequential(\n",
      "      (0): Convolution(\n",
      "        (conv): ConvTranspose3d(64, 3, kernel_size=(3, 3, 3), stride=(2, 2, 2), padding=(1, 1, 1), output_padding=(1, 1, 1))\n",
      "        (adn): ADN(\n",
      "          (N): InstanceNorm3d(3, eps=1e-05, momentum=0.1, affine=False, track_running_stats=False)\n",
      "          (D): Dropout(p=0.0, inplace=False)\n",
      "          (A): PReLU(num_parameters=1)\n",
      "        )\n",
      "      )\n",
      "      (1): ResidualUnit(\n",
      "        (conv): Sequential(\n",
      "          (unit0): Convolution(\n",
      "            (conv): Conv3d(3, 3, kernel_size=(3, 3, 3), stride=(1, 1, 1), padding=(1, 1, 1))\n",
      "          )\n",
      "        )\n",
      "        (residual): Identity()\n",
      "      )\n",
      "    )\n",
      "  )\n",
      ")\n"
     ]
    }
   ],
   "source": [
    "from monai.networks.nets import UNet\n",
    "\n",
    "_model = UNet(\n",
    "    spatial_dims=3,  # 3D UNet\n",
    "    in_channels=4,   # BraTS18 has 4 modalities (T1, T1ce, T2, FLAIR)\n",
    "    out_channels=3,  # 3 output channels for WT, TC, and ET\n",
    "    channels=(32, 64, 128, 256, 512),  # Number of filters at each level\n",
    "    strides=(2, 2, 2, 2),  # Strides for downsampling\n",
    "    num_res_units=2,  # Residual units\n",
    "    norm='instance',  # Instance normalization\n",
    ")\n",
    "\n",
    "print(_model)\n"
   ]
  },
  {
   "cell_type": "code",
   "execution_count": 7,
   "metadata": {},
   "outputs": [
    {
     "name": "stdout",
     "output_type": "stream",
     "text": [
      "(0,)\n",
      "0\n",
      "(1,)\n",
      "1\n",
      "(2,)\n",
      "2\n",
      "(3,)\n",
      "3\n",
      "(0, 1)\n",
      "0\n",
      "1\n",
      "(0, 2)\n",
      "0\n",
      "2\n",
      "(0, 3)\n",
      "0\n",
      "3\n",
      "(1, 2)\n",
      "1\n",
      "2\n",
      "(1, 3)\n",
      "1\n",
      "3\n",
      "(2, 3)\n",
      "2\n",
      "3\n",
      "(0, 1, 2)\n",
      "0\n",
      "1\n",
      "2\n",
      "(0, 1, 3)\n",
      "0\n",
      "1\n",
      "3\n",
      "(0, 2, 3)\n",
      "0\n",
      "2\n",
      "3\n",
      "(1, 2, 3)\n",
      "1\n",
      "2\n",
      "3\n"
     ]
    }
   ],
   "source": [
    "import torch\n",
    "import itertools\n",
    "original_tensor = torch.randn(1, 4, 384, 8, 8)\n",
    "modified_tensors = []\n",
    "# Random tensor of shape [384, 8, 8] (same for all replacements)\n",
    "random_tensor = torch.randn(384, 8, 8)\n",
    "\n",
    "retained_channels_dict = {}\n",
    "\n",
    "\n",
    "for r in range(1, 4):  # Only consider 1, 2, or 3 channels\n",
    "    for channels in itertools.combinations(range(4), r):  # Generate all valid subsets\n",
    "        print(channels)\n",
    "\n",
    "        modified_tensor = original_tensor.clone()  # Clone original tensor\n",
    "        for ch in channels:\n",
    "            print(ch)\n",
    "            modified_tensor[0, ch] = random_tensor  # Set selected channels\n",
    "\n",
    "        modified_tensors.append((channels, modified_tensor))  # Store result"
   ]
  },
  {
   "cell_type": "code",
   "execution_count": 1,
   "metadata": {},
   "outputs": [
    {
     "name": "stderr",
     "output_type": "stream",
     "text": [
      "  0%|          | 1/228 [00:03<14:56,  3.95s/it]"
     ]
    },
    {
     "name": "stdout",
     "output_type": "stream",
     "text": [
      "torch.Size([1, 768, 4, 4, 4])\n"
     ]
    },
    {
     "name": "stderr",
     "output_type": "stream",
     "text": [
      "  1%|          | 2/228 [00:04<06:43,  1.79s/it]"
     ]
    },
    {
     "name": "stdout",
     "output_type": "stream",
     "text": [
      "torch.Size([1, 768, 4, 4, 4])\n"
     ]
    },
    {
     "name": "stderr",
     "output_type": "stream",
     "text": [
      "  1%|▏         | 3/228 [00:04<04:52,  1.30s/it]"
     ]
    },
    {
     "name": "stdout",
     "output_type": "stream",
     "text": [
      "torch.Size([1, 768, 4, 4, 4])\n"
     ]
    },
    {
     "name": "stderr",
     "output_type": "stream",
     "text": [
      "  2%|▏         | 4/228 [00:05<03:50,  1.03s/it]"
     ]
    },
    {
     "name": "stdout",
     "output_type": "stream",
     "text": [
      "torch.Size([1, 768, 4, 4, 4])\n"
     ]
    },
    {
     "name": "stderr",
     "output_type": "stream",
     "text": [
      "  2%|▏         | 5/228 [00:07<04:50,  1.30s/it]"
     ]
    },
    {
     "name": "stdout",
     "output_type": "stream",
     "text": [
      "torch.Size([1, 768, 4, 4, 4])\n"
     ]
    },
    {
     "name": "stderr",
     "output_type": "stream",
     "text": [
      "  3%|▎         | 6/228 [00:08<04:07,  1.11s/it]"
     ]
    },
    {
     "name": "stdout",
     "output_type": "stream",
     "text": [
      "torch.Size([1, 768, 4, 4, 4])\n"
     ]
    },
    {
     "name": "stderr",
     "output_type": "stream",
     "text": [
      "  3%|▎         | 7/228 [00:10<06:02,  1.64s/it]"
     ]
    },
    {
     "name": "stdout",
     "output_type": "stream",
     "text": [
      "torch.Size([1, 768, 4, 4, 4])\n"
     ]
    },
    {
     "name": "stderr",
     "output_type": "stream",
     "text": [
      "  4%|▎         | 8/228 [00:11<05:00,  1.37s/it]"
     ]
    },
    {
     "name": "stdout",
     "output_type": "stream",
     "text": [
      "torch.Size([1, 768, 4, 4, 4])\n"
     ]
    },
    {
     "name": "stderr",
     "output_type": "stream",
     "text": [
      "  4%|▍         | 9/228 [00:14<06:26,  1.77s/it]"
     ]
    },
    {
     "name": "stdout",
     "output_type": "stream",
     "text": [
      "torch.Size([1, 768, 4, 4, 4])\n"
     ]
    },
    {
     "name": "stderr",
     "output_type": "stream",
     "text": [
      "  4%|▍         | 10/228 [00:14<04:50,  1.33s/it]"
     ]
    },
    {
     "name": "stdout",
     "output_type": "stream",
     "text": [
      "torch.Size([1, 768, 4, 4, 4])\n"
     ]
    },
    {
     "name": "stderr",
     "output_type": "stream",
     "text": [
      "  5%|▍         | 11/228 [00:17<06:27,  1.79s/it]"
     ]
    },
    {
     "name": "stdout",
     "output_type": "stream",
     "text": [
      "torch.Size([1, 768, 4, 4, 4])\n"
     ]
    },
    {
     "name": "stderr",
     "output_type": "stream",
     "text": [
      "  5%|▌         | 12/228 [00:18<05:22,  1.49s/it]"
     ]
    },
    {
     "name": "stdout",
     "output_type": "stream",
     "text": [
      "torch.Size([1, 768, 4, 4, 4])\n"
     ]
    },
    {
     "name": "stderr",
     "output_type": "stream",
     "text": [
      "  6%|▌         | 13/228 [00:20<06:27,  1.80s/it]"
     ]
    },
    {
     "name": "stdout",
     "output_type": "stream",
     "text": [
      "torch.Size([1, 768, 4, 4, 4])\n"
     ]
    },
    {
     "name": "stderr",
     "output_type": "stream",
     "text": [
      "  6%|▌         | 14/228 [00:21<05:02,  1.41s/it]"
     ]
    },
    {
     "name": "stdout",
     "output_type": "stream",
     "text": [
      "torch.Size([1, 768, 4, 4, 4])\n"
     ]
    },
    {
     "name": "stderr",
     "output_type": "stream",
     "text": [
      "  7%|▋         | 15/228 [00:23<06:12,  1.75s/it]"
     ]
    },
    {
     "name": "stdout",
     "output_type": "stream",
     "text": [
      "torch.Size([1, 768, 4, 4, 4])\n"
     ]
    },
    {
     "name": "stderr",
     "output_type": "stream",
     "text": [
      "  7%|▋         | 16/228 [00:24<04:47,  1.36s/it]"
     ]
    },
    {
     "name": "stdout",
     "output_type": "stream",
     "text": [
      "torch.Size([1, 768, 4, 4, 4])\n"
     ]
    },
    {
     "name": "stderr",
     "output_type": "stream",
     "text": [
      "  7%|▋         | 17/228 [00:26<06:05,  1.73s/it]"
     ]
    },
    {
     "name": "stdout",
     "output_type": "stream",
     "text": [
      "torch.Size([1, 768, 4, 4, 4])\n"
     ]
    },
    {
     "name": "stderr",
     "output_type": "stream",
     "text": [
      "  8%|▊         | 18/228 [00:27<04:31,  1.29s/it]"
     ]
    },
    {
     "name": "stdout",
     "output_type": "stream",
     "text": [
      "torch.Size([1, 768, 4, 4, 4])\n"
     ]
    },
    {
     "name": "stderr",
     "output_type": "stream",
     "text": [
      "  8%|▊         | 19/228 [00:29<05:49,  1.67s/it]"
     ]
    },
    {
     "name": "stdout",
     "output_type": "stream",
     "text": [
      "torch.Size([1, 768, 4, 4, 4])\n"
     ]
    },
    {
     "name": "stderr",
     "output_type": "stream",
     "text": [
      "  9%|▉         | 20/228 [00:29<04:21,  1.25s/it]"
     ]
    },
    {
     "name": "stdout",
     "output_type": "stream",
     "text": [
      "torch.Size([1, 768, 4, 4, 4])\n"
     ]
    },
    {
     "name": "stderr",
     "output_type": "stream",
     "text": [
      "  9%|▉         | 21/228 [00:33<06:30,  1.89s/it]"
     ]
    },
    {
     "name": "stdout",
     "output_type": "stream",
     "text": [
      "torch.Size([1, 768, 4, 4, 4])\n"
     ]
    },
    {
     "name": "stderr",
     "output_type": "stream",
     "text": [
      " 10%|▉         | 22/228 [00:33<04:48,  1.40s/it]"
     ]
    },
    {
     "name": "stdout",
     "output_type": "stream",
     "text": [
      "torch.Size([1, 768, 4, 4, 4])\n"
     ]
    },
    {
     "name": "stderr",
     "output_type": "stream",
     "text": [
      " 10%|█         | 23/228 [00:36<06:13,  1.82s/it]"
     ]
    },
    {
     "name": "stdout",
     "output_type": "stream",
     "text": [
      "torch.Size([1, 768, 4, 4, 4])\n"
     ]
    },
    {
     "name": "stderr",
     "output_type": "stream",
     "text": [
      " 11%|█         | 24/228 [00:36<04:36,  1.36s/it]"
     ]
    },
    {
     "name": "stdout",
     "output_type": "stream",
     "text": [
      "torch.Size([1, 768, 4, 4, 4])\n"
     ]
    },
    {
     "name": "stderr",
     "output_type": "stream",
     "text": [
      " 11%|█         | 25/228 [00:39<05:35,  1.65s/it]"
     ]
    },
    {
     "name": "stdout",
     "output_type": "stream",
     "text": [
      "torch.Size([1, 768, 4, 4, 4])\n"
     ]
    },
    {
     "name": "stderr",
     "output_type": "stream",
     "text": [
      " 11%|█▏        | 26/228 [00:39<04:10,  1.24s/it]"
     ]
    },
    {
     "name": "stdout",
     "output_type": "stream",
     "text": [
      "torch.Size([1, 768, 4, 4, 4])\n"
     ]
    },
    {
     "name": "stderr",
     "output_type": "stream",
     "text": [
      " 12%|█▏        | 27/228 [00:41<05:35,  1.67s/it]"
     ]
    },
    {
     "name": "stdout",
     "output_type": "stream",
     "text": [
      "torch.Size([1, 768, 4, 4, 4])\n"
     ]
    },
    {
     "name": "stderr",
     "output_type": "stream",
     "text": [
      " 12%|█▏        | 28/228 [00:42<04:09,  1.25s/it]"
     ]
    },
    {
     "name": "stdout",
     "output_type": "stream",
     "text": [
      "torch.Size([1, 768, 4, 4, 4])\n"
     ]
    },
    {
     "name": "stderr",
     "output_type": "stream",
     "text": [
      " 13%|█▎        | 29/228 [00:45<06:22,  1.92s/it]"
     ]
    },
    {
     "name": "stdout",
     "output_type": "stream",
     "text": [
      "torch.Size([1, 768, 4, 4, 4])\n"
     ]
    },
    {
     "name": "stderr",
     "output_type": "stream",
     "text": [
      " 13%|█▎        | 30/228 [00:45<04:42,  1.43s/it]"
     ]
    },
    {
     "name": "stdout",
     "output_type": "stream",
     "text": [
      "torch.Size([1, 768, 4, 4, 4])\n"
     ]
    },
    {
     "name": "stderr",
     "output_type": "stream",
     "text": [
      " 14%|█▎        | 31/228 [00:48<05:16,  1.61s/it]"
     ]
    },
    {
     "name": "stdout",
     "output_type": "stream",
     "text": [
      "torch.Size([1, 768, 4, 4, 4])\n"
     ]
    },
    {
     "name": "stderr",
     "output_type": "stream",
     "text": [
      " 14%|█▍        | 32/228 [00:48<03:57,  1.21s/it]"
     ]
    },
    {
     "name": "stdout",
     "output_type": "stream",
     "text": [
      "torch.Size([1, 768, 4, 4, 4])\n"
     ]
    },
    {
     "name": "stderr",
     "output_type": "stream",
     "text": [
      " 14%|█▍        | 33/228 [00:51<05:46,  1.78s/it]"
     ]
    },
    {
     "name": "stdout",
     "output_type": "stream",
     "text": [
      "torch.Size([1, 768, 4, 4, 4])\n"
     ]
    },
    {
     "name": "stderr",
     "output_type": "stream",
     "text": [
      " 15%|█▍        | 34/228 [00:51<04:16,  1.32s/it]"
     ]
    },
    {
     "name": "stdout",
     "output_type": "stream",
     "text": [
      "torch.Size([1, 768, 4, 4, 4])\n"
     ]
    },
    {
     "name": "stderr",
     "output_type": "stream",
     "text": [
      " 15%|█▌        | 35/228 [00:54<05:57,  1.85s/it]"
     ]
    },
    {
     "name": "stdout",
     "output_type": "stream",
     "text": [
      "torch.Size([1, 768, 4, 4, 4])\n"
     ]
    },
    {
     "name": "stderr",
     "output_type": "stream",
     "text": [
      " 16%|█▌        | 36/228 [00:55<04:24,  1.38s/it]"
     ]
    },
    {
     "name": "stdout",
     "output_type": "stream",
     "text": [
      "torch.Size([1, 768, 4, 4, 4])\n"
     ]
    },
    {
     "name": "stderr",
     "output_type": "stream",
     "text": [
      " 16%|█▌        | 37/228 [00:57<05:45,  1.81s/it]"
     ]
    },
    {
     "name": "stdout",
     "output_type": "stream",
     "text": [
      "torch.Size([1, 768, 4, 4, 4])\n"
     ]
    },
    {
     "name": "stderr",
     "output_type": "stream",
     "text": [
      " 17%|█▋        | 38/228 [00:58<04:16,  1.35s/it]"
     ]
    },
    {
     "name": "stdout",
     "output_type": "stream",
     "text": [
      "torch.Size([1, 768, 4, 4, 4])\n"
     ]
    },
    {
     "name": "stderr",
     "output_type": "stream",
     "text": [
      " 17%|█▋        | 39/228 [00:59<04:39,  1.48s/it]"
     ]
    },
    {
     "name": "stdout",
     "output_type": "stream",
     "text": [
      "torch.Size([1, 768, 4, 4, 4])\n"
     ]
    },
    {
     "name": "stderr",
     "output_type": "stream",
     "text": [
      " 18%|█▊        | 40/228 [01:00<03:30,  1.12s/it]"
     ]
    },
    {
     "name": "stdout",
     "output_type": "stream",
     "text": [
      "torch.Size([1, 768, 4, 4, 4])\n"
     ]
    },
    {
     "name": "stderr",
     "output_type": "stream",
     "text": [
      " 18%|█▊        | 41/228 [01:02<04:30,  1.44s/it]"
     ]
    },
    {
     "name": "stdout",
     "output_type": "stream",
     "text": [
      "torch.Size([1, 768, 4, 4, 4])\n"
     ]
    },
    {
     "name": "stderr",
     "output_type": "stream",
     "text": [
      " 18%|█▊        | 42/228 [01:02<03:23,  1.09s/it]"
     ]
    },
    {
     "name": "stdout",
     "output_type": "stream",
     "text": [
      "torch.Size([1, 768, 4, 4, 4])\n"
     ]
    },
    {
     "name": "stderr",
     "output_type": "stream",
     "text": [
      " 19%|█▉        | 43/228 [01:05<05:01,  1.63s/it]"
     ]
    },
    {
     "name": "stdout",
     "output_type": "stream",
     "text": [
      "torch.Size([1, 768, 4, 4, 4])\n"
     ]
    },
    {
     "name": "stderr",
     "output_type": "stream",
     "text": [
      " 19%|█▉        | 44/228 [01:05<03:44,  1.22s/it]"
     ]
    },
    {
     "name": "stdout",
     "output_type": "stream",
     "text": [
      "torch.Size([1, 768, 4, 4, 4])\n"
     ]
    },
    {
     "name": "stderr",
     "output_type": "stream",
     "text": [
      " 20%|█▉        | 45/228 [01:08<05:01,  1.65s/it]"
     ]
    },
    {
     "name": "stdout",
     "output_type": "stream",
     "text": [
      "torch.Size([1, 768, 4, 4, 4])\n"
     ]
    },
    {
     "name": "stderr",
     "output_type": "stream",
     "text": [
      " 20%|██        | 46/228 [01:08<03:46,  1.24s/it]"
     ]
    },
    {
     "name": "stdout",
     "output_type": "stream",
     "text": [
      "torch.Size([1, 768, 4, 4, 4])\n"
     ]
    },
    {
     "name": "stderr",
     "output_type": "stream",
     "text": [
      " 21%|██        | 47/228 [01:11<04:58,  1.65s/it]"
     ]
    },
    {
     "name": "stdout",
     "output_type": "stream",
     "text": [
      "torch.Size([1, 768, 4, 4, 4])\n"
     ]
    },
    {
     "name": "stderr",
     "output_type": "stream",
     "text": [
      " 21%|██        | 48/228 [01:11<03:46,  1.26s/it]"
     ]
    },
    {
     "name": "stdout",
     "output_type": "stream",
     "text": [
      "torch.Size([1, 768, 4, 4, 4])\n"
     ]
    },
    {
     "name": "stderr",
     "output_type": "stream",
     "text": [
      " 21%|██▏       | 49/228 [01:14<05:12,  1.74s/it]"
     ]
    },
    {
     "name": "stdout",
     "output_type": "stream",
     "text": [
      "torch.Size([1, 768, 4, 4, 4])\n"
     ]
    },
    {
     "name": "stderr",
     "output_type": "stream",
     "text": [
      " 22%|██▏       | 50/228 [01:14<04:00,  1.35s/it]"
     ]
    },
    {
     "name": "stdout",
     "output_type": "stream",
     "text": [
      "torch.Size([1, 768, 4, 4, 4])\n"
     ]
    },
    {
     "name": "stderr",
     "output_type": "stream",
     "text": [
      " 22%|██▏       | 51/228 [01:17<04:35,  1.56s/it]"
     ]
    },
    {
     "name": "stdout",
     "output_type": "stream",
     "text": [
      "torch.Size([1, 768, 4, 4, 4])\n"
     ]
    },
    {
     "name": "stderr",
     "output_type": "stream",
     "text": [
      " 23%|██▎       | 52/228 [01:18<04:13,  1.44s/it]"
     ]
    },
    {
     "name": "stdout",
     "output_type": "stream",
     "text": [
      "torch.Size([1, 768, 4, 4, 4])\n"
     ]
    },
    {
     "name": "stderr",
     "output_type": "stream",
     "text": [
      " 23%|██▎       | 53/228 [01:19<04:04,  1.40s/it]"
     ]
    },
    {
     "name": "stdout",
     "output_type": "stream",
     "text": [
      "torch.Size([1, 768, 4, 4, 4])\n"
     ]
    },
    {
     "name": "stderr",
     "output_type": "stream",
     "text": [
      " 24%|██▎       | 54/228 [01:20<04:04,  1.41s/it]"
     ]
    },
    {
     "name": "stdout",
     "output_type": "stream",
     "text": [
      "torch.Size([1, 768, 4, 4, 4])\n"
     ]
    },
    {
     "name": "stderr",
     "output_type": "stream",
     "text": [
      " 24%|██▍       | 55/228 [01:21<03:41,  1.28s/it]"
     ]
    },
    {
     "name": "stdout",
     "output_type": "stream",
     "text": [
      "torch.Size([1, 768, 4, 4, 4])\n"
     ]
    },
    {
     "name": "stderr",
     "output_type": "stream",
     "text": [
      " 25%|██▍       | 56/228 [01:23<04:17,  1.49s/it]"
     ]
    },
    {
     "name": "stdout",
     "output_type": "stream",
     "text": [
      "torch.Size([1, 768, 4, 4, 4])\n"
     ]
    },
    {
     "name": "stderr",
     "output_type": "stream",
     "text": [
      " 25%|██▌       | 57/228 [01:24<03:17,  1.15s/it]"
     ]
    },
    {
     "name": "stdout",
     "output_type": "stream",
     "text": [
      "torch.Size([1, 768, 4, 4, 4])\n"
     ]
    },
    {
     "name": "stderr",
     "output_type": "stream",
     "text": [
      " 25%|██▌       | 58/228 [01:25<03:42,  1.31s/it]"
     ]
    },
    {
     "name": "stdout",
     "output_type": "stream",
     "text": [
      "torch.Size([1, 768, 4, 4, 4])\n"
     ]
    },
    {
     "name": "stderr",
     "output_type": "stream",
     "text": [
      " 26%|██▌       | 59/228 [01:26<03:00,  1.07s/it]"
     ]
    },
    {
     "name": "stdout",
     "output_type": "stream",
     "text": [
      "torch.Size([1, 768, 4, 4, 4])\n"
     ]
    },
    {
     "name": "stderr",
     "output_type": "stream",
     "text": [
      " 26%|██▋       | 60/228 [01:28<03:35,  1.28s/it]"
     ]
    },
    {
     "name": "stdout",
     "output_type": "stream",
     "text": [
      "torch.Size([1, 768, 4, 4, 4])\n"
     ]
    },
    {
     "name": "stderr",
     "output_type": "stream",
     "text": [
      " 27%|██▋       | 61/228 [01:28<02:43,  1.02it/s]"
     ]
    },
    {
     "name": "stdout",
     "output_type": "stream",
     "text": [
      "torch.Size([1, 768, 4, 4, 4])\n"
     ]
    },
    {
     "name": "stderr",
     "output_type": "stream",
     "text": [
      " 27%|██▋       | 62/228 [01:30<03:45,  1.36s/it]"
     ]
    },
    {
     "name": "stdout",
     "output_type": "stream",
     "text": [
      "torch.Size([1, 768, 4, 4, 4])\n"
     ]
    },
    {
     "name": "stderr",
     "output_type": "stream",
     "text": [
      " 28%|██▊       | 63/228 [01:31<02:57,  1.08s/it]"
     ]
    },
    {
     "name": "stdout",
     "output_type": "stream",
     "text": [
      "torch.Size([1, 768, 4, 4, 4])\n"
     ]
    },
    {
     "name": "stderr",
     "output_type": "stream",
     "text": [
      " 28%|██▊       | 64/228 [01:33<03:59,  1.46s/it]"
     ]
    },
    {
     "name": "stdout",
     "output_type": "stream",
     "text": [
      "torch.Size([1, 768, 4, 4, 4])\n"
     ]
    },
    {
     "name": "stderr",
     "output_type": "stream",
     "text": [
      " 29%|██▊       | 65/228 [01:33<03:00,  1.11s/it]"
     ]
    },
    {
     "name": "stdout",
     "output_type": "stream",
     "text": [
      "torch.Size([1, 768, 4, 4, 4])\n"
     ]
    },
    {
     "name": "stderr",
     "output_type": "stream",
     "text": [
      " 29%|██▉       | 66/228 [01:35<03:49,  1.42s/it]"
     ]
    },
    {
     "name": "stdout",
     "output_type": "stream",
     "text": [
      "torch.Size([1, 768, 4, 4, 4])\n"
     ]
    },
    {
     "name": "stderr",
     "output_type": "stream",
     "text": [
      " 29%|██▉       | 67/228 [01:36<03:03,  1.14s/it]"
     ]
    },
    {
     "name": "stdout",
     "output_type": "stream",
     "text": [
      "torch.Size([1, 768, 4, 4, 4])\n"
     ]
    },
    {
     "name": "stderr",
     "output_type": "stream",
     "text": [
      " 30%|██▉       | 68/228 [01:38<03:33,  1.34s/it]"
     ]
    },
    {
     "name": "stdout",
     "output_type": "stream",
     "text": [
      "torch.Size([1, 768, 4, 4, 4])\n"
     ]
    },
    {
     "name": "stderr",
     "output_type": "stream",
     "text": [
      " 30%|███       | 69/228 [01:39<03:12,  1.21s/it]"
     ]
    },
    {
     "name": "stdout",
     "output_type": "stream",
     "text": [
      "torch.Size([1, 768, 4, 4, 4])\n"
     ]
    },
    {
     "name": "stderr",
     "output_type": "stream",
     "text": [
      " 31%|███       | 70/228 [01:41<03:55,  1.49s/it]"
     ]
    },
    {
     "name": "stdout",
     "output_type": "stream",
     "text": [
      "torch.Size([1, 768, 4, 4, 4])\n"
     ]
    },
    {
     "name": "stderr",
     "output_type": "stream",
     "text": [
      " 31%|███       | 71/228 [01:41<03:07,  1.20s/it]"
     ]
    },
    {
     "name": "stdout",
     "output_type": "stream",
     "text": [
      "torch.Size([1, 768, 4, 4, 4])\n"
     ]
    },
    {
     "name": "stderr",
     "output_type": "stream",
     "text": [
      " 32%|███▏      | 72/228 [01:44<04:06,  1.58s/it]"
     ]
    },
    {
     "name": "stdout",
     "output_type": "stream",
     "text": [
      "torch.Size([1, 768, 4, 4, 4])\n"
     ]
    },
    {
     "name": "stderr",
     "output_type": "stream",
     "text": [
      " 32%|███▏      | 73/228 [01:44<03:04,  1.19s/it]"
     ]
    },
    {
     "name": "stdout",
     "output_type": "stream",
     "text": [
      "torch.Size([1, 768, 4, 4, 4])\n"
     ]
    },
    {
     "name": "stderr",
     "output_type": "stream",
     "text": [
      " 32%|███▏      | 74/228 [01:47<04:02,  1.57s/it]"
     ]
    },
    {
     "name": "stdout",
     "output_type": "stream",
     "text": [
      "torch.Size([1, 768, 4, 4, 4])\n"
     ]
    },
    {
     "name": "stderr",
     "output_type": "stream",
     "text": [
      " 33%|███▎      | 75/228 [01:47<03:08,  1.23s/it]"
     ]
    },
    {
     "name": "stdout",
     "output_type": "stream",
     "text": [
      "torch.Size([1, 768, 4, 4, 4])\n"
     ]
    },
    {
     "name": "stderr",
     "output_type": "stream",
     "text": [
      " 33%|███▎      | 76/228 [01:50<04:12,  1.66s/it]"
     ]
    },
    {
     "name": "stdout",
     "output_type": "stream",
     "text": [
      "torch.Size([1, 768, 4, 4, 4])\n"
     ]
    },
    {
     "name": "stderr",
     "output_type": "stream",
     "text": [
      " 34%|███▍      | 77/228 [01:50<03:08,  1.25s/it]"
     ]
    },
    {
     "name": "stdout",
     "output_type": "stream",
     "text": [
      "torch.Size([1, 768, 4, 4, 4])\n"
     ]
    },
    {
     "name": "stderr",
     "output_type": "stream",
     "text": [
      " 34%|███▍      | 78/228 [01:52<03:52,  1.55s/it]"
     ]
    },
    {
     "name": "stdout",
     "output_type": "stream",
     "text": [
      "torch.Size([1, 768, 4, 4, 4])\n"
     ]
    },
    {
     "name": "stderr",
     "output_type": "stream",
     "text": [
      " 35%|███▍      | 79/228 [01:53<03:07,  1.26s/it]"
     ]
    },
    {
     "name": "stdout",
     "output_type": "stream",
     "text": [
      "torch.Size([1, 768, 4, 4, 4])\n"
     ]
    },
    {
     "name": "stderr",
     "output_type": "stream",
     "text": [
      " 35%|███▌      | 80/228 [01:55<04:11,  1.70s/it]"
     ]
    },
    {
     "name": "stdout",
     "output_type": "stream",
     "text": [
      "torch.Size([1, 768, 4, 4, 4])\n"
     ]
    },
    {
     "name": "stderr",
     "output_type": "stream",
     "text": [
      " 36%|███▌      | 81/228 [01:56<03:09,  1.29s/it]"
     ]
    },
    {
     "name": "stdout",
     "output_type": "stream",
     "text": [
      "torch.Size([1, 768, 4, 4, 4])\n"
     ]
    },
    {
     "name": "stderr",
     "output_type": "stream",
     "text": [
      " 36%|███▌      | 82/228 [01:58<03:50,  1.58s/it]"
     ]
    },
    {
     "name": "stdout",
     "output_type": "stream",
     "text": [
      "torch.Size([1, 768, 4, 4, 4])\n"
     ]
    },
    {
     "name": "stderr",
     "output_type": "stream",
     "text": [
      " 36%|███▋      | 83/228 [01:58<02:54,  1.20s/it]"
     ]
    },
    {
     "name": "stdout",
     "output_type": "stream",
     "text": [
      "torch.Size([1, 768, 4, 4, 4])\n"
     ]
    },
    {
     "name": "stderr",
     "output_type": "stream",
     "text": [
      " 37%|███▋      | 84/228 [02:01<03:53,  1.62s/it]"
     ]
    },
    {
     "name": "stdout",
     "output_type": "stream",
     "text": [
      "torch.Size([1, 768, 4, 4, 4])\n"
     ]
    },
    {
     "name": "stderr",
     "output_type": "stream",
     "text": [
      " 37%|███▋      | 85/228 [02:01<02:56,  1.24s/it]"
     ]
    },
    {
     "name": "stdout",
     "output_type": "stream",
     "text": [
      "torch.Size([1, 768, 4, 4, 4])\n"
     ]
    },
    {
     "name": "stderr",
     "output_type": "stream",
     "text": [
      " 38%|███▊      | 86/228 [02:04<03:47,  1.60s/it]"
     ]
    },
    {
     "name": "stdout",
     "output_type": "stream",
     "text": [
      "torch.Size([1, 768, 4, 4, 4])\n"
     ]
    },
    {
     "name": "stderr",
     "output_type": "stream",
     "text": [
      " 38%|███▊      | 87/228 [02:04<02:55,  1.24s/it]"
     ]
    },
    {
     "name": "stdout",
     "output_type": "stream",
     "text": [
      "torch.Size([1, 768, 4, 4, 4])\n"
     ]
    },
    {
     "name": "stderr",
     "output_type": "stream",
     "text": [
      " 39%|███▊      | 88/228 [02:07<03:47,  1.62s/it]"
     ]
    },
    {
     "name": "stdout",
     "output_type": "stream",
     "text": [
      "torch.Size([1, 768, 4, 4, 4])\n"
     ]
    },
    {
     "name": "stderr",
     "output_type": "stream",
     "text": [
      " 39%|███▉      | 89/228 [02:07<02:49,  1.22s/it]"
     ]
    },
    {
     "name": "stdout",
     "output_type": "stream",
     "text": [
      "torch.Size([1, 768, 4, 4, 4])\n"
     ]
    },
    {
     "name": "stderr",
     "output_type": "stream",
     "text": [
      " 39%|███▉      | 90/228 [02:09<03:37,  1.58s/it]"
     ]
    },
    {
     "name": "stdout",
     "output_type": "stream",
     "text": [
      "torch.Size([1, 768, 4, 4, 4])\n"
     ]
    },
    {
     "name": "stderr",
     "output_type": "stream",
     "text": [
      " 40%|███▉      | 91/228 [02:10<02:44,  1.20s/it]"
     ]
    },
    {
     "name": "stdout",
     "output_type": "stream",
     "text": [
      "torch.Size([1, 768, 4, 4, 4])\n"
     ]
    },
    {
     "name": "stderr",
     "output_type": "stream",
     "text": [
      " 40%|████      | 92/228 [02:12<03:29,  1.54s/it]"
     ]
    },
    {
     "name": "stdout",
     "output_type": "stream",
     "text": [
      "torch.Size([1, 768, 4, 4, 4])\n"
     ]
    },
    {
     "name": "stderr",
     "output_type": "stream",
     "text": [
      " 41%|████      | 93/228 [02:13<02:46,  1.23s/it]"
     ]
    },
    {
     "name": "stdout",
     "output_type": "stream",
     "text": [
      "torch.Size([1, 768, 4, 4, 4])\n"
     ]
    },
    {
     "name": "stderr",
     "output_type": "stream",
     "text": [
      " 41%|████      | 94/228 [02:15<03:36,  1.61s/it]"
     ]
    },
    {
     "name": "stdout",
     "output_type": "stream",
     "text": [
      "torch.Size([1, 768, 4, 4, 4])\n"
     ]
    },
    {
     "name": "stderr",
     "output_type": "stream",
     "text": [
      " 42%|████▏     | 95/228 [02:16<02:53,  1.30s/it]"
     ]
    },
    {
     "name": "stdout",
     "output_type": "stream",
     "text": [
      "torch.Size([1, 768, 4, 4, 4])\n"
     ]
    },
    {
     "name": "stderr",
     "output_type": "stream",
     "text": [
      " 42%|████▏     | 96/228 [02:18<03:34,  1.62s/it]"
     ]
    },
    {
     "name": "stdout",
     "output_type": "stream",
     "text": [
      "torch.Size([1, 768, 4, 4, 4])\n"
     ]
    },
    {
     "name": "stderr",
     "output_type": "stream",
     "text": [
      " 43%|████▎     | 97/228 [02:19<02:50,  1.30s/it]"
     ]
    },
    {
     "name": "stdout",
     "output_type": "stream",
     "text": [
      "torch.Size([1, 768, 4, 4, 4])\n"
     ]
    },
    {
     "name": "stderr",
     "output_type": "stream",
     "text": [
      " 43%|████▎     | 98/228 [02:21<03:36,  1.67s/it]"
     ]
    },
    {
     "name": "stdout",
     "output_type": "stream",
     "text": [
      "torch.Size([1, 768, 4, 4, 4])\n"
     ]
    },
    {
     "name": "stderr",
     "output_type": "stream",
     "text": [
      " 43%|████▎     | 99/228 [02:22<02:54,  1.35s/it]"
     ]
    },
    {
     "name": "stdout",
     "output_type": "stream",
     "text": [
      "torch.Size([1, 768, 4, 4, 4])\n"
     ]
    },
    {
     "name": "stderr",
     "output_type": "stream",
     "text": [
      " 44%|████▍     | 100/228 [02:24<03:25,  1.61s/it]"
     ]
    },
    {
     "name": "stdout",
     "output_type": "stream",
     "text": [
      "torch.Size([1, 768, 4, 4, 4])\n"
     ]
    },
    {
     "name": "stderr",
     "output_type": "stream",
     "text": [
      " 44%|████▍     | 101/228 [02:25<02:51,  1.35s/it]"
     ]
    },
    {
     "name": "stdout",
     "output_type": "stream",
     "text": [
      "torch.Size([1, 768, 4, 4, 4])\n"
     ]
    },
    {
     "name": "stderr",
     "output_type": "stream",
     "text": [
      " 45%|████▍     | 102/228 [02:26<03:05,  1.47s/it]"
     ]
    },
    {
     "name": "stdout",
     "output_type": "stream",
     "text": [
      "torch.Size([1, 768, 4, 4, 4])\n"
     ]
    },
    {
     "name": "stderr",
     "output_type": "stream",
     "text": [
      " 45%|████▌     | 103/228 [02:28<02:53,  1.39s/it]"
     ]
    },
    {
     "name": "stdout",
     "output_type": "stream",
     "text": [
      "torch.Size([1, 768, 4, 4, 4])\n"
     ]
    },
    {
     "name": "stderr",
     "output_type": "stream",
     "text": [
      " 46%|████▌     | 104/228 [02:29<02:50,  1.38s/it]"
     ]
    },
    {
     "name": "stdout",
     "output_type": "stream",
     "text": [
      "torch.Size([1, 768, 4, 4, 4])\n"
     ]
    },
    {
     "name": "stderr",
     "output_type": "stream",
     "text": [
      " 46%|████▌     | 105/228 [02:30<02:53,  1.41s/it]"
     ]
    },
    {
     "name": "stdout",
     "output_type": "stream",
     "text": [
      "torch.Size([1, 768, 4, 4, 4])\n"
     ]
    },
    {
     "name": "stderr",
     "output_type": "stream",
     "text": [
      " 46%|████▋     | 106/228 [02:32<02:59,  1.47s/it]"
     ]
    },
    {
     "name": "stdout",
     "output_type": "stream",
     "text": [
      "torch.Size([1, 768, 4, 4, 4])\n"
     ]
    },
    {
     "name": "stderr",
     "output_type": "stream",
     "text": [
      " 47%|████▋     | 107/228 [02:33<02:33,  1.27s/it]"
     ]
    },
    {
     "name": "stdout",
     "output_type": "stream",
     "text": [
      "torch.Size([1, 768, 4, 4, 4])\n"
     ]
    },
    {
     "name": "stderr",
     "output_type": "stream",
     "text": [
      " 47%|████▋     | 108/228 [02:35<03:14,  1.62s/it]"
     ]
    },
    {
     "name": "stdout",
     "output_type": "stream",
     "text": [
      "torch.Size([1, 768, 4, 4, 4])\n"
     ]
    },
    {
     "name": "stderr",
     "output_type": "stream",
     "text": [
      " 48%|████▊     | 109/228 [02:36<02:24,  1.21s/it]"
     ]
    },
    {
     "name": "stdout",
     "output_type": "stream",
     "text": [
      "torch.Size([1, 768, 4, 4, 4])\n"
     ]
    },
    {
     "name": "stderr",
     "output_type": "stream",
     "text": [
      " 48%|████▊     | 110/228 [02:38<03:18,  1.68s/it]"
     ]
    },
    {
     "name": "stdout",
     "output_type": "stream",
     "text": [
      "torch.Size([1, 768, 4, 4, 4])\n"
     ]
    },
    {
     "name": "stderr",
     "output_type": "stream",
     "text": [
      " 49%|████▊     | 111/228 [02:39<02:27,  1.26s/it]"
     ]
    },
    {
     "name": "stdout",
     "output_type": "stream",
     "text": [
      "torch.Size([1, 768, 4, 4, 4])\n"
     ]
    },
    {
     "name": "stderr",
     "output_type": "stream",
     "text": [
      " 49%|████▉     | 112/228 [02:42<03:24,  1.77s/it]"
     ]
    },
    {
     "name": "stdout",
     "output_type": "stream",
     "text": [
      "torch.Size([1, 768, 4, 4, 4])\n"
     ]
    },
    {
     "name": "stderr",
     "output_type": "stream",
     "text": [
      " 50%|████▉     | 113/228 [02:42<02:31,  1.32s/it]"
     ]
    },
    {
     "name": "stdout",
     "output_type": "stream",
     "text": [
      "torch.Size([1, 768, 4, 4, 4])\n"
     ]
    },
    {
     "name": "stderr",
     "output_type": "stream",
     "text": [
      " 50%|█████     | 114/228 [02:45<03:26,  1.81s/it]"
     ]
    },
    {
     "name": "stdout",
     "output_type": "stream",
     "text": [
      "torch.Size([1, 768, 4, 4, 4])\n"
     ]
    },
    {
     "name": "stderr",
     "output_type": "stream",
     "text": [
      " 50%|█████     | 115/228 [02:45<02:32,  1.35s/it]"
     ]
    },
    {
     "name": "stdout",
     "output_type": "stream",
     "text": [
      "torch.Size([1, 768, 4, 4, 4])\n"
     ]
    },
    {
     "name": "stderr",
     "output_type": "stream",
     "text": [
      " 51%|█████     | 116/228 [02:47<03:04,  1.65s/it]"
     ]
    },
    {
     "name": "stdout",
     "output_type": "stream",
     "text": [
      "torch.Size([1, 768, 4, 4, 4])\n"
     ]
    },
    {
     "name": "stderr",
     "output_type": "stream",
     "text": [
      " 51%|█████▏    | 117/228 [02:48<02:16,  1.23s/it]"
     ]
    },
    {
     "name": "stdout",
     "output_type": "stream",
     "text": [
      "torch.Size([1, 768, 4, 4, 4])\n"
     ]
    },
    {
     "name": "stderr",
     "output_type": "stream",
     "text": [
      " 52%|█████▏    | 118/228 [02:50<03:08,  1.71s/it]"
     ]
    },
    {
     "name": "stdout",
     "output_type": "stream",
     "text": [
      "torch.Size([1, 768, 4, 4, 4])\n"
     ]
    },
    {
     "name": "stderr",
     "output_type": "stream",
     "text": [
      " 52%|█████▏    | 119/228 [02:51<02:19,  1.28s/it]"
     ]
    },
    {
     "name": "stdout",
     "output_type": "stream",
     "text": [
      "torch.Size([1, 768, 4, 4, 4])\n"
     ]
    },
    {
     "name": "stderr",
     "output_type": "stream",
     "text": [
      " 53%|█████▎    | 120/228 [02:53<02:35,  1.44s/it]"
     ]
    },
    {
     "name": "stdout",
     "output_type": "stream",
     "text": [
      "torch.Size([1, 768, 4, 4, 4])\n"
     ]
    },
    {
     "name": "stderr",
     "output_type": "stream",
     "text": [
      " 53%|█████▎    | 121/228 [02:53<01:56,  1.09s/it]"
     ]
    },
    {
     "name": "stdout",
     "output_type": "stream",
     "text": [
      "torch.Size([1, 768, 4, 4, 4])\n"
     ]
    },
    {
     "name": "stderr",
     "output_type": "stream",
     "text": [
      " 54%|█████▎    | 122/228 [02:55<02:27,  1.39s/it]"
     ]
    },
    {
     "name": "stdout",
     "output_type": "stream",
     "text": [
      "torch.Size([1, 768, 4, 4, 4])\n"
     ]
    },
    {
     "name": "stderr",
     "output_type": "stream",
     "text": [
      " 54%|█████▍    | 123/228 [02:55<01:50,  1.05s/it]"
     ]
    },
    {
     "name": "stdout",
     "output_type": "stream",
     "text": [
      "torch.Size([1, 768, 4, 4, 4])\n"
     ]
    },
    {
     "name": "stderr",
     "output_type": "stream",
     "text": [
      " 54%|█████▍    | 124/228 [02:57<02:21,  1.36s/it]"
     ]
    },
    {
     "name": "stdout",
     "output_type": "stream",
     "text": [
      "torch.Size([1, 768, 4, 4, 4])\n"
     ]
    },
    {
     "name": "stderr",
     "output_type": "stream",
     "text": [
      " 55%|█████▍    | 125/228 [02:58<01:46,  1.03s/it]"
     ]
    },
    {
     "name": "stdout",
     "output_type": "stream",
     "text": [
      "torch.Size([1, 768, 4, 4, 4])\n"
     ]
    },
    {
     "name": "stderr",
     "output_type": "stream",
     "text": [
      " 55%|█████▌    | 126/228 [03:00<02:17,  1.35s/it]"
     ]
    },
    {
     "name": "stdout",
     "output_type": "stream",
     "text": [
      "torch.Size([1, 768, 4, 4, 4])\n"
     ]
    },
    {
     "name": "stderr",
     "output_type": "stream",
     "text": [
      " 56%|█████▌    | 127/228 [03:00<01:43,  1.03s/it]"
     ]
    },
    {
     "name": "stdout",
     "output_type": "stream",
     "text": [
      "torch.Size([1, 768, 4, 4, 4])\n"
     ]
    },
    {
     "name": "stderr",
     "output_type": "stream",
     "text": [
      " 56%|█████▌    | 128/228 [03:02<02:16,  1.37s/it]"
     ]
    },
    {
     "name": "stdout",
     "output_type": "stream",
     "text": [
      "torch.Size([1, 768, 4, 4, 4])\n"
     ]
    },
    {
     "name": "stderr",
     "output_type": "stream",
     "text": [
      " 57%|█████▋    | 129/228 [03:02<01:42,  1.04s/it]"
     ]
    },
    {
     "name": "stdout",
     "output_type": "stream",
     "text": [
      "torch.Size([1, 768, 4, 4, 4])\n"
     ]
    },
    {
     "name": "stderr",
     "output_type": "stream",
     "text": [
      " 57%|█████▋    | 130/228 [03:05<02:16,  1.39s/it]"
     ]
    },
    {
     "name": "stdout",
     "output_type": "stream",
     "text": [
      "torch.Size([1, 768, 4, 4, 4])\n"
     ]
    },
    {
     "name": "stderr",
     "output_type": "stream",
     "text": [
      " 57%|█████▋    | 131/228 [03:05<01:45,  1.08s/it]"
     ]
    },
    {
     "name": "stdout",
     "output_type": "stream",
     "text": [
      "torch.Size([1, 768, 4, 4, 4])\n"
     ]
    },
    {
     "name": "stderr",
     "output_type": "stream",
     "text": [
      " 58%|█████▊    | 132/228 [03:08<02:31,  1.57s/it]"
     ]
    },
    {
     "name": "stdout",
     "output_type": "stream",
     "text": [
      "torch.Size([1, 768, 4, 4, 4])\n"
     ]
    },
    {
     "name": "stderr",
     "output_type": "stream",
     "text": [
      " 58%|█████▊    | 133/228 [03:08<01:59,  1.26s/it]"
     ]
    },
    {
     "name": "stdout",
     "output_type": "stream",
     "text": [
      "torch.Size([1, 768, 4, 4, 4])\n"
     ]
    },
    {
     "name": "stderr",
     "output_type": "stream",
     "text": [
      " 59%|█████▉    | 134/228 [03:11<02:51,  1.82s/it]"
     ]
    },
    {
     "name": "stdout",
     "output_type": "stream",
     "text": [
      "torch.Size([1, 768, 4, 4, 4])\n"
     ]
    },
    {
     "name": "stderr",
     "output_type": "stream",
     "text": [
      " 59%|█████▉    | 135/228 [03:12<02:15,  1.46s/it]"
     ]
    },
    {
     "name": "stdout",
     "output_type": "stream",
     "text": [
      "torch.Size([1, 768, 4, 4, 4])\n"
     ]
    },
    {
     "name": "stderr",
     "output_type": "stream",
     "text": [
      " 60%|█████▉    | 136/228 [03:14<02:43,  1.78s/it]"
     ]
    },
    {
     "name": "stdout",
     "output_type": "stream",
     "text": [
      "torch.Size([1, 768, 4, 4, 4])\n"
     ]
    },
    {
     "name": "stderr",
     "output_type": "stream",
     "text": [
      " 60%|██████    | 137/228 [03:15<02:17,  1.51s/it]"
     ]
    },
    {
     "name": "stdout",
     "output_type": "stream",
     "text": [
      "torch.Size([1, 768, 4, 4, 4])\n"
     ]
    },
    {
     "name": "stderr",
     "output_type": "stream",
     "text": [
      " 61%|██████    | 138/228 [03:18<02:42,  1.80s/it]"
     ]
    },
    {
     "name": "stdout",
     "output_type": "stream",
     "text": [
      "torch.Size([1, 768, 4, 4, 4])\n"
     ]
    },
    {
     "name": "stderr",
     "output_type": "stream",
     "text": [
      " 61%|██████    | 139/228 [03:19<02:13,  1.50s/it]"
     ]
    },
    {
     "name": "stdout",
     "output_type": "stream",
     "text": [
      "torch.Size([1, 768, 4, 4, 4])\n"
     ]
    },
    {
     "name": "stderr",
     "output_type": "stream",
     "text": [
      " 61%|██████▏   | 140/228 [03:21<02:40,  1.83s/it]"
     ]
    },
    {
     "name": "stdout",
     "output_type": "stream",
     "text": [
      "torch.Size([1, 768, 4, 4, 4])\n"
     ]
    },
    {
     "name": "stderr",
     "output_type": "stream",
     "text": [
      " 62%|██████▏   | 141/228 [03:22<02:17,  1.58s/it]"
     ]
    },
    {
     "name": "stdout",
     "output_type": "stream",
     "text": [
      "torch.Size([1, 768, 4, 4, 4])\n"
     ]
    },
    {
     "name": "stderr",
     "output_type": "stream",
     "text": [
      " 62%|██████▏   | 142/228 [03:25<02:39,  1.85s/it]"
     ]
    },
    {
     "name": "stdout",
     "output_type": "stream",
     "text": [
      "torch.Size([1, 768, 4, 4, 4])\n"
     ]
    },
    {
     "name": "stderr",
     "output_type": "stream",
     "text": [
      " 63%|██████▎   | 143/228 [03:26<02:21,  1.67s/it]"
     ]
    },
    {
     "name": "stdout",
     "output_type": "stream",
     "text": [
      "torch.Size([1, 768, 4, 4, 4])\n"
     ]
    },
    {
     "name": "stderr",
     "output_type": "stream",
     "text": [
      " 63%|██████▎   | 144/228 [03:28<02:33,  1.82s/it]"
     ]
    },
    {
     "name": "stdout",
     "output_type": "stream",
     "text": [
      "torch.Size([1, 768, 4, 4, 4])\n"
     ]
    },
    {
     "name": "stderr",
     "output_type": "stream",
     "text": [
      " 64%|██████▎   | 145/228 [03:30<02:36,  1.88s/it]"
     ]
    },
    {
     "name": "stdout",
     "output_type": "stream",
     "text": [
      "torch.Size([1, 768, 4, 4, 4])\n"
     ]
    },
    {
     "name": "stderr",
     "output_type": "stream",
     "text": [
      " 64%|██████▍   | 146/228 [03:32<02:31,  1.85s/it]"
     ]
    },
    {
     "name": "stdout",
     "output_type": "stream",
     "text": [
      "torch.Size([1, 768, 4, 4, 4])\n"
     ]
    },
    {
     "name": "stderr",
     "output_type": "stream",
     "text": [
      " 64%|██████▍   | 147/228 [03:34<02:39,  1.98s/it]"
     ]
    },
    {
     "name": "stdout",
     "output_type": "stream",
     "text": [
      "torch.Size([1, 768, 4, 4, 4])\n"
     ]
    },
    {
     "name": "stderr",
     "output_type": "stream",
     "text": [
      " 65%|██████▍   | 148/228 [03:35<02:20,  1.76s/it]"
     ]
    },
    {
     "name": "stdout",
     "output_type": "stream",
     "text": [
      "torch.Size([1, 768, 4, 4, 4])\n"
     ]
    },
    {
     "name": "stderr",
     "output_type": "stream",
     "text": [
      " 65%|██████▌   | 149/228 [03:38<02:39,  2.01s/it]"
     ]
    },
    {
     "name": "stdout",
     "output_type": "stream",
     "text": [
      "torch.Size([1, 768, 4, 4, 4])\n"
     ]
    },
    {
     "name": "stderr",
     "output_type": "stream",
     "text": [
      " 66%|██████▌   | 150/228 [03:39<02:18,  1.78s/it]"
     ]
    },
    {
     "name": "stdout",
     "output_type": "stream",
     "text": [
      "torch.Size([1, 768, 4, 4, 4])\n"
     ]
    },
    {
     "name": "stderr",
     "output_type": "stream",
     "text": [
      " 66%|██████▌   | 151/228 [03:42<02:37,  2.05s/it]"
     ]
    },
    {
     "name": "stdout",
     "output_type": "stream",
     "text": [
      "torch.Size([1, 768, 4, 4, 4])\n"
     ]
    },
    {
     "name": "stderr",
     "output_type": "stream",
     "text": [
      " 67%|██████▋   | 152/228 [03:43<02:15,  1.79s/it]"
     ]
    },
    {
     "name": "stdout",
     "output_type": "stream",
     "text": [
      "torch.Size([1, 768, 4, 4, 4])\n"
     ]
    },
    {
     "name": "stderr",
     "output_type": "stream",
     "text": [
      " 67%|██████▋   | 153/228 [03:45<02:24,  1.93s/it]"
     ]
    },
    {
     "name": "stdout",
     "output_type": "stream",
     "text": [
      "torch.Size([1, 768, 4, 4, 4])\n"
     ]
    },
    {
     "name": "stderr",
     "output_type": "stream",
     "text": [
      " 68%|██████▊   | 154/228 [03:46<02:02,  1.65s/it]"
     ]
    },
    {
     "name": "stdout",
     "output_type": "stream",
     "text": [
      "torch.Size([1, 768, 4, 4, 4])\n"
     ]
    },
    {
     "name": "stderr",
     "output_type": "stream",
     "text": [
      " 68%|██████▊   | 155/228 [03:49<02:32,  2.09s/it]"
     ]
    },
    {
     "name": "stdout",
     "output_type": "stream",
     "text": [
      "torch.Size([1, 768, 4, 4, 4])\n"
     ]
    },
    {
     "name": "stderr",
     "output_type": "stream",
     "text": [
      " 68%|██████▊   | 156/228 [03:50<01:51,  1.55s/it]"
     ]
    },
    {
     "name": "stdout",
     "output_type": "stream",
     "text": [
      "torch.Size([1, 768, 4, 4, 4])\n"
     ]
    },
    {
     "name": "stderr",
     "output_type": "stream",
     "text": [
      " 69%|██████▉   | 157/228 [03:53<02:34,  2.17s/it]"
     ]
    },
    {
     "name": "stdout",
     "output_type": "stream",
     "text": [
      "torch.Size([1, 768, 4, 4, 4])\n"
     ]
    },
    {
     "name": "stderr",
     "output_type": "stream",
     "text": [
      " 69%|██████▉   | 158/228 [03:54<01:54,  1.64s/it]"
     ]
    },
    {
     "name": "stdout",
     "output_type": "stream",
     "text": [
      "torch.Size([1, 768, 4, 4, 4])\n"
     ]
    },
    {
     "name": "stderr",
     "output_type": "stream",
     "text": [
      " 70%|██████▉   | 159/228 [03:57<02:28,  2.15s/it]"
     ]
    },
    {
     "name": "stdout",
     "output_type": "stream",
     "text": [
      "torch.Size([1, 768, 4, 4, 4])\n"
     ]
    },
    {
     "name": "stderr",
     "output_type": "stream",
     "text": [
      " 70%|███████   | 160/228 [03:57<01:48,  1.59s/it]"
     ]
    },
    {
     "name": "stdout",
     "output_type": "stream",
     "text": [
      "torch.Size([1, 768, 4, 4, 4])\n"
     ]
    },
    {
     "name": "stderr",
     "output_type": "stream",
     "text": [
      " 71%|███████   | 161/228 [04:01<02:18,  2.06s/it]"
     ]
    },
    {
     "name": "stdout",
     "output_type": "stream",
     "text": [
      "torch.Size([1, 768, 4, 4, 4])\n"
     ]
    },
    {
     "name": "stderr",
     "output_type": "stream",
     "text": [
      " 71%|███████   | 162/228 [04:01<01:42,  1.56s/it]"
     ]
    },
    {
     "name": "stdout",
     "output_type": "stream",
     "text": [
      "torch.Size([1, 768, 4, 4, 4])\n"
     ]
    },
    {
     "name": "stderr",
     "output_type": "stream",
     "text": [
      " 71%|███████▏  | 163/228 [04:04<02:02,  1.88s/it]"
     ]
    },
    {
     "name": "stdout",
     "output_type": "stream",
     "text": [
      "torch.Size([1, 768, 4, 4, 4])\n"
     ]
    },
    {
     "name": "stderr",
     "output_type": "stream",
     "text": [
      " 72%|███████▏  | 164/228 [04:04<01:35,  1.50s/it]"
     ]
    },
    {
     "name": "stdout",
     "output_type": "stream",
     "text": [
      "torch.Size([1, 768, 4, 4, 4])\n"
     ]
    },
    {
     "name": "stderr",
     "output_type": "stream",
     "text": [
      " 72%|███████▏  | 165/228 [04:08<02:12,  2.11s/it]"
     ]
    },
    {
     "name": "stdout",
     "output_type": "stream",
     "text": [
      "torch.Size([1, 768, 4, 4, 4])\n"
     ]
    },
    {
     "name": "stderr",
     "output_type": "stream",
     "text": [
      " 73%|███████▎  | 166/228 [04:08<01:39,  1.60s/it]"
     ]
    },
    {
     "name": "stdout",
     "output_type": "stream",
     "text": [
      "torch.Size([1, 768, 4, 4, 4])\n"
     ]
    },
    {
     "name": "stderr",
     "output_type": "stream",
     "text": [
      " 73%|███████▎  | 167/228 [04:11<02:03,  2.02s/it]"
     ]
    },
    {
     "name": "stdout",
     "output_type": "stream",
     "text": [
      "torch.Size([1, 768, 4, 4, 4])\n"
     ]
    },
    {
     "name": "stderr",
     "output_type": "stream",
     "text": [
      " 74%|███████▎  | 168/228 [04:12<01:37,  1.63s/it]"
     ]
    },
    {
     "name": "stdout",
     "output_type": "stream",
     "text": [
      "torch.Size([1, 768, 4, 4, 4])\n"
     ]
    },
    {
     "name": "stderr",
     "output_type": "stream",
     "text": [
      " 74%|███████▍  | 169/228 [04:14<01:47,  1.82s/it]"
     ]
    },
    {
     "name": "stdout",
     "output_type": "stream",
     "text": [
      "torch.Size([1, 768, 4, 4, 4])\n"
     ]
    },
    {
     "name": "stderr",
     "output_type": "stream",
     "text": [
      " 75%|███████▍  | 170/228 [04:15<01:33,  1.62s/it]"
     ]
    },
    {
     "name": "stdout",
     "output_type": "stream",
     "text": [
      "torch.Size([1, 768, 4, 4, 4])\n"
     ]
    },
    {
     "name": "stderr",
     "output_type": "stream",
     "text": [
      " 75%|███████▌  | 171/228 [04:17<01:42,  1.79s/it]"
     ]
    },
    {
     "name": "stdout",
     "output_type": "stream",
     "text": [
      "torch.Size([1, 768, 4, 4, 4])\n"
     ]
    },
    {
     "name": "stderr",
     "output_type": "stream",
     "text": [
      " 75%|███████▌  | 172/228 [04:19<01:34,  1.69s/it]"
     ]
    },
    {
     "name": "stdout",
     "output_type": "stream",
     "text": [
      "torch.Size([1, 768, 4, 4, 4])\n"
     ]
    },
    {
     "name": "stderr",
     "output_type": "stream",
     "text": [
      " 76%|███████▌  | 173/228 [04:22<01:48,  1.97s/it]"
     ]
    },
    {
     "name": "stdout",
     "output_type": "stream",
     "text": [
      "torch.Size([1, 768, 4, 4, 4])\n"
     ]
    },
    {
     "name": "stderr",
     "output_type": "stream",
     "text": [
      " 76%|███████▋  | 174/228 [04:23<01:44,  1.94s/it]"
     ]
    },
    {
     "name": "stdout",
     "output_type": "stream",
     "text": [
      "torch.Size([1, 768, 4, 4, 4])\n"
     ]
    },
    {
     "name": "stderr",
     "output_type": "stream",
     "text": [
      " 77%|███████▋  | 175/228 [04:26<01:57,  2.22s/it]"
     ]
    },
    {
     "name": "stdout",
     "output_type": "stream",
     "text": [
      "torch.Size([1, 768, 4, 4, 4])\n"
     ]
    },
    {
     "name": "stderr",
     "output_type": "stream",
     "text": [
      " 77%|███████▋  | 176/228 [04:27<01:37,  1.87s/it]"
     ]
    },
    {
     "name": "stdout",
     "output_type": "stream",
     "text": [
      "torch.Size([1, 768, 4, 4, 4])\n"
     ]
    },
    {
     "name": "stderr",
     "output_type": "stream",
     "text": [
      " 78%|███████▊  | 177/228 [04:30<01:51,  2.18s/it]"
     ]
    },
    {
     "name": "stdout",
     "output_type": "stream",
     "text": [
      "torch.Size([1, 768, 4, 4, 4])\n"
     ]
    },
    {
     "name": "stderr",
     "output_type": "stream",
     "text": [
      " 78%|███████▊  | 178/228 [04:31<01:23,  1.66s/it]"
     ]
    },
    {
     "name": "stdout",
     "output_type": "stream",
     "text": [
      "torch.Size([1, 768, 4, 4, 4])\n"
     ]
    },
    {
     "name": "stderr",
     "output_type": "stream",
     "text": [
      " 79%|███████▊  | 179/228 [04:34<01:42,  2.09s/it]"
     ]
    },
    {
     "name": "stdout",
     "output_type": "stream",
     "text": [
      "torch.Size([1, 768, 4, 4, 4])\n"
     ]
    },
    {
     "name": "stderr",
     "output_type": "stream",
     "text": [
      " 79%|███████▉  | 180/228 [04:34<01:14,  1.56s/it]"
     ]
    },
    {
     "name": "stdout",
     "output_type": "stream",
     "text": [
      "torch.Size([1, 768, 4, 4, 4])\n"
     ]
    },
    {
     "name": "stderr",
     "output_type": "stream",
     "text": [
      " 79%|███████▉  | 181/228 [04:37<01:34,  2.01s/it]"
     ]
    },
    {
     "name": "stdout",
     "output_type": "stream",
     "text": [
      "torch.Size([1, 768, 4, 4, 4])\n"
     ]
    },
    {
     "name": "stderr",
     "output_type": "stream",
     "text": [
      " 80%|███████▉  | 182/228 [04:37<01:08,  1.50s/it]"
     ]
    },
    {
     "name": "stdout",
     "output_type": "stream",
     "text": [
      "torch.Size([1, 768, 4, 4, 4])\n"
     ]
    },
    {
     "name": "stderr",
     "output_type": "stream",
     "text": [
      " 80%|████████  | 183/228 [04:41<01:28,  1.97s/it]"
     ]
    },
    {
     "name": "stdout",
     "output_type": "stream",
     "text": [
      "torch.Size([1, 768, 4, 4, 4])\n"
     ]
    },
    {
     "name": "stderr",
     "output_type": "stream",
     "text": [
      " 81%|████████  | 184/228 [04:41<01:08,  1.56s/it]"
     ]
    },
    {
     "name": "stdout",
     "output_type": "stream",
     "text": [
      "torch.Size([1, 768, 4, 4, 4])\n"
     ]
    },
    {
     "name": "stderr",
     "output_type": "stream",
     "text": [
      " 81%|████████  | 185/228 [04:44<01:18,  1.83s/it]"
     ]
    },
    {
     "name": "stdout",
     "output_type": "stream",
     "text": [
      "torch.Size([1, 768, 4, 4, 4])\n"
     ]
    },
    {
     "name": "stderr",
     "output_type": "stream",
     "text": [
      " 82%|████████▏ | 186/228 [04:44<01:03,  1.52s/it]"
     ]
    },
    {
     "name": "stdout",
     "output_type": "stream",
     "text": [
      "torch.Size([1, 768, 4, 4, 4])\n"
     ]
    },
    {
     "name": "stderr",
     "output_type": "stream",
     "text": [
      " 82%|████████▏ | 187/228 [04:47<01:11,  1.74s/it]"
     ]
    },
    {
     "name": "stdout",
     "output_type": "stream",
     "text": [
      "torch.Size([1, 768, 4, 4, 4])\n"
     ]
    },
    {
     "name": "stderr",
     "output_type": "stream",
     "text": [
      " 82%|████████▏ | 188/228 [04:48<01:04,  1.62s/it]"
     ]
    },
    {
     "name": "stdout",
     "output_type": "stream",
     "text": [
      "torch.Size([1, 768, 4, 4, 4])\n"
     ]
    },
    {
     "name": "stderr",
     "output_type": "stream",
     "text": [
      " 83%|████████▎ | 189/228 [04:50<01:06,  1.69s/it]"
     ]
    },
    {
     "name": "stdout",
     "output_type": "stream",
     "text": [
      "torch.Size([1, 768, 4, 4, 4])\n"
     ]
    },
    {
     "name": "stderr",
     "output_type": "stream",
     "text": [
      " 83%|████████▎ | 190/228 [04:51<00:58,  1.55s/it]"
     ]
    },
    {
     "name": "stdout",
     "output_type": "stream",
     "text": [
      "torch.Size([1, 768, 4, 4, 4])\n"
     ]
    },
    {
     "name": "stderr",
     "output_type": "stream",
     "text": [
      " 84%|████████▍ | 191/228 [04:52<00:55,  1.51s/it]"
     ]
    },
    {
     "name": "stdout",
     "output_type": "stream",
     "text": [
      "torch.Size([1, 768, 4, 4, 4])\n"
     ]
    },
    {
     "name": "stderr",
     "output_type": "stream",
     "text": [
      " 84%|████████▍ | 192/228 [04:53<00:46,  1.30s/it]"
     ]
    },
    {
     "name": "stdout",
     "output_type": "stream",
     "text": [
      "torch.Size([1, 768, 4, 4, 4])\n"
     ]
    },
    {
     "name": "stderr",
     "output_type": "stream",
     "text": [
      " 85%|████████▍ | 193/228 [04:55<00:51,  1.48s/it]"
     ]
    },
    {
     "name": "stdout",
     "output_type": "stream",
     "text": [
      "torch.Size([1, 768, 4, 4, 4])\n"
     ]
    },
    {
     "name": "stderr",
     "output_type": "stream",
     "text": [
      " 85%|████████▌ | 194/228 [04:56<00:39,  1.17s/it]"
     ]
    },
    {
     "name": "stdout",
     "output_type": "stream",
     "text": [
      "torch.Size([1, 768, 4, 4, 4])\n"
     ]
    },
    {
     "name": "stderr",
     "output_type": "stream",
     "text": [
      " 86%|████████▌ | 195/228 [04:58<00:47,  1.45s/it]"
     ]
    },
    {
     "name": "stdout",
     "output_type": "stream",
     "text": [
      "torch.Size([1, 768, 4, 4, 4])\n"
     ]
    },
    {
     "name": "stderr",
     "output_type": "stream",
     "text": [
      " 86%|████████▌ | 196/228 [04:58<00:35,  1.10s/it]"
     ]
    },
    {
     "name": "stdout",
     "output_type": "stream",
     "text": [
      "torch.Size([1, 768, 4, 4, 4])\n"
     ]
    },
    {
     "name": "stderr",
     "output_type": "stream",
     "text": [
      " 86%|████████▋ | 197/228 [05:00<00:39,  1.28s/it]"
     ]
    },
    {
     "name": "stdout",
     "output_type": "stream",
     "text": [
      "torch.Size([1, 768, 4, 4, 4])\n"
     ]
    },
    {
     "name": "stderr",
     "output_type": "stream",
     "text": [
      " 87%|████████▋ | 198/228 [05:00<00:30,  1.02s/it]"
     ]
    },
    {
     "name": "stdout",
     "output_type": "stream",
     "text": [
      "torch.Size([1, 768, 4, 4, 4])\n"
     ]
    },
    {
     "name": "stderr",
     "output_type": "stream",
     "text": [
      " 87%|████████▋ | 199/228 [05:04<00:51,  1.77s/it]"
     ]
    },
    {
     "name": "stdout",
     "output_type": "stream",
     "text": [
      "torch.Size([1, 768, 4, 4, 4])\n"
     ]
    },
    {
     "name": "stderr",
     "output_type": "stream",
     "text": [
      " 88%|████████▊ | 200/228 [05:04<00:36,  1.31s/it]"
     ]
    },
    {
     "name": "stdout",
     "output_type": "stream",
     "text": [
      "torch.Size([1, 768, 4, 4, 4])\n"
     ]
    },
    {
     "name": "stderr",
     "output_type": "stream",
     "text": [
      " 88%|████████▊ | 201/228 [05:06<00:38,  1.44s/it]"
     ]
    },
    {
     "name": "stdout",
     "output_type": "stream",
     "text": [
      "torch.Size([1, 768, 4, 4, 4])\n"
     ]
    },
    {
     "name": "stderr",
     "output_type": "stream",
     "text": [
      " 89%|████████▊ | 202/228 [05:06<00:28,  1.09s/it]"
     ]
    },
    {
     "name": "stdout",
     "output_type": "stream",
     "text": [
      "torch.Size([1, 768, 4, 4, 4])\n"
     ]
    },
    {
     "name": "stderr",
     "output_type": "stream",
     "text": [
      " 89%|████████▉ | 203/228 [05:08<00:33,  1.33s/it]"
     ]
    },
    {
     "name": "stdout",
     "output_type": "stream",
     "text": [
      "torch.Size([1, 768, 4, 4, 4])\n"
     ]
    },
    {
     "name": "stderr",
     "output_type": "stream",
     "text": [
      " 89%|████████▉ | 204/228 [05:08<00:24,  1.01s/it]"
     ]
    },
    {
     "name": "stdout",
     "output_type": "stream",
     "text": [
      "torch.Size([1, 768, 4, 4, 4])\n"
     ]
    },
    {
     "name": "stderr",
     "output_type": "stream",
     "text": [
      " 90%|████████▉ | 205/228 [05:10<00:26,  1.17s/it]"
     ]
    },
    {
     "name": "stdout",
     "output_type": "stream",
     "text": [
      "torch.Size([1, 768, 4, 4, 4])\n"
     ]
    },
    {
     "name": "stderr",
     "output_type": "stream",
     "text": [
      " 90%|█████████ | 206/228 [05:10<00:19,  1.11it/s]"
     ]
    },
    {
     "name": "stdout",
     "output_type": "stream",
     "text": [
      "torch.Size([1, 768, 4, 4, 4])\n"
     ]
    },
    {
     "name": "stderr",
     "output_type": "stream",
     "text": [
      " 91%|█████████ | 207/228 [05:11<00:23,  1.10s/it]"
     ]
    },
    {
     "name": "stdout",
     "output_type": "stream",
     "text": [
      "torch.Size([1, 768, 4, 4, 4])\n"
     ]
    },
    {
     "name": "stderr",
     "output_type": "stream",
     "text": [
      " 91%|█████████ | 208/228 [05:12<00:17,  1.17it/s]"
     ]
    },
    {
     "name": "stdout",
     "output_type": "stream",
     "text": [
      "torch.Size([1, 768, 4, 4, 4])\n"
     ]
    },
    {
     "name": "stderr",
     "output_type": "stream",
     "text": [
      " 92%|█████████▏| 209/228 [05:14<00:24,  1.30s/it]"
     ]
    },
    {
     "name": "stdout",
     "output_type": "stream",
     "text": [
      "torch.Size([1, 768, 4, 4, 4])\n"
     ]
    },
    {
     "name": "stderr",
     "output_type": "stream",
     "text": [
      " 92%|█████████▏| 210/228 [05:14<00:17,  1.01it/s]"
     ]
    },
    {
     "name": "stdout",
     "output_type": "stream",
     "text": [
      "torch.Size([1, 768, 4, 4, 4])\n"
     ]
    },
    {
     "name": "stderr",
     "output_type": "stream",
     "text": [
      " 93%|█████████▎| 211/228 [05:16<00:21,  1.29s/it]"
     ]
    },
    {
     "name": "stdout",
     "output_type": "stream",
     "text": [
      "torch.Size([1, 768, 4, 4, 4])\n"
     ]
    },
    {
     "name": "stderr",
     "output_type": "stream",
     "text": [
      " 93%|█████████▎| 212/228 [05:17<00:15,  1.02it/s]"
     ]
    },
    {
     "name": "stdout",
     "output_type": "stream",
     "text": [
      "torch.Size([1, 768, 4, 4, 4])\n"
     ]
    },
    {
     "name": "stderr",
     "output_type": "stream",
     "text": [
      " 93%|█████████▎| 213/228 [05:18<00:17,  1.20s/it]"
     ]
    },
    {
     "name": "stdout",
     "output_type": "stream",
     "text": [
      "torch.Size([1, 768, 4, 4, 4])\n"
     ]
    },
    {
     "name": "stderr",
     "output_type": "stream",
     "text": [
      " 94%|█████████▍| 214/228 [05:19<00:12,  1.09it/s]"
     ]
    },
    {
     "name": "stdout",
     "output_type": "stream",
     "text": [
      "torch.Size([1, 768, 4, 4, 4])\n"
     ]
    },
    {
     "name": "stderr",
     "output_type": "stream",
     "text": [
      " 94%|█████████▍| 215/228 [05:20<00:14,  1.14s/it]"
     ]
    },
    {
     "name": "stdout",
     "output_type": "stream",
     "text": [
      "torch.Size([1, 768, 4, 4, 4])\n"
     ]
    },
    {
     "name": "stderr",
     "output_type": "stream",
     "text": [
      " 95%|█████████▍| 216/228 [05:20<00:10,  1.14it/s]"
     ]
    },
    {
     "name": "stdout",
     "output_type": "stream",
     "text": [
      "torch.Size([1, 768, 4, 4, 4])\n"
     ]
    },
    {
     "name": "stderr",
     "output_type": "stream",
     "text": [
      " 95%|█████████▌| 217/228 [05:22<00:12,  1.15s/it]"
     ]
    },
    {
     "name": "stdout",
     "output_type": "stream",
     "text": [
      "torch.Size([1, 768, 4, 4, 4])\n"
     ]
    },
    {
     "name": "stderr",
     "output_type": "stream",
     "text": [
      " 96%|█████████▌| 218/228 [05:22<00:08,  1.13it/s]"
     ]
    },
    {
     "name": "stdout",
     "output_type": "stream",
     "text": [
      "torch.Size([1, 768, 4, 4, 4])\n"
     ]
    },
    {
     "name": "stderr",
     "output_type": "stream",
     "text": [
      " 96%|█████████▌| 219/228 [05:24<00:10,  1.13s/it]"
     ]
    },
    {
     "name": "stdout",
     "output_type": "stream",
     "text": [
      "torch.Size([1, 768, 4, 4, 4])\n"
     ]
    },
    {
     "name": "stderr",
     "output_type": "stream",
     "text": [
      " 96%|█████████▋| 220/228 [05:24<00:06,  1.14it/s]"
     ]
    },
    {
     "name": "stdout",
     "output_type": "stream",
     "text": [
      "torch.Size([1, 768, 4, 4, 4])\n"
     ]
    },
    {
     "name": "stderr",
     "output_type": "stream",
     "text": [
      " 97%|█████████▋| 221/228 [05:26<00:06,  1.03it/s]"
     ]
    },
    {
     "name": "stdout",
     "output_type": "stream",
     "text": [
      "torch.Size([1, 768, 4, 4, 4])\n"
     ]
    },
    {
     "name": "stderr",
     "output_type": "stream",
     "text": [
      " 97%|█████████▋| 222/228 [05:26<00:04,  1.32it/s]"
     ]
    },
    {
     "name": "stdout",
     "output_type": "stream",
     "text": [
      "torch.Size([1, 768, 4, 4, 4])\n"
     ]
    },
    {
     "name": "stderr",
     "output_type": "stream",
     "text": [
      " 98%|█████████▊| 223/228 [05:28<00:05,  1.03s/it]"
     ]
    },
    {
     "name": "stdout",
     "output_type": "stream",
     "text": [
      "torch.Size([1, 768, 4, 4, 4])\n"
     ]
    },
    {
     "name": "stderr",
     "output_type": "stream",
     "text": [
      " 98%|█████████▊| 224/228 [05:28<00:03,  1.25it/s]"
     ]
    },
    {
     "name": "stdout",
     "output_type": "stream",
     "text": [
      "torch.Size([1, 768, 4, 4, 4])\n"
     ]
    },
    {
     "name": "stderr",
     "output_type": "stream",
     "text": [
      " 99%|█████████▊| 225/228 [05:29<00:03,  1.04s/it]"
     ]
    },
    {
     "name": "stdout",
     "output_type": "stream",
     "text": [
      "torch.Size([1, 768, 4, 4, 4])\n"
     ]
    },
    {
     "name": "stderr",
     "output_type": "stream",
     "text": [
      " 99%|█████████▉| 226/228 [05:30<00:01,  1.24it/s]"
     ]
    },
    {
     "name": "stdout",
     "output_type": "stream",
     "text": [
      "torch.Size([1, 768, 4, 4, 4])\n"
     ]
    },
    {
     "name": "stderr",
     "output_type": "stream",
     "text": [
      "100%|█████████▉| 227/228 [05:31<00:00,  1.21it/s]"
     ]
    },
    {
     "name": "stdout",
     "output_type": "stream",
     "text": [
      "torch.Size([1, 768, 4, 4, 4])\n"
     ]
    },
    {
     "name": "stderr",
     "output_type": "stream",
     "text": [
      "100%|██████████| 228/228 [05:31<00:00,  1.45s/it]"
     ]
    },
    {
     "name": "stdout",
     "output_type": "stream",
     "text": [
      "torch.Size([1, 768, 4, 4, 4])\n",
      "torch.Size([1, 768, 4, 4, 4])\n"
     ]
    },
    {
     "name": "stderr",
     "output_type": "stream",
     "text": [
      "\n"
     ]
    }
   ],
   "source": [
    "# get the mean of each modality features\n",
    "import torch\n",
    "from glob import glob\n",
    "import os\n",
    "import config\n",
    "from monai.data import ImageDataset,DataLoader\n",
    "import utils.utils as utils\n",
    "from nets.multimodal_swinunetr import Multimodal_SwinUNETR\n",
    "from nets.mm_ldmv2 import mm_ldmv2\n",
    "from monai.transforms import (Lambda,\n",
    "                               Compose, EnsureChannelFirst,\n",
    "                                 RandSpatialCrop, RandRotate90, \n",
    "                                 NormalizeIntensity, RandAdjustContrast,\n",
    "                                   RandZoom, RandFlip, RandGaussianNoise,\n",
    "                                     RandGaussianSmooth, RandAdjustContrast,\n",
    "                                     ConvertToMultiChannelBasedOnBratsClasses,\n",
    "                                     RandScaleIntensity, RandShiftIntensity\n",
    "                                )\n",
    "from monai.transforms import Activations, AsDiscrete, Compose\n",
    "from tqdm import tqdm\n",
    "\n",
    "Training_config = config.Training_config()\n",
    "Database_config = config.Database_config\n",
    "chosen_ds = Training_config.dataset_to_train[0]\n",
    "channel_indices = []\n",
    "modalities_to_train = Training_config.modalities_to_train\n",
    "for _m in modalities_to_train:\n",
    "    channel_indices.append(Database_config.channels[chosen_ds].index(_m))\n",
    "\n",
    "img_path=Database_config.img_path[chosen_ds]\n",
    "seg_path=Database_config.seg_path[chosen_ds]\n",
    "\n",
    "images= sorted(glob(os.path.join(img_path, \"*.*\")))\n",
    "segs = sorted(glob(os.path.join(seg_path,\"*.*\"))) \n",
    "\n",
    "train_images, train_segs, val_images, val_segs = utils.separate_paths(images,\n",
    "                                                                    segs,\n",
    "                                                                    Database_config.split_path[chosen_ds][\"train\"],\n",
    "                                                                    Database_config.split_path[chosen_ds][\"val\"])\n",
    "\n",
    "\n",
    "def select_channels(x):\n",
    "    if x.ndim == 4:\n",
    "        return x[..., channel_indices]\n",
    "    else:\n",
    "        return x\n",
    "imtrans = Compose(\n",
    "        [   Lambda(select_channels),\n",
    "            EnsureChannelFirst(strict_check=True),\n",
    "            NormalizeIntensity(nonzero=True,channel_wise=True),\n",
    "            #RandFlip(prob=0.5,spatial_axis=[0, 1, 2]),\n",
    "            #RandGaussianNoise(prob=0.15, mean=0.0, std= 0.33),\n",
    "            #RandGaussianSmooth(prob=0.15, sigma_x=(0.5, 1.5),sigma_y=(0.5, 1.5),sigma_z=(0.5, 1.5)),\n",
    "            #RandAdjustContrast(prob=0.15, gamma=(0.7, 1.3)),\n",
    "            #RandScaleIntensity(factors=0.1, prob=1.0),\n",
    "            #RandShiftIntensity(offsets=0.1, prob=1.0),\n",
    "            RandSpatialCrop((128, 128, 128), random_size=False)            \n",
    "        ])\n",
    "labeltrans = Compose(\n",
    "        [   Lambda(select_channels),\n",
    "            EnsureChannelFirst(strict_check=True),\n",
    "            #ConvertToMultiChannelBasedOnBratsClassesCustom(),\n",
    "            #RandFlip(prob=0.5,spatial_axis=[0, 1, 2]),\n",
    "            RandSpatialCrop((128, 128, 128), random_size=False),\n",
    "            RandRotate90(prob=0.1, spatial_axes=(0, 2))\n",
    "        ])\n",
    "_ds = ImageDataset(train_images, train_segs, transform=imtrans, seg_transform=labeltrans)\n",
    "_loader = DataLoader(_ds, batch_size=1, drop_last=True, shuffle=True, num_workers=2, pin_memory=0)\n",
    "\n",
    "device=\"cuda:2\"\n",
    "#load_model_path = \"/data/hjlee/orhun/thesis/models/mm12_sd_ds_dicece/mm12_sd_ds_dicece_checkpoint_Epoch_50.pt\"\n",
    "load_model_path = \"/data/hjlee/orhun/thesis/models/mm12_sd_ds_dicece_rd_EXPtpconv/mm12_sd_ds_dicece_rd_EXPtpconv_BEST_ET.pth\"\n",
    "\n",
    "swinunetr = Multimodal_SwinUNETR(\n",
    "                img_size=(128, 128, 128),\n",
    "                in_channels=1, \n",
    "                out_channels=3,\n",
    "                feature_size=12,\n",
    "                deep_supervision=True,\n",
    "                sep_dec=True,\n",
    "                tp_conv=True,\n",
    "                dec_upsample = False\n",
    "                )\n",
    "\n",
    "#checkpoint = torch.load(load_model_path, map_location=torch.device(device))[\"model_state_dict\"]\n",
    "checkpoint = torch.load(load_model_path, map_location=torch.device(device))\n",
    "\n",
    "swinunetr.load_state_dict(checkpoint)\n",
    "swinunetr.to(device)\n",
    "swinunetr.eval()\n",
    "swinunetr.is_training = False\n",
    "\n",
    "\n",
    "mean_tensor = torch.zeros((1, 768, 4, 4, 4)).to(device)\n",
    "step = 0\n",
    "for batch in tqdm(_loader):\n",
    "    input_data = batch[0].to(device)\n",
    "    with torch.no_grad():\n",
    "        c_hidden_states_out_m1 = swinunetr.swinViT_1(input_data[:,0:1,:,:], normalize=True)[4]\n",
    "        c_hidden_states_out_m2 = swinunetr.swinViT_2(input_data[:,1:2,:,:], normalize=True)[4]\n",
    "        c_hidden_states_out_m3 = swinunetr.swinViT_3(input_data[:,2:3,:,:], normalize=True)[4]\n",
    "        c_hidden_states_out_m4 = swinunetr.swinViT_4(input_data[:,3:4,:,:], normalize=True)[4]\n",
    "        c_dec4_m1 = swinunetr.encoder10_1(c_hidden_states_out_m1)\n",
    "        c_dec4_m2 = swinunetr.encoder10_2(c_hidden_states_out_m2)\n",
    "        c_dec4_m3 = swinunetr.encoder10_3(c_hidden_states_out_m3)\n",
    "        c_dec4_m4 = swinunetr.encoder10_4(c_hidden_states_out_m4)\n",
    "\n",
    "        complete_modality_features  = torch.cat((c_dec4_m1, c_dec4_m2, c_dec4_m3, c_dec4_m4), dim=1) # ([B, 4 * fs*16, 8, 8])\n",
    "    print(complete_modality_features.shape)\n",
    "    mean_tensor += (complete_modality_features - mean_tensor) / (step + 1)\n",
    "    step +=1\n",
    "\n",
    "print(mean_tensor.shape)\n",
    "\n",
    "torch.save(mean_tensor, \"mean_features_mm12_sd_ds_separate_768_4_4_4.pt\")"
   ]
  },
  {
   "cell_type": "code",
   "execution_count": 1,
   "metadata": {},
   "outputs": [],
   "source": [
    "import torch\n",
    "\n",
    "mean_feature = torch.load(\"/mnt/disk1/hjlee/orhun/repo/thesis/mean_features_1536_4_4_4.pt\")"
   ]
  },
  {
   "cell_type": "code",
   "execution_count": 3,
   "metadata": {},
   "outputs": [
    {
     "data": {
      "text/plain": [
       "torch.Size([1, 1536, 4, 4, 4])"
      ]
     },
     "execution_count": 3,
     "metadata": {},
     "output_type": "execute_result"
    }
   ],
   "source": [
    "mean_feature.shape"
   ]
  },
  {
   "cell_type": "code",
   "execution_count": 11,
   "metadata": {},
   "outputs": [
    {
     "data": {
      "text/plain": [
       "(4, 192, 192, 192)"
      ]
     },
     "execution_count": 11,
     "metadata": {},
     "output_type": "execute_result"
    }
   ],
   "source": [
    "\n",
    "import nibabel as nib\n",
    "\n",
    "# Load the .nii.gz file\n",
    "nii_image = nib.load(\"/data/hjlee/orhun/data/BRATS18/BRATS18_Preprocessed_P_N/Images/Brats18_2013_0_1.nii.gz\")\n",
    "\n",
    "# Get the data as a NumPy array\n",
    "image_data = nii_image.get_fdata()\n",
    "image_data.shape"
   ]
  },
  {
   "cell_type": "code",
   "execution_count": 2,
   "metadata": {},
   "outputs": [
    {
     "name": "stdout",
     "output_type": "stream",
     "text": [
      "File: /data/hjlee/orhun/data/BRATS18/BRATS18_Preprocessed_C/Training/Images/Brats18_TCIA08_105_1.nii.gz, Shape: (133, 159, 136, 4)\n",
      "File: /data/hjlee/orhun/data/BRATS18/BRATS18_Preprocessed_C/Training/Images/Brats18_CBICA_AAG_1.nii.gz, Shape: (133, 186, 139, 4)\n",
      "File: /data/hjlee/orhun/data/BRATS18/BRATS18_Preprocessed_C/Training/Images/Brats18_TCIA13_642_1.nii.gz, Shape: (136, 182, 140, 4)\n",
      "File: /data/hjlee/orhun/data/BRATS18/BRATS18_Preprocessed_C/Training/Images/Brats18_TCIA10_640_1.nii.gz, Shape: (143, 175, 132, 4)\n",
      "File: /data/hjlee/orhun/data/BRATS18/BRATS18_Preprocessed_C/Training/Images/Brats18_CBICA_ANG_1.nii.gz, Shape: (132, 175, 139, 4)\n",
      "File: /data/hjlee/orhun/data/BRATS18/BRATS18_Preprocessed_C/Training/Images/Brats18_TCIA06_211_1.nii.gz, Shape: (129, 169, 134, 4)\n",
      "File: /data/hjlee/orhun/data/BRATS18/BRATS18_Preprocessed_C/Training/Images/Brats18_CBICA_AQT_1.nii.gz, Shape: (141, 161, 134, 4)\n",
      "File: /data/hjlee/orhun/data/BRATS18/BRATS18_Preprocessed_C/Training/Images/Brats18_CBICA_AUN_1.nii.gz, Shape: (129, 159, 145, 4)\n",
      "File: /data/hjlee/orhun/data/BRATS18/BRATS18_Preprocessed_C/Training/Images/Brats18_TCIA09_254_1.nii.gz, Shape: (140, 164, 138, 4)\n",
      "File: /data/hjlee/orhun/data/BRATS18/BRATS18_Preprocessed_C/Training/Images/Brats18_TCIA05_478_1.nii.gz, Shape: (151, 168, 129, 4)\n",
      "File: /data/hjlee/orhun/data/BRATS18/BRATS18_Preprocessed_C/Training/Images/Brats18_TCIA02_608_1.nii.gz, Shape: (141, 165, 138, 4)\n",
      "File: /data/hjlee/orhun/data/BRATS18/BRATS18_Preprocessed_C/Training/Images/Brats18_TCIA01_448_1.nii.gz, Shape: (131, 151, 137, 4)\n",
      "File: /data/hjlee/orhun/data/BRATS18/BRATS18_Preprocessed_C/Training/Images/Brats18_TCIA08_162_1.nii.gz, Shape: (133, 166, 138, 4)\n",
      "File: /data/hjlee/orhun/data/BRATS18/BRATS18_Preprocessed_C/Training/Images/Brats18_2013_27_1.nii.gz, Shape: (148, 165, 141, 4)\n",
      "File: /data/hjlee/orhun/data/BRATS18/BRATS18_Preprocessed_C/Training/Images/Brats18_TCIA03_257_1.nii.gz, Shape: (144, 174, 137, 4)\n",
      "File: /data/hjlee/orhun/data/BRATS18/BRATS18_Preprocessed_C/Training/Images/Brats18_CBICA_ABM_1.nii.gz, Shape: (138, 169, 137, 4)\n",
      "File: /data/hjlee/orhun/data/BRATS18/BRATS18_Preprocessed_C/Training/Images/Brats18_CBICA_AQD_1.nii.gz, Shape: (131, 160, 137, 4)\n",
      "File: /data/hjlee/orhun/data/BRATS18/BRATS18_Preprocessed_C/Training/Images/Brats18_TCIA10_408_1.nii.gz, Shape: (140, 173, 140, 4)\n",
      "File: /data/hjlee/orhun/data/BRATS18/BRATS18_Preprocessed_C/Training/Images/Brats18_TCIA04_361_1.nii.gz, Shape: (136, 157, 140, 4)\n",
      "File: /data/hjlee/orhun/data/BRATS18/BRATS18_Preprocessed_C/Training/Images/Brats18_TCIA02_168_1.nii.gz, Shape: (147, 175, 145, 4)\n",
      "File: /data/hjlee/orhun/data/BRATS18/BRATS18_Preprocessed_C/Training/Images/Brats18_CBICA_AXJ_1.nii.gz, Shape: (131, 174, 138, 4)\n",
      "File: /data/hjlee/orhun/data/BRATS18/BRATS18_Preprocessed_C/Training/Images/Brats18_TCIA01_412_1.nii.gz, Shape: (138, 164, 141, 4)\n",
      "File: /data/hjlee/orhun/data/BRATS18/BRATS18_Preprocessed_C/Training/Images/Brats18_CBICA_ABE_1.nii.gz, Shape: (132, 176, 140, 4)\n",
      "File: /data/hjlee/orhun/data/BRATS18/BRATS18_Preprocessed_C/Training/Images/Brats18_TCIA08_167_1.nii.gz, Shape: (143, 163, 134, 4)\n",
      "File: /data/hjlee/orhun/data/BRATS18/BRATS18_Preprocessed_C/Training/Images/Brats18_CBICA_ALN_1.nii.gz, Shape: (151, 159, 141, 4)\n",
      "File: /data/hjlee/orhun/data/BRATS18/BRATS18_Preprocessed_C/Training/Images/Brats18_TCIA04_479_1.nii.gz, Shape: (136, 166, 135, 4)\n",
      "File: /data/hjlee/orhun/data/BRATS18/BRATS18_Preprocessed_C/Training/Images/Brats18_TCIA08_205_1.nii.gz, Shape: (131, 179, 145, 4)\n",
      "File: /data/hjlee/orhun/data/BRATS18/BRATS18_Preprocessed_C/Training/Images/Brats18_CBICA_ABB_1.nii.gz, Shape: (132, 174, 139, 4)\n",
      "File: /data/hjlee/orhun/data/BRATS18/BRATS18_Preprocessed_C/Training/Images/Brats18_CBICA_AOP_1.nii.gz, Shape: (129, 167, 146, 4)\n",
      "File: /data/hjlee/orhun/data/BRATS18/BRATS18_Preprocessed_C/Training/Images/Brats18_TCIA12_249_1.nii.gz, Shape: (138, 167, 143, 4)\n",
      "File: /data/hjlee/orhun/data/BRATS18/BRATS18_Preprocessed_C/Training/Images/Brats18_TCIA13_624_1.nii.gz, Shape: (133, 177, 139, 4)\n",
      "File: /data/hjlee/orhun/data/BRATS18/BRATS18_Preprocessed_C/Training/Images/Brats18_TCIA08_242_1.nii.gz, Shape: (141, 165, 131, 4)\n",
      "File: /data/hjlee/orhun/data/BRATS18/BRATS18_Preprocessed_C/Training/Images/Brats18_TCIA10_307_1.nii.gz, Shape: (136, 173, 142, 4)\n",
      "File: /data/hjlee/orhun/data/BRATS18/BRATS18_Preprocessed_C/Training/Images/Brats18_TCIA09_428_1.nii.gz, Shape: (133, 175, 134, 4)\n",
      "File: /data/hjlee/orhun/data/BRATS18/BRATS18_Preprocessed_C/Training/Images/Brats18_CBICA_AZD_1.nii.gz, Shape: (135, 169, 139, 4)\n",
      "File: /data/hjlee/orhun/data/BRATS18/BRATS18_Preprocessed_C/Training/Images/Brats18_2013_11_1.nii.gz, Shape: (142, 164, 142, 4)\n",
      "File: /data/hjlee/orhun/data/BRATS18/BRATS18_Preprocessed_C/Training/Images/Brats18_TCIA13_645_1.nii.gz, Shape: (132, 181, 132, 4)\n",
      "File: /data/hjlee/orhun/data/BRATS18/BRATS18_Preprocessed_C/Training/Images/Brats18_TCIA03_474_1.nii.gz, Shape: (137, 172, 136, 4)\n",
      "File: /data/hjlee/orhun/data/BRATS18/BRATS18_Preprocessed_C/Training/Images/Brats18_TCIA01_401_1.nii.gz, Shape: (138, 166, 139, 4)\n",
      "File: /data/hjlee/orhun/data/BRATS18/BRATS18_Preprocessed_C/Training/Images/Brats18_TCIA09_402_1.nii.gz, Shape: (137, 180, 144, 4)\n",
      "File: /data/hjlee/orhun/data/BRATS18/BRATS18_Preprocessed_C/Training/Images/Brats18_TCIA03_338_1.nii.gz, Shape: (141, 162, 136, 4)\n",
      "File: /data/hjlee/orhun/data/BRATS18/BRATS18_Preprocessed_C/Training/Images/Brats18_TCIA02_491_1.nii.gz, Shape: (140, 168, 141, 4)\n",
      "File: /data/hjlee/orhun/data/BRATS18/BRATS18_Preprocessed_C/Training/Images/Brats18_2013_23_1.nii.gz, Shape: (138, 176, 136, 4)\n",
      "File: /data/hjlee/orhun/data/BRATS18/BRATS18_Preprocessed_C/Training/Images/Brats18_TCIA08_234_1.nii.gz, Shape: (139, 175, 134, 4)\n",
      "File: /data/hjlee/orhun/data/BRATS18/BRATS18_Preprocessed_C/Training/Images/Brats18_2013_10_1.nii.gz, Shape: (135, 175, 131, 4)\n",
      "File: /data/hjlee/orhun/data/BRATS18/BRATS18_Preprocessed_C/Training/Images/Brats18_TCIA02_377_1.nii.gz, Shape: (141, 156, 130, 4)\n",
      "File: /data/hjlee/orhun/data/BRATS18/BRATS18_Preprocessed_C/Training/Images/Brats18_2013_14_1.nii.gz, Shape: (140, 173, 134, 4)\n",
      "File: /data/hjlee/orhun/data/BRATS18/BRATS18_Preprocessed_C/Training/Images/Brats18_TCIA01_186_1.nii.gz, Shape: (134, 168, 138, 4)\n",
      "File: /data/hjlee/orhun/data/BRATS18/BRATS18_Preprocessed_C/Training/Images/Brats18_2013_17_1.nii.gz, Shape: (144, 182, 143, 4)\n",
      "File: /data/hjlee/orhun/data/BRATS18/BRATS18_Preprocessed_C/Training/Images/Brats18_TCIA02_606_1.nii.gz, Shape: (133, 168, 142, 4)\n",
      "File: /data/hjlee/orhun/data/BRATS18/BRATS18_Preprocessed_C/Training/Images/Brats18_TCIA10_628_1.nii.gz, Shape: (137, 172, 139, 4)\n",
      "File: /data/hjlee/orhun/data/BRATS18/BRATS18_Preprocessed_C/Training/Images/Brats18_TCIA01_499_1.nii.gz, Shape: (140, 170, 136, 4)\n",
      "File: /data/hjlee/orhun/data/BRATS18/BRATS18_Preprocessed_C/Training/Images/Brats18_TCIA08_469_1.nii.gz, Shape: (143, 179, 141, 4)\n",
      "File: /data/hjlee/orhun/data/BRATS18/BRATS18_Preprocessed_C/Training/Images/Brats18_TCIA10_276_1.nii.gz, Shape: (134, 170, 137, 4)\n",
      "File: /data/hjlee/orhun/data/BRATS18/BRATS18_Preprocessed_C/Training/Images/Brats18_CBICA_AYA_1.nii.gz, Shape: (129, 172, 139, 4)\n",
      "File: /data/hjlee/orhun/data/BRATS18/BRATS18_Preprocessed_C/Training/Images/Brats18_2013_8_1.nii.gz, Shape: (150, 167, 139, 4)\n",
      "File: /data/hjlee/orhun/data/BRATS18/BRATS18_Preprocessed_C/Training/Images/Brats18_TCIA02_314_1.nii.gz, Shape: (140, 172, 138, 4)\n",
      "File: /data/hjlee/orhun/data/BRATS18/BRATS18_Preprocessed_C/Training/Images/Brats18_2013_16_1.nii.gz, Shape: (144, 175, 134, 4)\n",
      "File: /data/hjlee/orhun/data/BRATS18/BRATS18_Preprocessed_C/Training/Images/Brats18_TCIA13_633_1.nii.gz, Shape: (143, 175, 137, 4)\n",
      "File: /data/hjlee/orhun/data/BRATS18/BRATS18_Preprocessed_C/Training/Images/Brats18_TCIA01_235_1.nii.gz, Shape: (139, 170, 134, 4)\n",
      "File: /data/hjlee/orhun/data/BRATS18/BRATS18_Preprocessed_C/Training/Images/Brats18_CBICA_AAL_1.nii.gz, Shape: (128, 162, 134, 4)\n",
      "File: /data/hjlee/orhun/data/BRATS18/BRATS18_Preprocessed_C/Training/Images/Brats18_TCIA08_280_1.nii.gz, Shape: (140, 172, 135, 4)\n",
      "File: /data/hjlee/orhun/data/BRATS18/BRATS18_Preprocessed_C/Training/Images/Brats18_CBICA_ABN_1.nii.gz, Shape: (139, 178, 137, 4)\n",
      "File: /data/hjlee/orhun/data/BRATS18/BRATS18_Preprocessed_C/Training/Images/Brats18_2013_2_1.nii.gz, Shape: (141, 178, 128, 4)\n",
      "File: /data/hjlee/orhun/data/BRATS18/BRATS18_Preprocessed_C/Training/Images/Brats18_TCIA09_620_1.nii.gz, Shape: (144, 181, 139, 4)\n",
      "File: /data/hjlee/orhun/data/BRATS18/BRATS18_Preprocessed_C/Training/Images/Brats18_TCIA12_466_1.nii.gz, Shape: (140, 170, 140, 4)\n",
      "File: /data/hjlee/orhun/data/BRATS18/BRATS18_Preprocessed_C/Training/Images/Brats18_CBICA_AOH_1.nii.gz, Shape: (132, 156, 135, 4)\n",
      "File: /data/hjlee/orhun/data/BRATS18/BRATS18_Preprocessed_C/Training/Images/Brats18_TCIA10_109_1.nii.gz, Shape: (146, 168, 135, 4)\n",
      "File: /data/hjlee/orhun/data/BRATS18/BRATS18_Preprocessed_C/Training/Images/Brats18_TCIA08_218_1.nii.gz, Shape: (135, 163, 138, 4)\n",
      "File: /data/hjlee/orhun/data/BRATS18/BRATS18_Preprocessed_C/Training/Images/Brats18_TCIA10_241_1.nii.gz, Shape: (137, 165, 129, 4)\n",
      "File: /data/hjlee/orhun/data/BRATS18/BRATS18_Preprocessed_C/Training/Images/Brats18_TCIA10_637_1.nii.gz, Shape: (133, 169, 133, 4)\n",
      "File: /data/hjlee/orhun/data/BRATS18/BRATS18_Preprocessed_C/Training/Images/Brats18_2013_0_1.nii.gz, Shape: (132, 158, 132, 4)\n",
      "File: /data/hjlee/orhun/data/BRATS18/BRATS18_Preprocessed_C/Training/Images/Brats18_TCIA01_231_1.nii.gz, Shape: (133, 160, 134, 4)\n",
      "File: /data/hjlee/orhun/data/BRATS18/BRATS18_Preprocessed_C/Training/Images/Brats18_TCIA04_328_1.nii.gz, Shape: (138, 170, 136, 4)\n",
      "File: /data/hjlee/orhun/data/BRATS18/BRATS18_Preprocessed_C/Training/Images/Brats18_CBICA_AQY_1.nii.gz, Shape: (136, 186, 139, 4)\n",
      "File: /data/hjlee/orhun/data/BRATS18/BRATS18_Preprocessed_C/Training/Images/Brats18_TCIA01_390_1.nii.gz, Shape: (134, 156, 143, 4)\n",
      "File: /data/hjlee/orhun/data/BRATS18/BRATS18_Preprocessed_C/Training/Images/Brats18_TCIA04_343_1.nii.gz, Shape: (142, 168, 136, 4)\n",
      "File: /data/hjlee/orhun/data/BRATS18/BRATS18_Preprocessed_C/Training/Images/Brats18_2013_24_1.nii.gz, Shape: (140, 164, 129, 4)\n",
      "File: /data/hjlee/orhun/data/BRATS18/BRATS18_Preprocessed_C/Training/Images/Brats18_TCIA04_149_1.nii.gz, Shape: (132, 167, 142, 4)\n",
      "File: /data/hjlee/orhun/data/BRATS18/BRATS18_Preprocessed_C/Training/Images/Brats18_CBICA_AWI_1.nii.gz, Shape: (131, 184, 141, 4)\n",
      "File: /data/hjlee/orhun/data/BRATS18/BRATS18_Preprocessed_C/Training/Images/Brats18_TCIA08_436_1.nii.gz, Shape: (133, 166, 134, 4)\n",
      "File: /data/hjlee/orhun/data/BRATS18/BRATS18_Preprocessed_C/Training/Images/Brats18_CBICA_AQZ_1.nii.gz, Shape: (142, 164, 140, 4)\n",
      "File: /data/hjlee/orhun/data/BRATS18/BRATS18_Preprocessed_C/Training/Images/Brats18_CBICA_ASV_1.nii.gz, Shape: (135, 185, 139, 4)\n",
      "File: /data/hjlee/orhun/data/BRATS18/BRATS18_Preprocessed_C/Training/Images/Brats18_TCIA03_121_1.nii.gz, Shape: (132, 158, 133, 4)\n",
      "File: /data/hjlee/orhun/data/BRATS18/BRATS18_Preprocessed_C/Training/Images/Brats18_TCIA13_650_1.nii.gz, Shape: (137, 164, 138, 4)\n",
      "File: /data/hjlee/orhun/data/BRATS18/BRATS18_Preprocessed_C/Training/Images/Brats18_TCIA10_261_1.nii.gz, Shape: (139, 164, 129, 4)\n",
      "File: /data/hjlee/orhun/data/BRATS18/BRATS18_Preprocessed_C/Training/Images/Brats18_TCIA02_331_1.nii.gz, Shape: (136, 161, 129, 4)\n",
      "File: /data/hjlee/orhun/data/BRATS18/BRATS18_Preprocessed_C/Training/Images/Brats18_TCIA10_351_1.nii.gz, Shape: (139, 165, 137, 4)\n",
      "File: /data/hjlee/orhun/data/BRATS18/BRATS18_Preprocessed_C/Training/Images/Brats18_CBICA_ASK_1.nii.gz, Shape: (139, 177, 140, 4)\n",
      "File: /data/hjlee/orhun/data/BRATS18/BRATS18_Preprocessed_C/Training/Images/Brats18_TCIA01_190_1.nii.gz, Shape: (133, 166, 140, 4)\n",
      "File: /data/hjlee/orhun/data/BRATS18/BRATS18_Preprocessed_C/Training/Images/Brats18_TCIA02_605_1.nii.gz, Shape: (134, 172, 138, 4)\n",
      "File: /data/hjlee/orhun/data/BRATS18/BRATS18_Preprocessed_C/Training/Images/Brats18_TCIA08_406_1.nii.gz, Shape: (139, 168, 140, 4)\n",
      "File: /data/hjlee/orhun/data/BRATS18/BRATS18_Preprocessed_C/Training/Images/Brats18_TCIA02_607_1.nii.gz, Shape: (132, 176, 135, 4)\n",
      "File: /data/hjlee/orhun/data/BRATS18/BRATS18_Preprocessed_C/Training/Images/Brats18_TCIA02_321_1.nii.gz, Shape: (138, 168, 130, 4)\n",
      "File: /data/hjlee/orhun/data/BRATS18/BRATS18_Preprocessed_C/Training/Images/Brats18_TCIA02_198_1.nii.gz, Shape: (139, 172, 135, 4)\n",
      "File: /data/hjlee/orhun/data/BRATS18/BRATS18_Preprocessed_C/Training/Images/Brats18_TCIA03_138_1.nii.gz, Shape: (138, 170, 137, 4)\n",
      "File: /data/hjlee/orhun/data/BRATS18/BRATS18_Preprocessed_C/Training/Images/Brats18_TCIA10_330_1.nii.gz, Shape: (136, 160, 138, 4)\n",
      "File: /data/hjlee/orhun/data/BRATS18/BRATS18_Preprocessed_C/Training/Images/Brats18_CBICA_AQU_1.nii.gz, Shape: (129, 171, 138, 4)\n",
      "File: /data/hjlee/orhun/data/BRATS18/BRATS18_Preprocessed_C/Training/Images/Brats18_TCIA03_133_1.nii.gz, Shape: (146, 164, 138, 4)\n",
      "File: /data/hjlee/orhun/data/BRATS18/BRATS18_Preprocessed_C/Training/Images/Brats18_TCIA06_247_1.nii.gz, Shape: (141, 167, 131, 4)\n",
      "File: /data/hjlee/orhun/data/BRATS18/BRATS18_Preprocessed_C/Training/Images/Brats18_TCIA10_625_1.nii.gz, Shape: (132, 179, 143, 4)\n",
      "File: /data/hjlee/orhun/data/BRATS18/BRATS18_Preprocessed_C/Training/Images/Brats18_TCIA12_470_1.nii.gz, Shape: (144, 167, 136, 4)\n",
      "File: /data/hjlee/orhun/data/BRATS18/BRATS18_Preprocessed_C/Training/Images/Brats18_TCIA06_603_1.nii.gz, Shape: (130, 171, 145, 4)\n",
      "File: /data/hjlee/orhun/data/BRATS18/BRATS18_Preprocessed_C/Training/Images/Brats18_2013_6_1.nii.gz, Shape: (143, 166, 132, 4)\n",
      "File: /data/hjlee/orhun/data/BRATS18/BRATS18_Preprocessed_C/Training/Images/Brats18_TCIA13_654_1.nii.gz, Shape: (145, 188, 138, 4)\n",
      "File: /data/hjlee/orhun/data/BRATS18/BRATS18_Preprocessed_C/Training/Images/Brats18_TCIA02_374_1.nii.gz, Shape: (133, 171, 138, 4)\n",
      "File: /data/hjlee/orhun/data/BRATS18/BRATS18_Preprocessed_C/Training/Images/Brats18_TCIA12_101_1.nii.gz, Shape: (143, 170, 140, 4)\n",
      "File: /data/hjlee/orhun/data/BRATS18/BRATS18_Preprocessed_C/Training/Images/Brats18_TCIA02_290_1.nii.gz, Shape: (137, 167, 135, 4)\n",
      "File: /data/hjlee/orhun/data/BRATS18/BRATS18_Preprocessed_C/Training/Images/Brats18_CBICA_AAB_1.nii.gz, Shape: (136, 172, 134, 4)\n",
      "File: /data/hjlee/orhun/data/BRATS18/BRATS18_Preprocessed_C/Training/Images/Brats18_TCIA13_621_1.nii.gz, Shape: (134, 172, 138, 4)\n",
      "File: /data/hjlee/orhun/data/BRATS18/BRATS18_Preprocessed_C/Training/Images/Brats18_TCIA10_449_1.nii.gz, Shape: (132, 166, 133, 4)\n",
      "File: /data/hjlee/orhun/data/BRATS18/BRATS18_Preprocessed_C/Training/Images/Brats18_TCIA09_493_1.nii.gz, Shape: (135, 157, 134, 4)\n",
      "File: /data/hjlee/orhun/data/BRATS18/BRATS18_Preprocessed_C/Training/Images/Brats18_CBICA_ATF_1.nii.gz, Shape: (136, 173, 142, 4)\n",
      "File: /data/hjlee/orhun/data/BRATS18/BRATS18_Preprocessed_C/Training/Images/Brats18_TCIA04_111_1.nii.gz, Shape: (137, 170, 129, 4)\n",
      "File: /data/hjlee/orhun/data/BRATS18/BRATS18_Preprocessed_C/Training/Images/Brats18_2013_26_1.nii.gz, Shape: (140, 179, 128, 4)\n",
      "File: /data/hjlee/orhun/data/BRATS18/BRATS18_Preprocessed_C/Training/Images/Brats18_TCIA02_283_1.nii.gz, Shape: (139, 161, 132, 4)\n",
      "File: /data/hjlee/orhun/data/BRATS18/BRATS18_Preprocessed_C/Training/Images/Brats18_TCIA10_420_1.nii.gz, Shape: (132, 171, 136, 4)\n",
      "File: /data/hjlee/orhun/data/BRATS18/BRATS18_Preprocessed_C/Training/Images/Brats18_TCIA09_255_1.nii.gz, Shape: (133, 171, 138, 4)\n",
      "File: /data/hjlee/orhun/data/BRATS18/BRATS18_Preprocessed_C/Training/Images/Brats18_TCIA13_630_1.nii.gz, Shape: (134, 161, 134, 4)\n",
      "File: /data/hjlee/orhun/data/BRATS18/BRATS18_Preprocessed_C/Training/Images/Brats18_TCIA03_296_1.nii.gz, Shape: (139, 167, 139, 4)\n",
      "File: /data/hjlee/orhun/data/BRATS18/BRATS18_Preprocessed_C/Training/Images/Brats18_CBICA_ATD_1.nii.gz, Shape: (128, 156, 133, 4)\n",
      "File: /data/hjlee/orhun/data/BRATS18/BRATS18_Preprocessed_C/Training/Images/Brats18_TCIA03_375_1.nii.gz, Shape: (134, 161, 131, 4)\n",
      "File: /data/hjlee/orhun/data/BRATS18/BRATS18_Preprocessed_C/Training/Images/Brats18_TCIA01_411_1.nii.gz, Shape: (137, 171, 139, 4)\n",
      "File: /data/hjlee/orhun/data/BRATS18/BRATS18_Preprocessed_C/Training/Images/Brats18_CBICA_ASG_1.nii.gz, Shape: (138, 177, 145, 4)\n",
      "File: /data/hjlee/orhun/data/BRATS18/BRATS18_Preprocessed_C/Training/Images/Brats18_CBICA_AQP_1.nii.gz, Shape: (128, 161, 143, 4)\n",
      "File: /data/hjlee/orhun/data/BRATS18/BRATS18_Preprocessed_C/Training/Images/Brats18_TCIA03_199_1.nii.gz, Shape: (135, 174, 141, 4)\n",
      "File: /data/hjlee/orhun/data/BRATS18/BRATS18_Preprocessed_C/Training/Images/Brats18_TCIA09_141_1.nii.gz, Shape: (135, 160, 138, 4)\n",
      "File: /data/hjlee/orhun/data/BRATS18/BRATS18_Preprocessed_C/Training/Images/Brats18_CBICA_AOZ_1.nii.gz, Shape: (137, 169, 143, 4)\n",
      "File: /data/hjlee/orhun/data/BRATS18/BRATS18_Preprocessed_C/Training/Images/Brats18_2013_28_1.nii.gz, Shape: (148, 160, 132, 4)\n",
      "File: /data/hjlee/orhun/data/BRATS18/BRATS18_Preprocessed_C/Training/Images/Brats18_CBICA_ANZ_1.nii.gz, Shape: (132, 166, 136, 4)\n",
      "File: /data/hjlee/orhun/data/BRATS18/BRATS18_Preprocessed_C/Training/Images/Brats18_TCIA10_442_1.nii.gz, Shape: (137, 174, 139, 4)\n",
      "File: /data/hjlee/orhun/data/BRATS18/BRATS18_Preprocessed_C/Training/Images/Brats18_2013_18_1.nii.gz, Shape: (145, 176, 139, 4)\n",
      "File: /data/hjlee/orhun/data/BRATS18/BRATS18_Preprocessed_C/Training/Images/Brats18_TCIA02_471_1.nii.gz, Shape: (138, 160, 137, 4)\n",
      "File: /data/hjlee/orhun/data/BRATS18/BRATS18_Preprocessed_C/Training/Images/Brats18_CBICA_APR_1.nii.gz, Shape: (130, 159, 138, 4)\n",
      "File: /data/hjlee/orhun/data/BRATS18/BRATS18_Preprocessed_C/Training/Images/Brats18_CBICA_AAP_1.nii.gz, Shape: (134, 181, 139, 4)\n",
      "File: /data/hjlee/orhun/data/BRATS18/BRATS18_Preprocessed_C/Training/Images/Brats18_TCIA02_151_1.nii.gz, Shape: (137, 152, 138, 4)\n",
      "File: /data/hjlee/orhun/data/BRATS18/BRATS18_Preprocessed_C/Training/Images/Brats18_CBICA_AME_1.nii.gz, Shape: (140, 178, 142, 4)\n",
      "File: /data/hjlee/orhun/data/BRATS18/BRATS18_Preprocessed_C/Training/Images/Brats18_TCIA10_325_1.nii.gz, Shape: (135, 173, 137, 4)\n",
      "File: /data/hjlee/orhun/data/BRATS18/BRATS18_Preprocessed_C/Training/Images/Brats18_TCIA10_282_1.nii.gz, Shape: (134, 173, 135, 4)\n",
      "File: /data/hjlee/orhun/data/BRATS18/BRATS18_Preprocessed_C/Training/Images/Brats18_TCIA03_419_1.nii.gz, Shape: (139, 165, 140, 4)\n",
      "File: /data/hjlee/orhun/data/BRATS18/BRATS18_Preprocessed_C/Training/Images/Brats18_TCIA01_203_1.nii.gz, Shape: (135, 162, 136, 4)\n",
      "File: /data/hjlee/orhun/data/BRATS18/BRATS18_Preprocessed_C/Training/Images/Brats18_CBICA_AXN_1.nii.gz, Shape: (146, 165, 137, 4)\n",
      "File: /data/hjlee/orhun/data/BRATS18/BRATS18_Preprocessed_C/Training/Images/Brats18_CBICA_ASE_1.nii.gz, Shape: (132, 173, 142, 4)\n",
      "File: /data/hjlee/orhun/data/BRATS18/BRATS18_Preprocessed_C/Training/Images/Brats18_2013_25_1.nii.gz, Shape: (143, 170, 135, 4)\n",
      "File: /data/hjlee/orhun/data/BRATS18/BRATS18_Preprocessed_C/Training/Images/Brats18_2013_5_1.nii.gz, Shape: (141, 175, 145, 4)\n",
      "File: /data/hjlee/orhun/data/BRATS18/BRATS18_Preprocessed_C/Training/Images/Brats18_TCIA01_147_1.nii.gz, Shape: (144, 169, 137, 4)\n",
      "File: /data/hjlee/orhun/data/BRATS18/BRATS18_Preprocessed_C/Training/Images/Brats18_TCIA04_192_1.nii.gz, Shape: (132, 168, 129, 4)\n",
      "File: /data/hjlee/orhun/data/BRATS18/BRATS18_Preprocessed_C/Training/Images/Brats18_TCIA08_113_1.nii.gz, Shape: (128, 156, 128, 4)\n",
      "File: /data/hjlee/orhun/data/BRATS18/BRATS18_Preprocessed_C/Training/Images/Brats18_TCIA01_335_1.nii.gz, Shape: (138, 172, 139, 4)\n",
      "File: /data/hjlee/orhun/data/BRATS18/BRATS18_Preprocessed_C/Training/Images/Brats18_TCIA08_319_1.nii.gz, Shape: (135, 160, 138, 4)\n",
      "File: /data/hjlee/orhun/data/BRATS18/BRATS18_Preprocessed_C/Training/Images/Brats18_CBICA_AQO_1.nii.gz, Shape: (132, 166, 139, 4)\n",
      "File: /data/hjlee/orhun/data/BRATS18/BRATS18_Preprocessed_C/Training/Images/Brats18_CBICA_AVJ_1.nii.gz, Shape: (138, 173, 136, 4)\n",
      "File: /data/hjlee/orhun/data/BRATS18/BRATS18_Preprocessed_C/Training/Images/Brats18_TCIA10_387_1.nii.gz, Shape: (138, 163, 130, 4)\n",
      "File: /data/hjlee/orhun/data/BRATS18/BRATS18_Preprocessed_C/Training/Images/Brats18_CBICA_ATB_1.nii.gz, Shape: (128, 161, 135, 4)\n",
      "File: /data/hjlee/orhun/data/BRATS18/BRATS18_Preprocessed_C/Training/Images/Brats18_2013_29_1.nii.gz, Shape: (136, 162, 137, 4)\n",
      "File: /data/hjlee/orhun/data/BRATS18/BRATS18_Preprocessed_C/Training/Images/Brats18_TCIA12_480_1.nii.gz, Shape: (136, 175, 139, 4)\n",
      "File: /data/hjlee/orhun/data/BRATS18/BRATS18_Preprocessed_C/Training/Images/Brats18_CBICA_AYW_1.nii.gz, Shape: (140, 173, 135, 4)\n",
      "File: /data/hjlee/orhun/data/BRATS18/BRATS18_Preprocessed_C/Training/Images/Brats18_CBICA_ARF_1.nii.gz, Shape: (141, 164, 141, 4)\n",
      "File: /data/hjlee/orhun/data/BRATS18/BRATS18_Preprocessed_C/Training/Images/Brats18_TCIA13_634_1.nii.gz, Shape: (133, 159, 142, 4)\n",
      "File: /data/hjlee/orhun/data/BRATS18/BRATS18_Preprocessed_C/Training/Images/Brats18_TCIA06_184_1.nii.gz, Shape: (135, 167, 141, 4)\n",
      "File: /data/hjlee/orhun/data/BRATS18/BRATS18_Preprocessed_C/Training/Images/Brats18_TCIA06_409_1.nii.gz, Shape: (141, 158, 137, 4)\n",
      "File: /data/hjlee/orhun/data/BRATS18/BRATS18_Preprocessed_C/Training/Images/Brats18_TCIA01_221_1.nii.gz, Shape: (130, 166, 139, 4)\n",
      "File: /data/hjlee/orhun/data/BRATS18/BRATS18_Preprocessed_C/Training/Images/Brats18_TCIA10_152_1.nii.gz, Shape: (132, 159, 137, 4)\n",
      "File: /data/hjlee/orhun/data/BRATS18/BRATS18_Preprocessed_C/Training/Images/Brats18_TCIA05_277_1.nii.gz, Shape: (136, 173, 136, 4)\n",
      "File: /data/hjlee/orhun/data/BRATS18/BRATS18_Preprocessed_C/Training/Images/Brats18_TCIA09_462_1.nii.gz, Shape: (133, 165, 139, 4)\n",
      "File: /data/hjlee/orhun/data/BRATS18/BRATS18_Preprocessed_C/Training/Images/Brats18_TCIA10_202_1.nii.gz, Shape: (132, 169, 133, 4)\n",
      "File: /data/hjlee/orhun/data/BRATS18/BRATS18_Preprocessed_C/Training/Images/Brats18_CBICA_AXO_1.nii.gz, Shape: (137, 186, 142, 4)\n",
      "File: /data/hjlee/orhun/data/BRATS18/BRATS18_Preprocessed_C/Training/Images/Brats18_TCIA01_460_1.nii.gz, Shape: (132, 162, 143, 4)\n",
      "File: /data/hjlee/orhun/data/BRATS18/BRATS18_Preprocessed_C/Training/Images/Brats18_CBICA_AYU_1.nii.gz, Shape: (130, 172, 140, 4)\n",
      "File: /data/hjlee/orhun/data/BRATS18/BRATS18_Preprocessed_C/Training/Images/Brats18_TCIA13_623_1.nii.gz, Shape: (138, 162, 139, 4)\n",
      "File: /data/hjlee/orhun/data/BRATS18/BRATS18_Preprocessed_C/Training/Images/Brats18_2013_3_1.nii.gz, Shape: (143, 154, 136, 4)\n",
      "File: /data/hjlee/orhun/data/BRATS18/BRATS18_Preprocessed_C/Training/Images/Brats18_CBICA_AQG_1.nii.gz, Shape: (131, 181, 139, 4)\n",
      "File: /data/hjlee/orhun/data/BRATS18/BRATS18_Preprocessed_C/Training/Images/Brats18_CBICA_AQJ_1.nii.gz, Shape: (139, 176, 144, 4)\n",
      "File: /data/hjlee/orhun/data/BRATS18/BRATS18_Preprocessed_C/Training/Images/Brats18_CBICA_AUR_1.nii.gz, Shape: (128, 166, 136, 4)\n",
      "File: /data/hjlee/orhun/data/BRATS18/BRATS18_Preprocessed_C/Training/Images/Brats18_CBICA_AQA_1.nii.gz, Shape: (143, 178, 141, 4)\n",
      "File: /data/hjlee/orhun/data/BRATS18/BRATS18_Preprocessed_C/Training/Images/Brats18_CBICA_ANI_1.nii.gz, Shape: (139, 176, 140, 4)\n",
      "File: /data/hjlee/orhun/data/BRATS18/BRATS18_Preprocessed_C/Training/Images/Brats18_CBICA_AWG_1.nii.gz, Shape: (134, 177, 140, 4)\n",
      "File: /data/hjlee/orhun/data/BRATS18/BRATS18_Preprocessed_C/Training/Images/Brats18_CBICA_AQQ_1.nii.gz, Shape: (147, 166, 129, 4)\n",
      "File: /data/hjlee/orhun/data/BRATS18/BRATS18_Preprocessed_C/Training/Images/Brats18_TCIA05_444_1.nii.gz, Shape: (138, 176, 133, 4)\n",
      "File: /data/hjlee/orhun/data/BRATS18/BRATS18_Preprocessed_C/Training/Images/Brats18_2013_7_1.nii.gz, Shape: (136, 158, 131, 4)\n",
      "File: /data/hjlee/orhun/data/BRATS18/BRATS18_Preprocessed_C/Training/Images/Brats18_TCIA02_222_1.nii.gz, Shape: (141, 163, 137, 4)\n",
      "File: /data/hjlee/orhun/data/BRATS18/BRATS18_Preprocessed_C/Training/Images/Brats18_CBICA_ASA_1.nii.gz, Shape: (134, 161, 135, 4)\n",
      "File: /data/hjlee/orhun/data/BRATS18/BRATS18_Preprocessed_C/Training/Images/Brats18_TCIA01_429_1.nii.gz, Shape: (147, 152, 131, 4)\n",
      "File: /data/hjlee/orhun/data/BRATS18/BRATS18_Preprocessed_C/Training/Images/Brats18_CBICA_ASH_1.nii.gz, Shape: (130, 175, 142, 4)\n",
      "File: /data/hjlee/orhun/data/BRATS18/BRATS18_Preprocessed_C/Training/Images/Brats18_CBICA_AVG_1.nii.gz, Shape: (139, 165, 136, 4)\n",
      "File: /data/hjlee/orhun/data/BRATS18/BRATS18_Preprocessed_C/Training/Images/Brats18_TCIA10_266_1.nii.gz, Shape: (135, 167, 136, 4)\n",
      "File: /data/hjlee/orhun/data/BRATS18/BRATS18_Preprocessed_C/Training/Images/Brats18_TCIA02_300_1.nii.gz, Shape: (137, 166, 135, 4)\n",
      "File: /data/hjlee/orhun/data/BRATS18/BRATS18_Preprocessed_C/Training/Images/Brats18_CBICA_ALU_1.nii.gz, Shape: (137, 177, 142, 4)\n",
      "File: /data/hjlee/orhun/data/BRATS18/BRATS18_Preprocessed_C/Training/Images/Brats18_CBICA_ABY_1.nii.gz, Shape: (129, 170, 140, 4)\n",
      "File: /data/hjlee/orhun/data/BRATS18/BRATS18_Preprocessed_C/Training/Images/Brats18_CBICA_ASW_1.nii.gz, Shape: (129, 168, 139, 4)\n",
      "File: /data/hjlee/orhun/data/BRATS18/BRATS18_Preprocessed_C/Training/Images/Brats18_TCIA02_368_1.nii.gz, Shape: (144, 167, 136, 4)\n",
      "File: /data/hjlee/orhun/data/BRATS18/BRATS18_Preprocessed_C/Training/Images/Brats18_TCIA02_455_1.nii.gz, Shape: (137, 175, 138, 4)\n",
      "File: /data/hjlee/orhun/data/BRATS18/BRATS18_Preprocessed_C/Training/Images/Brats18_CBICA_AXW_1.nii.gz, Shape: (137, 168, 136, 4)\n",
      "File: /data/hjlee/orhun/data/BRATS18/BRATS18_Preprocessed_C/Training/Images/Brats18_2013_9_1.nii.gz, Shape: (130, 170, 144, 4)\n",
      "File: /data/hjlee/orhun/data/BRATS18/BRATS18_Preprocessed_C/Training/Images/Brats18_TCIA02_135_1.nii.gz, Shape: (140, 174, 136, 4)\n",
      "File: /data/hjlee/orhun/data/BRATS18/BRATS18_Preprocessed_C/Training/Images/Brats18_CBICA_ATP_1.nii.gz, Shape: (130, 172, 135, 4)\n",
      "File: /data/hjlee/orhun/data/BRATS18/BRATS18_Preprocessed_C/Training/Images/Brats18_CBICA_BFB_1.nii.gz, Shape: (138, 166, 143, 4)\n",
      "File: /data/hjlee/orhun/data/BRATS18/BRATS18_Preprocessed_C/Training/Images/Brats18_CBICA_ASU_1.nii.gz, Shape: (141, 166, 137, 4)\n",
      "File: /data/hjlee/orhun/data/BRATS18/BRATS18_Preprocessed_C/Training/Images/Brats18_TCIA02_118_1.nii.gz, Shape: (134, 160, 133, 4)\n",
      "File: /data/hjlee/orhun/data/BRATS18/BRATS18_Preprocessed_C/Training/Images/Brats18_CBICA_ASO_1.nii.gz, Shape: (133, 164, 143, 4)\n",
      "File: /data/hjlee/orhun/data/BRATS18/BRATS18_Preprocessed_C/Training/Images/Brats18_CBICA_ABO_1.nii.gz, Shape: (129, 169, 143, 4)\n",
      "File: /data/hjlee/orhun/data/BRATS18/BRATS18_Preprocessed_C/Training/Images/Brats18_TCIA01_378_1.nii.gz, Shape: (145, 164, 135, 4)\n",
      "File: /data/hjlee/orhun/data/BRATS18/BRATS18_Preprocessed_C/Training/Images/Brats18_TCIA10_310_1.nii.gz, Shape: (128, 158, 131, 4)\n",
      "File: /data/hjlee/orhun/data/BRATS18/BRATS18_Preprocessed_C/Training/Images/Brats18_2013_19_1.nii.gz, Shape: (140, 168, 137, 4)\n",
      "File: /data/hjlee/orhun/data/BRATS18/BRATS18_Preprocessed_C/Training/Images/Brats18_CBICA_ATX_1.nii.gz, Shape: (132, 175, 136, 4)\n",
      "File: /data/hjlee/orhun/data/BRATS18/BRATS18_Preprocessed_C/Training/Images/Brats18_CBICA_AXL_1.nii.gz, Shape: (133, 167, 135, 4)\n",
      "File: /data/hjlee/orhun/data/BRATS18/BRATS18_Preprocessed_C/Training/Images/Brats18_TCIA13_618_1.nii.gz, Shape: (140, 176, 140, 4)\n",
      "File: /data/hjlee/orhun/data/BRATS18/BRATS18_Preprocessed_C/Training/Images/Brats18_CBICA_AZH_1.nii.gz, Shape: (140, 175, 140, 4)\n",
      "File: /data/hjlee/orhun/data/BRATS18/BRATS18_Preprocessed_C/Training/Images/Brats18_TCIA10_413_1.nii.gz, Shape: (135, 164, 140, 4)\n",
      "File: /data/hjlee/orhun/data/BRATS18/BRATS18_Preprocessed_C/Training/Images/Brats18_2013_4_1.nii.gz, Shape: (143, 168, 134, 4)\n",
      "File: /data/hjlee/orhun/data/BRATS18/BRATS18_Preprocessed_C/Training/Images/Brats18_TCIA13_615_1.nii.gz, Shape: (134, 152, 135, 4)\n",
      "File: /data/hjlee/orhun/data/BRATS18/BRATS18_Preprocessed_C/Training/Images/Brats18_CBICA_AQN_1.nii.gz, Shape: (128, 171, 142, 4)\n",
      "File: /data/hjlee/orhun/data/BRATS18/BRATS18_Preprocessed_C/Training/Images/Brats18_TCIA10_299_1.nii.gz, Shape: (145, 162, 138, 4)\n",
      "File: /data/hjlee/orhun/data/BRATS18/BRATS18_Preprocessed_C/Training/Images/Brats18_TCIA01_201_1.nii.gz, Shape: (143, 170, 132, 4)\n",
      "File: /data/hjlee/orhun/data/BRATS18/BRATS18_Preprocessed_C/Training/Images/Brats18_TCIA10_644_1.nii.gz, Shape: (137, 160, 137, 4)\n",
      "File: /data/hjlee/orhun/data/BRATS18/BRATS18_Preprocessed_C/Training/Images/Brats18_CBICA_AXQ_1.nii.gz, Shape: (129, 149, 135, 4)\n",
      "File: /data/hjlee/orhun/data/BRATS18/BRATS18_Preprocessed_C/Training/Images/Brats18_CBICA_ANP_1.nii.gz, Shape: (136, 166, 135, 4)\n",
      "File: /data/hjlee/orhun/data/BRATS18/BRATS18_Preprocessed_C/Training/Images/Brats18_TCIA02_322_1.nii.gz, Shape: (140, 179, 136, 4)\n",
      "File: /data/hjlee/orhun/data/BRATS18/BRATS18_Preprocessed_C/Training/Images/Brats18_CBICA_AYI_1.nii.gz, Shape: (134, 166, 137, 4)\n",
      "File: /data/hjlee/orhun/data/BRATS18/BRATS18_Preprocessed_C/Training/Images/Brats18_2013_21_1.nii.gz, Shape: (128, 155, 129, 4)\n",
      "File: /data/hjlee/orhun/data/BRATS18/BRATS18_Preprocessed_C/Training/Images/Brats18_CBICA_BHK_1.nii.gz, Shape: (136, 172, 146, 4)\n",
      "File: /data/hjlee/orhun/data/BRATS18/BRATS18_Preprocessed_C/Training/Images/Brats18_TCIA09_451_1.nii.gz, Shape: (136, 162, 134, 4)\n",
      "File: /data/hjlee/orhun/data/BRATS18/BRATS18_Preprocessed_C/Training/Images/Brats18_TCIA04_437_1.nii.gz, Shape: (133, 170, 138, 4)\n",
      "File: /data/hjlee/orhun/data/BRATS18/BRATS18_Preprocessed_C/Training/Images/Brats18_CBICA_ALX_1.nii.gz, Shape: (144, 163, 139, 4)\n",
      "File: /data/hjlee/orhun/data/BRATS18/BRATS18_Preprocessed_C/Training/Images/Brats18_TCIA10_629_1.nii.gz, Shape: (130, 159, 140, 4)\n",
      "File: /data/hjlee/orhun/data/BRATS18/BRATS18_Preprocessed_C/Training/Images/Brats18_TCIA13_653_1.nii.gz, Shape: (144, 184, 139, 4)\n",
      "File: /data/hjlee/orhun/data/BRATS18/BRATS18_Preprocessed_C/Training/Images/Brats18_TCIA10_639_1.nii.gz, Shape: (131, 180, 139, 4)\n",
      "File: /data/hjlee/orhun/data/BRATS18/BRATS18_Preprocessed_C/Training/Images/Brats18_CBICA_AMH_1.nii.gz, Shape: (143, 175, 140, 4)\n",
      "File: /data/hjlee/orhun/data/BRATS18/BRATS18_Preprocessed_C/Training/Images/Brats18_CBICA_BHB_1.nii.gz, Shape: (137, 179, 138, 4)\n",
      "File: /data/hjlee/orhun/data/BRATS18/BRATS18_Preprocessed_C/Training/Images/Brats18_CBICA_AOD_1.nii.gz, Shape: (139, 179, 138, 4)\n",
      "File: /data/hjlee/orhun/data/BRATS18/BRATS18_Preprocessed_C/Training/Images/Brats18_2013_12_1.nii.gz, Shape: (128, 168, 129, 4)\n",
      "File: /data/hjlee/orhun/data/BRATS18/BRATS18_Preprocessed_C/Training/Images/Brats18_2013_22_1.nii.gz, Shape: (156, 163, 138, 4)\n",
      "File: /data/hjlee/orhun/data/BRATS18/BRATS18_Preprocessed_C/Training/Images/Brats18_TCIA01_180_1.nii.gz, Shape: (137, 151, 138, 4)\n",
      "File: /data/hjlee/orhun/data/BRATS18/BRATS18_Preprocessed_C/Training/Images/Brats18_CBICA_BHM_1.nii.gz, Shape: (132, 170, 141, 4)\n",
      "File: /data/hjlee/orhun/data/BRATS18/BRATS18_Preprocessed_C/Training/Images/Brats18_CBICA_APZ_1.nii.gz, Shape: (133, 171, 141, 4)\n",
      "File: /data/hjlee/orhun/data/BRATS18/BRATS18_Preprocessed_C/Training/Images/Brats18_TCIA10_490_1.nii.gz, Shape: (131, 163, 138, 4)\n",
      "File: /data/hjlee/orhun/data/BRATS18/BRATS18_Preprocessed_C/Training/Images/Brats18_TCIA01_131_1.nii.gz, Shape: (149, 163, 130, 4)\n",
      "File: /data/hjlee/orhun/data/BRATS18/BRATS18_Preprocessed_C/Training/Images/Brats18_CBICA_AQR_1.nii.gz, Shape: (136, 157, 138, 4)\n",
      "File: /data/hjlee/orhun/data/BRATS18/BRATS18_Preprocessed_C/Training/Images/Brats18_CBICA_ARW_1.nii.gz, Shape: (145, 167, 143, 4)\n",
      "File: /data/hjlee/orhun/data/BRATS18/BRATS18_Preprocessed_C/Training/Images/Brats18_TCIA09_177_1.nii.gz, Shape: (134, 164, 130, 4)\n",
      "File: /data/hjlee/orhun/data/BRATS18/BRATS18_Preprocessed_C/Training/Images/Brats18_TCIA03_265_1.nii.gz, Shape: (132, 157, 128, 4)\n",
      "File: /data/hjlee/orhun/data/BRATS18/BRATS18_Preprocessed_C/Training/Images/Brats18_CBICA_AQV_1.nii.gz, Shape: (129, 166, 146, 4)\n",
      "File: /data/hjlee/orhun/data/BRATS18/BRATS18_Preprocessed_C/Training/Images/Brats18_TCIA10_130_1.nii.gz, Shape: (134, 162, 135, 4)\n",
      "File: /data/hjlee/orhun/data/BRATS18/BRATS18_Preprocessed_C/Training/Images/Brats18_TCIA06_165_1.nii.gz, Shape: (133, 174, 142, 4)\n",
      "File: /data/hjlee/orhun/data/BRATS18/BRATS18_Preprocessed_C/Training/Images/Brats18_CBICA_AXM_1.nii.gz, Shape: (134, 178, 140, 4)\n",
      "File: /data/hjlee/orhun/data/BRATS18/BRATS18_Preprocessed_C/Training/Images/Brats18_TCIA02_394_1.nii.gz, Shape: (143, 169, 137, 4)\n",
      "File: /data/hjlee/orhun/data/BRATS18/BRATS18_Preprocessed_C/Training/Images/Brats18_TCIA05_396_1.nii.gz, Shape: (135, 171, 129, 4)\n",
      "File: /data/hjlee/orhun/data/BRATS18/BRATS18_Preprocessed_C/Training/Images/Brats18_TCIA02_473_1.nii.gz, Shape: (142, 162, 129, 4)\n",
      "File: /data/hjlee/orhun/data/BRATS18/BRATS18_Preprocessed_C/Training/Images/Brats18_TCIA02_430_1.nii.gz, Shape: (128, 162, 138, 4)\n",
      "File: /data/hjlee/orhun/data/BRATS18/BRATS18_Preprocessed_C/Training/Images/Brats18_TCIA10_103_1.nii.gz, Shape: (144, 162, 136, 4)\n",
      "File: /data/hjlee/orhun/data/BRATS18/BRATS18_Preprocessed_C/Training/Images/Brats18_CBICA_AVV_1.nii.gz, Shape: (139, 171, 144, 4)\n",
      "File: /data/hjlee/orhun/data/BRATS18/BRATS18_Preprocessed_C/Training/Images/Brats18_TCIA10_393_1.nii.gz, Shape: (138, 172, 141, 4)\n",
      "File: /data/hjlee/orhun/data/BRATS18/BRATS18_Preprocessed_C/Training/Images/Brats18_TCIA02_208_1.nii.gz, Shape: (143, 165, 140, 4)\n",
      "File: /data/hjlee/orhun/data/BRATS18/BRATS18_Preprocessed_C/Training/Images/Brats18_TCIA06_332_1.nii.gz, Shape: (139, 171, 137, 4)\n",
      "File: /data/hjlee/orhun/data/BRATS18/BRATS18_Preprocessed_C/Training/Images/Brats18_2013_15_1.nii.gz, Shape: (130, 166, 130, 4)\n",
      "File: /data/hjlee/orhun/data/BRATS18/BRATS18_Preprocessed_C/Training/Images/Brats18_TCIA02_309_1.nii.gz, Shape: (142, 172, 137, 4)\n",
      "File: /data/hjlee/orhun/data/BRATS18/BRATS18_Preprocessed_C/Training/Images/Brats18_TCIA02_179_1.nii.gz, Shape: (135, 169, 138, 4)\n",
      "File: /data/hjlee/orhun/data/BRATS18/BRATS18_Preprocessed_C/Training/Images/Brats18_TCIA10_346_1.nii.gz, Shape: (136, 169, 140, 4)\n",
      "File: /data/hjlee/orhun/data/BRATS18/BRATS18_Preprocessed_C/Training/Images/Brats18_CBICA_BFP_1.nii.gz, Shape: (140, 172, 143, 4)\n",
      "File: /data/hjlee/orhun/data/BRATS18/BRATS18_Preprocessed_C/Training/Images/Brats18_TCIA02_274_1.nii.gz, Shape: (140, 165, 133, 4)\n",
      "File: /data/hjlee/orhun/data/BRATS18/BRATS18_Preprocessed_C/Training/Images/Brats18_2013_20_1.nii.gz, Shape: (145, 174, 145, 4)\n",
      "File: /data/hjlee/orhun/data/BRATS18/BRATS18_Preprocessed_C/Training/Images/Brats18_TCIA01_150_1.nii.gz, Shape: (139, 164, 135, 4)\n",
      "File: /data/hjlee/orhun/data/BRATS18/BRATS18_Preprocessed_C/Training/Images/Brats18_CBICA_ASY_1.nii.gz, Shape: (142, 175, 148, 4)\n",
      "File: /data/hjlee/orhun/data/BRATS18/BRATS18_Preprocessed_C/Training/Images/Brats18_TCIA09_312_1.nii.gz, Shape: (141, 175, 136, 4)\n",
      "File: /data/hjlee/orhun/data/BRATS18/BRATS18_Preprocessed_C/Training/Images/Brats18_TCIA02_370_1.nii.gz, Shape: (133, 166, 136, 4)\n",
      "File: /data/hjlee/orhun/data/BRATS18/BRATS18_Preprocessed_C/Training/Images/Brats18_TCIA10_175_1.nii.gz, Shape: (132, 160, 137, 4)\n",
      "File: /data/hjlee/orhun/data/BRATS18/BRATS18_Preprocessed_C/Training/Images/Brats18_TCIA02_117_1.nii.gz, Shape: (146, 159, 138, 4)\n",
      "File: /data/hjlee/orhun/data/BRATS18/BRATS18_Preprocessed_C/Training/Images/Brats18_TCIA12_298_1.nii.gz, Shape: (137, 158, 130, 4)\n",
      "File: /data/hjlee/orhun/data/BRATS18/BRATS18_Preprocessed_C/Training/Images/Brats18_CBICA_AWH_1.nii.gz, Shape: (128, 174, 128, 4)\n",
      "File: /data/hjlee/orhun/data/BRATS18/BRATS18_Preprocessed_C/Training/Images/Brats18_TCIA01_425_1.nii.gz, Shape: (144, 160, 135, 4)\n",
      "File: /data/hjlee/orhun/data/BRATS18/BRATS18_Preprocessed_C/Training/Images/Brats18_2013_1_1.nii.gz, Shape: (145, 174, 131, 4)\n",
      "File: /data/hjlee/orhun/data/BRATS18/BRATS18_Preprocessed_C/Training/Images/Brats18_TCIA08_278_1.nii.gz, Shape: (131, 155, 136, 4)\n",
      "File: /data/hjlee/orhun/data/BRATS18/BRATS18_Preprocessed_C/Training/Images/Brats18_TCIA10_410_1.nii.gz, Shape: (139, 170, 134, 4)\n",
      "File: /data/hjlee/orhun/data/BRATS18/BRATS18_Preprocessed_C/Training/Images/Brats18_TCIA02_171_1.nii.gz, Shape: (142, 172, 133, 4)\n",
      "File: /data/hjlee/orhun/data/BRATS18/BRATS18_Preprocessed_C/Training/Images/Brats18_TCIA06_372_1.nii.gz, Shape: (149, 159, 139, 4)\n",
      "File: /data/hjlee/orhun/data/BRATS18/BRATS18_Preprocessed_C/Training/Images/Brats18_TCIA02_226_1.nii.gz, Shape: (140, 148, 144, 4)\n",
      "File: /data/hjlee/orhun/data/BRATS18/BRATS18_Preprocessed_C/Training/Images/Brats18_2013_13_1.nii.gz, Shape: (146, 169, 139, 4)\n",
      "File: /data/hjlee/orhun/data/BRATS18/BRATS18_Preprocessed_C/Training/Images/Brats18_CBICA_ARZ_1.nii.gz, Shape: (135, 172, 138, 4)\n",
      "File: /data/hjlee/orhun/data/BRATS18/BRATS18_Preprocessed_C/Training/Images/Brats18_TCIA10_632_1.nii.gz, Shape: (130, 172, 142, 4)\n",
      "File: /data/hjlee/orhun/data/BRATS18/BRATS18_Preprocessed_C/Training/Images/Brats18_CBICA_AOO_1.nii.gz, Shape: (131, 186, 142, 4)\n",
      "File: /data/hjlee/orhun/data/BRATS18/BRATS18_Preprocessed_C/Training/Images/Brats18_CBICA_APY_1.nii.gz, Shape: (140, 183, 141, 4)\n",
      "File: /data/hjlee/orhun/data/BRATS18/BRATS18_Preprocessed_C/Training/Images/Brats18_CBICA_ASN_1.nii.gz, Shape: (136, 172, 143, 4)\n",
      "File: /data/hjlee/orhun/data/BRATS18/BRATS18_Preprocessed_C/Training/Images/Brats18_CBICA_ATV_1.nii.gz, Shape: (128, 167, 137, 4)\n",
      "File: /data/hjlee/orhun/data/BRATS18/BRATS18_Preprocessed_C/Training/Images/Brats18_CBICA_AUQ_1.nii.gz, Shape: (137, 173, 140, 4)\n",
      "File: /data/hjlee/orhun/data/BRATS18/BRATS18_Preprocessed_C/Training/Images/Brats18_TCIA03_498_1.nii.gz, Shape: (134, 171, 136, 4)\n",
      "\n",
      "Maximum size for each dimension: [156 188 148   4]\n"
     ]
    }
   ],
   "source": [
    "import os\n",
    "import nibabel as nib\n",
    "import numpy as np\n",
    "# Set the directory path\n",
    "directory = \"/data/hjlee/orhun/data/BRATS18/BRATS18_Preprocessed_C/Training/Images\"\n",
    "\n",
    "\n",
    "# Initialize an empty list to store shapes\n",
    "shapes = []\n",
    "\n",
    "# Iterate through all files in the directory\n",
    "for root, _, files in os.walk(directory):\n",
    "    for file in files:\n",
    "        if file.endswith(\".nii.gz\"):\n",
    "            file_path = os.path.join(root, file)\n",
    "            nii_img = nib.load(file_path)  # Load the NIfTI file\n",
    "            shape = nii_img.shape\n",
    "            shapes.append(shape)  # Store shape\n",
    "            print(f\"File: {file_path}, Shape: {shape}\")\n",
    "\n",
    "# Compute maximum size for each dimension\n",
    "if shapes:\n",
    "    max_shape = np.max(np.array([list(shape) for shape in shapes]), axis=0)\n",
    "    print(f\"\\nMaximum size for each dimension: {max_shape}\")\n",
    "else:\n",
    "    print(\"No NIfTI files found in the directory.\")"
   ]
  },
  {
   "cell_type": "code",
   "execution_count": 9,
   "metadata": {},
   "outputs": [
    {
     "name": "stdout",
     "output_type": "stream",
     "text": [
      "Saved: /data/hjlee/orhun/data/BRATS18/BRATS18_Preprocessed_P_N/Images/Brats18_TCIA08_105_1.nii.gz\n",
      "Saved: /data/hjlee/orhun/data/BRATS18/BRATS18_Preprocessed_P_N/Images/Brats18_CBICA_AAG_1.nii.gz\n",
      "Saved: /data/hjlee/orhun/data/BRATS18/BRATS18_Preprocessed_P_N/Images/Brats18_TCIA13_642_1.nii.gz\n",
      "Saved: /data/hjlee/orhun/data/BRATS18/BRATS18_Preprocessed_P_N/Images/Brats18_TCIA10_640_1.nii.gz\n",
      "Saved: /data/hjlee/orhun/data/BRATS18/BRATS18_Preprocessed_P_N/Images/Brats18_CBICA_ANG_1.nii.gz\n",
      "Saved: /data/hjlee/orhun/data/BRATS18/BRATS18_Preprocessed_P_N/Images/Brats18_TCIA06_211_1.nii.gz\n",
      "Saved: /data/hjlee/orhun/data/BRATS18/BRATS18_Preprocessed_P_N/Images/Brats18_CBICA_AQT_1.nii.gz\n",
      "Saved: /data/hjlee/orhun/data/BRATS18/BRATS18_Preprocessed_P_N/Images/Brats18_CBICA_AUN_1.nii.gz\n",
      "Saved: /data/hjlee/orhun/data/BRATS18/BRATS18_Preprocessed_P_N/Images/Brats18_TCIA09_254_1.nii.gz\n",
      "Saved: /data/hjlee/orhun/data/BRATS18/BRATS18_Preprocessed_P_N/Images/Brats18_TCIA05_478_1.nii.gz\n",
      "Saved: /data/hjlee/orhun/data/BRATS18/BRATS18_Preprocessed_P_N/Images/Brats18_TCIA02_608_1.nii.gz\n",
      "Saved: /data/hjlee/orhun/data/BRATS18/BRATS18_Preprocessed_P_N/Images/Brats18_TCIA01_448_1.nii.gz\n",
      "Saved: /data/hjlee/orhun/data/BRATS18/BRATS18_Preprocessed_P_N/Images/Brats18_TCIA08_162_1.nii.gz\n",
      "Saved: /data/hjlee/orhun/data/BRATS18/BRATS18_Preprocessed_P_N/Images/Brats18_2013_27_1.nii.gz\n",
      "Saved: /data/hjlee/orhun/data/BRATS18/BRATS18_Preprocessed_P_N/Images/Brats18_TCIA03_257_1.nii.gz\n",
      "Saved: /data/hjlee/orhun/data/BRATS18/BRATS18_Preprocessed_P_N/Images/Brats18_CBICA_ABM_1.nii.gz\n",
      "Saved: /data/hjlee/orhun/data/BRATS18/BRATS18_Preprocessed_P_N/Images/Brats18_CBICA_AQD_1.nii.gz\n",
      "Saved: /data/hjlee/orhun/data/BRATS18/BRATS18_Preprocessed_P_N/Images/Brats18_TCIA10_408_1.nii.gz\n",
      "Saved: /data/hjlee/orhun/data/BRATS18/BRATS18_Preprocessed_P_N/Images/Brats18_TCIA04_361_1.nii.gz\n",
      "Saved: /data/hjlee/orhun/data/BRATS18/BRATS18_Preprocessed_P_N/Images/Brats18_TCIA02_168_1.nii.gz\n",
      "Saved: /data/hjlee/orhun/data/BRATS18/BRATS18_Preprocessed_P_N/Images/Brats18_CBICA_AXJ_1.nii.gz\n",
      "Saved: /data/hjlee/orhun/data/BRATS18/BRATS18_Preprocessed_P_N/Images/Brats18_TCIA01_412_1.nii.gz\n",
      "Saved: /data/hjlee/orhun/data/BRATS18/BRATS18_Preprocessed_P_N/Images/Brats18_CBICA_ABE_1.nii.gz\n",
      "Saved: /data/hjlee/orhun/data/BRATS18/BRATS18_Preprocessed_P_N/Images/Brats18_TCIA08_167_1.nii.gz\n",
      "Saved: /data/hjlee/orhun/data/BRATS18/BRATS18_Preprocessed_P_N/Images/Brats18_CBICA_ALN_1.nii.gz\n",
      "Saved: /data/hjlee/orhun/data/BRATS18/BRATS18_Preprocessed_P_N/Images/Brats18_TCIA04_479_1.nii.gz\n",
      "Saved: /data/hjlee/orhun/data/BRATS18/BRATS18_Preprocessed_P_N/Images/Brats18_TCIA08_205_1.nii.gz\n",
      "Saved: /data/hjlee/orhun/data/BRATS18/BRATS18_Preprocessed_P_N/Images/Brats18_CBICA_ABB_1.nii.gz\n",
      "Saved: /data/hjlee/orhun/data/BRATS18/BRATS18_Preprocessed_P_N/Images/Brats18_CBICA_AOP_1.nii.gz\n",
      "Saved: /data/hjlee/orhun/data/BRATS18/BRATS18_Preprocessed_P_N/Images/Brats18_TCIA12_249_1.nii.gz\n",
      "Saved: /data/hjlee/orhun/data/BRATS18/BRATS18_Preprocessed_P_N/Images/Brats18_TCIA13_624_1.nii.gz\n",
      "Saved: /data/hjlee/orhun/data/BRATS18/BRATS18_Preprocessed_P_N/Images/Brats18_TCIA08_242_1.nii.gz\n",
      "Saved: /data/hjlee/orhun/data/BRATS18/BRATS18_Preprocessed_P_N/Images/Brats18_TCIA10_307_1.nii.gz\n",
      "Saved: /data/hjlee/orhun/data/BRATS18/BRATS18_Preprocessed_P_N/Images/Brats18_TCIA09_428_1.nii.gz\n",
      "Saved: /data/hjlee/orhun/data/BRATS18/BRATS18_Preprocessed_P_N/Images/Brats18_CBICA_AZD_1.nii.gz\n",
      "Saved: /data/hjlee/orhun/data/BRATS18/BRATS18_Preprocessed_P_N/Images/Brats18_2013_11_1.nii.gz\n",
      "Saved: /data/hjlee/orhun/data/BRATS18/BRATS18_Preprocessed_P_N/Images/Brats18_TCIA13_645_1.nii.gz\n",
      "Saved: /data/hjlee/orhun/data/BRATS18/BRATS18_Preprocessed_P_N/Images/Brats18_TCIA03_474_1.nii.gz\n",
      "Saved: /data/hjlee/orhun/data/BRATS18/BRATS18_Preprocessed_P_N/Images/Brats18_TCIA01_401_1.nii.gz\n",
      "Saved: /data/hjlee/orhun/data/BRATS18/BRATS18_Preprocessed_P_N/Images/Brats18_TCIA09_402_1.nii.gz\n",
      "Saved: /data/hjlee/orhun/data/BRATS18/BRATS18_Preprocessed_P_N/Images/Brats18_TCIA03_338_1.nii.gz\n",
      "Saved: /data/hjlee/orhun/data/BRATS18/BRATS18_Preprocessed_P_N/Images/Brats18_TCIA02_491_1.nii.gz\n",
      "Saved: /data/hjlee/orhun/data/BRATS18/BRATS18_Preprocessed_P_N/Images/Brats18_2013_23_1.nii.gz\n",
      "Saved: /data/hjlee/orhun/data/BRATS18/BRATS18_Preprocessed_P_N/Images/Brats18_TCIA08_234_1.nii.gz\n",
      "Saved: /data/hjlee/orhun/data/BRATS18/BRATS18_Preprocessed_P_N/Images/Brats18_2013_10_1.nii.gz\n",
      "Saved: /data/hjlee/orhun/data/BRATS18/BRATS18_Preprocessed_P_N/Images/Brats18_TCIA02_377_1.nii.gz\n",
      "Saved: /data/hjlee/orhun/data/BRATS18/BRATS18_Preprocessed_P_N/Images/Brats18_2013_14_1.nii.gz\n",
      "Saved: /data/hjlee/orhun/data/BRATS18/BRATS18_Preprocessed_P_N/Images/Brats18_TCIA01_186_1.nii.gz\n",
      "Saved: /data/hjlee/orhun/data/BRATS18/BRATS18_Preprocessed_P_N/Images/Brats18_2013_17_1.nii.gz\n",
      "Saved: /data/hjlee/orhun/data/BRATS18/BRATS18_Preprocessed_P_N/Images/Brats18_TCIA02_606_1.nii.gz\n",
      "Saved: /data/hjlee/orhun/data/BRATS18/BRATS18_Preprocessed_P_N/Images/Brats18_TCIA10_628_1.nii.gz\n",
      "Saved: /data/hjlee/orhun/data/BRATS18/BRATS18_Preprocessed_P_N/Images/Brats18_TCIA01_499_1.nii.gz\n",
      "Saved: /data/hjlee/orhun/data/BRATS18/BRATS18_Preprocessed_P_N/Images/Brats18_TCIA08_469_1.nii.gz\n",
      "Saved: /data/hjlee/orhun/data/BRATS18/BRATS18_Preprocessed_P_N/Images/Brats18_TCIA10_276_1.nii.gz\n",
      "Saved: /data/hjlee/orhun/data/BRATS18/BRATS18_Preprocessed_P_N/Images/Brats18_CBICA_AYA_1.nii.gz\n",
      "Saved: /data/hjlee/orhun/data/BRATS18/BRATS18_Preprocessed_P_N/Images/Brats18_2013_8_1.nii.gz\n",
      "Saved: /data/hjlee/orhun/data/BRATS18/BRATS18_Preprocessed_P_N/Images/Brats18_TCIA02_314_1.nii.gz\n",
      "Saved: /data/hjlee/orhun/data/BRATS18/BRATS18_Preprocessed_P_N/Images/Brats18_2013_16_1.nii.gz\n",
      "Saved: /data/hjlee/orhun/data/BRATS18/BRATS18_Preprocessed_P_N/Images/Brats18_TCIA13_633_1.nii.gz\n",
      "Saved: /data/hjlee/orhun/data/BRATS18/BRATS18_Preprocessed_P_N/Images/Brats18_TCIA01_235_1.nii.gz\n",
      "Saved: /data/hjlee/orhun/data/BRATS18/BRATS18_Preprocessed_P_N/Images/Brats18_CBICA_AAL_1.nii.gz\n",
      "Saved: /data/hjlee/orhun/data/BRATS18/BRATS18_Preprocessed_P_N/Images/Brats18_TCIA08_280_1.nii.gz\n",
      "Saved: /data/hjlee/orhun/data/BRATS18/BRATS18_Preprocessed_P_N/Images/Brats18_CBICA_ABN_1.nii.gz\n",
      "Saved: /data/hjlee/orhun/data/BRATS18/BRATS18_Preprocessed_P_N/Images/Brats18_2013_2_1.nii.gz\n",
      "Saved: /data/hjlee/orhun/data/BRATS18/BRATS18_Preprocessed_P_N/Images/Brats18_TCIA09_620_1.nii.gz\n",
      "Saved: /data/hjlee/orhun/data/BRATS18/BRATS18_Preprocessed_P_N/Images/Brats18_TCIA12_466_1.nii.gz\n",
      "Saved: /data/hjlee/orhun/data/BRATS18/BRATS18_Preprocessed_P_N/Images/Brats18_CBICA_AOH_1.nii.gz\n",
      "Saved: /data/hjlee/orhun/data/BRATS18/BRATS18_Preprocessed_P_N/Images/Brats18_TCIA10_109_1.nii.gz\n",
      "Saved: /data/hjlee/orhun/data/BRATS18/BRATS18_Preprocessed_P_N/Images/Brats18_TCIA08_218_1.nii.gz\n",
      "Saved: /data/hjlee/orhun/data/BRATS18/BRATS18_Preprocessed_P_N/Images/Brats18_TCIA10_241_1.nii.gz\n",
      "Saved: /data/hjlee/orhun/data/BRATS18/BRATS18_Preprocessed_P_N/Images/Brats18_TCIA10_637_1.nii.gz\n",
      "Saved: /data/hjlee/orhun/data/BRATS18/BRATS18_Preprocessed_P_N/Images/Brats18_2013_0_1.nii.gz\n",
      "Saved: /data/hjlee/orhun/data/BRATS18/BRATS18_Preprocessed_P_N/Images/Brats18_TCIA01_231_1.nii.gz\n",
      "Saved: /data/hjlee/orhun/data/BRATS18/BRATS18_Preprocessed_P_N/Images/Brats18_TCIA04_328_1.nii.gz\n",
      "Saved: /data/hjlee/orhun/data/BRATS18/BRATS18_Preprocessed_P_N/Images/Brats18_CBICA_AQY_1.nii.gz\n",
      "Saved: /data/hjlee/orhun/data/BRATS18/BRATS18_Preprocessed_P_N/Images/Brats18_TCIA01_390_1.nii.gz\n",
      "Saved: /data/hjlee/orhun/data/BRATS18/BRATS18_Preprocessed_P_N/Images/Brats18_TCIA04_343_1.nii.gz\n",
      "Saved: /data/hjlee/orhun/data/BRATS18/BRATS18_Preprocessed_P_N/Images/Brats18_2013_24_1.nii.gz\n",
      "Saved: /data/hjlee/orhun/data/BRATS18/BRATS18_Preprocessed_P_N/Images/Brats18_TCIA04_149_1.nii.gz\n",
      "Saved: /data/hjlee/orhun/data/BRATS18/BRATS18_Preprocessed_P_N/Images/Brats18_CBICA_AWI_1.nii.gz\n",
      "Saved: /data/hjlee/orhun/data/BRATS18/BRATS18_Preprocessed_P_N/Images/Brats18_TCIA08_436_1.nii.gz\n",
      "Saved: /data/hjlee/orhun/data/BRATS18/BRATS18_Preprocessed_P_N/Images/Brats18_CBICA_AQZ_1.nii.gz\n",
      "Saved: /data/hjlee/orhun/data/BRATS18/BRATS18_Preprocessed_P_N/Images/Brats18_CBICA_ASV_1.nii.gz\n",
      "Saved: /data/hjlee/orhun/data/BRATS18/BRATS18_Preprocessed_P_N/Images/Brats18_TCIA03_121_1.nii.gz\n",
      "Saved: /data/hjlee/orhun/data/BRATS18/BRATS18_Preprocessed_P_N/Images/Brats18_TCIA13_650_1.nii.gz\n",
      "Saved: /data/hjlee/orhun/data/BRATS18/BRATS18_Preprocessed_P_N/Images/Brats18_TCIA10_261_1.nii.gz\n",
      "Saved: /data/hjlee/orhun/data/BRATS18/BRATS18_Preprocessed_P_N/Images/Brats18_TCIA02_331_1.nii.gz\n",
      "Saved: /data/hjlee/orhun/data/BRATS18/BRATS18_Preprocessed_P_N/Images/Brats18_TCIA10_351_1.nii.gz\n",
      "Saved: /data/hjlee/orhun/data/BRATS18/BRATS18_Preprocessed_P_N/Images/Brats18_CBICA_ASK_1.nii.gz\n",
      "Saved: /data/hjlee/orhun/data/BRATS18/BRATS18_Preprocessed_P_N/Images/Brats18_TCIA01_190_1.nii.gz\n",
      "Saved: /data/hjlee/orhun/data/BRATS18/BRATS18_Preprocessed_P_N/Images/Brats18_TCIA02_605_1.nii.gz\n",
      "Saved: /data/hjlee/orhun/data/BRATS18/BRATS18_Preprocessed_P_N/Images/Brats18_TCIA08_406_1.nii.gz\n",
      "Saved: /data/hjlee/orhun/data/BRATS18/BRATS18_Preprocessed_P_N/Images/Brats18_TCIA02_607_1.nii.gz\n",
      "Saved: /data/hjlee/orhun/data/BRATS18/BRATS18_Preprocessed_P_N/Images/Brats18_TCIA02_321_1.nii.gz\n",
      "Saved: /data/hjlee/orhun/data/BRATS18/BRATS18_Preprocessed_P_N/Images/Brats18_TCIA02_198_1.nii.gz\n",
      "Saved: /data/hjlee/orhun/data/BRATS18/BRATS18_Preprocessed_P_N/Images/Brats18_TCIA03_138_1.nii.gz\n",
      "Saved: /data/hjlee/orhun/data/BRATS18/BRATS18_Preprocessed_P_N/Images/Brats18_TCIA10_330_1.nii.gz\n",
      "Saved: /data/hjlee/orhun/data/BRATS18/BRATS18_Preprocessed_P_N/Images/Brats18_CBICA_AQU_1.nii.gz\n",
      "Saved: /data/hjlee/orhun/data/BRATS18/BRATS18_Preprocessed_P_N/Images/Brats18_TCIA03_133_1.nii.gz\n",
      "Saved: /data/hjlee/orhun/data/BRATS18/BRATS18_Preprocessed_P_N/Images/Brats18_TCIA06_247_1.nii.gz\n",
      "Saved: /data/hjlee/orhun/data/BRATS18/BRATS18_Preprocessed_P_N/Images/Brats18_TCIA10_625_1.nii.gz\n",
      "Saved: /data/hjlee/orhun/data/BRATS18/BRATS18_Preprocessed_P_N/Images/Brats18_TCIA12_470_1.nii.gz\n",
      "Saved: /data/hjlee/orhun/data/BRATS18/BRATS18_Preprocessed_P_N/Images/Brats18_TCIA06_603_1.nii.gz\n",
      "Saved: /data/hjlee/orhun/data/BRATS18/BRATS18_Preprocessed_P_N/Images/Brats18_2013_6_1.nii.gz\n",
      "Saved: /data/hjlee/orhun/data/BRATS18/BRATS18_Preprocessed_P_N/Images/Brats18_TCIA13_654_1.nii.gz\n",
      "Saved: /data/hjlee/orhun/data/BRATS18/BRATS18_Preprocessed_P_N/Images/Brats18_TCIA02_374_1.nii.gz\n",
      "Saved: /data/hjlee/orhun/data/BRATS18/BRATS18_Preprocessed_P_N/Images/Brats18_TCIA12_101_1.nii.gz\n",
      "Saved: /data/hjlee/orhun/data/BRATS18/BRATS18_Preprocessed_P_N/Images/Brats18_TCIA02_290_1.nii.gz\n",
      "Saved: /data/hjlee/orhun/data/BRATS18/BRATS18_Preprocessed_P_N/Images/Brats18_CBICA_AAB_1.nii.gz\n",
      "Saved: /data/hjlee/orhun/data/BRATS18/BRATS18_Preprocessed_P_N/Images/Brats18_TCIA13_621_1.nii.gz\n",
      "Saved: /data/hjlee/orhun/data/BRATS18/BRATS18_Preprocessed_P_N/Images/Brats18_TCIA10_449_1.nii.gz\n",
      "Saved: /data/hjlee/orhun/data/BRATS18/BRATS18_Preprocessed_P_N/Images/Brats18_TCIA09_493_1.nii.gz\n",
      "Saved: /data/hjlee/orhun/data/BRATS18/BRATS18_Preprocessed_P_N/Images/Brats18_CBICA_ATF_1.nii.gz\n",
      "Saved: /data/hjlee/orhun/data/BRATS18/BRATS18_Preprocessed_P_N/Images/Brats18_TCIA04_111_1.nii.gz\n",
      "Saved: /data/hjlee/orhun/data/BRATS18/BRATS18_Preprocessed_P_N/Images/Brats18_2013_26_1.nii.gz\n",
      "Saved: /data/hjlee/orhun/data/BRATS18/BRATS18_Preprocessed_P_N/Images/Brats18_TCIA02_283_1.nii.gz\n",
      "Saved: /data/hjlee/orhun/data/BRATS18/BRATS18_Preprocessed_P_N/Images/Brats18_TCIA10_420_1.nii.gz\n",
      "Saved: /data/hjlee/orhun/data/BRATS18/BRATS18_Preprocessed_P_N/Images/Brats18_TCIA09_255_1.nii.gz\n",
      "Saved: /data/hjlee/orhun/data/BRATS18/BRATS18_Preprocessed_P_N/Images/Brats18_TCIA13_630_1.nii.gz\n",
      "Saved: /data/hjlee/orhun/data/BRATS18/BRATS18_Preprocessed_P_N/Images/Brats18_TCIA03_296_1.nii.gz\n",
      "Saved: /data/hjlee/orhun/data/BRATS18/BRATS18_Preprocessed_P_N/Images/Brats18_CBICA_ATD_1.nii.gz\n",
      "Saved: /data/hjlee/orhun/data/BRATS18/BRATS18_Preprocessed_P_N/Images/Brats18_TCIA03_375_1.nii.gz\n",
      "Saved: /data/hjlee/orhun/data/BRATS18/BRATS18_Preprocessed_P_N/Images/Brats18_TCIA01_411_1.nii.gz\n",
      "Saved: /data/hjlee/orhun/data/BRATS18/BRATS18_Preprocessed_P_N/Images/Brats18_CBICA_ASG_1.nii.gz\n",
      "Saved: /data/hjlee/orhun/data/BRATS18/BRATS18_Preprocessed_P_N/Images/Brats18_CBICA_AQP_1.nii.gz\n",
      "Saved: /data/hjlee/orhun/data/BRATS18/BRATS18_Preprocessed_P_N/Images/Brats18_TCIA03_199_1.nii.gz\n",
      "Saved: /data/hjlee/orhun/data/BRATS18/BRATS18_Preprocessed_P_N/Images/Brats18_TCIA09_141_1.nii.gz\n",
      "Saved: /data/hjlee/orhun/data/BRATS18/BRATS18_Preprocessed_P_N/Images/Brats18_CBICA_AOZ_1.nii.gz\n",
      "Saved: /data/hjlee/orhun/data/BRATS18/BRATS18_Preprocessed_P_N/Images/Brats18_2013_28_1.nii.gz\n",
      "Saved: /data/hjlee/orhun/data/BRATS18/BRATS18_Preprocessed_P_N/Images/Brats18_CBICA_ANZ_1.nii.gz\n",
      "Saved: /data/hjlee/orhun/data/BRATS18/BRATS18_Preprocessed_P_N/Images/Brats18_TCIA10_442_1.nii.gz\n",
      "Saved: /data/hjlee/orhun/data/BRATS18/BRATS18_Preprocessed_P_N/Images/Brats18_2013_18_1.nii.gz\n",
      "Saved: /data/hjlee/orhun/data/BRATS18/BRATS18_Preprocessed_P_N/Images/Brats18_TCIA02_471_1.nii.gz\n",
      "Saved: /data/hjlee/orhun/data/BRATS18/BRATS18_Preprocessed_P_N/Images/Brats18_CBICA_APR_1.nii.gz\n",
      "Saved: /data/hjlee/orhun/data/BRATS18/BRATS18_Preprocessed_P_N/Images/Brats18_CBICA_AAP_1.nii.gz\n",
      "Saved: /data/hjlee/orhun/data/BRATS18/BRATS18_Preprocessed_P_N/Images/Brats18_TCIA02_151_1.nii.gz\n",
      "Saved: /data/hjlee/orhun/data/BRATS18/BRATS18_Preprocessed_P_N/Images/Brats18_CBICA_AME_1.nii.gz\n",
      "Saved: /data/hjlee/orhun/data/BRATS18/BRATS18_Preprocessed_P_N/Images/Brats18_TCIA10_325_1.nii.gz\n",
      "Saved: /data/hjlee/orhun/data/BRATS18/BRATS18_Preprocessed_P_N/Images/Brats18_TCIA10_282_1.nii.gz\n",
      "Saved: /data/hjlee/orhun/data/BRATS18/BRATS18_Preprocessed_P_N/Images/Brats18_TCIA03_419_1.nii.gz\n",
      "Saved: /data/hjlee/orhun/data/BRATS18/BRATS18_Preprocessed_P_N/Images/Brats18_TCIA01_203_1.nii.gz\n",
      "Saved: /data/hjlee/orhun/data/BRATS18/BRATS18_Preprocessed_P_N/Images/Brats18_CBICA_AXN_1.nii.gz\n",
      "Saved: /data/hjlee/orhun/data/BRATS18/BRATS18_Preprocessed_P_N/Images/Brats18_CBICA_ASE_1.nii.gz\n",
      "Saved: /data/hjlee/orhun/data/BRATS18/BRATS18_Preprocessed_P_N/Images/Brats18_2013_25_1.nii.gz\n",
      "Saved: /data/hjlee/orhun/data/BRATS18/BRATS18_Preprocessed_P_N/Images/Brats18_2013_5_1.nii.gz\n",
      "Saved: /data/hjlee/orhun/data/BRATS18/BRATS18_Preprocessed_P_N/Images/Brats18_TCIA01_147_1.nii.gz\n",
      "Saved: /data/hjlee/orhun/data/BRATS18/BRATS18_Preprocessed_P_N/Images/Brats18_TCIA04_192_1.nii.gz\n",
      "Saved: /data/hjlee/orhun/data/BRATS18/BRATS18_Preprocessed_P_N/Images/Brats18_TCIA08_113_1.nii.gz\n",
      "Saved: /data/hjlee/orhun/data/BRATS18/BRATS18_Preprocessed_P_N/Images/Brats18_TCIA01_335_1.nii.gz\n",
      "Saved: /data/hjlee/orhun/data/BRATS18/BRATS18_Preprocessed_P_N/Images/Brats18_TCIA08_319_1.nii.gz\n",
      "Saved: /data/hjlee/orhun/data/BRATS18/BRATS18_Preprocessed_P_N/Images/Brats18_CBICA_AQO_1.nii.gz\n",
      "Saved: /data/hjlee/orhun/data/BRATS18/BRATS18_Preprocessed_P_N/Images/Brats18_CBICA_AVJ_1.nii.gz\n",
      "Saved: /data/hjlee/orhun/data/BRATS18/BRATS18_Preprocessed_P_N/Images/Brats18_TCIA10_387_1.nii.gz\n",
      "Saved: /data/hjlee/orhun/data/BRATS18/BRATS18_Preprocessed_P_N/Images/Brats18_CBICA_ATB_1.nii.gz\n",
      "Saved: /data/hjlee/orhun/data/BRATS18/BRATS18_Preprocessed_P_N/Images/Brats18_2013_29_1.nii.gz\n",
      "Saved: /data/hjlee/orhun/data/BRATS18/BRATS18_Preprocessed_P_N/Images/Brats18_TCIA12_480_1.nii.gz\n",
      "Saved: /data/hjlee/orhun/data/BRATS18/BRATS18_Preprocessed_P_N/Images/Brats18_CBICA_AYW_1.nii.gz\n",
      "Saved: /data/hjlee/orhun/data/BRATS18/BRATS18_Preprocessed_P_N/Images/Brats18_CBICA_ARF_1.nii.gz\n",
      "Saved: /data/hjlee/orhun/data/BRATS18/BRATS18_Preprocessed_P_N/Images/Brats18_TCIA13_634_1.nii.gz\n",
      "Saved: /data/hjlee/orhun/data/BRATS18/BRATS18_Preprocessed_P_N/Images/Brats18_TCIA06_184_1.nii.gz\n",
      "Saved: /data/hjlee/orhun/data/BRATS18/BRATS18_Preprocessed_P_N/Images/Brats18_TCIA06_409_1.nii.gz\n",
      "Saved: /data/hjlee/orhun/data/BRATS18/BRATS18_Preprocessed_P_N/Images/Brats18_TCIA01_221_1.nii.gz\n",
      "Saved: /data/hjlee/orhun/data/BRATS18/BRATS18_Preprocessed_P_N/Images/Brats18_TCIA10_152_1.nii.gz\n",
      "Saved: /data/hjlee/orhun/data/BRATS18/BRATS18_Preprocessed_P_N/Images/Brats18_TCIA05_277_1.nii.gz\n",
      "Saved: /data/hjlee/orhun/data/BRATS18/BRATS18_Preprocessed_P_N/Images/Brats18_TCIA09_462_1.nii.gz\n",
      "Saved: /data/hjlee/orhun/data/BRATS18/BRATS18_Preprocessed_P_N/Images/Brats18_TCIA10_202_1.nii.gz\n",
      "Saved: /data/hjlee/orhun/data/BRATS18/BRATS18_Preprocessed_P_N/Images/Brats18_CBICA_AXO_1.nii.gz\n",
      "Saved: /data/hjlee/orhun/data/BRATS18/BRATS18_Preprocessed_P_N/Images/Brats18_TCIA01_460_1.nii.gz\n",
      "Saved: /data/hjlee/orhun/data/BRATS18/BRATS18_Preprocessed_P_N/Images/Brats18_CBICA_AYU_1.nii.gz\n",
      "Saved: /data/hjlee/orhun/data/BRATS18/BRATS18_Preprocessed_P_N/Images/Brats18_TCIA13_623_1.nii.gz\n",
      "Saved: /data/hjlee/orhun/data/BRATS18/BRATS18_Preprocessed_P_N/Images/Brats18_2013_3_1.nii.gz\n",
      "Saved: /data/hjlee/orhun/data/BRATS18/BRATS18_Preprocessed_P_N/Images/Brats18_CBICA_AQG_1.nii.gz\n",
      "Saved: /data/hjlee/orhun/data/BRATS18/BRATS18_Preprocessed_P_N/Images/Brats18_CBICA_AQJ_1.nii.gz\n",
      "Saved: /data/hjlee/orhun/data/BRATS18/BRATS18_Preprocessed_P_N/Images/Brats18_CBICA_AUR_1.nii.gz\n",
      "Saved: /data/hjlee/orhun/data/BRATS18/BRATS18_Preprocessed_P_N/Images/Brats18_CBICA_AQA_1.nii.gz\n",
      "Saved: /data/hjlee/orhun/data/BRATS18/BRATS18_Preprocessed_P_N/Images/Brats18_CBICA_ANI_1.nii.gz\n",
      "Saved: /data/hjlee/orhun/data/BRATS18/BRATS18_Preprocessed_P_N/Images/Brats18_CBICA_AWG_1.nii.gz\n",
      "Saved: /data/hjlee/orhun/data/BRATS18/BRATS18_Preprocessed_P_N/Images/Brats18_CBICA_AQQ_1.nii.gz\n",
      "Saved: /data/hjlee/orhun/data/BRATS18/BRATS18_Preprocessed_P_N/Images/Brats18_TCIA05_444_1.nii.gz\n",
      "Saved: /data/hjlee/orhun/data/BRATS18/BRATS18_Preprocessed_P_N/Images/Brats18_2013_7_1.nii.gz\n",
      "Saved: /data/hjlee/orhun/data/BRATS18/BRATS18_Preprocessed_P_N/Images/Brats18_TCIA02_222_1.nii.gz\n",
      "Saved: /data/hjlee/orhun/data/BRATS18/BRATS18_Preprocessed_P_N/Images/Brats18_CBICA_ASA_1.nii.gz\n",
      "Saved: /data/hjlee/orhun/data/BRATS18/BRATS18_Preprocessed_P_N/Images/Brats18_TCIA01_429_1.nii.gz\n",
      "Saved: /data/hjlee/orhun/data/BRATS18/BRATS18_Preprocessed_P_N/Images/Brats18_CBICA_ASH_1.nii.gz\n",
      "Saved: /data/hjlee/orhun/data/BRATS18/BRATS18_Preprocessed_P_N/Images/Brats18_CBICA_AVG_1.nii.gz\n",
      "Saved: /data/hjlee/orhun/data/BRATS18/BRATS18_Preprocessed_P_N/Images/Brats18_TCIA10_266_1.nii.gz\n",
      "Saved: /data/hjlee/orhun/data/BRATS18/BRATS18_Preprocessed_P_N/Images/Brats18_TCIA02_300_1.nii.gz\n",
      "Saved: /data/hjlee/orhun/data/BRATS18/BRATS18_Preprocessed_P_N/Images/Brats18_CBICA_ALU_1.nii.gz\n",
      "Saved: /data/hjlee/orhun/data/BRATS18/BRATS18_Preprocessed_P_N/Images/Brats18_CBICA_ABY_1.nii.gz\n",
      "Saved: /data/hjlee/orhun/data/BRATS18/BRATS18_Preprocessed_P_N/Images/Brats18_CBICA_ASW_1.nii.gz\n",
      "Saved: /data/hjlee/orhun/data/BRATS18/BRATS18_Preprocessed_P_N/Images/Brats18_TCIA02_368_1.nii.gz\n",
      "Saved: /data/hjlee/orhun/data/BRATS18/BRATS18_Preprocessed_P_N/Images/Brats18_TCIA02_455_1.nii.gz\n",
      "Saved: /data/hjlee/orhun/data/BRATS18/BRATS18_Preprocessed_P_N/Images/Brats18_CBICA_AXW_1.nii.gz\n",
      "Saved: /data/hjlee/orhun/data/BRATS18/BRATS18_Preprocessed_P_N/Images/Brats18_2013_9_1.nii.gz\n",
      "Saved: /data/hjlee/orhun/data/BRATS18/BRATS18_Preprocessed_P_N/Images/Brats18_TCIA02_135_1.nii.gz\n",
      "Saved: /data/hjlee/orhun/data/BRATS18/BRATS18_Preprocessed_P_N/Images/Brats18_CBICA_ATP_1.nii.gz\n",
      "Saved: /data/hjlee/orhun/data/BRATS18/BRATS18_Preprocessed_P_N/Images/Brats18_CBICA_BFB_1.nii.gz\n",
      "Saved: /data/hjlee/orhun/data/BRATS18/BRATS18_Preprocessed_P_N/Images/Brats18_CBICA_ASU_1.nii.gz\n",
      "Saved: /data/hjlee/orhun/data/BRATS18/BRATS18_Preprocessed_P_N/Images/Brats18_TCIA02_118_1.nii.gz\n",
      "Saved: /data/hjlee/orhun/data/BRATS18/BRATS18_Preprocessed_P_N/Images/Brats18_CBICA_ASO_1.nii.gz\n",
      "Saved: /data/hjlee/orhun/data/BRATS18/BRATS18_Preprocessed_P_N/Images/Brats18_CBICA_ABO_1.nii.gz\n",
      "Saved: /data/hjlee/orhun/data/BRATS18/BRATS18_Preprocessed_P_N/Images/Brats18_TCIA01_378_1.nii.gz\n",
      "Saved: /data/hjlee/orhun/data/BRATS18/BRATS18_Preprocessed_P_N/Images/Brats18_TCIA10_310_1.nii.gz\n",
      "Saved: /data/hjlee/orhun/data/BRATS18/BRATS18_Preprocessed_P_N/Images/Brats18_2013_19_1.nii.gz\n",
      "Saved: /data/hjlee/orhun/data/BRATS18/BRATS18_Preprocessed_P_N/Images/Brats18_CBICA_ATX_1.nii.gz\n",
      "Saved: /data/hjlee/orhun/data/BRATS18/BRATS18_Preprocessed_P_N/Images/Brats18_CBICA_AXL_1.nii.gz\n",
      "Saved: /data/hjlee/orhun/data/BRATS18/BRATS18_Preprocessed_P_N/Images/Brats18_TCIA13_618_1.nii.gz\n",
      "Saved: /data/hjlee/orhun/data/BRATS18/BRATS18_Preprocessed_P_N/Images/Brats18_CBICA_AZH_1.nii.gz\n",
      "Saved: /data/hjlee/orhun/data/BRATS18/BRATS18_Preprocessed_P_N/Images/Brats18_TCIA10_413_1.nii.gz\n",
      "Saved: /data/hjlee/orhun/data/BRATS18/BRATS18_Preprocessed_P_N/Images/Brats18_2013_4_1.nii.gz\n",
      "Saved: /data/hjlee/orhun/data/BRATS18/BRATS18_Preprocessed_P_N/Images/Brats18_TCIA13_615_1.nii.gz\n",
      "Saved: /data/hjlee/orhun/data/BRATS18/BRATS18_Preprocessed_P_N/Images/Brats18_CBICA_AQN_1.nii.gz\n",
      "Saved: /data/hjlee/orhun/data/BRATS18/BRATS18_Preprocessed_P_N/Images/Brats18_TCIA10_299_1.nii.gz\n",
      "Saved: /data/hjlee/orhun/data/BRATS18/BRATS18_Preprocessed_P_N/Images/Brats18_TCIA01_201_1.nii.gz\n",
      "Saved: /data/hjlee/orhun/data/BRATS18/BRATS18_Preprocessed_P_N/Images/Brats18_TCIA10_644_1.nii.gz\n",
      "Saved: /data/hjlee/orhun/data/BRATS18/BRATS18_Preprocessed_P_N/Images/Brats18_CBICA_AXQ_1.nii.gz\n",
      "Saved: /data/hjlee/orhun/data/BRATS18/BRATS18_Preprocessed_P_N/Images/Brats18_CBICA_ANP_1.nii.gz\n",
      "Saved: /data/hjlee/orhun/data/BRATS18/BRATS18_Preprocessed_P_N/Images/Brats18_TCIA02_322_1.nii.gz\n",
      "Saved: /data/hjlee/orhun/data/BRATS18/BRATS18_Preprocessed_P_N/Images/Brats18_CBICA_AYI_1.nii.gz\n",
      "Saved: /data/hjlee/orhun/data/BRATS18/BRATS18_Preprocessed_P_N/Images/Brats18_2013_21_1.nii.gz\n",
      "Saved: /data/hjlee/orhun/data/BRATS18/BRATS18_Preprocessed_P_N/Images/Brats18_CBICA_BHK_1.nii.gz\n",
      "Saved: /data/hjlee/orhun/data/BRATS18/BRATS18_Preprocessed_P_N/Images/Brats18_TCIA09_451_1.nii.gz\n",
      "Saved: /data/hjlee/orhun/data/BRATS18/BRATS18_Preprocessed_P_N/Images/Brats18_TCIA04_437_1.nii.gz\n",
      "Saved: /data/hjlee/orhun/data/BRATS18/BRATS18_Preprocessed_P_N/Images/Brats18_CBICA_ALX_1.nii.gz\n",
      "Saved: /data/hjlee/orhun/data/BRATS18/BRATS18_Preprocessed_P_N/Images/Brats18_TCIA10_629_1.nii.gz\n",
      "Saved: /data/hjlee/orhun/data/BRATS18/BRATS18_Preprocessed_P_N/Images/Brats18_TCIA13_653_1.nii.gz\n",
      "Saved: /data/hjlee/orhun/data/BRATS18/BRATS18_Preprocessed_P_N/Images/Brats18_TCIA10_639_1.nii.gz\n",
      "Saved: /data/hjlee/orhun/data/BRATS18/BRATS18_Preprocessed_P_N/Images/Brats18_CBICA_AMH_1.nii.gz\n",
      "Saved: /data/hjlee/orhun/data/BRATS18/BRATS18_Preprocessed_P_N/Images/Brats18_CBICA_BHB_1.nii.gz\n",
      "Saved: /data/hjlee/orhun/data/BRATS18/BRATS18_Preprocessed_P_N/Images/Brats18_CBICA_AOD_1.nii.gz\n",
      "Saved: /data/hjlee/orhun/data/BRATS18/BRATS18_Preprocessed_P_N/Images/Brats18_2013_12_1.nii.gz\n",
      "Saved: /data/hjlee/orhun/data/BRATS18/BRATS18_Preprocessed_P_N/Images/Brats18_2013_22_1.nii.gz\n",
      "Saved: /data/hjlee/orhun/data/BRATS18/BRATS18_Preprocessed_P_N/Images/Brats18_TCIA01_180_1.nii.gz\n",
      "Saved: /data/hjlee/orhun/data/BRATS18/BRATS18_Preprocessed_P_N/Images/Brats18_CBICA_BHM_1.nii.gz\n",
      "Saved: /data/hjlee/orhun/data/BRATS18/BRATS18_Preprocessed_P_N/Images/Brats18_CBICA_APZ_1.nii.gz\n",
      "Saved: /data/hjlee/orhun/data/BRATS18/BRATS18_Preprocessed_P_N/Images/Brats18_TCIA10_490_1.nii.gz\n",
      "Saved: /data/hjlee/orhun/data/BRATS18/BRATS18_Preprocessed_P_N/Images/Brats18_TCIA01_131_1.nii.gz\n",
      "Saved: /data/hjlee/orhun/data/BRATS18/BRATS18_Preprocessed_P_N/Images/Brats18_CBICA_AQR_1.nii.gz\n",
      "Saved: /data/hjlee/orhun/data/BRATS18/BRATS18_Preprocessed_P_N/Images/Brats18_CBICA_ARW_1.nii.gz\n",
      "Saved: /data/hjlee/orhun/data/BRATS18/BRATS18_Preprocessed_P_N/Images/Brats18_TCIA09_177_1.nii.gz\n",
      "Saved: /data/hjlee/orhun/data/BRATS18/BRATS18_Preprocessed_P_N/Images/Brats18_TCIA03_265_1.nii.gz\n",
      "Saved: /data/hjlee/orhun/data/BRATS18/BRATS18_Preprocessed_P_N/Images/Brats18_CBICA_AQV_1.nii.gz\n",
      "Saved: /data/hjlee/orhun/data/BRATS18/BRATS18_Preprocessed_P_N/Images/Brats18_TCIA10_130_1.nii.gz\n",
      "Saved: /data/hjlee/orhun/data/BRATS18/BRATS18_Preprocessed_P_N/Images/Brats18_TCIA06_165_1.nii.gz\n",
      "Saved: /data/hjlee/orhun/data/BRATS18/BRATS18_Preprocessed_P_N/Images/Brats18_CBICA_AXM_1.nii.gz\n",
      "Saved: /data/hjlee/orhun/data/BRATS18/BRATS18_Preprocessed_P_N/Images/Brats18_TCIA02_394_1.nii.gz\n",
      "Saved: /data/hjlee/orhun/data/BRATS18/BRATS18_Preprocessed_P_N/Images/Brats18_TCIA05_396_1.nii.gz\n",
      "Saved: /data/hjlee/orhun/data/BRATS18/BRATS18_Preprocessed_P_N/Images/Brats18_TCIA02_473_1.nii.gz\n",
      "Saved: /data/hjlee/orhun/data/BRATS18/BRATS18_Preprocessed_P_N/Images/Brats18_TCIA02_430_1.nii.gz\n",
      "Saved: /data/hjlee/orhun/data/BRATS18/BRATS18_Preprocessed_P_N/Images/Brats18_TCIA10_103_1.nii.gz\n",
      "Saved: /data/hjlee/orhun/data/BRATS18/BRATS18_Preprocessed_P_N/Images/Brats18_CBICA_AVV_1.nii.gz\n",
      "Saved: /data/hjlee/orhun/data/BRATS18/BRATS18_Preprocessed_P_N/Images/Brats18_TCIA10_393_1.nii.gz\n",
      "Saved: /data/hjlee/orhun/data/BRATS18/BRATS18_Preprocessed_P_N/Images/Brats18_TCIA02_208_1.nii.gz\n",
      "Saved: /data/hjlee/orhun/data/BRATS18/BRATS18_Preprocessed_P_N/Images/Brats18_TCIA06_332_1.nii.gz\n",
      "Saved: /data/hjlee/orhun/data/BRATS18/BRATS18_Preprocessed_P_N/Images/Brats18_2013_15_1.nii.gz\n",
      "Saved: /data/hjlee/orhun/data/BRATS18/BRATS18_Preprocessed_P_N/Images/Brats18_TCIA02_309_1.nii.gz\n",
      "Saved: /data/hjlee/orhun/data/BRATS18/BRATS18_Preprocessed_P_N/Images/Brats18_TCIA02_179_1.nii.gz\n",
      "Saved: /data/hjlee/orhun/data/BRATS18/BRATS18_Preprocessed_P_N/Images/Brats18_TCIA10_346_1.nii.gz\n",
      "Saved: /data/hjlee/orhun/data/BRATS18/BRATS18_Preprocessed_P_N/Images/Brats18_CBICA_BFP_1.nii.gz\n",
      "Saved: /data/hjlee/orhun/data/BRATS18/BRATS18_Preprocessed_P_N/Images/Brats18_TCIA02_274_1.nii.gz\n",
      "Saved: /data/hjlee/orhun/data/BRATS18/BRATS18_Preprocessed_P_N/Images/Brats18_2013_20_1.nii.gz\n",
      "Saved: /data/hjlee/orhun/data/BRATS18/BRATS18_Preprocessed_P_N/Images/Brats18_TCIA01_150_1.nii.gz\n",
      "Saved: /data/hjlee/orhun/data/BRATS18/BRATS18_Preprocessed_P_N/Images/Brats18_CBICA_ASY_1.nii.gz\n",
      "Saved: /data/hjlee/orhun/data/BRATS18/BRATS18_Preprocessed_P_N/Images/Brats18_TCIA09_312_1.nii.gz\n",
      "Saved: /data/hjlee/orhun/data/BRATS18/BRATS18_Preprocessed_P_N/Images/Brats18_TCIA02_370_1.nii.gz\n",
      "Saved: /data/hjlee/orhun/data/BRATS18/BRATS18_Preprocessed_P_N/Images/Brats18_TCIA10_175_1.nii.gz\n",
      "Saved: /data/hjlee/orhun/data/BRATS18/BRATS18_Preprocessed_P_N/Images/Brats18_TCIA02_117_1.nii.gz\n",
      "Saved: /data/hjlee/orhun/data/BRATS18/BRATS18_Preprocessed_P_N/Images/Brats18_TCIA12_298_1.nii.gz\n",
      "Saved: /data/hjlee/orhun/data/BRATS18/BRATS18_Preprocessed_P_N/Images/Brats18_CBICA_AWH_1.nii.gz\n",
      "Saved: /data/hjlee/orhun/data/BRATS18/BRATS18_Preprocessed_P_N/Images/Brats18_TCIA01_425_1.nii.gz\n",
      "Saved: /data/hjlee/orhun/data/BRATS18/BRATS18_Preprocessed_P_N/Images/Brats18_2013_1_1.nii.gz\n",
      "Saved: /data/hjlee/orhun/data/BRATS18/BRATS18_Preprocessed_P_N/Images/Brats18_TCIA08_278_1.nii.gz\n",
      "Saved: /data/hjlee/orhun/data/BRATS18/BRATS18_Preprocessed_P_N/Images/Brats18_TCIA10_410_1.nii.gz\n",
      "Saved: /data/hjlee/orhun/data/BRATS18/BRATS18_Preprocessed_P_N/Images/Brats18_TCIA02_171_1.nii.gz\n",
      "Saved: /data/hjlee/orhun/data/BRATS18/BRATS18_Preprocessed_P_N/Images/Brats18_TCIA06_372_1.nii.gz\n",
      "Saved: /data/hjlee/orhun/data/BRATS18/BRATS18_Preprocessed_P_N/Images/Brats18_TCIA02_226_1.nii.gz\n",
      "Saved: /data/hjlee/orhun/data/BRATS18/BRATS18_Preprocessed_P_N/Images/Brats18_2013_13_1.nii.gz\n",
      "Saved: /data/hjlee/orhun/data/BRATS18/BRATS18_Preprocessed_P_N/Images/Brats18_CBICA_ARZ_1.nii.gz\n",
      "Saved: /data/hjlee/orhun/data/BRATS18/BRATS18_Preprocessed_P_N/Images/Brats18_TCIA10_632_1.nii.gz\n",
      "Saved: /data/hjlee/orhun/data/BRATS18/BRATS18_Preprocessed_P_N/Images/Brats18_CBICA_AOO_1.nii.gz\n",
      "Saved: /data/hjlee/orhun/data/BRATS18/BRATS18_Preprocessed_P_N/Images/Brats18_CBICA_APY_1.nii.gz\n",
      "Saved: /data/hjlee/orhun/data/BRATS18/BRATS18_Preprocessed_P_N/Images/Brats18_CBICA_ASN_1.nii.gz\n",
      "Saved: /data/hjlee/orhun/data/BRATS18/BRATS18_Preprocessed_P_N/Images/Brats18_CBICA_ATV_1.nii.gz\n",
      "Saved: /data/hjlee/orhun/data/BRATS18/BRATS18_Preprocessed_P_N/Images/Brats18_CBICA_AUQ_1.nii.gz\n",
      "Saved: /data/hjlee/orhun/data/BRATS18/BRATS18_Preprocessed_P_N/Images/Brats18_TCIA03_498_1.nii.gz\n",
      "Saved: /data/hjlee/orhun/data/BRATS18/BRATS18_Preprocessed_P_N/Labels/Brats18_2013_8_1_label.nii.gz\n",
      "Saved: /data/hjlee/orhun/data/BRATS18/BRATS18_Preprocessed_P_N/Labels/Brats18_CBICA_ASG_1_label.nii.gz\n",
      "Saved: /data/hjlee/orhun/data/BRATS18/BRATS18_Preprocessed_P_N/Labels/Brats18_TCIA10_393_1_label.nii.gz\n",
      "Saved: /data/hjlee/orhun/data/BRATS18/BRATS18_Preprocessed_P_N/Labels/Brats18_TCIA02_179_1_label.nii.gz\n",
      "Saved: /data/hjlee/orhun/data/BRATS18/BRATS18_Preprocessed_P_N/Labels/Brats18_CBICA_AAL_1_label.nii.gz\n",
      "Saved: /data/hjlee/orhun/data/BRATS18/BRATS18_Preprocessed_P_N/Labels/Brats18_CBICA_AZD_1_label.nii.gz\n",
      "Saved: /data/hjlee/orhun/data/BRATS18/BRATS18_Preprocessed_P_N/Labels/Brats18_CBICA_AOZ_1_label.nii.gz\n",
      "Saved: /data/hjlee/orhun/data/BRATS18/BRATS18_Preprocessed_P_N/Labels/Brats18_TCIA10_241_1_label.nii.gz\n",
      "Saved: /data/hjlee/orhun/data/BRATS18/BRATS18_Preprocessed_P_N/Labels/Brats18_TCIA02_608_1_label.nii.gz\n",
      "Saved: /data/hjlee/orhun/data/BRATS18/BRATS18_Preprocessed_P_N/Labels/Brats18_TCIA03_419_1_label.nii.gz\n",
      "Saved: /data/hjlee/orhun/data/BRATS18/BRATS18_Preprocessed_P_N/Labels/Brats18_2013_1_1_label.nii.gz\n",
      "Saved: /data/hjlee/orhun/data/BRATS18/BRATS18_Preprocessed_P_N/Labels/Brats18_CBICA_ATV_1_label.nii.gz\n",
      "Saved: /data/hjlee/orhun/data/BRATS18/BRATS18_Preprocessed_P_N/Labels/Brats18_TCIA01_131_1_label.nii.gz\n",
      "Saved: /data/hjlee/orhun/data/BRATS18/BRATS18_Preprocessed_P_N/Labels/Brats18_CBICA_ABE_1_label.nii.gz\n",
      "Saved: /data/hjlee/orhun/data/BRATS18/BRATS18_Preprocessed_P_N/Labels/Brats18_TCIA10_420_1_label.nii.gz\n",
      "Saved: /data/hjlee/orhun/data/BRATS18/BRATS18_Preprocessed_P_N/Labels/Brats18_TCIA10_282_1_label.nii.gz\n",
      "Saved: /data/hjlee/orhun/data/BRATS18/BRATS18_Preprocessed_P_N/Labels/Brats18_CBICA_AUN_1_label.nii.gz\n",
      "Saved: /data/hjlee/orhun/data/BRATS18/BRATS18_Preprocessed_P_N/Labels/Brats18_CBICA_AAB_1_label.nii.gz\n",
      "Saved: /data/hjlee/orhun/data/BRATS18/BRATS18_Preprocessed_P_N/Labels/Brats18_TCIA02_274_1_label.nii.gz\n",
      "Saved: /data/hjlee/orhun/data/BRATS18/BRATS18_Preprocessed_P_N/Labels/Brats18_TCIA09_255_1_label.nii.gz\n",
      "Saved: /data/hjlee/orhun/data/BRATS18/BRATS18_Preprocessed_P_N/Labels/Brats18_TCIA03_138_1_label.nii.gz\n",
      "Saved: /data/hjlee/orhun/data/BRATS18/BRATS18_Preprocessed_P_N/Labels/Brats18_CBICA_AQD_1_label.nii.gz\n",
      "Saved: /data/hjlee/orhun/data/BRATS18/BRATS18_Preprocessed_P_N/Labels/Brats18_TCIA06_409_1_label.nii.gz\n",
      "Saved: /data/hjlee/orhun/data/BRATS18/BRATS18_Preprocessed_P_N/Labels/Brats18_CBICA_AXQ_1_label.nii.gz\n",
      "Saved: /data/hjlee/orhun/data/BRATS18/BRATS18_Preprocessed_P_N/Labels/Brats18_CBICA_AQR_1_label.nii.gz\n",
      "Saved: /data/hjlee/orhun/data/BRATS18/BRATS18_Preprocessed_P_N/Labels/Brats18_CBICA_AOP_1_label.nii.gz\n",
      "Saved: /data/hjlee/orhun/data/BRATS18/BRATS18_Preprocessed_P_N/Labels/Brats18_TCIA10_644_1_label.nii.gz\n",
      "Saved: /data/hjlee/orhun/data/BRATS18/BRATS18_Preprocessed_P_N/Labels/Brats18_TCIA08_205_1_label.nii.gz\n",
      "Saved: /data/hjlee/orhun/data/BRATS18/BRATS18_Preprocessed_P_N/Labels/Brats18_TCIA12_466_1_label.nii.gz\n",
      "Saved: /data/hjlee/orhun/data/BRATS18/BRATS18_Preprocessed_P_N/Labels/Brats18_CBICA_ARW_1_label.nii.gz\n",
      "Saved: /data/hjlee/orhun/data/BRATS18/BRATS18_Preprocessed_P_N/Labels/Brats18_CBICA_AVV_1_label.nii.gz\n",
      "Saved: /data/hjlee/orhun/data/BRATS18/BRATS18_Preprocessed_P_N/Labels/Brats18_TCIA02_283_1_label.nii.gz\n",
      "Saved: /data/hjlee/orhun/data/BRATS18/BRATS18_Preprocessed_P_N/Labels/Brats18_TCIA06_332_1_label.nii.gz\n",
      "Saved: /data/hjlee/orhun/data/BRATS18/BRATS18_Preprocessed_P_N/Labels/Brats18_TCIA13_650_1_label.nii.gz\n",
      "Saved: /data/hjlee/orhun/data/BRATS18/BRATS18_Preprocessed_P_N/Labels/Brats18_CBICA_AVJ_1_label.nii.gz\n",
      "Saved: /data/hjlee/orhun/data/BRATS18/BRATS18_Preprocessed_P_N/Labels/Brats18_CBICA_ASN_1_label.nii.gz\n",
      "Saved: /data/hjlee/orhun/data/BRATS18/BRATS18_Preprocessed_P_N/Labels/Brats18_TCIA01_186_1_label.nii.gz\n",
      "Saved: /data/hjlee/orhun/data/BRATS18/BRATS18_Preprocessed_P_N/Labels/Brats18_TCIA10_130_1_label.nii.gz\n",
      "Saved: /data/hjlee/orhun/data/BRATS18/BRATS18_Preprocessed_P_N/Labels/Brats18_CBICA_AWG_1_label.nii.gz\n",
      "Saved: /data/hjlee/orhun/data/BRATS18/BRATS18_Preprocessed_P_N/Labels/Brats18_TCIA12_101_1_label.nii.gz\n",
      "Saved: /data/hjlee/orhun/data/BRATS18/BRATS18_Preprocessed_P_N/Labels/Brats18_CBICA_ABO_1_label.nii.gz\n",
      "Saved: /data/hjlee/orhun/data/BRATS18/BRATS18_Preprocessed_P_N/Labels/Brats18_CBICA_AQT_1_label.nii.gz\n",
      "Saved: /data/hjlee/orhun/data/BRATS18/BRATS18_Preprocessed_P_N/Labels/Brats18_TCIA02_473_1_label.nii.gz\n",
      "Saved: /data/hjlee/orhun/data/BRATS18/BRATS18_Preprocessed_P_N/Labels/Brats18_TCIA03_375_1_label.nii.gz\n",
      "Saved: /data/hjlee/orhun/data/BRATS18/BRATS18_Preprocessed_P_N/Labels/Brats18_TCIA02_222_1_label.nii.gz\n",
      "Saved: /data/hjlee/orhun/data/BRATS18/BRATS18_Preprocessed_P_N/Labels/Brats18_TCIA06_211_1_label.nii.gz\n",
      "Saved: /data/hjlee/orhun/data/BRATS18/BRATS18_Preprocessed_P_N/Labels/Brats18_2013_19_1_label.nii.gz\n",
      "Saved: /data/hjlee/orhun/data/BRATS18/BRATS18_Preprocessed_P_N/Labels/Brats18_CBICA_ASV_1_label.nii.gz\n",
      "Saved: /data/hjlee/orhun/data/BRATS18/BRATS18_Preprocessed_P_N/Labels/Brats18_TCIA02_377_1_label.nii.gz\n",
      "Saved: /data/hjlee/orhun/data/BRATS18/BRATS18_Preprocessed_P_N/Labels/Brats18_CBICA_AMH_1_label.nii.gz\n",
      "Saved: /data/hjlee/orhun/data/BRATS18/BRATS18_Preprocessed_P_N/Labels/Brats18_CBICA_BFP_1_label.nii.gz\n",
      "Saved: /data/hjlee/orhun/data/BRATS18/BRATS18_Preprocessed_P_N/Labels/Brats18_CBICA_ANG_1_label.nii.gz\n",
      "Saved: /data/hjlee/orhun/data/BRATS18/BRATS18_Preprocessed_P_N/Labels/Brats18_TCIA09_312_1_label.nii.gz\n",
      "Saved: /data/hjlee/orhun/data/BRATS18/BRATS18_Preprocessed_P_N/Labels/Brats18_2013_3_1_label.nii.gz\n",
      "Saved: /data/hjlee/orhun/data/BRATS18/BRATS18_Preprocessed_P_N/Labels/Brats18_TCIA08_278_1_label.nii.gz\n",
      "Saved: /data/hjlee/orhun/data/BRATS18/BRATS18_Preprocessed_P_N/Labels/Brats18_CBICA_APY_1_label.nii.gz\n",
      "Saved: /data/hjlee/orhun/data/BRATS18/BRATS18_Preprocessed_P_N/Labels/Brats18_TCIA01_231_1_label.nii.gz\n",
      "Saved: /data/hjlee/orhun/data/BRATS18/BRATS18_Preprocessed_P_N/Labels/Brats18_TCIA10_351_1_label.nii.gz\n",
      "Saved: /data/hjlee/orhun/data/BRATS18/BRATS18_Preprocessed_P_N/Labels/Brats18_TCIA12_480_1_label.nii.gz\n",
      "Saved: /data/hjlee/orhun/data/BRATS18/BRATS18_Preprocessed_P_N/Labels/Brats18_TCIA02_151_1_label.nii.gz\n",
      "Saved: /data/hjlee/orhun/data/BRATS18/BRATS18_Preprocessed_P_N/Labels/Brats18_CBICA_AME_1_label.nii.gz\n",
      "Saved: /data/hjlee/orhun/data/BRATS18/BRATS18_Preprocessed_P_N/Labels/Brats18_TCIA03_265_1_label.nii.gz\n",
      "Saved: /data/hjlee/orhun/data/BRATS18/BRATS18_Preprocessed_P_N/Labels/Brats18_TCIA02_394_1_label.nii.gz\n",
      "Saved: /data/hjlee/orhun/data/BRATS18/BRATS18_Preprocessed_P_N/Labels/Brats18_TCIA02_171_1_label.nii.gz\n",
      "Saved: /data/hjlee/orhun/data/BRATS18/BRATS18_Preprocessed_P_N/Labels/Brats18_CBICA_AQA_1_label.nii.gz\n",
      "Saved: /data/hjlee/orhun/data/BRATS18/BRATS18_Preprocessed_P_N/Labels/Brats18_CBICA_ASW_1_label.nii.gz\n",
      "Saved: /data/hjlee/orhun/data/BRATS18/BRATS18_Preprocessed_P_N/Labels/Brats18_2013_29_1_label.nii.gz\n",
      "Saved: /data/hjlee/orhun/data/BRATS18/BRATS18_Preprocessed_P_N/Labels/Brats18_TCIA01_201_1_label.nii.gz\n",
      "Saved: /data/hjlee/orhun/data/BRATS18/BRATS18_Preprocessed_P_N/Labels/Brats18_TCIA09_451_1_label.nii.gz\n",
      "Saved: /data/hjlee/orhun/data/BRATS18/BRATS18_Preprocessed_P_N/Labels/Brats18_CBICA_ANP_1_label.nii.gz\n",
      "Saved: /data/hjlee/orhun/data/BRATS18/BRATS18_Preprocessed_P_N/Labels/Brats18_TCIA10_632_1_label.nii.gz\n",
      "Saved: /data/hjlee/orhun/data/BRATS18/BRATS18_Preprocessed_P_N/Labels/Brats18_CBICA_AUR_1_label.nii.gz\n",
      "Saved: /data/hjlee/orhun/data/BRATS18/BRATS18_Preprocessed_P_N/Labels/Brats18_CBICA_ASH_1_label.nii.gz\n",
      "Saved: /data/hjlee/orhun/data/BRATS18/BRATS18_Preprocessed_P_N/Labels/Brats18_TCIA02_226_1_label.nii.gz\n",
      "Saved: /data/hjlee/orhun/data/BRATS18/BRATS18_Preprocessed_P_N/Labels/Brats18_TCIA10_640_1_label.nii.gz\n",
      "Saved: /data/hjlee/orhun/data/BRATS18/BRATS18_Preprocessed_P_N/Labels/Brats18_CBICA_ASK_1_label.nii.gz\n",
      "Saved: /data/hjlee/orhun/data/BRATS18/BRATS18_Preprocessed_P_N/Labels/Brats18_TCIA02_309_1_label.nii.gz\n",
      "Saved: /data/hjlee/orhun/data/BRATS18/BRATS18_Preprocessed_P_N/Labels/Brats18_TCIA02_606_1_label.nii.gz\n",
      "Saved: /data/hjlee/orhun/data/BRATS18/BRATS18_Preprocessed_P_N/Labels/Brats18_TCIA10_449_1_label.nii.gz\n",
      "Saved: /data/hjlee/orhun/data/BRATS18/BRATS18_Preprocessed_P_N/Labels/Brats18_2013_7_1_label.nii.gz\n",
      "Saved: /data/hjlee/orhun/data/BRATS18/BRATS18_Preprocessed_P_N/Labels/Brats18_CBICA_AVG_1_label.nii.gz\n",
      "Saved: /data/hjlee/orhun/data/BRATS18/BRATS18_Preprocessed_P_N/Labels/Brats18_TCIA08_167_1_label.nii.gz\n",
      "Saved: /data/hjlee/orhun/data/BRATS18/BRATS18_Preprocessed_P_N/Labels/Brats18_TCIA10_410_1_label.nii.gz\n",
      "Saved: /data/hjlee/orhun/data/BRATS18/BRATS18_Preprocessed_P_N/Labels/Brats18_TCIA01_460_1_label.nii.gz\n",
      "Saved: /data/hjlee/orhun/data/BRATS18/BRATS18_Preprocessed_P_N/Labels/Brats18_2013_5_1_label.nii.gz\n",
      "Saved: /data/hjlee/orhun/data/BRATS18/BRATS18_Preprocessed_P_N/Labels/Brats18_TCIA08_280_1_label.nii.gz\n",
      "Saved: /data/hjlee/orhun/data/BRATS18/BRATS18_Preprocessed_P_N/Labels/Brats18_TCIA03_474_1_label.nii.gz\n",
      "Saved: /data/hjlee/orhun/data/BRATS18/BRATS18_Preprocessed_P_N/Labels/Brats18_TCIA02_430_1_label.nii.gz\n",
      "Saved: /data/hjlee/orhun/data/BRATS18/BRATS18_Preprocessed_P_N/Labels/Brats18_2013_27_1_label.nii.gz\n",
      "Saved: /data/hjlee/orhun/data/BRATS18/BRATS18_Preprocessed_P_N/Labels/Brats18_CBICA_BHB_1_label.nii.gz\n",
      "Saved: /data/hjlee/orhun/data/BRATS18/BRATS18_Preprocessed_P_N/Labels/Brats18_TCIA10_413_1_label.nii.gz\n",
      "Saved: /data/hjlee/orhun/data/BRATS18/BRATS18_Preprocessed_P_N/Labels/Brats18_TCIA02_322_1_label.nii.gz\n",
      "Saved: /data/hjlee/orhun/data/BRATS18/BRATS18_Preprocessed_P_N/Labels/Brats18_TCIA01_203_1_label.nii.gz\n",
      "Saved: /data/hjlee/orhun/data/BRATS18/BRATS18_Preprocessed_P_N/Labels/Brats18_TCIA08_406_1_label.nii.gz\n",
      "Saved: /data/hjlee/orhun/data/BRATS18/BRATS18_Preprocessed_P_N/Labels/Brats18_CBICA_ASE_1_label.nii.gz\n",
      "Saved: /data/hjlee/orhun/data/BRATS18/BRATS18_Preprocessed_P_N/Labels/Brats18_TCIA09_493_1_label.nii.gz\n",
      "Saved: /data/hjlee/orhun/data/BRATS18/BRATS18_Preprocessed_P_N/Labels/Brats18_TCIA13_653_1_label.nii.gz\n",
      "Saved: /data/hjlee/orhun/data/BRATS18/BRATS18_Preprocessed_P_N/Labels/Brats18_TCIA10_310_1_label.nii.gz\n",
      "Saved: /data/hjlee/orhun/data/BRATS18/BRATS18_Preprocessed_P_N/Labels/Brats18_TCIA10_175_1_label.nii.gz\n",
      "Saved: /data/hjlee/orhun/data/BRATS18/BRATS18_Preprocessed_P_N/Labels/Brats18_TCIA01_147_1_label.nii.gz\n",
      "Saved: /data/hjlee/orhun/data/BRATS18/BRATS18_Preprocessed_P_N/Labels/Brats18_TCIA01_378_1_label.nii.gz\n",
      "Saved: /data/hjlee/orhun/data/BRATS18/BRATS18_Preprocessed_P_N/Labels/Brats18_TCIA01_401_1_label.nii.gz\n",
      "Saved: /data/hjlee/orhun/data/BRATS18/BRATS18_Preprocessed_P_N/Labels/Brats18_CBICA_ABM_1_label.nii.gz\n",
      "Saved: /data/hjlee/orhun/data/BRATS18/BRATS18_Preprocessed_P_N/Labels/Brats18_2013_12_1_label.nii.gz\n",
      "Saved: /data/hjlee/orhun/data/BRATS18/BRATS18_Preprocessed_P_N/Labels/Brats18_TCIA01_180_1_label.nii.gz\n",
      "Saved: /data/hjlee/orhun/data/BRATS18/BRATS18_Preprocessed_P_N/Labels/Brats18_TCIA04_192_1_label.nii.gz\n",
      "Saved: /data/hjlee/orhun/data/BRATS18/BRATS18_Preprocessed_P_N/Labels/Brats18_CBICA_ATX_1_label.nii.gz\n",
      "Saved: /data/hjlee/orhun/data/BRATS18/BRATS18_Preprocessed_P_N/Labels/Brats18_TCIA10_408_1_label.nii.gz\n",
      "Saved: /data/hjlee/orhun/data/BRATS18/BRATS18_Preprocessed_P_N/Labels/Brats18_TCIA02_117_1_label.nii.gz\n",
      "Saved: /data/hjlee/orhun/data/BRATS18/BRATS18_Preprocessed_P_N/Labels/Brats18_TCIA02_135_1_label.nii.gz\n",
      "Saved: /data/hjlee/orhun/data/BRATS18/BRATS18_Preprocessed_P_N/Labels/Brats18_CBICA_ABY_1_label.nii.gz\n",
      "Saved: /data/hjlee/orhun/data/BRATS18/BRATS18_Preprocessed_P_N/Labels/Brats18_TCIA01_411_1_label.nii.gz\n",
      "Saved: /data/hjlee/orhun/data/BRATS18/BRATS18_Preprocessed_P_N/Labels/Brats18_CBICA_AWI_1_label.nii.gz\n",
      "Saved: /data/hjlee/orhun/data/BRATS18/BRATS18_Preprocessed_P_N/Labels/Brats18_TCIA10_639_1_label.nii.gz\n",
      "Saved: /data/hjlee/orhun/data/BRATS18/BRATS18_Preprocessed_P_N/Labels/Brats18_TCIA09_141_1_label.nii.gz\n",
      "Saved: /data/hjlee/orhun/data/BRATS18/BRATS18_Preprocessed_P_N/Labels/Brats18_CBICA_AOO_1_label.nii.gz\n",
      "Saved: /data/hjlee/orhun/data/BRATS18/BRATS18_Preprocessed_P_N/Labels/Brats18_TCIA01_190_1_label.nii.gz\n",
      "Saved: /data/hjlee/orhun/data/BRATS18/BRATS18_Preprocessed_P_N/Labels/Brats18_TCIA01_235_1_label.nii.gz\n",
      "Saved: /data/hjlee/orhun/data/BRATS18/BRATS18_Preprocessed_P_N/Labels/Brats18_CBICA_BHK_1_label.nii.gz\n",
      "Saved: /data/hjlee/orhun/data/BRATS18/BRATS18_Preprocessed_P_N/Labels/Brats18_2013_6_1_label.nii.gz\n",
      "Saved: /data/hjlee/orhun/data/BRATS18/BRATS18_Preprocessed_P_N/Labels/Brats18_CBICA_AOH_1_label.nii.gz\n",
      "Saved: /data/hjlee/orhun/data/BRATS18/BRATS18_Preprocessed_P_N/Labels/Brats18_TCIA01_221_1_label.nii.gz\n",
      "Saved: /data/hjlee/orhun/data/BRATS18/BRATS18_Preprocessed_P_N/Labels/Brats18_CBICA_ASO_1_label.nii.gz\n",
      "Saved: /data/hjlee/orhun/data/BRATS18/BRATS18_Preprocessed_P_N/Labels/Brats18_2013_4_1_label.nii.gz\n",
      "Saved: /data/hjlee/orhun/data/BRATS18/BRATS18_Preprocessed_P_N/Labels/Brats18_2013_10_1_label.nii.gz\n",
      "Saved: /data/hjlee/orhun/data/BRATS18/BRATS18_Preprocessed_P_N/Labels/Brats18_TCIA02_370_1_label.nii.gz\n",
      "Saved: /data/hjlee/orhun/data/BRATS18/BRATS18_Preprocessed_P_N/Labels/Brats18_CBICA_AXJ_1_label.nii.gz\n",
      "Saved: /data/hjlee/orhun/data/BRATS18/BRATS18_Preprocessed_P_N/Labels/Brats18_TCIA05_478_1_label.nii.gz\n",
      "Saved: /data/hjlee/orhun/data/BRATS18/BRATS18_Preprocessed_P_N/Labels/Brats18_CBICA_AXL_1_label.nii.gz\n",
      "Saved: /data/hjlee/orhun/data/BRATS18/BRATS18_Preprocessed_P_N/Labels/Brats18_2013_13_1_label.nii.gz\n",
      "Saved: /data/hjlee/orhun/data/BRATS18/BRATS18_Preprocessed_P_N/Labels/Brats18_TCIA10_490_1_label.nii.gz\n",
      "Saved: /data/hjlee/orhun/data/BRATS18/BRATS18_Preprocessed_P_N/Labels/Brats18_TCIA03_338_1_label.nii.gz\n",
      "Saved: /data/hjlee/orhun/data/BRATS18/BRATS18_Preprocessed_P_N/Labels/Brats18_TCIA03_257_1_label.nii.gz\n",
      "Saved: /data/hjlee/orhun/data/BRATS18/BRATS18_Preprocessed_P_N/Labels/Brats18_2013_11_1_label.nii.gz\n",
      "Saved: /data/hjlee/orhun/data/BRATS18/BRATS18_Preprocessed_P_N/Labels/Brats18_TCIA02_198_1_label.nii.gz\n",
      "Saved: /data/hjlee/orhun/data/BRATS18/BRATS18_Preprocessed_P_N/Labels/Brats18_TCIA10_109_1_label.nii.gz\n",
      "Saved: /data/hjlee/orhun/data/BRATS18/BRATS18_Preprocessed_P_N/Labels/Brats18_TCIA08_105_1_label.nii.gz\n",
      "Saved: /data/hjlee/orhun/data/BRATS18/BRATS18_Preprocessed_P_N/Labels/Brats18_TCIA02_208_1_label.nii.gz\n",
      "Saved: /data/hjlee/orhun/data/BRATS18/BRATS18_Preprocessed_P_N/Labels/Brats18_TCIA10_330_1_label.nii.gz\n",
      "Saved: /data/hjlee/orhun/data/BRATS18/BRATS18_Preprocessed_P_N/Labels/Brats18_TCIA10_325_1_label.nii.gz\n",
      "Saved: /data/hjlee/orhun/data/BRATS18/BRATS18_Preprocessed_P_N/Labels/Brats18_TCIA06_165_1_label.nii.gz\n",
      "Saved: /data/hjlee/orhun/data/BRATS18/BRATS18_Preprocessed_P_N/Labels/Brats18_TCIA09_254_1_label.nii.gz\n",
      "Saved: /data/hjlee/orhun/data/BRATS18/BRATS18_Preprocessed_P_N/Labels/Brats18_TCIA02_491_1_label.nii.gz\n",
      "Saved: /data/hjlee/orhun/data/BRATS18/BRATS18_Preprocessed_P_N/Labels/Brats18_CBICA_ANI_1_label.nii.gz\n",
      "Saved: /data/hjlee/orhun/data/BRATS18/BRATS18_Preprocessed_P_N/Labels/Brats18_TCIA13_654_1_label.nii.gz\n",
      "Saved: /data/hjlee/orhun/data/BRATS18/BRATS18_Preprocessed_P_N/Labels/Brats18_TCIA06_603_1_label.nii.gz\n",
      "Saved: /data/hjlee/orhun/data/BRATS18/BRATS18_Preprocessed_P_N/Labels/Brats18_CBICA_AZH_1_label.nii.gz\n",
      "Saved: /data/hjlee/orhun/data/BRATS18/BRATS18_Preprocessed_P_N/Labels/Brats18_TCIA06_184_1_label.nii.gz\n",
      "Saved: /data/hjlee/orhun/data/BRATS18/BRATS18_Preprocessed_P_N/Labels/Brats18_TCIA02_605_1_label.nii.gz\n",
      "Saved: /data/hjlee/orhun/data/BRATS18/BRATS18_Preprocessed_P_N/Labels/Brats18_TCIA02_368_1_label.nii.gz\n",
      "Saved: /data/hjlee/orhun/data/BRATS18/BRATS18_Preprocessed_P_N/Labels/Brats18_TCIA04_437_1_label.nii.gz\n",
      "Saved: /data/hjlee/orhun/data/BRATS18/BRATS18_Preprocessed_P_N/Labels/Brats18_CBICA_ASA_1_label.nii.gz\n",
      "Saved: /data/hjlee/orhun/data/BRATS18/BRATS18_Preprocessed_P_N/Labels/Brats18_2013_17_1_label.nii.gz\n",
      "Saved: /data/hjlee/orhun/data/BRATS18/BRATS18_Preprocessed_P_N/Labels/Brats18_TCIA09_177_1_label.nii.gz\n",
      "Saved: /data/hjlee/orhun/data/BRATS18/BRATS18_Preprocessed_P_N/Labels/Brats18_2013_9_1_label.nii.gz\n",
      "Saved: /data/hjlee/orhun/data/BRATS18/BRATS18_Preprocessed_P_N/Labels/Brats18_CBICA_ANZ_1_label.nii.gz\n",
      "Saved: /data/hjlee/orhun/data/BRATS18/BRATS18_Preprocessed_P_N/Labels/Brats18_TCIA01_425_1_label.nii.gz\n",
      "Saved: /data/hjlee/orhun/data/BRATS18/BRATS18_Preprocessed_P_N/Labels/Brats18_TCIA03_498_1_label.nii.gz\n",
      "Saved: /data/hjlee/orhun/data/BRATS18/BRATS18_Preprocessed_P_N/Labels/Brats18_TCIA03_199_1_label.nii.gz\n",
      "Saved: /data/hjlee/orhun/data/BRATS18/BRATS18_Preprocessed_P_N/Labels/Brats18_TCIA10_629_1_label.nii.gz\n",
      "Saved: /data/hjlee/orhun/data/BRATS18/BRATS18_Preprocessed_P_N/Labels/Brats18_TCIA10_307_1_label.nii.gz\n",
      "Saved: /data/hjlee/orhun/data/BRATS18/BRATS18_Preprocessed_P_N/Labels/Brats18_TCIA03_133_1_label.nii.gz\n",
      "Saved: /data/hjlee/orhun/data/BRATS18/BRATS18_Preprocessed_P_N/Labels/Brats18_CBICA_AQQ_1_label.nii.gz\n",
      "Saved: /data/hjlee/orhun/data/BRATS18/BRATS18_Preprocessed_P_N/Labels/Brats18_CBICA_ALX_1_label.nii.gz\n",
      "Saved: /data/hjlee/orhun/data/BRATS18/BRATS18_Preprocessed_P_N/Labels/Brats18_CBICA_AQZ_1_label.nii.gz\n",
      "Saved: /data/hjlee/orhun/data/BRATS18/BRATS18_Preprocessed_P_N/Labels/Brats18_CBICA_ASY_1_label.nii.gz\n",
      "Saved: /data/hjlee/orhun/data/BRATS18/BRATS18_Preprocessed_P_N/Labels/Brats18_TCIA10_628_1_label.nii.gz\n",
      "Saved: /data/hjlee/orhun/data/BRATS18/BRATS18_Preprocessed_P_N/Labels/Brats18_2013_20_1_label.nii.gz\n",
      "Saved: /data/hjlee/orhun/data/BRATS18/BRATS18_Preprocessed_P_N/Labels/Brats18_CBICA_AQG_1_label.nii.gz\n",
      "Saved: /data/hjlee/orhun/data/BRATS18/BRATS18_Preprocessed_P_N/Labels/Brats18_2013_14_1_label.nii.gz\n",
      "Saved: /data/hjlee/orhun/data/BRATS18/BRATS18_Preprocessed_P_N/Labels/Brats18_TCIA09_620_1_label.nii.gz\n",
      "Saved: /data/hjlee/orhun/data/BRATS18/BRATS18_Preprocessed_P_N/Labels/Brats18_CBICA_ABN_1_label.nii.gz\n",
      "Saved: /data/hjlee/orhun/data/BRATS18/BRATS18_Preprocessed_P_N/Labels/Brats18_TCIA09_428_1_label.nii.gz\n",
      "Saved: /data/hjlee/orhun/data/BRATS18/BRATS18_Preprocessed_P_N/Labels/Brats18_CBICA_AAG_1_label.nii.gz\n",
      "Saved: /data/hjlee/orhun/data/BRATS18/BRATS18_Preprocessed_P_N/Labels/Brats18_CBICA_AYI_1_label.nii.gz\n",
      "Saved: /data/hjlee/orhun/data/BRATS18/BRATS18_Preprocessed_P_N/Labels/Brats18_TCIA02_607_1_label.nii.gz\n",
      "Saved: /data/hjlee/orhun/data/BRATS18/BRATS18_Preprocessed_P_N/Labels/Brats18_TCIA02_290_1_label.nii.gz\n",
      "Saved: /data/hjlee/orhun/data/BRATS18/BRATS18_Preprocessed_P_N/Labels/Brats18_TCIA04_111_1_label.nii.gz\n",
      "Saved: /data/hjlee/orhun/data/BRATS18/BRATS18_Preprocessed_P_N/Labels/Brats18_TCIA13_618_1_label.nii.gz\n",
      "Saved: /data/hjlee/orhun/data/BRATS18/BRATS18_Preprocessed_P_N/Labels/Brats18_2013_15_1_label.nii.gz\n",
      "Saved: /data/hjlee/orhun/data/BRATS18/BRATS18_Preprocessed_P_N/Labels/Brats18_CBICA_ATP_1_label.nii.gz\n",
      "Saved: /data/hjlee/orhun/data/BRATS18/BRATS18_Preprocessed_P_N/Labels/Brats18_TCIA02_331_1_label.nii.gz\n",
      "Saved: /data/hjlee/orhun/data/BRATS18/BRATS18_Preprocessed_P_N/Labels/Brats18_TCIA10_266_1_label.nii.gz\n",
      "Saved: /data/hjlee/orhun/data/BRATS18/BRATS18_Preprocessed_P_N/Labels/Brats18_CBICA_AXW_1_label.nii.gz\n",
      "Saved: /data/hjlee/orhun/data/BRATS18/BRATS18_Preprocessed_P_N/Labels/Brats18_TCIA01_448_1_label.nii.gz\n",
      "Saved: /data/hjlee/orhun/data/BRATS18/BRATS18_Preprocessed_P_N/Labels/Brats18_TCIA10_387_1_label.nii.gz\n",
      "Saved: /data/hjlee/orhun/data/BRATS18/BRATS18_Preprocessed_P_N/Labels/Brats18_2013_18_1_label.nii.gz\n",
      "Saved: /data/hjlee/orhun/data/BRATS18/BRATS18_Preprocessed_P_N/Labels/Brats18_TCIA04_343_1_label.nii.gz\n",
      "Saved: /data/hjlee/orhun/data/BRATS18/BRATS18_Preprocessed_P_N/Labels/Brats18_TCIA10_442_1_label.nii.gz\n",
      "Saved: /data/hjlee/orhun/data/BRATS18/BRATS18_Preprocessed_P_N/Labels/Brats18_CBICA_AXO_1_label.nii.gz\n",
      "Saved: /data/hjlee/orhun/data/BRATS18/BRATS18_Preprocessed_P_N/Labels/Brats18_CBICA_APZ_1_label.nii.gz\n",
      "Saved: /data/hjlee/orhun/data/BRATS18/BRATS18_Preprocessed_P_N/Labels/Brats18_TCIA04_328_1_label.nii.gz\n",
      "Saved: /data/hjlee/orhun/data/BRATS18/BRATS18_Preprocessed_P_N/Labels/Brats18_2013_16_1_label.nii.gz\n",
      "Saved: /data/hjlee/orhun/data/BRATS18/BRATS18_Preprocessed_P_N/Labels/Brats18_TCIA10_152_1_label.nii.gz\n",
      "Saved: /data/hjlee/orhun/data/BRATS18/BRATS18_Preprocessed_P_N/Labels/Brats18_CBICA_BFB_1_label.nii.gz\n",
      "Saved: /data/hjlee/orhun/data/BRATS18/BRATS18_Preprocessed_P_N/Labels/Brats18_CBICA_AAP_1_label.nii.gz\n",
      "Saved: /data/hjlee/orhun/data/BRATS18/BRATS18_Preprocessed_P_N/Labels/Brats18_TCIA01_499_1_label.nii.gz\n",
      "Saved: /data/hjlee/orhun/data/BRATS18/BRATS18_Preprocessed_P_N/Labels/Brats18_TCIA08_469_1_label.nii.gz\n",
      "Saved: /data/hjlee/orhun/data/BRATS18/BRATS18_Preprocessed_P_N/Labels/Brats18_CBICA_AYA_1_label.nii.gz\n",
      "Saved: /data/hjlee/orhun/data/BRATS18/BRATS18_Preprocessed_P_N/Labels/Brats18_TCIA03_296_1_label.nii.gz\n",
      "Saved: /data/hjlee/orhun/data/BRATS18/BRATS18_Preprocessed_P_N/Labels/Brats18_TCIA02_168_1_label.nii.gz\n",
      "Saved: /data/hjlee/orhun/data/BRATS18/BRATS18_Preprocessed_P_N/Labels/Brats18_TCIA01_335_1_label.nii.gz\n",
      "Saved: /data/hjlee/orhun/data/BRATS18/BRATS18_Preprocessed_P_N/Labels/Brats18_TCIA05_444_1_label.nii.gz\n",
      "Saved: /data/hjlee/orhun/data/BRATS18/BRATS18_Preprocessed_P_N/Labels/Brats18_TCIA09_402_1_label.nii.gz\n",
      "Saved: /data/hjlee/orhun/data/BRATS18/BRATS18_Preprocessed_P_N/Labels/Brats18_TCIA13_621_1_label.nii.gz\n",
      "Saved: /data/hjlee/orhun/data/BRATS18/BRATS18_Preprocessed_P_N/Labels/Brats18_TCIA08_113_1_label.nii.gz\n",
      "Saved: /data/hjlee/orhun/data/BRATS18/BRATS18_Preprocessed_P_N/Labels/Brats18_2013_26_1_label.nii.gz\n",
      "Saved: /data/hjlee/orhun/data/BRATS18/BRATS18_Preprocessed_P_N/Labels/Brats18_TCIA06_372_1_label.nii.gz\n",
      "Saved: /data/hjlee/orhun/data/BRATS18/BRATS18_Preprocessed_P_N/Labels/Brats18_CBICA_ABB_1_label.nii.gz\n",
      "Saved: /data/hjlee/orhun/data/BRATS18/BRATS18_Preprocessed_P_N/Labels/Brats18_TCIA13_634_1_label.nii.gz\n",
      "Saved: /data/hjlee/orhun/data/BRATS18/BRATS18_Preprocessed_P_N/Labels/Brats18_TCIA09_462_1_label.nii.gz\n",
      "Saved: /data/hjlee/orhun/data/BRATS18/BRATS18_Preprocessed_P_N/Labels/Brats18_TCIA13_623_1_label.nii.gz\n",
      "Saved: /data/hjlee/orhun/data/BRATS18/BRATS18_Preprocessed_P_N/Labels/Brats18_TCIA04_361_1_label.nii.gz\n",
      "Saved: /data/hjlee/orhun/data/BRATS18/BRATS18_Preprocessed_P_N/Labels/Brats18_CBICA_AQU_1_label.nii.gz\n",
      "Saved: /data/hjlee/orhun/data/BRATS18/BRATS18_Preprocessed_P_N/Labels/Brats18_CBICA_AQO_1_label.nii.gz\n",
      "Saved: /data/hjlee/orhun/data/BRATS18/BRATS18_Preprocessed_P_N/Labels/Brats18_CBICA_AXN_1_label.nii.gz\n",
      "Saved: /data/hjlee/orhun/data/BRATS18/BRATS18_Preprocessed_P_N/Labels/Brats18_TCIA12_249_1_label.nii.gz\n",
      "Saved: /data/hjlee/orhun/data/BRATS18/BRATS18_Preprocessed_P_N/Labels/Brats18_CBICA_ALU_1_label.nii.gz\n",
      "Saved: /data/hjlee/orhun/data/BRATS18/BRATS18_Preprocessed_P_N/Labels/Brats18_TCIA10_346_1_label.nii.gz\n",
      "Saved: /data/hjlee/orhun/data/BRATS18/BRATS18_Preprocessed_P_N/Labels/Brats18_TCIA12_470_1_label.nii.gz\n",
      "Saved: /data/hjlee/orhun/data/BRATS18/BRATS18_Preprocessed_P_N/Labels/Brats18_TCIA08_436_1_label.nii.gz\n",
      "Saved: /data/hjlee/orhun/data/BRATS18/BRATS18_Preprocessed_P_N/Labels/Brats18_CBICA_AWH_1_label.nii.gz\n",
      "Saved: /data/hjlee/orhun/data/BRATS18/BRATS18_Preprocessed_P_N/Labels/Brats18_TCIA08_162_1_label.nii.gz\n",
      "Saved: /data/hjlee/orhun/data/BRATS18/BRATS18_Preprocessed_P_N/Labels/Brats18_TCIA01_390_1_label.nii.gz\n",
      "Saved: /data/hjlee/orhun/data/BRATS18/BRATS18_Preprocessed_P_N/Labels/Brats18_CBICA_APR_1_label.nii.gz\n",
      "Saved: /data/hjlee/orhun/data/BRATS18/BRATS18_Preprocessed_P_N/Labels/Brats18_CBICA_AOD_1_label.nii.gz\n",
      "Saved: /data/hjlee/orhun/data/BRATS18/BRATS18_Preprocessed_P_N/Labels/Brats18_TCIA02_321_1_label.nii.gz\n",
      "Saved: /data/hjlee/orhun/data/BRATS18/BRATS18_Preprocessed_P_N/Labels/Brats18_TCIA10_637_1_label.nii.gz\n",
      "Saved: /data/hjlee/orhun/data/BRATS18/BRATS18_Preprocessed_P_N/Labels/Brats18_CBICA_AYU_1_label.nii.gz\n",
      "Saved: /data/hjlee/orhun/data/BRATS18/BRATS18_Preprocessed_P_N/Labels/Brats18_TCIA13_633_1_label.nii.gz\n",
      "Saved: /data/hjlee/orhun/data/BRATS18/BRATS18_Preprocessed_P_N/Labels/Brats18_2013_22_1_label.nii.gz\n",
      "Saved: /data/hjlee/orhun/data/BRATS18/BRATS18_Preprocessed_P_N/Labels/Brats18_TCIA01_429_1_label.nii.gz\n",
      "Saved: /data/hjlee/orhun/data/BRATS18/BRATS18_Preprocessed_P_N/Labels/Brats18_TCIA02_300_1_label.nii.gz\n",
      "Saved: /data/hjlee/orhun/data/BRATS18/BRATS18_Preprocessed_P_N/Labels/Brats18_TCIA10_103_1_label.nii.gz\n",
      "Saved: /data/hjlee/orhun/data/BRATS18/BRATS18_Preprocessed_P_N/Labels/Brats18_CBICA_BHM_1_label.nii.gz\n",
      "Saved: /data/hjlee/orhun/data/BRATS18/BRATS18_Preprocessed_P_N/Labels/Brats18_TCIA02_471_1_label.nii.gz\n",
      "Saved: /data/hjlee/orhun/data/BRATS18/BRATS18_Preprocessed_P_N/Labels/Brats18_TCIA01_150_1_label.nii.gz\n",
      "Saved: /data/hjlee/orhun/data/BRATS18/BRATS18_Preprocessed_P_N/Labels/Brats18_TCIA10_299_1_label.nii.gz\n",
      "Saved: /data/hjlee/orhun/data/BRATS18/BRATS18_Preprocessed_P_N/Labels/Brats18_TCIA02_314_1_label.nii.gz\n",
      "Saved: /data/hjlee/orhun/data/BRATS18/BRATS18_Preprocessed_P_N/Labels/Brats18_TCIA03_121_1_label.nii.gz\n",
      "Saved: /data/hjlee/orhun/data/BRATS18/BRATS18_Preprocessed_P_N/Labels/Brats18_CBICA_AUQ_1_label.nii.gz\n",
      "Saved: /data/hjlee/orhun/data/BRATS18/BRATS18_Preprocessed_P_N/Labels/Brats18_TCIA04_149_1_label.nii.gz\n",
      "Saved: /data/hjlee/orhun/data/BRATS18/BRATS18_Preprocessed_P_N/Labels/Brats18_TCIA10_261_1_label.nii.gz\n",
      "Saved: /data/hjlee/orhun/data/BRATS18/BRATS18_Preprocessed_P_N/Labels/Brats18_2013_28_1_label.nii.gz\n",
      "Saved: /data/hjlee/orhun/data/BRATS18/BRATS18_Preprocessed_P_N/Labels/Brats18_TCIA01_412_1_label.nii.gz\n",
      "Saved: /data/hjlee/orhun/data/BRATS18/BRATS18_Preprocessed_P_N/Labels/Brats18_TCIA06_247_1_label.nii.gz\n",
      "Saved: /data/hjlee/orhun/data/BRATS18/BRATS18_Preprocessed_P_N/Labels/Brats18_TCIA13_630_1_label.nii.gz\n",
      "Saved: /data/hjlee/orhun/data/BRATS18/BRATS18_Preprocessed_P_N/Labels/Brats18_CBICA_ATF_1_label.nii.gz\n",
      "Saved: /data/hjlee/orhun/data/BRATS18/BRATS18_Preprocessed_P_N/Labels/Brats18_CBICA_AQP_1_label.nii.gz\n",
      "Saved: /data/hjlee/orhun/data/BRATS18/BRATS18_Preprocessed_P_N/Labels/Brats18_TCIA05_277_1_label.nii.gz\n",
      "Saved: /data/hjlee/orhun/data/BRATS18/BRATS18_Preprocessed_P_N/Labels/Brats18_TCIA05_396_1_label.nii.gz\n",
      "Saved: /data/hjlee/orhun/data/BRATS18/BRATS18_Preprocessed_P_N/Labels/Brats18_CBICA_AYW_1_label.nii.gz\n",
      "Saved: /data/hjlee/orhun/data/BRATS18/BRATS18_Preprocessed_P_N/Labels/Brats18_TCIA02_374_1_label.nii.gz\n",
      "Saved: /data/hjlee/orhun/data/BRATS18/BRATS18_Preprocessed_P_N/Labels/Brats18_TCIA02_455_1_label.nii.gz\n",
      "Saved: /data/hjlee/orhun/data/BRATS18/BRATS18_Preprocessed_P_N/Labels/Brats18_CBICA_ASU_1_label.nii.gz\n",
      "Saved: /data/hjlee/orhun/data/BRATS18/BRATS18_Preprocessed_P_N/Labels/Brats18_TCIA13_615_1_label.nii.gz\n",
      "Saved: /data/hjlee/orhun/data/BRATS18/BRATS18_Preprocessed_P_N/Labels/Brats18_TCIA10_202_1_label.nii.gz\n",
      "Saved: /data/hjlee/orhun/data/BRATS18/BRATS18_Preprocessed_P_N/Labels/Brats18_CBICA_AQN_1_label.nii.gz\n",
      "Saved: /data/hjlee/orhun/data/BRATS18/BRATS18_Preprocessed_P_N/Labels/Brats18_CBICA_AXM_1_label.nii.gz\n",
      "Saved: /data/hjlee/orhun/data/BRATS18/BRATS18_Preprocessed_P_N/Labels/Brats18_CBICA_AQJ_1_label.nii.gz\n",
      "Saved: /data/hjlee/orhun/data/BRATS18/BRATS18_Preprocessed_P_N/Labels/Brats18_CBICA_AQY_1_label.nii.gz\n",
      "Saved: /data/hjlee/orhun/data/BRATS18/BRATS18_Preprocessed_P_N/Labels/Brats18_CBICA_ATD_1_label.nii.gz\n",
      "Saved: /data/hjlee/orhun/data/BRATS18/BRATS18_Preprocessed_P_N/Labels/Brats18_CBICA_ATB_1_label.nii.gz\n",
      "Saved: /data/hjlee/orhun/data/BRATS18/BRATS18_Preprocessed_P_N/Labels/Brats18_TCIA08_242_1_label.nii.gz\n",
      "Saved: /data/hjlee/orhun/data/BRATS18/BRATS18_Preprocessed_P_N/Labels/Brats18_TCIA12_298_1_label.nii.gz\n",
      "Saved: /data/hjlee/orhun/data/BRATS18/BRATS18_Preprocessed_P_N/Labels/Brats18_TCIA13_642_1_label.nii.gz\n",
      "Saved: /data/hjlee/orhun/data/BRATS18/BRATS18_Preprocessed_P_N/Labels/Brats18_CBICA_AQV_1_label.nii.gz\n",
      "Saved: /data/hjlee/orhun/data/BRATS18/BRATS18_Preprocessed_P_N/Labels/Brats18_TCIA08_218_1_label.nii.gz\n",
      "Saved: /data/hjlee/orhun/data/BRATS18/BRATS18_Preprocessed_P_N/Labels/Brats18_2013_25_1_label.nii.gz\n",
      "Saved: /data/hjlee/orhun/data/BRATS18/BRATS18_Preprocessed_P_N/Labels/Brats18_TCIA13_645_1_label.nii.gz\n",
      "Saved: /data/hjlee/orhun/data/BRATS18/BRATS18_Preprocessed_P_N/Labels/Brats18_2013_0_1_label.nii.gz\n",
      "Saved: /data/hjlee/orhun/data/BRATS18/BRATS18_Preprocessed_P_N/Labels/Brats18_TCIA13_624_1_label.nii.gz\n",
      "Saved: /data/hjlee/orhun/data/BRATS18/BRATS18_Preprocessed_P_N/Labels/Brats18_2013_24_1_label.nii.gz\n",
      "Saved: /data/hjlee/orhun/data/BRATS18/BRATS18_Preprocessed_P_N/Labels/Brats18_2013_2_1_label.nii.gz\n",
      "Saved: /data/hjlee/orhun/data/BRATS18/BRATS18_Preprocessed_P_N/Labels/Brats18_2013_23_1_label.nii.gz\n",
      "Saved: /data/hjlee/orhun/data/BRATS18/BRATS18_Preprocessed_P_N/Labels/Brats18_CBICA_ALN_1_label.nii.gz\n",
      "Saved: /data/hjlee/orhun/data/BRATS18/BRATS18_Preprocessed_P_N/Labels/Brats18_TCIA08_234_1_label.nii.gz\n",
      "Saved: /data/hjlee/orhun/data/BRATS18/BRATS18_Preprocessed_P_N/Labels/Brats18_TCIA04_479_1_label.nii.gz\n",
      "Saved: /data/hjlee/orhun/data/BRATS18/BRATS18_Preprocessed_P_N/Labels/Brats18_2013_21_1_label.nii.gz\n",
      "Saved: /data/hjlee/orhun/data/BRATS18/BRATS18_Preprocessed_P_N/Labels/Brats18_TCIA10_625_1_label.nii.gz\n",
      "Saved: /data/hjlee/orhun/data/BRATS18/BRATS18_Preprocessed_P_N/Labels/Brats18_TCIA10_276_1_label.nii.gz\n",
      "Saved: /data/hjlee/orhun/data/BRATS18/BRATS18_Preprocessed_P_N/Labels/Brats18_TCIA02_118_1_label.nii.gz\n",
      "Saved: /data/hjlee/orhun/data/BRATS18/BRATS18_Preprocessed_P_N/Labels/Brats18_TCIA08_319_1_label.nii.gz\n",
      "Saved: /data/hjlee/orhun/data/BRATS18/BRATS18_Preprocessed_P_N/Labels/Brats18_CBICA_ARF_1_label.nii.gz\n",
      "Saved: /data/hjlee/orhun/data/BRATS18/BRATS18_Preprocessed_P_N/Labels/Brats18_CBICA_ARZ_1_label.nii.gz\n"
     ]
    }
   ],
   "source": [
    "from monai.transforms import (Lambda,\n",
    "                               Compose, EnsureChannelFirst,\n",
    "                                 RandSpatialCrop, RandRotate90, \n",
    "                                 NormalizeIntensity, RandAdjustContrast,\n",
    "                                   RandZoom, RandFlip, RandGaussianNoise,\n",
    "                                     RandGaussianSmooth, RandAdjustContrast,\n",
    "                                     ConvertToMultiChannelBasedOnBratsClasses,\n",
    "                                     RandScaleIntensity, RandShiftIntensity,\n",
    "                                     SpatialCrop, SpatialPad\n",
    "                                )\n",
    "class ConvertToMultiChannelBasedOnBratsClassesCustom(ConvertToMultiChannelBasedOnBratsClasses):\n",
    "\n",
    "    def __call__(self, img):\n",
    "        if img.ndim == 4 and img.shape[0] == 1:\n",
    "            img = img.squeeze(0)\n",
    "        #result = [ img == 3, (img == 1) | (img == 3), (img == 1) | (img == 3) | (img == 2)]\n",
    "        result = [(img == 1) | (img == 3), (img == 1) | (img == 3) | (img == 2), img == 3]\n",
    "        \n",
    "        # order: ET, TC, WT\n",
    "        return torch.stack(result, dim=0) if isinstance(img, torch.Tensor) else np.stack(result, axis=0)\n",
    "\n",
    "\n",
    "\n",
    "import torch\n",
    "import os\n",
    "import glob\n",
    "import nibabel as nib\n",
    "import numpy as np\n",
    "from monai.transforms import SpatialPad\n",
    "\n",
    "# Define input and output directories\n",
    "input_dir = \"/data/hjlee/orhun/data/BRATS18/BRATS18_Preprocessed_C/Training/\"  # Adjust this\n",
    "output_dir = \"/data/hjlee/orhun/data/BRATS18/BRATS18_Preprocessed_P_N\"\n",
    "\n",
    "# Ensure output directories exist\n",
    "os.makedirs(os.path.join(output_dir, \"Images\"), exist_ok=True)\n",
    "os.makedirs(os.path.join(output_dir, \"Labels\"), exist_ok=True)\n",
    "\n",
    "# Get all image and label files\n",
    "image_files = glob.glob(os.path.join(input_dir, \"Images\", \"*.nii.gz\"))\n",
    "label_files = glob.glob(os.path.join(input_dir, \"Labels\", \"*.nii.gz\"))\n",
    "\n",
    "# Define the target shape\n",
    "target_shape = (192, 192, 192)\n",
    "\n",
    "# Padding transform\n",
    "pad_transform = SpatialPad(spatial_size=target_shape, method=\"symmetric\")\n",
    "normalize= NormalizeIntensity(nonzero=True,channel_wise=True)\n",
    "change_label= ConvertToMultiChannelBasedOnBratsClassesCustom()\n",
    "\n",
    "\n",
    "def process_and_save_nii_images(file_path, output_folder):\n",
    "    \"\"\"Load, transform, and save a NIfTI file with proper shape and padding.\"\"\"\n",
    "    # Load NIfTI image\n",
    "    img_nib = nib.load(file_path)\n",
    "    img_data = img_nib.get_fdata()  # Get numpy array\n",
    "\n",
    "    # Ensure modality channel is first: (X, Y, Z, 4) -> (4, X, Y, Z)\n",
    "    img_data = np.moveaxis(img_data, -1, 0)  # Move last axis to first\n",
    "\n",
    "    # Apply padding\n",
    "    norm_img = normalize(img_data)\n",
    "    padded_img = pad_transform(norm_img)\n",
    "    \n",
    "    # Convert back to NIfTI image\n",
    "    new_nib = nib.Nifti1Image(padded_img, img_nib.affine, img_nib.header)\n",
    "\n",
    "    # Save file\n",
    "    output_path = os.path.join(output_folder, os.path.basename(file_path))\n",
    "    nib.save(new_nib, output_path)\n",
    "    print(f\"Saved: {output_path}\")\n",
    "\n",
    "def process_and_save_nii_labels(file_path, output_folder):\n",
    "    \"\"\"Load, transform, and save a NIfTI file with proper shape and padding.\"\"\"\n",
    "    # Load NIfTI image\n",
    "    img_nib = nib.load(file_path)\n",
    "    img_data = img_nib.get_fdata()  # Get numpy array\n",
    "\n",
    "    # Ensure modality channel is first: (X, Y, Z, 4) -> (4, X, Y, Z)\n",
    "    #img_data = np.moveaxis(img_data, -1, 0)  # Move last axis to first\n",
    "    img_data = img_data[None, ...]  # Shape becomes (1, X, Y, Z)\n",
    "    # Apply padding\n",
    "    norm_img = normalize(img_data)\n",
    "    padded_img = pad_transform(norm_img)\n",
    "    final = change_label(padded_img)\n",
    "    # Convert back to NIfTI image\n",
    "    new_nib = nib.Nifti1Image(final, img_nib.affine, img_nib.header)\n",
    "\n",
    "    # Save file\n",
    "    output_path = os.path.join(output_folder, os.path.basename(file_path))\n",
    "    nib.save(new_nib, output_path)\n",
    "    print(f\"Saved: {output_path}\")\n",
    "\n",
    "\n",
    "# Process Images\n",
    "for file in image_files:\n",
    "    process_and_save_nii_images(file, os.path.join(output_dir, \"Images\"))\n",
    "\n",
    "# Process Labels\n",
    "for file in label_files:\n",
    "    process_and_save_nii_labels(file, os.path.join(output_dir, \"Labels\"))"
   ]
  },
  {
   "cell_type": "code",
   "execution_count": 2,
   "metadata": {},
   "outputs": [
    {
     "name": "stdout",
     "output_type": "stream",
     "text": [
      "['/data/hjlee/orhun/data/BRATS18/BRATS18_Preprocessed/Training/Labels/Brats18_2013_8_1_label.nii.gz', '/data/hjlee/orhun/data/BRATS18/BRATS18_Preprocessed/Training/Labels/Brats18_CBICA_ASG_1_label.nii.gz', '/data/hjlee/orhun/data/BRATS18/BRATS18_Preprocessed/Training/Labels/Brats18_TCIA10_393_1_label.nii.gz', '/data/hjlee/orhun/data/BRATS18/BRATS18_Preprocessed/Training/Labels/Brats18_TCIA02_179_1_label.nii.gz', '/data/hjlee/orhun/data/BRATS18/BRATS18_Preprocessed/Training/Labels/Brats18_CBICA_AAL_1_label.nii.gz', '/data/hjlee/orhun/data/BRATS18/BRATS18_Preprocessed/Training/Labels/Brats18_CBICA_AZD_1_label.nii.gz', '/data/hjlee/orhun/data/BRATS18/BRATS18_Preprocessed/Training/Labels/Brats18_CBICA_AOZ_1_label.nii.gz', '/data/hjlee/orhun/data/BRATS18/BRATS18_Preprocessed/Training/Labels/Brats18_TCIA10_241_1_label.nii.gz', '/data/hjlee/orhun/data/BRATS18/BRATS18_Preprocessed/Training/Labels/Brats18_TCIA02_608_1_label.nii.gz', '/data/hjlee/orhun/data/BRATS18/BRATS18_Preprocessed/Training/Labels/Brats18_TCIA03_419_1_label.nii.gz', '/data/hjlee/orhun/data/BRATS18/BRATS18_Preprocessed/Training/Labels/Brats18_2013_1_1_label.nii.gz', '/data/hjlee/orhun/data/BRATS18/BRATS18_Preprocessed/Training/Labels/Brats18_CBICA_ATV_1_label.nii.gz', '/data/hjlee/orhun/data/BRATS18/BRATS18_Preprocessed/Training/Labels/Brats18_TCIA01_131_1_label.nii.gz', '/data/hjlee/orhun/data/BRATS18/BRATS18_Preprocessed/Training/Labels/Brats18_CBICA_ABE_1_label.nii.gz', '/data/hjlee/orhun/data/BRATS18/BRATS18_Preprocessed/Training/Labels/Brats18_TCIA10_420_1_label.nii.gz', '/data/hjlee/orhun/data/BRATS18/BRATS18_Preprocessed/Training/Labels/Brats18_TCIA10_282_1_label.nii.gz', '/data/hjlee/orhun/data/BRATS18/BRATS18_Preprocessed/Training/Labels/Brats18_CBICA_AUN_1_label.nii.gz', '/data/hjlee/orhun/data/BRATS18/BRATS18_Preprocessed/Training/Labels/Brats18_CBICA_AAB_1_label.nii.gz', '/data/hjlee/orhun/data/BRATS18/BRATS18_Preprocessed/Training/Labels/Brats18_TCIA02_274_1_label.nii.gz', '/data/hjlee/orhun/data/BRATS18/BRATS18_Preprocessed/Training/Labels/Brats18_TCIA09_255_1_label.nii.gz', '/data/hjlee/orhun/data/BRATS18/BRATS18_Preprocessed/Training/Labels/Brats18_TCIA03_138_1_label.nii.gz', '/data/hjlee/orhun/data/BRATS18/BRATS18_Preprocessed/Training/Labels/Brats18_CBICA_AQD_1_label.nii.gz', '/data/hjlee/orhun/data/BRATS18/BRATS18_Preprocessed/Training/Labels/Brats18_TCIA06_409_1_label.nii.gz', '/data/hjlee/orhun/data/BRATS18/BRATS18_Preprocessed/Training/Labels/Brats18_CBICA_AXQ_1_label.nii.gz', '/data/hjlee/orhun/data/BRATS18/BRATS18_Preprocessed/Training/Labels/Brats18_CBICA_AQR_1_label.nii.gz', '/data/hjlee/orhun/data/BRATS18/BRATS18_Preprocessed/Training/Labels/Brats18_CBICA_AOP_1_label.nii.gz', '/data/hjlee/orhun/data/BRATS18/BRATS18_Preprocessed/Training/Labels/Brats18_TCIA10_644_1_label.nii.gz', '/data/hjlee/orhun/data/BRATS18/BRATS18_Preprocessed/Training/Labels/Brats18_TCIA08_205_1_label.nii.gz', '/data/hjlee/orhun/data/BRATS18/BRATS18_Preprocessed/Training/Labels/Brats18_TCIA12_466_1_label.nii.gz', '/data/hjlee/orhun/data/BRATS18/BRATS18_Preprocessed/Training/Labels/Brats18_CBICA_ARW_1_label.nii.gz', '/data/hjlee/orhun/data/BRATS18/BRATS18_Preprocessed/Training/Labels/Brats18_CBICA_AVV_1_label.nii.gz', '/data/hjlee/orhun/data/BRATS18/BRATS18_Preprocessed/Training/Labels/Brats18_TCIA02_283_1_label.nii.gz', '/data/hjlee/orhun/data/BRATS18/BRATS18_Preprocessed/Training/Labels/Brats18_TCIA06_332_1_label.nii.gz', '/data/hjlee/orhun/data/BRATS18/BRATS18_Preprocessed/Training/Labels/Brats18_TCIA13_650_1_label.nii.gz', '/data/hjlee/orhun/data/BRATS18/BRATS18_Preprocessed/Training/Labels/Brats18_CBICA_AVJ_1_label.nii.gz', '/data/hjlee/orhun/data/BRATS18/BRATS18_Preprocessed/Training/Labels/Brats18_CBICA_ASN_1_label.nii.gz', '/data/hjlee/orhun/data/BRATS18/BRATS18_Preprocessed/Training/Labels/Brats18_TCIA01_186_1_label.nii.gz', '/data/hjlee/orhun/data/BRATS18/BRATS18_Preprocessed/Training/Labels/Brats18_TCIA10_130_1_label.nii.gz', '/data/hjlee/orhun/data/BRATS18/BRATS18_Preprocessed/Training/Labels/Brats18_CBICA_AWG_1_label.nii.gz', '/data/hjlee/orhun/data/BRATS18/BRATS18_Preprocessed/Training/Labels/Brats18_TCIA12_101_1_label.nii.gz', '/data/hjlee/orhun/data/BRATS18/BRATS18_Preprocessed/Training/Labels/Brats18_CBICA_ABO_1_label.nii.gz', '/data/hjlee/orhun/data/BRATS18/BRATS18_Preprocessed/Training/Labels/Brats18_CBICA_AQT_1_label.nii.gz', '/data/hjlee/orhun/data/BRATS18/BRATS18_Preprocessed/Training/Labels/Brats18_TCIA02_473_1_label.nii.gz', '/data/hjlee/orhun/data/BRATS18/BRATS18_Preprocessed/Training/Labels/Brats18_TCIA03_375_1_label.nii.gz', '/data/hjlee/orhun/data/BRATS18/BRATS18_Preprocessed/Training/Labels/Brats18_TCIA02_222_1_label.nii.gz', '/data/hjlee/orhun/data/BRATS18/BRATS18_Preprocessed/Training/Labels/Brats18_TCIA06_211_1_label.nii.gz', '/data/hjlee/orhun/data/BRATS18/BRATS18_Preprocessed/Training/Labels/Brats18_2013_19_1_label.nii.gz', '/data/hjlee/orhun/data/BRATS18/BRATS18_Preprocessed/Training/Labels/Brats18_CBICA_ASV_1_label.nii.gz', '/data/hjlee/orhun/data/BRATS18/BRATS18_Preprocessed/Training/Labels/Brats18_TCIA02_377_1_label.nii.gz', '/data/hjlee/orhun/data/BRATS18/BRATS18_Preprocessed/Training/Labels/Brats18_CBICA_AMH_1_label.nii.gz', '/data/hjlee/orhun/data/BRATS18/BRATS18_Preprocessed/Training/Labels/Brats18_CBICA_BFP_1_label.nii.gz', '/data/hjlee/orhun/data/BRATS18/BRATS18_Preprocessed/Training/Labels/Brats18_CBICA_ANG_1_label.nii.gz', '/data/hjlee/orhun/data/BRATS18/BRATS18_Preprocessed/Training/Labels/Brats18_TCIA09_312_1_label.nii.gz', '/data/hjlee/orhun/data/BRATS18/BRATS18_Preprocessed/Training/Labels/Brats18_2013_3_1_label.nii.gz', '/data/hjlee/orhun/data/BRATS18/BRATS18_Preprocessed/Training/Labels/Brats18_TCIA08_278_1_label.nii.gz', '/data/hjlee/orhun/data/BRATS18/BRATS18_Preprocessed/Training/Labels/Brats18_CBICA_APY_1_label.nii.gz', '/data/hjlee/orhun/data/BRATS18/BRATS18_Preprocessed/Training/Labels/Brats18_TCIA01_231_1_label.nii.gz', '/data/hjlee/orhun/data/BRATS18/BRATS18_Preprocessed/Training/Labels/Brats18_TCIA10_351_1_label.nii.gz', '/data/hjlee/orhun/data/BRATS18/BRATS18_Preprocessed/Training/Labels/Brats18_TCIA12_480_1_label.nii.gz', '/data/hjlee/orhun/data/BRATS18/BRATS18_Preprocessed/Training/Labels/Brats18_TCIA02_151_1_label.nii.gz', '/data/hjlee/orhun/data/BRATS18/BRATS18_Preprocessed/Training/Labels/Brats18_CBICA_AME_1_label.nii.gz', '/data/hjlee/orhun/data/BRATS18/BRATS18_Preprocessed/Training/Labels/Brats18_TCIA03_265_1_label.nii.gz', '/data/hjlee/orhun/data/BRATS18/BRATS18_Preprocessed/Training/Labels/Brats18_TCIA02_394_1_label.nii.gz', '/data/hjlee/orhun/data/BRATS18/BRATS18_Preprocessed/Training/Labels/Brats18_TCIA02_171_1_label.nii.gz', '/data/hjlee/orhun/data/BRATS18/BRATS18_Preprocessed/Training/Labels/Brats18_CBICA_AQA_1_label.nii.gz', '/data/hjlee/orhun/data/BRATS18/BRATS18_Preprocessed/Training/Labels/Brats18_CBICA_ASW_1_label.nii.gz', '/data/hjlee/orhun/data/BRATS18/BRATS18_Preprocessed/Training/Labels/Brats18_2013_29_1_label.nii.gz', '/data/hjlee/orhun/data/BRATS18/BRATS18_Preprocessed/Training/Labels/Brats18_TCIA01_201_1_label.nii.gz', '/data/hjlee/orhun/data/BRATS18/BRATS18_Preprocessed/Training/Labels/Brats18_TCIA09_451_1_label.nii.gz', '/data/hjlee/orhun/data/BRATS18/BRATS18_Preprocessed/Training/Labels/Brats18_CBICA_ANP_1_label.nii.gz', '/data/hjlee/orhun/data/BRATS18/BRATS18_Preprocessed/Training/Labels/Brats18_TCIA10_632_1_label.nii.gz', '/data/hjlee/orhun/data/BRATS18/BRATS18_Preprocessed/Training/Labels/Brats18_CBICA_AUR_1_label.nii.gz', '/data/hjlee/orhun/data/BRATS18/BRATS18_Preprocessed/Training/Labels/Brats18_CBICA_ASH_1_label.nii.gz', '/data/hjlee/orhun/data/BRATS18/BRATS18_Preprocessed/Training/Labels/Brats18_TCIA02_226_1_label.nii.gz', '/data/hjlee/orhun/data/BRATS18/BRATS18_Preprocessed/Training/Labels/Brats18_TCIA10_640_1_label.nii.gz', '/data/hjlee/orhun/data/BRATS18/BRATS18_Preprocessed/Training/Labels/Brats18_CBICA_ASK_1_label.nii.gz', '/data/hjlee/orhun/data/BRATS18/BRATS18_Preprocessed/Training/Labels/Brats18_TCIA02_309_1_label.nii.gz', '/data/hjlee/orhun/data/BRATS18/BRATS18_Preprocessed/Training/Labels/Brats18_TCIA02_606_1_label.nii.gz', '/data/hjlee/orhun/data/BRATS18/BRATS18_Preprocessed/Training/Labels/Brats18_TCIA10_449_1_label.nii.gz', '/data/hjlee/orhun/data/BRATS18/BRATS18_Preprocessed/Training/Labels/Brats18_2013_7_1_label.nii.gz', '/data/hjlee/orhun/data/BRATS18/BRATS18_Preprocessed/Training/Labels/Brats18_CBICA_AVG_1_label.nii.gz', '/data/hjlee/orhun/data/BRATS18/BRATS18_Preprocessed/Training/Labels/Brats18_TCIA08_167_1_label.nii.gz', '/data/hjlee/orhun/data/BRATS18/BRATS18_Preprocessed/Training/Labels/Brats18_TCIA10_410_1_label.nii.gz', '/data/hjlee/orhun/data/BRATS18/BRATS18_Preprocessed/Training/Labels/Brats18_TCIA01_460_1_label.nii.gz', '/data/hjlee/orhun/data/BRATS18/BRATS18_Preprocessed/Training/Labels/Brats18_2013_5_1_label.nii.gz', '/data/hjlee/orhun/data/BRATS18/BRATS18_Preprocessed/Training/Labels/Brats18_TCIA08_280_1_label.nii.gz', '/data/hjlee/orhun/data/BRATS18/BRATS18_Preprocessed/Training/Labels/Brats18_TCIA03_474_1_label.nii.gz', '/data/hjlee/orhun/data/BRATS18/BRATS18_Preprocessed/Training/Labels/Brats18_TCIA02_430_1_label.nii.gz', '/data/hjlee/orhun/data/BRATS18/BRATS18_Preprocessed/Training/Labels/Brats18_2013_27_1_label.nii.gz', '/data/hjlee/orhun/data/BRATS18/BRATS18_Preprocessed/Training/Labels/Brats18_CBICA_BHB_1_label.nii.gz', '/data/hjlee/orhun/data/BRATS18/BRATS18_Preprocessed/Training/Labels/Brats18_TCIA10_413_1_label.nii.gz', '/data/hjlee/orhun/data/BRATS18/BRATS18_Preprocessed/Training/Labels/Brats18_TCIA02_322_1_label.nii.gz', '/data/hjlee/orhun/data/BRATS18/BRATS18_Preprocessed/Training/Labels/Brats18_TCIA01_203_1_label.nii.gz', '/data/hjlee/orhun/data/BRATS18/BRATS18_Preprocessed/Training/Labels/Brats18_TCIA08_406_1_label.nii.gz', '/data/hjlee/orhun/data/BRATS18/BRATS18_Preprocessed/Training/Labels/Brats18_CBICA_ASE_1_label.nii.gz', '/data/hjlee/orhun/data/BRATS18/BRATS18_Preprocessed/Training/Labels/Brats18_TCIA09_493_1_label.nii.gz', '/data/hjlee/orhun/data/BRATS18/BRATS18_Preprocessed/Training/Labels/Brats18_TCIA13_653_1_label.nii.gz', '/data/hjlee/orhun/data/BRATS18/BRATS18_Preprocessed/Training/Labels/Brats18_TCIA10_310_1_label.nii.gz', '/data/hjlee/orhun/data/BRATS18/BRATS18_Preprocessed/Training/Labels/Brats18_TCIA10_175_1_label.nii.gz', '/data/hjlee/orhun/data/BRATS18/BRATS18_Preprocessed/Training/Labels/Brats18_TCIA01_147_1_label.nii.gz', '/data/hjlee/orhun/data/BRATS18/BRATS18_Preprocessed/Training/Labels/Brats18_TCIA01_378_1_label.nii.gz', '/data/hjlee/orhun/data/BRATS18/BRATS18_Preprocessed/Training/Labels/Brats18_TCIA01_401_1_label.nii.gz', '/data/hjlee/orhun/data/BRATS18/BRATS18_Preprocessed/Training/Labels/Brats18_CBICA_ABM_1_label.nii.gz', '/data/hjlee/orhun/data/BRATS18/BRATS18_Preprocessed/Training/Labels/Brats18_2013_12_1_label.nii.gz', '/data/hjlee/orhun/data/BRATS18/BRATS18_Preprocessed/Training/Labels/Brats18_TCIA01_180_1_label.nii.gz', '/data/hjlee/orhun/data/BRATS18/BRATS18_Preprocessed/Training/Labels/Brats18_TCIA04_192_1_label.nii.gz', '/data/hjlee/orhun/data/BRATS18/BRATS18_Preprocessed/Training/Labels/Brats18_CBICA_ATX_1_label.nii.gz', '/data/hjlee/orhun/data/BRATS18/BRATS18_Preprocessed/Training/Labels/Brats18_TCIA10_408_1_label.nii.gz', '/data/hjlee/orhun/data/BRATS18/BRATS18_Preprocessed/Training/Labels/Brats18_TCIA02_117_1_label.nii.gz', '/data/hjlee/orhun/data/BRATS18/BRATS18_Preprocessed/Training/Labels/Brats18_TCIA02_135_1_label.nii.gz', '/data/hjlee/orhun/data/BRATS18/BRATS18_Preprocessed/Training/Labels/Brats18_CBICA_ABY_1_label.nii.gz', '/data/hjlee/orhun/data/BRATS18/BRATS18_Preprocessed/Training/Labels/Brats18_TCIA01_411_1_label.nii.gz', '/data/hjlee/orhun/data/BRATS18/BRATS18_Preprocessed/Training/Labels/Brats18_CBICA_AWI_1_label.nii.gz', '/data/hjlee/orhun/data/BRATS18/BRATS18_Preprocessed/Training/Labels/Brats18_TCIA10_639_1_label.nii.gz', '/data/hjlee/orhun/data/BRATS18/BRATS18_Preprocessed/Training/Labels/Brats18_TCIA09_141_1_label.nii.gz', '/data/hjlee/orhun/data/BRATS18/BRATS18_Preprocessed/Training/Labels/Brats18_CBICA_AOO_1_label.nii.gz', '/data/hjlee/orhun/data/BRATS18/BRATS18_Preprocessed/Training/Labels/Brats18_TCIA01_190_1_label.nii.gz', '/data/hjlee/orhun/data/BRATS18/BRATS18_Preprocessed/Training/Labels/Brats18_TCIA01_235_1_label.nii.gz', '/data/hjlee/orhun/data/BRATS18/BRATS18_Preprocessed/Training/Labels/Brats18_CBICA_BHK_1_label.nii.gz', '/data/hjlee/orhun/data/BRATS18/BRATS18_Preprocessed/Training/Labels/Brats18_2013_6_1_label.nii.gz', '/data/hjlee/orhun/data/BRATS18/BRATS18_Preprocessed/Training/Labels/Brats18_CBICA_AOH_1_label.nii.gz', '/data/hjlee/orhun/data/BRATS18/BRATS18_Preprocessed/Training/Labels/Brats18_TCIA01_221_1_label.nii.gz', '/data/hjlee/orhun/data/BRATS18/BRATS18_Preprocessed/Training/Labels/Brats18_CBICA_ASO_1_label.nii.gz', '/data/hjlee/orhun/data/BRATS18/BRATS18_Preprocessed/Training/Labels/Brats18_2013_4_1_label.nii.gz', '/data/hjlee/orhun/data/BRATS18/BRATS18_Preprocessed/Training/Labels/Brats18_2013_10_1_label.nii.gz', '/data/hjlee/orhun/data/BRATS18/BRATS18_Preprocessed/Training/Labels/Brats18_TCIA02_370_1_label.nii.gz', '/data/hjlee/orhun/data/BRATS18/BRATS18_Preprocessed/Training/Labels/Brats18_CBICA_AXJ_1_label.nii.gz', '/data/hjlee/orhun/data/BRATS18/BRATS18_Preprocessed/Training/Labels/Brats18_TCIA05_478_1_label.nii.gz', '/data/hjlee/orhun/data/BRATS18/BRATS18_Preprocessed/Training/Labels/Brats18_CBICA_AXL_1_label.nii.gz', '/data/hjlee/orhun/data/BRATS18/BRATS18_Preprocessed/Training/Labels/Brats18_2013_13_1_label.nii.gz', '/data/hjlee/orhun/data/BRATS18/BRATS18_Preprocessed/Training/Labels/Brats18_TCIA10_490_1_label.nii.gz', '/data/hjlee/orhun/data/BRATS18/BRATS18_Preprocessed/Training/Labels/Brats18_TCIA03_338_1_label.nii.gz', '/data/hjlee/orhun/data/BRATS18/BRATS18_Preprocessed/Training/Labels/Brats18_TCIA03_257_1_label.nii.gz', '/data/hjlee/orhun/data/BRATS18/BRATS18_Preprocessed/Training/Labels/Brats18_2013_11_1_label.nii.gz', '/data/hjlee/orhun/data/BRATS18/BRATS18_Preprocessed/Training/Labels/Brats18_TCIA02_198_1_label.nii.gz', '/data/hjlee/orhun/data/BRATS18/BRATS18_Preprocessed/Training/Labels/Brats18_TCIA10_109_1_label.nii.gz', '/data/hjlee/orhun/data/BRATS18/BRATS18_Preprocessed/Training/Labels/Brats18_TCIA08_105_1_label.nii.gz', '/data/hjlee/orhun/data/BRATS18/BRATS18_Preprocessed/Training/Labels/Brats18_TCIA02_208_1_label.nii.gz', '/data/hjlee/orhun/data/BRATS18/BRATS18_Preprocessed/Training/Labels/Brats18_TCIA10_330_1_label.nii.gz', '/data/hjlee/orhun/data/BRATS18/BRATS18_Preprocessed/Training/Labels/Brats18_TCIA10_325_1_label.nii.gz', '/data/hjlee/orhun/data/BRATS18/BRATS18_Preprocessed/Training/Labels/Brats18_TCIA06_165_1_label.nii.gz', '/data/hjlee/orhun/data/BRATS18/BRATS18_Preprocessed/Training/Labels/Brats18_TCIA09_254_1_label.nii.gz', '/data/hjlee/orhun/data/BRATS18/BRATS18_Preprocessed/Training/Labels/Brats18_TCIA02_491_1_label.nii.gz', '/data/hjlee/orhun/data/BRATS18/BRATS18_Preprocessed/Training/Labels/Brats18_CBICA_ANI_1_label.nii.gz', '/data/hjlee/orhun/data/BRATS18/BRATS18_Preprocessed/Training/Labels/Brats18_TCIA13_654_1_label.nii.gz', '/data/hjlee/orhun/data/BRATS18/BRATS18_Preprocessed/Training/Labels/Brats18_TCIA06_603_1_label.nii.gz', '/data/hjlee/orhun/data/BRATS18/BRATS18_Preprocessed/Training/Labels/Brats18_CBICA_AZH_1_label.nii.gz', '/data/hjlee/orhun/data/BRATS18/BRATS18_Preprocessed/Training/Labels/Brats18_TCIA06_184_1_label.nii.gz', '/data/hjlee/orhun/data/BRATS18/BRATS18_Preprocessed/Training/Labels/Brats18_TCIA02_605_1_label.nii.gz', '/data/hjlee/orhun/data/BRATS18/BRATS18_Preprocessed/Training/Labels/Brats18_TCIA02_368_1_label.nii.gz', '/data/hjlee/orhun/data/BRATS18/BRATS18_Preprocessed/Training/Labels/Brats18_TCIA04_437_1_label.nii.gz', '/data/hjlee/orhun/data/BRATS18/BRATS18_Preprocessed/Training/Labels/Brats18_CBICA_ASA_1_label.nii.gz', '/data/hjlee/orhun/data/BRATS18/BRATS18_Preprocessed/Training/Labels/Brats18_2013_17_1_label.nii.gz', '/data/hjlee/orhun/data/BRATS18/BRATS18_Preprocessed/Training/Labels/Brats18_TCIA09_177_1_label.nii.gz', '/data/hjlee/orhun/data/BRATS18/BRATS18_Preprocessed/Training/Labels/Brats18_2013_9_1_label.nii.gz', '/data/hjlee/orhun/data/BRATS18/BRATS18_Preprocessed/Training/Labels/Brats18_CBICA_ANZ_1_label.nii.gz', '/data/hjlee/orhun/data/BRATS18/BRATS18_Preprocessed/Training/Labels/Brats18_TCIA01_425_1_label.nii.gz', '/data/hjlee/orhun/data/BRATS18/BRATS18_Preprocessed/Training/Labels/Brats18_TCIA03_498_1_label.nii.gz', '/data/hjlee/orhun/data/BRATS18/BRATS18_Preprocessed/Training/Labels/Brats18_TCIA03_199_1_label.nii.gz', '/data/hjlee/orhun/data/BRATS18/BRATS18_Preprocessed/Training/Labels/Brats18_TCIA10_629_1_label.nii.gz', '/data/hjlee/orhun/data/BRATS18/BRATS18_Preprocessed/Training/Labels/Brats18_TCIA10_307_1_label.nii.gz', '/data/hjlee/orhun/data/BRATS18/BRATS18_Preprocessed/Training/Labels/Brats18_TCIA03_133_1_label.nii.gz', '/data/hjlee/orhun/data/BRATS18/BRATS18_Preprocessed/Training/Labels/Brats18_CBICA_AQQ_1_label.nii.gz', '/data/hjlee/orhun/data/BRATS18/BRATS18_Preprocessed/Training/Labels/Brats18_CBICA_ALX_1_label.nii.gz', '/data/hjlee/orhun/data/BRATS18/BRATS18_Preprocessed/Training/Labels/Brats18_CBICA_AQZ_1_label.nii.gz', '/data/hjlee/orhun/data/BRATS18/BRATS18_Preprocessed/Training/Labels/Brats18_CBICA_ASY_1_label.nii.gz', '/data/hjlee/orhun/data/BRATS18/BRATS18_Preprocessed/Training/Labels/Brats18_TCIA10_628_1_label.nii.gz', '/data/hjlee/orhun/data/BRATS18/BRATS18_Preprocessed/Training/Labels/Brats18_2013_20_1_label.nii.gz', '/data/hjlee/orhun/data/BRATS18/BRATS18_Preprocessed/Training/Labels/Brats18_CBICA_AQG_1_label.nii.gz', '/data/hjlee/orhun/data/BRATS18/BRATS18_Preprocessed/Training/Labels/Brats18_2013_14_1_label.nii.gz', '/data/hjlee/orhun/data/BRATS18/BRATS18_Preprocessed/Training/Labels/Brats18_TCIA09_620_1_label.nii.gz', '/data/hjlee/orhun/data/BRATS18/BRATS18_Preprocessed/Training/Labels/Brats18_CBICA_ABN_1_label.nii.gz', '/data/hjlee/orhun/data/BRATS18/BRATS18_Preprocessed/Training/Labels/Brats18_TCIA09_428_1_label.nii.gz', '/data/hjlee/orhun/data/BRATS18/BRATS18_Preprocessed/Training/Labels/Brats18_CBICA_AAG_1_label.nii.gz', '/data/hjlee/orhun/data/BRATS18/BRATS18_Preprocessed/Training/Labels/Brats18_CBICA_AYI_1_label.nii.gz', '/data/hjlee/orhun/data/BRATS18/BRATS18_Preprocessed/Training/Labels/Brats18_TCIA02_607_1_label.nii.gz', '/data/hjlee/orhun/data/BRATS18/BRATS18_Preprocessed/Training/Labels/Brats18_TCIA02_290_1_label.nii.gz', '/data/hjlee/orhun/data/BRATS18/BRATS18_Preprocessed/Training/Labels/Brats18_TCIA04_111_1_label.nii.gz', '/data/hjlee/orhun/data/BRATS18/BRATS18_Preprocessed/Training/Labels/Brats18_TCIA13_618_1_label.nii.gz', '/data/hjlee/orhun/data/BRATS18/BRATS18_Preprocessed/Training/Labels/Brats18_2013_15_1_label.nii.gz', '/data/hjlee/orhun/data/BRATS18/BRATS18_Preprocessed/Training/Labels/Brats18_CBICA_ATP_1_label.nii.gz', '/data/hjlee/orhun/data/BRATS18/BRATS18_Preprocessed/Training/Labels/Brats18_TCIA02_331_1_label.nii.gz', '/data/hjlee/orhun/data/BRATS18/BRATS18_Preprocessed/Training/Labels/Brats18_TCIA10_266_1_label.nii.gz', '/data/hjlee/orhun/data/BRATS18/BRATS18_Preprocessed/Training/Labels/Brats18_CBICA_AXW_1_label.nii.gz', '/data/hjlee/orhun/data/BRATS18/BRATS18_Preprocessed/Training/Labels/Brats18_TCIA01_448_1_label.nii.gz', '/data/hjlee/orhun/data/BRATS18/BRATS18_Preprocessed/Training/Labels/Brats18_TCIA10_387_1_label.nii.gz', '/data/hjlee/orhun/data/BRATS18/BRATS18_Preprocessed/Training/Labels/Brats18_2013_18_1_label.nii.gz', '/data/hjlee/orhun/data/BRATS18/BRATS18_Preprocessed/Training/Labels/Brats18_TCIA04_343_1_label.nii.gz', '/data/hjlee/orhun/data/BRATS18/BRATS18_Preprocessed/Training/Labels/Brats18_TCIA10_442_1_label.nii.gz', '/data/hjlee/orhun/data/BRATS18/BRATS18_Preprocessed/Training/Labels/Brats18_CBICA_AXO_1_label.nii.gz', '/data/hjlee/orhun/data/BRATS18/BRATS18_Preprocessed/Training/Labels/Brats18_CBICA_APZ_1_label.nii.gz', '/data/hjlee/orhun/data/BRATS18/BRATS18_Preprocessed/Training/Labels/Brats18_TCIA04_328_1_label.nii.gz', '/data/hjlee/orhun/data/BRATS18/BRATS18_Preprocessed/Training/Labels/Brats18_2013_16_1_label.nii.gz', '/data/hjlee/orhun/data/BRATS18/BRATS18_Preprocessed/Training/Labels/Brats18_TCIA10_152_1_label.nii.gz', '/data/hjlee/orhun/data/BRATS18/BRATS18_Preprocessed/Training/Labels/Brats18_CBICA_BFB_1_label.nii.gz', '/data/hjlee/orhun/data/BRATS18/BRATS18_Preprocessed/Training/Labels/Brats18_CBICA_AAP_1_label.nii.gz', '/data/hjlee/orhun/data/BRATS18/BRATS18_Preprocessed/Training/Labels/Brats18_TCIA01_499_1_label.nii.gz', '/data/hjlee/orhun/data/BRATS18/BRATS18_Preprocessed/Training/Labels/Brats18_TCIA08_469_1_label.nii.gz', '/data/hjlee/orhun/data/BRATS18/BRATS18_Preprocessed/Training/Labels/Brats18_CBICA_AYA_1_label.nii.gz', '/data/hjlee/orhun/data/BRATS18/BRATS18_Preprocessed/Training/Labels/Brats18_TCIA03_296_1_label.nii.gz', '/data/hjlee/orhun/data/BRATS18/BRATS18_Preprocessed/Training/Labels/Brats18_TCIA02_168_1_label.nii.gz', '/data/hjlee/orhun/data/BRATS18/BRATS18_Preprocessed/Training/Labels/Brats18_TCIA01_335_1_label.nii.gz', '/data/hjlee/orhun/data/BRATS18/BRATS18_Preprocessed/Training/Labels/Brats18_TCIA05_444_1_label.nii.gz', '/data/hjlee/orhun/data/BRATS18/BRATS18_Preprocessed/Training/Labels/Brats18_TCIA09_402_1_label.nii.gz', '/data/hjlee/orhun/data/BRATS18/BRATS18_Preprocessed/Training/Labels/Brats18_TCIA13_621_1_label.nii.gz', '/data/hjlee/orhun/data/BRATS18/BRATS18_Preprocessed/Training/Labels/Brats18_TCIA08_113_1_label.nii.gz', '/data/hjlee/orhun/data/BRATS18/BRATS18_Preprocessed/Training/Labels/Brats18_2013_26_1_label.nii.gz', '/data/hjlee/orhun/data/BRATS18/BRATS18_Preprocessed/Training/Labels/Brats18_TCIA06_372_1_label.nii.gz', '/data/hjlee/orhun/data/BRATS18/BRATS18_Preprocessed/Training/Labels/Brats18_CBICA_ABB_1_label.nii.gz', '/data/hjlee/orhun/data/BRATS18/BRATS18_Preprocessed/Training/Labels/Brats18_TCIA13_634_1_label.nii.gz', '/data/hjlee/orhun/data/BRATS18/BRATS18_Preprocessed/Training/Labels/Brats18_TCIA09_462_1_label.nii.gz', '/data/hjlee/orhun/data/BRATS18/BRATS18_Preprocessed/Training/Labels/Brats18_TCIA13_623_1_label.nii.gz', '/data/hjlee/orhun/data/BRATS18/BRATS18_Preprocessed/Training/Labels/Brats18_TCIA04_361_1_label.nii.gz', '/data/hjlee/orhun/data/BRATS18/BRATS18_Preprocessed/Training/Labels/Brats18_CBICA_AQU_1_label.nii.gz', '/data/hjlee/orhun/data/BRATS18/BRATS18_Preprocessed/Training/Labels/Brats18_CBICA_AQO_1_label.nii.gz', '/data/hjlee/orhun/data/BRATS18/BRATS18_Preprocessed/Training/Labels/Brats18_CBICA_AXN_1_label.nii.gz', '/data/hjlee/orhun/data/BRATS18/BRATS18_Preprocessed/Training/Labels/Brats18_TCIA12_249_1_label.nii.gz', '/data/hjlee/orhun/data/BRATS18/BRATS18_Preprocessed/Training/Labels/Brats18_CBICA_ALU_1_label.nii.gz', '/data/hjlee/orhun/data/BRATS18/BRATS18_Preprocessed/Training/Labels/Brats18_TCIA10_346_1_label.nii.gz', '/data/hjlee/orhun/data/BRATS18/BRATS18_Preprocessed/Training/Labels/Brats18_TCIA12_470_1_label.nii.gz', '/data/hjlee/orhun/data/BRATS18/BRATS18_Preprocessed/Training/Labels/Brats18_TCIA08_436_1_label.nii.gz', '/data/hjlee/orhun/data/BRATS18/BRATS18_Preprocessed/Training/Labels/Brats18_CBICA_AWH_1_label.nii.gz', '/data/hjlee/orhun/data/BRATS18/BRATS18_Preprocessed/Training/Labels/Brats18_TCIA08_162_1_label.nii.gz', '/data/hjlee/orhun/data/BRATS18/BRATS18_Preprocessed/Training/Labels/Brats18_TCIA01_390_1_label.nii.gz', '/data/hjlee/orhun/data/BRATS18/BRATS18_Preprocessed/Training/Labels/Brats18_CBICA_APR_1_label.nii.gz', '/data/hjlee/orhun/data/BRATS18/BRATS18_Preprocessed/Training/Labels/Brats18_CBICA_AOD_1_label.nii.gz', '/data/hjlee/orhun/data/BRATS18/BRATS18_Preprocessed/Training/Labels/Brats18_TCIA02_321_1_label.nii.gz', '/data/hjlee/orhun/data/BRATS18/BRATS18_Preprocessed/Training/Labels/Brats18_TCIA10_637_1_label.nii.gz', '/data/hjlee/orhun/data/BRATS18/BRATS18_Preprocessed/Training/Labels/Brats18_CBICA_AYU_1_label.nii.gz', '/data/hjlee/orhun/data/BRATS18/BRATS18_Preprocessed/Training/Labels/Brats18_TCIA13_633_1_label.nii.gz', '/data/hjlee/orhun/data/BRATS18/BRATS18_Preprocessed/Training/Labels/Brats18_2013_22_1_label.nii.gz', '/data/hjlee/orhun/data/BRATS18/BRATS18_Preprocessed/Training/Labels/Brats18_TCIA01_429_1_label.nii.gz', '/data/hjlee/orhun/data/BRATS18/BRATS18_Preprocessed/Training/Labels/Brats18_TCIA02_300_1_label.nii.gz', '/data/hjlee/orhun/data/BRATS18/BRATS18_Preprocessed/Training/Labels/Brats18_TCIA10_103_1_label.nii.gz', '/data/hjlee/orhun/data/BRATS18/BRATS18_Preprocessed/Training/Labels/Brats18_CBICA_BHM_1_label.nii.gz', '/data/hjlee/orhun/data/BRATS18/BRATS18_Preprocessed/Training/Labels/Brats18_TCIA02_471_1_label.nii.gz', '/data/hjlee/orhun/data/BRATS18/BRATS18_Preprocessed/Training/Labels/Brats18_TCIA01_150_1_label.nii.gz', '/data/hjlee/orhun/data/BRATS18/BRATS18_Preprocessed/Training/Labels/Brats18_TCIA10_299_1_label.nii.gz', '/data/hjlee/orhun/data/BRATS18/BRATS18_Preprocessed/Training/Labels/Brats18_TCIA02_314_1_label.nii.gz', '/data/hjlee/orhun/data/BRATS18/BRATS18_Preprocessed/Training/Labels/Brats18_TCIA03_121_1_label.nii.gz', '/data/hjlee/orhun/data/BRATS18/BRATS18_Preprocessed/Training/Labels/Brats18_CBICA_AUQ_1_label.nii.gz', '/data/hjlee/orhun/data/BRATS18/BRATS18_Preprocessed/Training/Labels/Brats18_TCIA04_149_1_label.nii.gz', '/data/hjlee/orhun/data/BRATS18/BRATS18_Preprocessed/Training/Labels/Brats18_TCIA10_261_1_label.nii.gz', '/data/hjlee/orhun/data/BRATS18/BRATS18_Preprocessed/Training/Labels/Brats18_2013_28_1_label.nii.gz', '/data/hjlee/orhun/data/BRATS18/BRATS18_Preprocessed/Training/Labels/Brats18_TCIA01_412_1_label.nii.gz', '/data/hjlee/orhun/data/BRATS18/BRATS18_Preprocessed/Training/Labels/Brats18_TCIA06_247_1_label.nii.gz', '/data/hjlee/orhun/data/BRATS18/BRATS18_Preprocessed/Training/Labels/Brats18_TCIA13_630_1_label.nii.gz', '/data/hjlee/orhun/data/BRATS18/BRATS18_Preprocessed/Training/Labels/Brats18_CBICA_ATF_1_label.nii.gz', '/data/hjlee/orhun/data/BRATS18/BRATS18_Preprocessed/Training/Labels/Brats18_CBICA_AQP_1_label.nii.gz', '/data/hjlee/orhun/data/BRATS18/BRATS18_Preprocessed/Training/Labels/Brats18_TCIA05_277_1_label.nii.gz', '/data/hjlee/orhun/data/BRATS18/BRATS18_Preprocessed/Training/Labels/Brats18_TCIA05_396_1_label.nii.gz', '/data/hjlee/orhun/data/BRATS18/BRATS18_Preprocessed/Training/Labels/Brats18_CBICA_AYW_1_label.nii.gz', '/data/hjlee/orhun/data/BRATS18/BRATS18_Preprocessed/Training/Labels/Brats18_TCIA02_374_1_label.nii.gz', '/data/hjlee/orhun/data/BRATS18/BRATS18_Preprocessed/Training/Labels/Brats18_TCIA02_455_1_label.nii.gz', '/data/hjlee/orhun/data/BRATS18/BRATS18_Preprocessed/Training/Labels/Brats18_CBICA_ASU_1_label.nii.gz', '/data/hjlee/orhun/data/BRATS18/BRATS18_Preprocessed/Training/Labels/Brats18_TCIA13_615_1_label.nii.gz', '/data/hjlee/orhun/data/BRATS18/BRATS18_Preprocessed/Training/Labels/Brats18_TCIA10_202_1_label.nii.gz', '/data/hjlee/orhun/data/BRATS18/BRATS18_Preprocessed/Training/Labels/Brats18_CBICA_AQN_1_label.nii.gz', '/data/hjlee/orhun/data/BRATS18/BRATS18_Preprocessed/Training/Labels/Brats18_CBICA_AXM_1_label.nii.gz', '/data/hjlee/orhun/data/BRATS18/BRATS18_Preprocessed/Training/Labels/Brats18_CBICA_AQJ_1_label.nii.gz', '/data/hjlee/orhun/data/BRATS18/BRATS18_Preprocessed/Training/Labels/Brats18_CBICA_AQY_1_label.nii.gz', '/data/hjlee/orhun/data/BRATS18/BRATS18_Preprocessed/Training/Labels/Brats18_CBICA_ATD_1_label.nii.gz', '/data/hjlee/orhun/data/BRATS18/BRATS18_Preprocessed/Training/Labels/Brats18_CBICA_ATB_1_label.nii.gz', '/data/hjlee/orhun/data/BRATS18/BRATS18_Preprocessed/Training/Labels/Brats18_TCIA08_242_1_label.nii.gz', '/data/hjlee/orhun/data/BRATS18/BRATS18_Preprocessed/Training/Labels/Brats18_TCIA12_298_1_label.nii.gz', '/data/hjlee/orhun/data/BRATS18/BRATS18_Preprocessed/Training/Labels/Brats18_TCIA13_642_1_label.nii.gz', '/data/hjlee/orhun/data/BRATS18/BRATS18_Preprocessed/Training/Labels/Brats18_CBICA_AQV_1_label.nii.gz', '/data/hjlee/orhun/data/BRATS18/BRATS18_Preprocessed/Training/Labels/Brats18_TCIA08_218_1_label.nii.gz', '/data/hjlee/orhun/data/BRATS18/BRATS18_Preprocessed/Training/Labels/Brats18_2013_25_1_label.nii.gz', '/data/hjlee/orhun/data/BRATS18/BRATS18_Preprocessed/Training/Labels/Brats18_TCIA13_645_1_label.nii.gz', '/data/hjlee/orhun/data/BRATS18/BRATS18_Preprocessed/Training/Labels/Brats18_2013_0_1_label.nii.gz', '/data/hjlee/orhun/data/BRATS18/BRATS18_Preprocessed/Training/Labels/Brats18_TCIA13_624_1_label.nii.gz', '/data/hjlee/orhun/data/BRATS18/BRATS18_Preprocessed/Training/Labels/Brats18_2013_24_1_label.nii.gz', '/data/hjlee/orhun/data/BRATS18/BRATS18_Preprocessed/Training/Labels/Brats18_2013_2_1_label.nii.gz', '/data/hjlee/orhun/data/BRATS18/BRATS18_Preprocessed/Training/Labels/Brats18_2013_23_1_label.nii.gz', '/data/hjlee/orhun/data/BRATS18/BRATS18_Preprocessed/Training/Labels/Brats18_CBICA_ALN_1_label.nii.gz', '/data/hjlee/orhun/data/BRATS18/BRATS18_Preprocessed/Training/Labels/Brats18_TCIA08_234_1_label.nii.gz', '/data/hjlee/orhun/data/BRATS18/BRATS18_Preprocessed/Training/Labels/Brats18_TCIA04_479_1_label.nii.gz', '/data/hjlee/orhun/data/BRATS18/BRATS18_Preprocessed/Training/Labels/Brats18_2013_21_1_label.nii.gz', '/data/hjlee/orhun/data/BRATS18/BRATS18_Preprocessed/Training/Labels/Brats18_TCIA10_625_1_label.nii.gz', '/data/hjlee/orhun/data/BRATS18/BRATS18_Preprocessed/Training/Labels/Brats18_TCIA10_276_1_label.nii.gz', '/data/hjlee/orhun/data/BRATS18/BRATS18_Preprocessed/Training/Labels/Brats18_TCIA02_118_1_label.nii.gz', '/data/hjlee/orhun/data/BRATS18/BRATS18_Preprocessed/Training/Labels/Brats18_TCIA08_319_1_label.nii.gz', '/data/hjlee/orhun/data/BRATS18/BRATS18_Preprocessed/Training/Labels/Brats18_CBICA_ARF_1_label.nii.gz', '/data/hjlee/orhun/data/BRATS18/BRATS18_Preprocessed/Training/Labels/Brats18_CBICA_ARZ_1_label.nii.gz']\n"
     ]
    }
   ],
   "source": [
    "import os\n",
    "import glob\n",
    "import nibabel as nib\n",
    "import numpy as np\n",
    "from monai.transforms import SpatialPad\n",
    "\n",
    "# Define input and output directories\n",
    "input_dir = \"/data/hjlee/orhun/data/BRATS18/BRATS18_Preprocessed/Training/\"  # Adjust this\n",
    "output_dir = \"/data/hjlee/orhun/data/BRATS18/BRATS18_Preprocessed_P_N\"\n",
    "\n",
    "# Ensure output directories exist\n",
    "os.makedirs(os.path.join(output_dir, \"Images\"), exist_ok=True)\n",
    "os.makedirs(os.path.join(output_dir, \"Labels\"), exist_ok=True)\n",
    "\n",
    "# Get all image and label files\n",
    "image_files = glob.glob(os.path.join(input_dir, \"Images\", \"*.nii.gz\"))\n",
    "label_files = glob.glob(os.path.join(input_dir, \"Labels\", \"*.nii.gz\"))\n",
    "\n",
    "print(label_files)"
   ]
  },
  {
   "cell_type": "code",
   "execution_count": 1,
   "metadata": {},
   "outputs": [],
   "source": [
    "import itertools\n",
    "from monai.metrics import DiceMetric\n",
    "\n",
    "# Step 1: Generate all 4-bit binary combinations excluding 0000 and 1111\n",
    "binary_combinations = [''.join(map(str, bits)) for bits in itertools.product([0, 1], repeat=4)]\n",
    "binary_combinations = [comb for comb in binary_combinations if comb != '0000' and comb != '1111']\n",
    "\n",
    "# Step 2: Create a dictionary with binary combinations as keys and Dice metrics as values\n",
    "dice_metric = DiceMetric(include_background=True, reduction=\"mean_batch\", get_not_nans=False)\n",
    "dice_dict = {comb: dice_metric for comb in binary_combinations}"
   ]
  },
  {
   "cell_type": "code",
   "execution_count": 2,
   "metadata": {},
   "outputs": [
    {
     "name": "stdout",
     "output_type": "stream",
     "text": [
      "{'0001': <monai.metrics.meandice.DiceMetric object at 0x74afd015e890>, '0010': <monai.metrics.meandice.DiceMetric object at 0x74afd015e890>, '0011': <monai.metrics.meandice.DiceMetric object at 0x74afd015e890>, '0100': <monai.metrics.meandice.DiceMetric object at 0x74afd015e890>, '0101': <monai.metrics.meandice.DiceMetric object at 0x74afd015e890>, '0110': <monai.metrics.meandice.DiceMetric object at 0x74afd015e890>, '0111': <monai.metrics.meandice.DiceMetric object at 0x74afd015e890>, '1000': <monai.metrics.meandice.DiceMetric object at 0x74afd015e890>, '1001': <monai.metrics.meandice.DiceMetric object at 0x74afd015e890>, '1010': <monai.metrics.meandice.DiceMetric object at 0x74afd015e890>, '1011': <monai.metrics.meandice.DiceMetric object at 0x74afd015e890>, '1100': <monai.metrics.meandice.DiceMetric object at 0x74afd015e890>, '1101': <monai.metrics.meandice.DiceMetric object at 0x74afd015e890>, '1110': <monai.metrics.meandice.DiceMetric object at 0x74afd015e890>}\n"
     ]
    }
   ],
   "source": [
    "print(dice_dict)"
   ]
  },
  {
   "cell_type": "code",
   "execution_count": 6,
   "metadata": {},
   "outputs": [
    {
     "name": "stdout",
     "output_type": "stream",
     "text": [
      "['0', '0', '0', '0']\n",
      "['0', '0', '0', '0']\n",
      "0000\n"
     ]
    }
   ],
   "source": [
    "binary_key = ['0'] * 4\n",
    "print(binary_key)\n",
    "print(str(binary_key))\n",
    "print(\"\".join(binary_key))"
   ]
  },
  {
   "cell_type": "code",
   "execution_count": 3,
   "metadata": {},
   "outputs": [],
   "source": [
    "from monai.metrics import DiceMetric\n",
    "import itertools\n",
    "\n",
    "binary_combinations = [''.join(map(str, bits)) for bits in itertools.product([0, 1], repeat=4)]\n",
    "binary_combinations = [comb for comb in binary_combinations if comb != '0000' and comb != '1111']\n",
    "\n",
    "dice_dict_m = {comb: DiceMetric(include_background=True, reduction=\"mean_batch\", get_not_nans=False) for comb in binary_combinations}\n",
    "\n",
    "binary_key = ['0'] * 4\n",
    "index_list= [0]\n",
    "for index in index_list:\n",
    "    binary_key[index] = '1'\n",
    "    binary_key = ''.join(binary_key) "
   ]
  },
  {
   "cell_type": "code",
   "execution_count": 6,
   "metadata": {},
   "outputs": [
    {
     "name": "stdout",
     "output_type": "stream",
     "text": [
      "0001\n",
      "False\n",
      "0010\n",
      "False\n",
      "0011\n",
      "False\n",
      "0100\n",
      "False\n",
      "0101\n",
      "False\n",
      "0110\n",
      "False\n",
      "0111\n",
      "False\n",
      "1000\n",
      "True\n",
      "1001\n",
      "False\n",
      "1010\n",
      "False\n",
      "1011\n",
      "False\n",
      "1100\n",
      "False\n",
      "1101\n",
      "False\n",
      "1110\n",
      "False\n"
     ]
    }
   ],
   "source": [
    "for sc_key in dice_dict_m:\n",
    "    print(sc_key)\n",
    "    if sc_key == \"\".join(binary_key):\n",
    "        print(\"True\")\n",
    "    else:\n",
    "        print(\"False\")"
   ]
  },
  {
   "cell_type": "code",
   "execution_count": null,
   "metadata": {},
   "outputs": [
    {
     "name": "stdout",
     "output_type": "stream",
     "text": [
      "[1, 2]\n"
     ]
    }
   ],
   "source": [
    "import itertools\n",
    "import random\n",
    "\n",
    "# Define the elements\n",
    "elements = {0, 1, 2, 3}\n",
    "\n",
    "# Generate all valid subsets (excluding empty and full set)\n",
    "valid_subsets = [list(subset) for i in range(1, len(elements))\n",
    "                 for subset in itertools.combinations(elements, i)]\n",
    "\n",
    "# Pick one random subset\n",
    "random_scenario = random.choice(valid_subsets)\n",
    "\n",
    "print(random_scenario)\n",
    "\n",
    "\n",
    "\n"
   ]
  },
  {
   "cell_type": "code",
   "execution_count": 4,
   "metadata": {},
   "outputs": [
    {
     "name": "stdout",
     "output_type": "stream",
     "text": [
      "(0,)\n"
     ]
    }
   ],
   "source": [
    "import itertools\n",
    "for r in range(1, 2):       \n",
    "    for channels in itertools.combinations(range(1), r):\n",
    "        print(channels)"
   ]
  }
 ],
 "metadata": {
  "kernelspec": {
   "display_name": "Python 3",
   "language": "python",
   "name": "python3"
  },
  "language_info": {
   "codemirror_mode": {
    "name": "ipython",
    "version": 3
   },
   "file_extension": ".py",
   "mimetype": "text/x-python",
   "name": "python",
   "nbconvert_exporter": "python",
   "pygments_lexer": "ipython3",
   "version": "3.10.14"
  }
 },
 "nbformat": 4,
 "nbformat_minor": 2
}
